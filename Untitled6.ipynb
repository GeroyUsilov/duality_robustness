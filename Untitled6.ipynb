{
 "cells": [
  {
   "cell_type": "code",
   "execution_count": 1,
   "id": "179944f0-3f0a-4046-8daf-a2e6b335755a",
   "metadata": {},
   "outputs": [],
   "source": [
    "import numpy as np"
   ]
  },
  {
   "cell_type": "code",
   "execution_count": 2,
   "id": "30016c7d-8ad0-4c4f-bc54-72c195ac9652",
   "metadata": {},
   "outputs": [],
   "source": [
    "Jx = np.array([[-5/100,0],[0,-5]])"
   ]
  },
  {
   "cell_type": "code",
   "execution_count": 5,
   "id": "87cb945c-9138-4f0c-aec8-3a8aa50b97aa",
   "metadata": {},
   "outputs": [],
   "source": [
    "g = np.random.random(2)\n",
    "g = g/np.linalg.norm(g)\n",
    "s = np.random.random(2)\n",
    "s = s/np.linalg.norm(s)\n",
    "df = np.random.random(2)\n",
    "df = df/np.linalg.norm(df)\n"
   ]
  },
  {
   "cell_type": "code",
   "execution_count": 7,
   "id": "050e3bf1-641e-4c34-b282-f3e27f12c875",
   "metadata": {},
   "outputs": [
    {
     "data": {
      "text/plain": [
       "9.650674979746771"
      ]
     },
     "execution_count": 7,
     "metadata": {},
     "output_type": "execute_result"
    }
   ],
   "source": [
    "np.linalg.norm(np.matmul(np.linalg.inv(Jx + np.outer(g,s)),df))"
   ]
  },
  {
   "cell_type": "code",
   "execution_count": 11,
   "id": "77d9194b-047e-4ec5-bfc3-592db145f593",
   "metadata": {},
   "outputs": [
    {
     "data": {
      "text/plain": [
       "0.9508421798467609"
      ]
     },
     "execution_count": 11,
     "metadata": {},
     "output_type": "execute_result"
    }
   ],
   "source": [
    "np.matmul("
   ]
  },
  {
   "cell_type": "code",
   "execution_count": 13,
   "id": "6f6372fa-0407-4bb8-b481-c57be88da3b6",
   "metadata": {},
   "outputs": [
    {
     "data": {
      "text/plain": [
       "9.650674979746777"
      ]
     },
     "execution_count": 13,
     "metadata": {},
     "output_type": "execute_result"
    }
   ],
   "source": [
    "np.linalg.norm(np.linalg.inv(Jx)@df - np.dot(s,np.linalg.inv(Jx)@df)*np.linalg.inv(Jx)@g /(1+ np.dot(s,np.linalg.inv(Jx)@g)))"
   ]
  },
  {
   "cell_type": "code",
   "execution_count": null,
   "id": "119f69e9-2592-423e-a51d-d01a5d757e39",
   "metadata": {},
   "outputs": [],
   "source": []
  }
 ],
 "metadata": {
  "kernelspec": {
   "display_name": "Python 3 (ipykernel)",
   "language": "python",
   "name": "python3"
  },
  "language_info": {
   "codemirror_mode": {
    "name": "ipython",
    "version": 3
   },
   "file_extension": ".py",
   "mimetype": "text/x-python",
   "name": "python",
   "nbconvert_exporter": "python",
   "pygments_lexer": "ipython3",
   "version": "3.9.16"
  }
 },
 "nbformat": 4,
 "nbformat_minor": 5
}
