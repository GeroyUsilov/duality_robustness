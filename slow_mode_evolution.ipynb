{
 "cells": [
  {
   "cell_type": "code",
   "execution_count": 2,
   "id": "cc2bf1e1-bb52-497a-8353-260685d4d550",
   "metadata": {},
   "outputs": [],
   "source": [
    "%load_ext autoreload\n",
    "%autoreload 2\n",
    "import numpy as np\n",
    "import matplotlib.pyplot as plt\n",
    "from simulation_functions import *\n",
    "from tqdm import tqdm\n",
    "from scipy.integrate import solve_ivp"
   ]
  },
  {
   "cell_type": "code",
   "execution_count": 8,
   "id": "e11ca880-8e6d-4243-b4f5-e1a8eca93ab3",
   "metadata": {},
   "outputs": [],
   "source": [
    "ks = load_3d_matrix_from_csv(\"many_ks.csv\")\n",
    "Ks = load_3d_matrix_from_csv(\"many_KKs.csv\")\n",
    "g = Ks[0].shape[1]\n",
    "lam = 5\n",
    "lam = np.zeros(g)+lam\n",
    "t_f = 200\n",
    "m = 20\n",
    "fitnesses = []\n",
    "s_hats = []\n",
    "lam_cs = []\n",
    "dlambdas = []\n",
    "for i in range(0,len(ks)):\n",
    "    fitnesses.append(float(np.loadtxt(\"fitness\" + str(i) + \".csv\", delimiter=',')))\n",
    "    s_hats.append((np.loadtxt(\"best_s_hat_\" + str(i) + \".csv\", delimiter=',')))\n",
    "    lam_cs.append((np.loadtxt(\"best_lam_c\" + str(i) + \".csv\", delimiter=',')))\n",
    "    n0 = np.zeros(g) + 0.5\n",
    "    nt = simulate_dynamics(ks[i],Ks[i],lam,n0)\n",
    "    n_f = nt[:,-1]\n",
    "    J = calc_J(ks[i],Ks[i],n_f,lam)\n",
    "    w, v = np.linalg.eig(J)\n",
    "    w = np.real(w)\n",
    "    dlambda_new = np.sort(w)[-2]/np.sort(w)[-1]\n",
    "    dlambdas.append(dlambda_new)"
   ]
  },
  {
   "cell_type": "code",
   "execution_count": 6,
   "id": "004edaa0-19db-4574-91d3-5379e475a268",
   "metadata": {},
   "outputs": [
    {
     "data": {
      "text/plain": [
       "[<matplotlib.lines.Line2D at 0x15e41eeb0>]"
      ]
     },
     "execution_count": 6,
     "metadata": {},
     "output_type": "execute_result"
    },
    {
     "data": {
      "image/png": "[encoded data removed]",
      "text/plain": [
       "<Figure size 640x480 with 1 Axes>"
      ]
     },
     "metadata": {},
     "output_type": "display_data"
    }
   ],
   "source": [
    "plt.plot(dlambdas,fitnesses)"
   ]
  },
  {
   "cell_type": "code",
   "execution_count": 11,
   "id": "47222838-f166-4d9f-aeaa-ccc86149da0f",
   "metadata": {},
   "outputs": [
    {
     "name": "stderr",
     "output_type": "stream",
     "text": [
      " 29%|████████                    | 573/2000 [10:09<25:16,  1.06s/it]\n"
     ]
    },
    {
     "ename": "KeyboardInterrupt",
     "evalue": "",
     "output_type": "error",
     "traceback": [
      "\u001b[0;31m---------------------------------------------------------------------------\u001b[0m",
      "\u001b[0;31mKeyboardInterrupt\u001b[0m                         Traceback (most recent call last)",
      "Cell \u001b[0;32mIn[11], line 47\u001b[0m\n\u001b[1;32m     44\u001b[0m \u001b[38;5;28;01mif\u001b[39;00m k_new[i,j] \u001b[38;5;241m<\u001b[39m \u001b[38;5;241m1\u001b[39m \u001b[38;5;129;01mand\u001b[39;00m K_new[i,j] \u001b[38;5;241m<\u001b[39m \u001b[38;5;241m1\u001b[39m \u001b[38;5;129;01mand\u001b[39;00m K_new[i,j] \u001b[38;5;241m>\u001b[39m \u001b[38;5;241m0\u001b[39m \u001b[38;5;129;01mand\u001b[39;00m k_new[i,j]\u001b[38;5;241m>\u001b[39m \u001b[38;5;241m0\u001b[39m:\n\u001b[1;32m     46\u001b[0m     n0 \u001b[38;5;241m=\u001b[39m np\u001b[38;5;241m.\u001b[39mzeros(g) \u001b[38;5;241m+\u001b[39m \u001b[38;5;241m0.5\u001b[39m\n\u001b[0;32m---> 47\u001b[0m     nt \u001b[38;5;241m=\u001b[39m \u001b[43msimulate_dynamics\u001b[49m\u001b[43m(\u001b[49m\u001b[43mk_new\u001b[49m\u001b[43m,\u001b[49m\u001b[43mK_new\u001b[49m\u001b[43m,\u001b[49m\u001b[43mlam\u001b[49m\u001b[43m,\u001b[49m\u001b[43mn0\u001b[49m\u001b[43m)\u001b[49m\n\u001b[1;32m     48\u001b[0m     n_f \u001b[38;5;241m=\u001b[39m nt[:,\u001b[38;5;241m-\u001b[39m\u001b[38;5;241m1\u001b[39m]\n\u001b[1;32m     50\u001b[0m     J \u001b[38;5;241m=\u001b[39m calc_J(k_new,K_new,n_f,lam)\n",
      "File \u001b[0;32m~/Desktop/duality_robustness/simulation_functions.py:124\u001b[0m, in \u001b[0;36msimulate_dynamics\u001b[0;34m(k, K, lam, n0, thresh, cutoff, dt)\u001b[0m\n\u001b[1;32m    122\u001b[0m nt \u001b[38;5;241m=\u001b[39m np\u001b[38;5;241m.\u001b[39mzeros((g,cutoff))\n\u001b[1;32m    123\u001b[0m \u001b[38;5;28;01mfor\u001b[39;00m i \u001b[38;5;129;01min\u001b[39;00m \u001b[38;5;28mrange\u001b[39m(cutoff):\n\u001b[0;32m--> 124\u001b[0m     n \u001b[38;5;241m=\u001b[39m n \u001b[38;5;241m+\u001b[39m \u001b[43mcalc_dndt\u001b[49m\u001b[43m(\u001b[49m\u001b[43mk\u001b[49m\u001b[43m,\u001b[49m\u001b[43mK\u001b[49m\u001b[43m,\u001b[49m\u001b[43mn\u001b[49m\u001b[43m,\u001b[49m\u001b[43mlam\u001b[49m\u001b[43m)\u001b[49m\u001b[38;5;241m*\u001b[39mdt\n\u001b[1;32m    125\u001b[0m     nt[:,i] \u001b[38;5;241m=\u001b[39m n\n\u001b[1;32m    126\u001b[0m     \u001b[38;5;28;01mif\u001b[39;00m i \u001b[38;5;241m>\u001b[39m \u001b[38;5;241m0\u001b[39m \u001b[38;5;129;01mand\u001b[39;00m np\u001b[38;5;241m.\u001b[39mmax(np\u001b[38;5;241m.\u001b[39mabs((nt[:,i] \u001b[38;5;241m-\u001b[39m nt[:,i\u001b[38;5;241m-\u001b[39m\u001b[38;5;241m1\u001b[39m])\u001b[38;5;241m/\u001b[39mnt[:,i])) \u001b[38;5;241m<\u001b[39m thresh:\n",
      "File \u001b[0;32m~/Desktop/duality_robustness/simulation_functions.py:110\u001b[0m, in \u001b[0;36mcalc_dndt\u001b[0;34m(k, K, n, lam)\u001b[0m\n\u001b[1;32m    109\u001b[0m \u001b[38;5;28;01mdef\u001b[39;00m \u001b[38;5;21mcalc_dndt\u001b[39m(k,K,n,lam):\n\u001b[0;32m--> 110\u001b[0m     \u001b[38;5;28;01mreturn\u001b[39;00m np\u001b[38;5;241m.\u001b[39mmatmul(k\u001b[38;5;241m*\u001b[39m(\u001b[43mnp\u001b[49m\u001b[38;5;241;43m.\u001b[39;49m\u001b[43mouter\u001b[49m\u001b[43m(\u001b[49m\u001b[43mnp\u001b[49m\u001b[38;5;241;43m.\u001b[39;49m\u001b[43mones\u001b[49m\u001b[43m(\u001b[49m\u001b[38;5;28;43mlen\u001b[39;49m\u001b[43m(\u001b[49m\u001b[43mn\u001b[49m\u001b[43m)\u001b[49m\u001b[43m)\u001b[49m\u001b[43m,\u001b[49m\u001b[43mn\u001b[49m\u001b[43m)\u001b[49m\u001b[38;5;241m+\u001b[39m K)\u001b[38;5;241m*\u001b[39m\u001b[38;5;241m*\u001b[39m(\u001b[38;5;241m-\u001b[39m\u001b[38;5;241m1\u001b[39m),n) \u001b[38;5;241m-\u001b[39m lam\u001b[38;5;241m*\u001b[39mn\n",
      "File \u001b[0;32m<__array_function__ internals>:200\u001b[0m, in \u001b[0;36mouter\u001b[0;34m(*args, **kwargs)\u001b[0m\n",
      "File \u001b[0;32m~/opt/anaconda3/lib/python3.9/site-packages/numpy/core/numeric.py:943\u001b[0m, in \u001b[0;36mouter\u001b[0;34m(a, b, out)\u001b[0m\n\u001b[1;32m    941\u001b[0m a \u001b[38;5;241m=\u001b[39m asarray(a)\n\u001b[1;32m    942\u001b[0m b \u001b[38;5;241m=\u001b[39m asarray(b)\n\u001b[0;32m--> 943\u001b[0m \u001b[38;5;28;01mreturn\u001b[39;00m \u001b[43mmultiply\u001b[49m\u001b[43m(\u001b[49m\u001b[43ma\u001b[49m\u001b[38;5;241;43m.\u001b[39;49m\u001b[43mravel\u001b[49m\u001b[43m(\u001b[49m\u001b[43m)\u001b[49m\u001b[43m[\u001b[49m\u001b[43m:\u001b[49m\u001b[43m,\u001b[49m\u001b[43m \u001b[49m\u001b[43mnewaxis\u001b[49m\u001b[43m]\u001b[49m\u001b[43m,\u001b[49m\u001b[43m \u001b[49m\u001b[43mb\u001b[49m\u001b[38;5;241;43m.\u001b[39;49m\u001b[43mravel\u001b[49m\u001b[43m(\u001b[49m\u001b[43m)\u001b[49m\u001b[43m[\u001b[49m\u001b[43mnewaxis\u001b[49m\u001b[43m,\u001b[49m\u001b[43m \u001b[49m\u001b[43m:\u001b[49m\u001b[43m]\u001b[49m\u001b[43m,\u001b[49m\u001b[43m \u001b[49m\u001b[43mout\u001b[49m\u001b[43m)\u001b[49m\n",
      "\u001b[0;31mKeyboardInterrupt\u001b[0m: "
     ]
    }
   ],
   "source": [
    "i = 2\n",
    "temperature = 1.0\n",
    "cooling_rate = 0.96\n",
    "num_iterations = 1000\n",
    "\n",
    "lam_c, s_hat =  lam_cs[i],s_hats[i]\n",
    "k = ks[i]\n",
    "K = Ks[i]\n",
    "\n",
    "n0 = np.zeros(g) + 0.5\n",
    "nt = simulate_dynamics(k,K,lam,n0,thresh = 0.001, cutoff = 500000, dt = 0.01)\n",
    "n_f = nt[:,-1]\n",
    "\n",
    "J = calc_J(k,K,n_f,lam)\n",
    "w, v = np.linalg.eig(J)\n",
    "w = np.real(w)\n",
    "\n",
    "current_dlambda = np.sort(w)[-2]/np.sort(w)[-1]\n",
    "\n",
    "lambdas = []\n",
    "is_connected = k != 0\n",
    "\n",
    "best_k = k\n",
    "best_K = K\n",
    "best_cost = evaluate_fitness_controlled_norm(best_k,best_K,n_f,lam,lam_c,s_hat,m,t_f,g)\n",
    "\n",
    "current_k = k\n",
    "current_K = K\n",
    "current_cost = evaluate_fitness_controlled_norm(current_k,current_K,n_f,lam,lam_c,s_hat,m,t_f,g)\n",
    "\n",
    "costs = []\n",
    "\n",
    "for kk in tqdm(range(2000)):\n",
    "    \n",
    "    lambdas.append(current_dlambda)\n",
    "    costs.append(current_cost)\n",
    "    l = np.random.randint(len(np.nonzero(is_connected)[0]))\n",
    "    i, j = np.nonzero(is_connected)[0][l],np.nonzero(is_connected)[1][l]\n",
    "    k_new = np.array(current_k)\n",
    "    K_new = np.array(current_K)\n",
    "    K_new[i,j] = K_new[i,j] + (np.random.rand() - 0.5)*2/5\n",
    "    k_new[i,j] = k_new[i,j] + (np.random.rand() - 0.5)*2/5\n",
    "    \n",
    "    if k_new[i,j] < 1 and K_new[i,j] < 1 and K_new[i,j] > 0 and k_new[i,j]> 0:\n",
    "        \n",
    "        n0 = np.zeros(g) + 0.5\n",
    "        nt = simulate_dynamics(k_new,K_new,lam,n0)\n",
    "        n_f = nt[:,-1]\n",
    "        \n",
    "        J = calc_J(k_new,K_new,n_f,lam)\n",
    "        w, v = np.linalg.eig(J)\n",
    "        w = np.real(w)\n",
    "        \n",
    "        dlambda_new = np.sort(w)[-2]/np.sort(w)[-1]\n",
    "        IPR_new = calc_IPR(w,v)\n",
    "        new_cost = evaluate_fitness_controlled_norm(k_new,K_new,n_f,lam,lam_c,s_hat,m,t_f,g)\n",
    "        \n",
    "        if (IPR_new < 2/g) and (np.sort(w)[-1] < 0):\n",
    "            if (new_cost < current_cost):\n",
    "                current_k = k_new\n",
    "                current_K = K_new\n",
    "                current_dlambda = dlambda_new\n",
    "                current_cost = new_cost\n",
    "                if new_cost < best_cost:\n",
    "                    best_k = k_new\n",
    "                    best_K = K_new\n",
    "                    best_cost = new_cost\n",
    "            else:\n",
    "                probability = np.exp((current_cost - new_cost) / temperature)\n",
    "                if np.random.random() < probability:\n",
    "                    current_k = k_new\n",
    "                    current_K = K_new\n",
    "                    current_dlambda = dlambda_new\n",
    "                    current_cost = new_cost\n",
    "        temperature *= cooling_rate"
   ]
  },
  {
   "cell_type": "code",
   "execution_count": 20,
   "id": "255d9000-ecdc-40b5-bffd-2ecab4293759",
   "metadata": {},
   "outputs": [
    {
     "data": {
      "image/png": "[encoded data removed]",
      "text/plain": [
       "<Figure size 640x480 with 1 Axes>"
      ]
     },
     "metadata": {},
     "output_type": "display_data"
    }
   ],
   "source": [
    "plt.plot(lambdas,costs)\n",
    "\n",
    "plt.yscale('log')"
   ]
  },
  {
   "cell_type": "code",
   "execution_count": null,
   "id": "74ee6ad7-23b3-43e2-a92e-d903ddfd2067",
   "metadata": {},
   "outputs": [],
   "source": []
  }
 ],
 "metadata": {
  "kernelspec": {
   "display_name": "Python 3 (ipykernel)",
   "language": "python",
   "name": "python3"
  },
  "language_info": {
   "codemirror_mode": {
    "name": "ipython",
    "version": 3
   },
   "file_extension": ".py",
   "mimetype": "text/x-python",
   "name": "python",
   "nbconvert_exporter": "python",
   "pygments_lexer": "ipython3",
   "version": "3.9.16"
  }
 },
 "nbformat": 4,
 "nbformat_minor": 5
}
