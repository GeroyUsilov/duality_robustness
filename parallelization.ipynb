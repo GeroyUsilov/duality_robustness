{
 "cells": [
  {
   "cell_type": "code",
   "execution_count": 1,
   "id": "e82e6bf2",
   "metadata": {},
   "outputs": [],
   "source": [
    "import numpy as np\n",
    "import concurrent.futures\n",
    "from tqdm import tqdm"
   ]
  },
  {
   "cell_type": "code",
   "execution_count": 4,
   "id": "9a70172a",
   "metadata": {},
   "outputs": [
    {
     "data": {
      "text/plain": [
       "array([0.20129779, 0.62966923, 0.07875267, ..., 0.16178686, 0.12060185,\n",
       "       0.17716808])"
      ]
     },
     "execution_count": 4,
     "metadata": {},
     "output_type": "execute_result"
    }
   ],
   "source": [
    "for i in range()\n",
    "np.random.rand(100000)*np.random.rand(100000)"
   ]
  },
  {
   "cell_type": "code",
   "execution_count": null,
   "id": "f2432b1c",
   "metadata": {},
   "outputs": [],
   "source": [
    "def run_parallel():\n",
    "    result = 0\n",
    "\n",
    "        \n",
    "    with concurrent.futures.ThreadPoolExecutor(max_workers=100) as executor:\n",
    "        futures = [executor.submit(subfunction) for _ in range(100)]\n",
    "        for future in concurrent.futures.as_completed(futures):\n",
    "            result += future.result()\n",
    "    \n",
    "    return result"
   ]
  }
 ],
 "metadata": {
  "kernelspec": {
   "display_name": "Python 3 (ipykernel)",
   "language": "python",
   "name": "python3"
  },
  "language_info": {
   "codemirror_mode": {
    "name": "ipython",
    "version": 3
   },
   "file_extension": ".py",
   "mimetype": "text/x-python",
   "name": "python",
   "nbconvert_exporter": "python",
   "pygments_lexer": "ipython3",
   "version": "3.9.13"
  }
 },
 "nbformat": 4,
 "nbformat_minor": 5
}
