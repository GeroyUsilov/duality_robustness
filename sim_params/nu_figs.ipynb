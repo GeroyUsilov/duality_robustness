{
 "cells": [
  {
   "cell_type": "code",
   "execution_count": 2,
   "id": "465d34b3",
   "metadata": {},
   "outputs": [
    {
     "ename": "SyntaxError",
     "evalue": "invalid syntax (328883918.py, line 3)",
     "output_type": "error",
     "traceback": [
      "\u001b[0;36m  File \u001b[0;32m\"/var/folders/yg/rz5s_kp914g5hjl723fncj_80000gn/T/ipykernel_21084/328883918.py\"\u001b[0;36m, line \u001b[0;32m3\u001b[0m\n\u001b[0;31m    from ../simulation_functions import *\u001b[0m\n\u001b[0m           ^\u001b[0m\n\u001b[0;31mSyntaxError\u001b[0m\u001b[0;31m:\u001b[0m invalid syntax\n"
     ]
    }
   ],
   "source": [
    "import numpy as np\n",
    "import matplotlib.pyplot as plt\n",
    "from ../simulation_functions import *\n",
    "from tqdm import tqdm\n",
    "from scipy.integrate import solve_ivp"
   ]
  },
  {
   "cell_type": "code",
   "execution_count": null,
   "id": "d625b85f",
   "metadata": {},
   "outputs": [],
   "source": [
    "k = np.genfromtxt('k.csv', delimiter=',')\n",
    "K = np.genfromtxt('KK.csv', delimiter=',')\n",
    "lam_c = np.genfromtxt('lam_c.csv', delimiter=',')\n",
    "s_hat = np.genfromtxt('s_hat.csv', delimiter=',')"
   ]
  }
 ],
 "metadata": {
  "kernelspec": {
   "display_name": "Python 3 (ipykernel)",
   "language": "python",
   "name": "python3"
  },
  "language_info": {
   "codemirror_mode": {
    "name": "ipython",
    "version": 3
   },
   "file_extension": ".py",
   "mimetype": "text/x-python",
   "name": "python",
   "nbconvert_exporter": "python",
   "pygments_lexer": "ipython3",
   "version": "3.9.13"
  }
 },
 "nbformat": 4,
 "nbformat_minor": 5
}
