{
 "cells": [
  {
   "cell_type": "code",
   "execution_count": 18,
   "id": "0f3e03d3",
   "metadata": {},
   "outputs": [],
   "source": [
    "import scipy as sp\n",
    "import numpy as np\n",
    "from IPython.display import clear_output\n",
    "import matplotlib.pyplot as plt\n",
    "from tqdm import tqdm\n",
    "from scipy.optimize import minimize"
   ]
  },
  {
   "cell_type": "code",
   "execution_count": 2,
   "id": "dbef05a6",
   "metadata": {},
   "outputs": [
    {
     "data": {
      "text/plain": [
       "'1.11.1'"
      ]
     },
     "execution_count": 2,
     "metadata": {},
     "output_type": "execute_result"
    }
   ],
   "source": [
    "sp.__version__"
   ]
  },
  {
   "cell_type": "code",
   "execution_count": 3,
   "id": "f11eb328",
   "metadata": {},
   "outputs": [],
   "source": [
    "def map_angles_to_n_sphere(angles, radius=1.0):\n",
    "    # Convert angles to Cartesian coordinates on an n-sphere\n",
    "    n = len(angles) +1  # Dimension of the n-sphere\n",
    "    cartesian_coords = np.zeros(n) + radius\n",
    "    cartesian_coords[0] = cartesian_coords[0]*np.cos(angles[0])\n",
    "    for i in range(1,n-1):\n",
    "        cartesian_coords[i] = cartesian_coords[i]*np.cos(angles[i])\n",
    "        for j in range(i):\n",
    "            cartesian_coords[i] = cartesian_coords[i]*np.sin(angles[j])\n",
    "    for j in range(n-1):\n",
    "        cartesian_coords[n-1] = cartesian_coords[n-1]*np.sin(angles[j])\n",
    "\n",
    "    return cartesian_coords"
   ]
  },
  {
   "cell_type": "code",
   "execution_count": 4,
   "id": "2c3c498e-729c-4963-bf60-e04e0928fb6c",
   "metadata": {},
   "outputs": [],
   "source": [
    "vecs =[]\n",
    "for i in np.linspace(0,np.pi/4, 10):\n",
    "    for j in np.linspace(0,np.pi,10):\n",
    "        vecs.append(map_angles_to_n_sphere([i,j], radius=1.0))"
   ]
  },
  {
   "cell_type": "code",
   "execution_count": 5,
   "id": "1157918e-9367-47e4-9596-d0649ddc9faa",
   "metadata": {},
   "outputs": [
    {
     "data": {
      "image/png": "[encoded data removed]",
      "text/plain": [
       "<Figure size 640x480 with 1 Axes>"
      ]
     },
     "metadata": {},
     "output_type": "display_data"
    }
   ],
   "source": [
    "for vec in vecs:\n",
    "    plt.scatter(vec[1],vec[2],color = 'b')"
   ]
  },
  {
   "cell_type": "code",
   "execution_count": 4,
   "id": "a46828e7",
   "metadata": {},
   "outputs": [
    {
     "ename": "NameError",
     "evalue": "name 'Jx' is not defined",
     "output_type": "error",
     "traceback": [
      "\u001b[0;31m---------------------------------------------------------------------------\u001b[0m",
      "\u001b[0;31mNameError\u001b[0m                                 Traceback (most recent call last)",
      "Cell \u001b[0;32mIn[4], line 4\u001b[0m\n\u001b[1;32m      1\u001b[0m g \u001b[38;5;241m=\u001b[39m [\u001b[38;5;241m1\u001b[39m,\u001b[38;5;241m0\u001b[39m,\u001b[38;5;241m0\u001b[39m,\u001b[38;5;241m0\u001b[39m]\n\u001b[1;32m      2\u001b[0m s \u001b[38;5;241m=\u001b[39m [\u001b[38;5;241m-\u001b[39m\u001b[38;5;241m1\u001b[39m,\u001b[38;5;241m0\u001b[39m,\u001b[38;5;241m0\u001b[39m,\u001b[38;5;241m0\u001b[39m]\n\u001b[0;32m----> 4\u001b[0m np\u001b[38;5;241m.\u001b[39mmatmul(g,np\u001b[38;5;241m.\u001b[39mmatmul(np\u001b[38;5;241m.\u001b[39mlinalg\u001b[38;5;241m.\u001b[39minv(\u001b[43mJx\u001b[49m),s))\n\u001b[1;32m      5\u001b[0m np\u001b[38;5;241m.\u001b[39mlinalg\u001b[38;5;241m.\u001b[39minv(Jx \u001b[38;5;241m-\u001b[39m np\u001b[38;5;241m.\u001b[39mouter(g, s))\n",
      "\u001b[0;31mNameError\u001b[0m: name 'Jx' is not defined"
     ]
    }
   ],
   "source": [
    "g = [1,0,0,0]\n",
    "s = [-1,0,0,0]\n",
    "\n",
    "np.matmul(g,np.matmul(np.linalg.inv(Jx),s))\n",
    "np.linalg.inv(Jx - np.outer(g, s))"
   ]
  },
  {
   "cell_type": "code",
   "execution_count": 6,
   "id": "8735af9a",
   "metadata": {},
   "outputs": [],
   "source": [
    "def dx_norm(df,g,s, Jx):\n",
    "    if np.matmul(g,np.matmul(np.linalg.inv(Jx),s)) == 1:\n",
    "        return 100000\n",
    "    else:\n",
    "        return np.linalg.norm(np.matmul(np.linalg.inv(Jx - np.outer(g, s)), df))"
   ]
  },
  {
   "cell_type": "code",
   "execution_count": 7,
   "id": "701dfc8e-5254-4ee7-9c78-9a558eca87a7",
   "metadata": {},
   "outputs": [],
   "source": [
    "def dx_norm_efficient(df,Jxgs_inv,gJxs):\n",
    "    if gJxs == 1:\n",
    "        return 100000\n",
    "    else:\n",
    "        return np.linalg.norm(np.matmul(Jxgs_inv, df))"
   ]
  },
  {
   "cell_type": "code",
   "execution_count": 8,
   "id": "79c12cd7-5072-4136-9222-76cd804cd515",
   "metadata": {},
   "outputs": [],
   "source": [
    "import numpy as np\n",
    "from scipy import integrate\n",
    "from scipy.special import iv"
   ]
  },
  {
   "cell_type": "code",
   "execution_count": 9,
   "id": "e1f5092a-4b53-43a0-bedc-fa9f2bc15635",
   "metadata": {},
   "outputs": [],
   "source": [
    "def von_mises_fisher_pdf(x, kappa, mu):\n",
    "    return np.exp(kappa * np.dot(mu, x)) / ((2 * np.pi) ** (len(x)/2) * iv(len(x)/2 - 1, kappa))\n",
    "\n",
    "def integrate_function_over_vmf(df,g,s, Jx, kappa):\n",
    "    Jxgs_inv = np.linalg.inv(Jx - np.outer(g, s))\n",
    "    gJxs = np.matmul(g,np.matmul(np.linalg.inv(Jx),s))\n",
    "    def integrand(*args):\n",
    "        x = np.array(args)\n",
    "        return dx_norm_efficient(x,Jxgs_inv,gJxs) * von_mises_fisher_pdf(x, kappa, df)\n",
    "    \n",
    "    limits = [(0, 2*np.pi)] + [(0, np.pi) for _ in range(len(df) - 1)]  # Azimuthal angle and polar angles\n",
    "    \n",
    "    result, _ = integrate.nquad(integrand, ranges=limits)\n",
    "    \n",
    "    return result\n",
    "\n"
   ]
  },
  {
   "cell_type": "code",
   "execution_count": 234,
   "id": "c660a6e2-11e5-4238-bcbc-fc13cafc49ca",
   "metadata": {},
   "outputs": [
    {
     "data": {
      "text/plain": [
       "4.512297803294921"
      ]
     },
     "execution_count": 234,
     "metadata": {},
     "output_type": "execute_result"
    }
   ],
   "source": [
    "df = [1,1]/np.linalg.norm([1,1])\n",
    "kappa = 0.01\n",
    "g = df\n",
    "s = df\n",
    "integrate_function_over_vmf(df,g,s, Jx, kappa)"
   ]
  },
  {
   "cell_type": "code",
   "execution_count": 10,
   "id": "6701e101",
   "metadata": {},
   "outputs": [],
   "source": [
    "def generate_evenly_distributed_vectors(n,k):\n",
    "    vectors = []\n",
    "    for i in range(k):\n",
    "        angles = [np.random.rand()*2*np.pi for j in range(n-1)]\n",
    "        vector = map_angles_to_n_sphere(angles)\n",
    "        vectors.append(vector)\n",
    "    return vectors"
   ]
  },
  {
   "cell_type": "code",
   "execution_count": 11,
   "id": "4b6de12e",
   "metadata": {},
   "outputs": [],
   "source": [
    "def generate_distributed_vectors(n,k,sigma):\n",
    "    vectors = []\n",
    "    mu = np.zeros(n) + 1\n",
    "    mu = mu/np.linalg.norm(mu)\n",
    "    vectors = sp.stats.vonmises_fisher.rvs(mu=mu, kappa = sigma,size = k)\n",
    "    return vectors"
   ]
  },
  {
   "cell_type": "code",
   "execution_count": 19,
   "id": "5bd78ab4-26fd-40aa-9db0-8594310f4174",
   "metadata": {},
   "outputs": [],
   "source": [
    "def generate_distributed_vectors(mu,k,sigma):\n",
    "    vectors = []\n",
    "    vectors = sp.stats.vonmises_fisher.rvs(mu=mu, kappa = sigma,size = k)\n",
    "    return vectors"
   ]
  },
  {
   "cell_type": "code",
   "execution_count": 12,
   "id": "115e6435-80e0-484d-ae9c-3ee83f3d0dd9",
   "metadata": {},
   "outputs": [
    {
     "data": {
      "text/plain": [
       "(2000, 5)"
      ]
     },
     "execution_count": 12,
     "metadata": {},
     "output_type": "execute_result"
    }
   ],
   "source": [
    "vecs = generate_distributed_vectors(5,2000,200)\n",
    "vecs.shape"
   ]
  },
  {
   "cell_type": "code",
   "execution_count": 13,
   "id": "1f51b085-2849-4876-850e-7d000837aeaa",
   "metadata": {},
   "outputs": [
    {
     "data": {
      "text/plain": [
       "<matplotlib.collections.PathCollection at 0x15caf4280>"
      ]
     },
     "execution_count": 13,
     "metadata": {},
     "output_type": "execute_result"
    },
    {
     "data": {
      "image/png": "[encoded data removed]",
      "text/plain": [
       "<Figure size 640x480 with 1 Axes>"
      ]
     },
     "metadata": {},
     "output_type": "display_data"
    }
   ],
   "source": [
    "plt.scatter(vecs[:,0],vecs[:,3],alpha = .1)"
   ]
  },
  {
   "cell_type": "code",
   "execution_count": 89,
   "id": "ab1fa849-bd47-4d59-9a6c-0ba83473e1ff",
   "metadata": {},
   "outputs": [
    {
     "name": "stderr",
     "output_type": "stream",
     "text": [
      "100%|███████████████████████| 100/100 [00:01<00:00, 88.05it/s]\n"
     ]
    }
   ],
   "source": [
    "n = 5\n",
    "\n",
    "sigma = 0.01\n",
    "v_1 = np.zeros(n)\n",
    "v_1[0] = 1\n",
    "df = np.zeros(n) + 1\n",
    "df = df/np.linalg.norm(df)\n",
    "theta = np.arccos(np.dot(df,v_1))\n",
    "alphas_s = np.linspace(0,theta,100)\n",
    "alphas_g = np.linspace(0,theta,100)\n",
    "Jx = np.zeros((n,n))\n",
    "for i in range(n):\n",
    "    Jx[i,i] = -2\n",
    "Jx[0,0]= -2\n",
    "results = np.zeros((len(alphas_s),len(alphas_g)))\n",
    "dfs = generate_distributed_vectors(n,2000,sigma)\n",
    "\n",
    "for i in tqdm(range(len(alphas_s))):\n",
    "    for j in range(len(alphas_g)):\n",
    "        s = np.cos(alphas_s[i])*v_1 + np.cos(theta-alphas_s[i])*df\n",
    "        g = np.cos(alphas_g[j])*v_1 + np.cos(theta-alphas_g[j])*df\n",
    "        gJxs = np.matmul(g,np.matmul(np.linalg.inv(Jx),s))\n",
    "        Jxgs_inv = np.linalg.inv(Jx - np.outer(g, s))\n",
    "        results[i,j] = dx_norm_efficient(df,Jxgs_inv,gJxs)\n",
    "        #results[i,j] = np.mean([dx_norm_efficient(df,Jxgs_inv,gJxs) for df in dfs])\n",
    "    "
   ]
  },
  {
   "cell_type": "code",
   "execution_count": 143,
   "id": "574cf046-840d-4725-9141-6c924afe6763",
   "metadata": {},
   "outputs": [],
   "source": [
    "def optimize_nd_single_perturbation(n=5, mode_gap = 1, df = 0):\n",
    "    if df == 0:\n",
    "        df = (np.zeros(n) + 1)/np.linalg.norm(np.zeros(n) + 1)\n",
    "    v_1 = np.zeros(n)\n",
    "    v_1[0] = 1\n",
    "    df_orth = np.array(df)\n",
    "    df_orth[0] = 0\n",
    "    df_orth = df_orth/np.linalg.norm(df_orth)\n",
    "    theta = np.arccos(np.dot(df,v_1))\n",
    "    alphas_s = np.linspace(0,theta,100)\n",
    "    alphas_g = np.linspace(0,theta,100)\n",
    "    Jx = np.zeros((n,n))\n",
    "    for i in range(n):\n",
    "        Jx[i,i] = -2\n",
    "    Jx[0,0]= -2/mode_gap\n",
    "    results = np.zeros((len(alphas_s),len(alphas_g)))    \n",
    "    for i in range(len(alphas_s)):\n",
    "        for j in range(len(alphas_g)):\n",
    "            s = np.cos(alphas_s[i])*v_1 + np.sin(alphas_s[i])*df_orth\n",
    "            g = np.cos(alphas_g[j])*v_1 + np.sin(alphas_g[j])*df_orth\n",
    "            gJxs = np.matmul(g,np.matmul(np.linalg.inv(Jx),s))\n",
    "            Jxgs_inv = np.linalg.inv(Jx - np.outer(g, s))\n",
    "            results[i,j] = dx_norm_efficient(df,Jxgs_inv,gJxs)\n",
    "    i,j = np.argwhere(results == np.min(results))[0]\n",
    "    return theta, alphas_s[i], alphas_g[j]"
   ]
  },
  {
   "cell_type": "code",
   "execution_count": 14,
   "id": "97d8579f-d8b4-47f8-9c70-4009d9f60702",
   "metadata": {},
   "outputs": [],
   "source": [
    "def optimize_nd_many_perturbations(n=5, mode_gap = 1, sigma = 0.1, n_perturbs = 2000,df = 0):\n",
    "    if df == 0:\n",
    "        df = (np.zeros(n) + 1)/np.linalg.norm(np.zeros(n) + 1)\n",
    "    v_1 = np.zeros(n)\n",
    "    v_1[0] = 1\n",
    "    df_orth = np.array(df)\n",
    "    df_orth[0] = 0\n",
    "    df_orth = df_orth/np.linalg.norm(df_orth)\n",
    "    theta = np.arccos(np.dot(df,v_1))\n",
    "    alphas_s = np.linspace(0,theta,100)\n",
    "    alphas_g = np.linspace(0,theta,100)\n",
    "    Jx = np.zeros((n,n))\n",
    "    for i in range(n):\n",
    "        Jx[i,i] = -2\n",
    "    Jx[0,0]= -2/mode_gap\n",
    "    results = np.zeros((len(alphas_s),len(alphas_g)))    \n",
    "    dfs = generate_distributed_vectors(n,n_perturbs,sigma)\n",
    "\n",
    "    for i in tqdm(range(len(alphas_s))):\n",
    "        for j in range(len(alphas_g)):\n",
    "            s = np.cos(alphas_s[i])*v_1 + np.sin(alphas_s[i])*df_orth\n",
    "            g = np.cos(alphas_g[j])*v_1 + np.sin(alphas_g[j])*df_orth\n",
    "            gJxs = np.matmul(g,np.matmul(np.linalg.inv(Jx),s))\n",
    "            Jxgs_inv = np.linalg.inv(Jx - np.outer(g, s))\n",
    "            results[i,j] = np.mean([dx_norm_efficient(df,Jxgs_inv,gJxs) for df in dfs])\n",
    "    i,j = np.argwhere(results == np.min(results))[0]\n",
    "    return theta, alphas_s[i], alphas_g[j]"
   ]
  },
  {
   "cell_type": "code",
   "execution_count": 23,
   "id": "6fabbeac-1c31-49dd-b73c-d5e554ab9202",
   "metadata": {},
   "outputs": [],
   "source": [
    "def func_to_optimize(vars, df_orth, dfs, Jx):\n",
    "    alpha_s, alpha_g = vars\n",
    "    n = len(df)\n",
    "    v_1 = np.zeros(n)\n",
    "    v_1[0] = 1\n",
    "    s = np.cos(alpha_s)*v_1 + np.sin(alpha_s)*df_orth\n",
    "    g = np.cos(alpha_g)*v_1 + np.sin(alpha_g)*df_orth\n",
    "    gJxs = np.matmul(g,np.matmul(np.linalg.inv(Jx),s))\n",
    "    Jxgs_inv = np.linalg.inv(Jx - np.outer(g, s))\n",
    "    return np.mean([dx_norm_efficient(dfp,Jxgs_inv,gJxs) for dfp in dfs])"
   ]
  },
  {
   "cell_type": "code",
   "execution_count": 61,
   "id": "ff4a2735-eb0f-4ab6-9263-ccae03c1b97b",
   "metadata": {},
   "outputs": [
    {
     "name": "stderr",
     "output_type": "stream",
     "text": [
      "100%|███████████████████████████████████████| 5/5 [01:48<00:00, 21.79s/it]\n"
     ]
    }
   ],
   "source": [
    "n = 5\n",
    "mode_gap = 100\n",
    "Jx = np.zeros((n,n))\n",
    "for i in range(n):\n",
    "    Jx[i,i] = -2\n",
    "Jx[0,0]= -2/mode_gap\n",
    "df = (np.zeros(n) + 1)/np.linalg.norm(np.zeros(n) + 1)\n",
    "n_perturbs = 2000\n",
    "sigma = 0.1\n",
    "\n",
    "v_1 = np.zeros(n)\n",
    "v_1[0] = 1\n",
    "df_orth = np.array(df)\n",
    "df_orth[0] = 0\n",
    "df_orth = df_orth/np.linalg.norm(df_orth)\n",
    "theta = np.arccos(np.dot(df,v_1))\n",
    "\n",
    "initial_guess = [theta/2, theta/2]  \n",
    "\n",
    "s_bounds = (0, theta)  \n",
    "g_bounds = (0, theta)  \n",
    "# Create a bounds tuple for optimization\n",
    "bounds = [s_bounds, g_bounds]\n",
    "\n",
    "mode_gaps = np.logspace(0,2.5,60)\n",
    "sigmas = [0.01,1,5,10,20]\n",
    "alphas_s = np.zeros((len(mode_gaps),len(sigmas)))\n",
    "alphas_g = np.zeros((len(mode_gaps),len(sigmas)))\n",
    "\n",
    "for j in tqdm(range(len(sigmas))):\n",
    "    dfs = generate_distributed_vectors(df,n_perturbs,sigmas[j])\n",
    "    for i in range(len(mode_gaps)):\n",
    "        Jx[0,0]= -2/mode_gaps[i]\n",
    "        # Call the minimize function to optimize the function while keeping other variables fixed\n",
    "        result = minimize(func_to_optimize, initial_guess, args=(df_orth, dfs, Jx), bounds=bounds)\n",
    "    \n",
    "        # Extract the optimized values of x and y\n",
    "        optimal_s, optimal_g = result.x\n",
    "        alphas_s[i,j] = optimal_s\n",
    "        alphas_g[i,j] = optimal_g"
   ]
  },
  {
   "cell_type": "code",
   "execution_count": null,
   "id": "b7b53dd1-20ac-4573-a43a-75044a4df564",
   "metadata": {},
   "outputs": [],
   "source": [
    "for j in range(len(sigmas)):\n",
    "    plt.plot(mode_gaps,alphas_g[:,j])\n",
    "    plt.plot(mode_gaps,theta - alphas_g[:,j])\n",
    "plt.xscale('log')"
   ]
  },
  {
   "cell_type": "code",
   "execution_count": 58,
   "id": "293d8853-4a91-475f-a460-a44618c9683d",
   "metadata": {},
   "outputs": [
    {
     "name": "stderr",
     "output_type": "stream",
     "text": [
      "100%|███████████████████████████| 8/8 [02:29<00:00, 18.71s/it]\n"
     ]
    }
   ],
   "source": [
    "ns = [2,3,4,5,6,7,8,9]\n",
    "mode_gaps = np.logspace(0,2.5,60)\n",
    "sigma = 1\n",
    "alphas_s = np.zeros((len(mode_gaps),len(ns)))\n",
    "alphas_g = np.zeros((len(mode_gaps),len(ns)))\n",
    "doctor_effectiveness = np.zeros((len(mode_gaps),len(ns)))\n",
    "for j in tqdm(range(len(ns))):\n",
    "    n = ns[j]\n",
    "    Jx = np.zeros((n,n))\n",
    "    for i in range(n):\n",
    "        Jx[i,i] = -2\n",
    "    Jx[0,0]= -2/mode_gap\n",
    "    df = (np.zeros(n) + 1)/np.linalg.norm(np.zeros(n) + 1)\n",
    "    n_perturbs = 2000\n",
    "    sigma = 0.1\n",
    "\n",
    "    v_1 = np.zeros(n)\n",
    "    v_1[0] = 1\n",
    "    df_orth = np.array(df)\n",
    "    df_orth[0] = 0\n",
    "    df_orth = df_orth/np.linalg.norm(df_orth)\n",
    "    theta = np.arccos(np.dot(df,v_1))\n",
    "    initial_guess = [theta/2, theta/2]  \n",
    "\n",
    "    s_bounds = (0, theta)  \n",
    "    g_bounds = (0, theta)  \n",
    "    # Create a bounds tuple for optimization\n",
    "    bounds = [s_bounds, g_bounds]\n",
    "\n",
    "    dfs = generate_distributed_vectors(df,n_perturbs,sigma)\n",
    "    for i in range(len(mode_gaps)):\n",
    "        Jx[0,0]= -2/mode_gaps[i]\n",
    "        Jxinv = np.linalg.inv(Jx)\n",
    "        # Call the minimize function to optimize the function while keeping other variables fixed\n",
    "        result = minimize(func_to_optimize, initial_guess, args=(df_orth, dfs, Jx), bounds=bounds)\n",
    "    \n",
    "        # Extract the optimized values of x and y\n",
    "        optimal_s, optimal_g = result.x\n",
    "        alphas_s[i,j] = optimal_s\n",
    "        alphas_g[i,j] = optimal_g\n",
    "        doctor_effectiveness[i,j] = func_to_optimize((optimal_s, optimal_g), df_orth, dfs, Jx)/np.mean([dx_norm_efficient(dfp,Jxinv,0) for dfp in dfs])"
   ]
  },
  {
   "cell_type": "code",
   "execution_count": 59,
   "id": "382abc47-6e9a-458d-b300-075f38a4b99e",
   "metadata": {},
   "outputs": [
    {
     "data": {
      "image/png": "[encoded data removed]",
      "text/plain": [
       "<Figure size 640x480 with 1 Axes>"
      ]
     },
     "metadata": {},
     "output_type": "display_data"
    }
   ],
   "source": [
    "for j in range(len(ns)):\n",
    "    plt.plot(mode_gaps,doctor_effectiveness[:,j])\n",
    "plt.xscale('log')"
   ]
  },
  {
   "cell_type": "code",
   "execution_count": 25,
   "id": "575b4335-deda-4a9e-8d56-70e1979d455e",
   "metadata": {},
   "outputs": [
    {
     "data": {
      "text/plain": [
       "(0.005079337564685613, 0.000914847877213217)"
      ]
     },
     "execution_count": 25,
     "metadata": {},
     "output_type": "execute_result"
    }
   ],
   "source": [
    "optimal_x, optimal_y"
   ]
  },
  {
   "cell_type": "code",
   "execution_count": 15,
   "id": "99b6ade4-09d6-4b0d-b39d-680bfba97da4",
   "metadata": {},
   "outputs": [
    {
     "name": "stderr",
     "output_type": "stream",
     "text": [
      "100%|███████████████████████| 100/100 [02:41<00:00,  1.61s/it]\n"
     ]
    },
    {
     "data": {
      "text/plain": [
       "(1.1071487177940904, 0.01118332038175849, 0.0)"
      ]
     },
     "execution_count": 15,
     "metadata": {},
     "output_type": "execute_result"
    }
   ],
   "source": [
    "optimize_nd_many_perturbations(n=5, mode_gap = 100, sigma = 0.1, n_perturbs = 2000)"
   ]
  },
  {
   "cell_type": "code",
   "execution_count": 208,
   "id": "25040d4f-f285-45d0-b40f-dceb34974139",
   "metadata": {},
   "outputs": [
    {
     "name": "stderr",
     "output_type": "stream",
     "text": [
      "100%|███████████████████████| 100/100 [03:24<00:00,  2.05s/it]\n",
      "100%|███████████████████████| 100/100 [03:21<00:00,  2.01s/it]\n",
      "100%|███████████████████████| 100/100 [03:22<00:00,  2.03s/it]\n",
      "100%|███████████████████████| 100/100 [03:21<00:00,  2.02s/it]\n",
      "100%|███████████████████████| 100/100 [03:20<00:00,  2.00s/it]\n",
      "100%|███████████████████████| 100/100 [03:16<00:00,  1.97s/it]\n",
      "100%|███████████████████████| 100/100 [03:18<00:00,  1.99s/it]\n",
      "100%|███████████████████████| 100/100 [03:11<00:00,  1.91s/it]\n",
      "100%|███████████████████████| 100/100 [03:09<00:00,  1.90s/it]\n",
      "100%|███████████████████████| 100/100 [03:09<00:00,  1.90s/it]\n",
      "100%|███████████████████████| 100/100 [03:09<00:00,  1.90s/it]\n",
      "100%|███████████████████████| 100/100 [03:09<00:00,  1.90s/it]\n",
      "100%|███████████████████████| 100/100 [03:07<00:00,  1.87s/it]\n",
      "100%|███████████████████████| 100/100 [03:08<00:00,  1.89s/it]\n",
      "100%|███████████████████████| 100/100 [03:06<00:00,  1.87s/it]\n",
      "100%|███████████████████████| 100/100 [03:07<00:00,  1.88s/it]\n",
      "100%|███████████████████████| 100/100 [03:09<00:00,  1.89s/it]\n",
      "100%|███████████████████████| 100/100 [03:08<00:00,  1.88s/it]\n",
      "100%|███████████████████████| 100/100 [03:06<00:00,  1.86s/it]\n",
      "100%|███████████████████████| 100/100 [03:06<00:00,  1.87s/it]\n",
      "100%|███████████████████████| 100/100 [03:06<00:00,  1.86s/it]\n",
      "100%|███████████████████████| 100/100 [03:06<00:00,  1.87s/it]\n",
      "100%|███████████████████████| 100/100 [03:07<00:00,  1.87s/it]\n",
      "100%|███████████████████████| 100/100 [03:06<00:00,  1.86s/it]\n",
      "100%|███████████████████████| 100/100 [03:06<00:00,  1.87s/it]\n",
      "100%|███████████████████████| 100/100 [03:05<00:00,  1.85s/it]\n",
      "100%|███████████████████████| 100/100 [03:06<00:00,  1.87s/it]\n",
      "100%|███████████████████████| 100/100 [03:07<00:00,  1.87s/it]\n",
      "100%|███████████████████████| 100/100 [03:06<00:00,  1.87s/it]\n",
      "100%|███████████████████████| 100/100 [03:06<00:00,  1.86s/it]\n",
      "100%|███████████████████████| 100/100 [03:07<00:00,  1.87s/it]\n",
      "100%|███████████████████████| 100/100 [03:06<00:00,  1.86s/it]\n",
      "100%|███████████████████████| 100/100 [03:07<00:00,  1.87s/it]\n",
      "100%|███████████████████████| 100/100 [03:07<00:00,  1.87s/it]\n",
      "100%|███████████████████████| 100/100 [03:06<00:00,  1.86s/it]\n",
      "100%|███████████████████████| 100/100 [03:07<00:00,  1.88s/it]\n",
      "100%|███████████████████████| 100/100 [03:06<00:00,  1.87s/it]\n",
      "100%|███████████████████████| 100/100 [03:07<00:00,  1.87s/it]\n",
      "100%|███████████████████████| 100/100 [03:06<00:00,  1.86s/it]\n",
      "100%|███████████████████████| 100/100 [03:07<00:00,  1.88s/it]\n",
      "100%|███████████████████████| 100/100 [03:07<00:00,  1.88s/it]\n",
      "100%|███████████████████████| 100/100 [03:07<00:00,  1.88s/it]\n",
      "100%|███████████████████████| 100/100 [03:12<00:00,  1.93s/it]\n",
      "100%|███████████████████████| 100/100 [03:06<00:00,  1.87s/it]\n",
      "100%|███████████████████████| 100/100 [03:08<00:00,  1.89s/it]\n",
      "100%|███████████████████████| 100/100 [03:07<00:00,  1.88s/it]\n",
      "100%|███████████████████████| 100/100 [03:09<00:00,  1.89s/it]\n",
      "100%|███████████████████████| 100/100 [03:09<00:00,  1.89s/it]\n",
      "100%|███████████████████████| 100/100 [03:11<00:00,  1.91s/it]\n",
      "100%|███████████████████████| 100/100 [03:09<00:00,  1.89s/it]\n",
      "100%|███████████████████████| 100/100 [03:08<00:00,  1.88s/it]\n",
      "100%|███████████████████████| 100/100 [03:09<00:00,  1.89s/it]\n",
      "100%|███████████████████████| 100/100 [03:07<00:00,  1.88s/it]\n",
      "100%|███████████████████████| 100/100 [03:08<00:00,  1.89s/it]\n",
      "100%|███████████████████████| 100/100 [03:13<00:00,  1.94s/it]\n",
      "100%|███████████████████████| 100/100 [03:07<00:00,  1.87s/it]\n",
      "100%|███████████████████████| 100/100 [03:08<00:00,  1.89s/it]\n",
      "100%|███████████████████████| 100/100 [03:06<00:00,  1.87s/it]\n",
      "100%|███████████████████████| 100/100 [03:12<00:00,  1.93s/it]\n",
      "100%|███████████████████████| 100/100 [03:09<00:00,  1.90s/it]\n",
      "100%|███████████████████████| 100/100 [03:08<00:00,  1.89s/it]\n",
      "100%|███████████████████████| 100/100 [03:07<00:00,  1.88s/it]\n",
      "100%|███████████████████████| 100/100 [03:06<00:00,  1.87s/it]\n",
      "100%|███████████████████████| 100/100 [03:07<00:00,  1.88s/it]\n",
      "100%|███████████████████████| 100/100 [03:06<00:00,  1.86s/it]\n",
      "100%|███████████████████████| 100/100 [03:08<00:00,  1.88s/it]\n",
      "100%|███████████████████████| 100/100 [03:06<00:00,  1.86s/it]\n",
      "100%|███████████████████████| 100/100 [03:08<00:00,  1.89s/it]\n",
      "100%|███████████████████████| 100/100 [03:06<00:00,  1.87s/it]\n",
      "100%|███████████████████████| 100/100 [03:08<00:00,  1.88s/it]\n",
      "100%|███████████████████████| 100/100 [03:10<00:00,  1.91s/it]\n",
      "100%|███████████████████████| 100/100 [03:06<00:00,  1.87s/it]\n",
      "100%|███████████████████████| 100/100 [03:07<00:00,  1.88s/it]\n",
      "100%|███████████████████████| 100/100 [03:06<00:00,  1.87s/it]\n",
      "100%|███████████████████████| 100/100 [03:08<00:00,  1.88s/it]\n"
     ]
    }
   ],
   "source": [
    "mode_gaps = np.logspace(0,2.5,15)\n",
    "sigmas = [0.01,1,5,10,50]\n",
    "alphas_s = np.zeros((len(mode_gaps),len(sigmas)))\n",
    "alphas_g = np.zeros((len(mode_gaps),len(sigmas)))\n",
    "for i in range(len(mode_gaps)):\n",
    "    for j in range(len(sigmas)):\n",
    "        theta, alpha_s, alpha_g = optimize_nd_many_perturbations(n=5, mode_gap = mode_gaps[i], sigma = sigmas[j], n_perturbs = 2000)\n",
    "        alphas_s[i,j] = alpha_s\n",
    "        alphas_g[i,j] = alpha_g"
   ]
  },
  {
   "cell_type": "code",
   "execution_count": 247,
   "id": "d877c094-b9e6-43bf-b374-efb30051b93c",
   "metadata": {},
   "outputs": [
    {
     "data": {
      "text/plain": [
       "<matplotlib.legend.Legend at 0x15fb371f0>"
      ]
     },
     "execution_count": 247,
     "metadata": {},
     "output_type": "execute_result"
    },
    {
     "data": {
      "image/png": "[encoded data removed]",
      "text/plain": [
       "<Figure size 640x480 with 1 Axes>"
      ]
     },
     "metadata": {},
     "output_type": "display_data"
    }
   ],
   "source": [
    "import palettable.colorbrewer.sequential as pal\n",
    "from matplotlib.colors import ListedColormap\n",
    "\n",
    "colors = [pal.Purples_5.mpl_colors[i] for i in range(len(sigmas))]\n",
    "colors2 = [pal.Oranges_5.mpl_colors[i] for i in range(len(sigmas))]\n",
    "\n",
    "cmap = ListedColormap(colors)\n",
    "\n",
    "for i in range(len(sigmas)):\n",
    "    labels =['_nolegend_','_nolegend_','_nolegend_','_nolegend_',r'$\\theta_{g,v_1}$']\n",
    "\n",
    "    plt.plot(mode_gaps,alphas_g[:,i],label = labels[i],color = colors[i])\n",
    "\n",
    "    labels =['_nolegend_','_nolegend_','_nolegend_','_nolegend_',r'$\\theta_{g,\\delta f}$']\n",
    "    plt.plot(mode_gaps,theta - alphas_g[:,i],color = colors2[i],label = labels[i])\n",
    "plt.xscale('log')\n",
    "plt.xlabel('Mode Gap', fontsize=20)\n",
    "plt.ylabel(r'$\\theta$', fontsize=20)\n",
    "\n",
    "plt.legend()"
   ]
  },
  {
   "cell_type": "code",
   "execution_count": null,
   "id": "cd9c6a7c-1416-4a32-a8c6-e5588e7230b5",
   "metadata": {},
   "outputs": [],
   "source": []
  },
  {
   "cell_type": "code",
   "execution_count": 207,
   "id": "bdeae4ca-70f6-4620-8a50-e5529a3f5330",
   "metadata": {},
   "outputs": [
    {
     "data": {
      "text/plain": [
       "array([  1.        ,   1.50859071,   2.27584593,   3.43332002,\n",
       "         5.17947468,   7.81370738,  11.78768635,  17.7827941 ,\n",
       "        26.82695795,  40.47089951,  61.05402297,  92.10553177,\n",
       "       138.94954944, 209.61799925, 316.22776602])"
      ]
     },
     "execution_count": 207,
     "metadata": {},
     "output_type": "execute_result"
    }
   ],
   "source": [
    "mode_gaps = np.logspace(0,2.5,15)\n",
    "mode_gaps"
   ]
  },
  {
   "cell_type": "code",
   "execution_count": 161,
   "id": "e443cc66-8dfb-4113-90d8-8b1e21a92147",
   "metadata": {},
   "outputs": [
    {
     "name": "stderr",
     "output_type": "stream",
     "text": [
      "100%|█████████████████████████| 15/15 [00:14<00:00,  1.00it/s]\n"
     ]
    }
   ],
   "source": [
    "mode_gaps = np.logspace(0,5,15)\n",
    "alphas_s = []\n",
    "alphas_g = []\n",
    "for mode_gap in tqdm(mode_gaps):\n",
    "    theta, alpha_s, alpha_g = optimize_nd_single_perturbation(n=20,mode_gap = mode_gap)\n",
    "    alphas_s.append(alpha_s)\n",
    "    alphas_g.append(alpha_g)"
   ]
  },
  {
   "cell_type": "code",
   "execution_count": 142,
   "id": "7008ebe7-1a40-4594-a4ab-3f3e2d7fa26e",
   "metadata": {},
   "outputs": [
    {
     "data": {
      "text/plain": [
       "1.0"
      ]
     },
     "execution_count": 142,
     "metadata": {},
     "output_type": "execute_result"
    }
   ],
   "source": [
    "mode_gaps[0]"
   ]
  },
  {
   "cell_type": "code",
   "execution_count": 163,
   "id": "98c0c253-eef2-42ed-9ca4-ab458495f39c",
   "metadata": {},
   "outputs": [
    {
     "data": {
      "text/plain": [
       "[<matplotlib.lines.Line2D at 0x15d59a2e0>]"
      ]
     },
     "execution_count": 163,
     "metadata": {},
     "output_type": "execute_result"
    },
    {
     "data": {
      "image/png": "[encoded data removed]",
      "text/plain": [
       "<Figure size 640x480 with 1 Axes>"
      ]
     },
     "metadata": {},
     "output_type": "display_data"
    }
   ],
   "source": [
    "plt.plot(mode_gaps,alphas_s)\n",
    "plt.plot(mode_gaps,theta-alphas_s)"
   ]
  },
  {
   "cell_type": "code",
   "execution_count": 146,
   "id": "a8e96945-cd86-4e91-8f2e-e38169a6521a",
   "metadata": {},
   "outputs": [
    {
     "data": {
      "text/plain": [
       "array([0.4472136 , 0.59926345, 0.72451504, 0.81672578, 0.88135862,\n",
       "       0.9243697 , 0.94786882, 0.96419652, 0.97509077, 0.97980753,\n",
       "       0.98403413, 0.98776848, 0.98945047, 0.98945047, 0.99100871])"
      ]
     },
     "execution_count": 146,
     "metadata": {},
     "output_type": "execute_result"
    }
   ],
   "source": [
    "np.cos(alphas_g)"
   ]
  },
  {
   "cell_type": "code",
   "execution_count": 126,
   "id": "828ec3e0-f87c-4f1e-8ce2-1d8bf7be3fcb",
   "metadata": {},
   "outputs": [
    {
     "data": {
      "text/plain": [
       "0.3124743273526178"
      ]
     },
     "execution_count": 126,
     "metadata": {},
     "output_type": "execute_result"
    }
   ],
   "source": [
    "df = (np.zeros(n) + 1)/np.linalg.norm(np.zeros(n) + 1)\n",
    "v_1 = np.zeros(n)\n",
    "v_1[0] = 1\n",
    "Jx = np.zeros((n,n))\n",
    "for i in range(n):\n",
    "    Jx[i,i] = -2\n",
    "Jx[0,0]= -2/1000\n",
    "\n",
    "s = np.cos(alphas_s[-1])*v_1 + np.cos(theta-alphas_s[-1])*df\n",
    "g = np.cos(alphas_g[-1])*v_1 + np.cos(theta-alphas_g[-1])*df\n",
    "gJxs = np.matmul(g,np.matmul(np.linalg.inv(Jx),s))\n",
    "Jxgs_inv = np.linalg.inv(Jx - np.outer(g, s))\n",
    "dx_norm_efficient(df,Jxgs_inv,gJxs)"
   ]
  },
  {
   "cell_type": "code",
   "execution_count": 128,
   "id": "34571453-a34b-4412-8060-c9c190be53d1",
   "metadata": {},
   "outputs": [
    {
     "data": {
      "text/plain": [
       "1.4149353510132465"
      ]
     },
     "execution_count": 128,
     "metadata": {},
     "output_type": "execute_result"
    }
   ],
   "source": [
    "np.linalg.norm(s)"
   ]
  },
  {
   "cell_type": "code",
   "execution_count": 53,
   "id": "7275cf0d-293b-46ef-bd50-8727fe9b52a7",
   "metadata": {},
   "outputs": [
    {
     "data": {
      "text/plain": [
       "2.8375525375210455"
      ]
     },
     "execution_count": 53,
     "metadata": {},
     "output_type": "execute_result"
    }
   ],
   "source": [
    "n = 5\n",
    "v_1 = np.zeros(n)\n",
    "v_1[0] = 1\n",
    "df = np.zeros(n) + 1\n",
    "df = df/np.linalg.norm(df)\n",
    "theta = np.arccos(np.dot(df,v_1))\n"
   ]
  },
  {
   "cell_type": "code",
   "execution_count": 59,
   "id": "111ec4a4-b2be-4913-abc4-8ba9dacd4ae7",
   "metadata": {},
   "outputs": [
    {
     "data": {
      "text/plain": [
       "array([0.        , 0.01118332, 0.02236664, 0.03354996, 0.04473328,\n",
       "       0.0559166 , 0.06709992, 0.07828324, 0.08946656, 0.10064988,\n",
       "       0.1118332 , 0.12301652, 0.13419984, 0.14538316, 0.15656649,\n",
       "       0.16774981, 0.17893313, 0.19011645, 0.20129977, 0.21248309,\n",
       "       0.22366641, 0.23484973, 0.24603305, 0.25721637, 0.26839969,\n",
       "       0.27958301, 0.29076633, 0.30194965, 0.31313297, 0.32431629,\n",
       "       0.33549961, 0.34668293, 0.35786625, 0.36904957, 0.38023289,\n",
       "       0.39141621, 0.40259953, 0.41378285, 0.42496617, 0.43614949,\n",
       "       0.44733282, 0.45851614, 0.46969946, 0.48088278, 0.4920661 ,\n",
       "       0.50324942, 0.51443274, 0.52561606, 0.53679938, 0.5479827 ,\n",
       "       0.55916602, 0.57034934, 0.58153266, 0.59271598, 0.6038993 ,\n",
       "       0.61508262, 0.62626594, 0.63744926, 0.64863258, 0.6598159 ,\n",
       "       0.67099922, 0.68218254, 0.69336586, 0.70454918, 0.7157325 ,\n",
       "       0.72691582, 0.73809915, 0.74928247, 0.76046579, 0.77164911,\n",
       "       0.78283243, 0.79401575, 0.80519907, 0.81638239, 0.82756571,\n",
       "       0.83874903, 0.84993235, 0.86111567, 0.87229899, 0.88348231,\n",
       "       0.89466563, 0.90584895, 0.91703227, 0.92821559, 0.93939891,\n",
       "       0.95058223, 0.96176555, 0.97294887, 0.98413219, 0.99531551,\n",
       "       1.00649883, 1.01768215, 1.02886548, 1.0400488 , 1.05123212,\n",
       "       1.06241544, 1.07359876, 1.08478208, 1.0959654 , 1.10714872])"
      ]
     },
     "execution_count": 59,
     "metadata": {},
     "output_type": "execute_result"
    }
   ],
   "source": [
    "alphas_s = np.linspace(0,theta,100)\n",
    "alphas_s"
   ]
  },
  {
   "cell_type": "code",
   "execution_count": 96,
   "id": "b977a6cd-1624-4c12-bc2f-f1d68570852d",
   "metadata": {},
   "outputs": [],
   "source": [
    "Jx = np.zeros((n,n))\n",
    "for i in range(n):\n",
    "    Jx[i,i] = -2"
   ]
  },
  {
   "cell_type": "code",
   "execution_count": 97,
   "id": "2e858846",
   "metadata": {},
   "outputs": [
    {
     "name": "stderr",
     "output_type": "stream",
     "text": [
      "100%|█████████████████████████████████| 10000/10000 [00:00<00:00, 25794.72it/s]\n"
     ]
    },
    {
     "data": {
      "text/plain": [
       "(-5.0, 5.0)"
      ]
     },
     "execution_count": 97,
     "metadata": {},
     "output_type": "execute_result"
    },
    {
     "data": {
      "image/png": "[encoded data removed]",
      "text/plain": [
       "<Figure size 640x480 with 1 Axes>"
      ]
     },
     "metadata": {},
     "output_type": "display_data"
    }
   ],
   "source": [
    "sigma = .1\n",
    "Jx[1,1] = Jx[1,1]/4\n",
    "dfs = generate_distributed_vectors(2,10000,sigma)\n",
    "xs = []\n",
    "ys = []\n",
    "for df in tqdm(dfs):\n",
    "    dx = np.matmul(np.linalg.inv(Jx), df)\n",
    "    xs.append(dx[0])\n",
    "    ys.append(dx[1])\n",
    "plt.scatter(xs,ys,alpha = 0.01,marker = '.')\n",
    "plt.ylim([-5,5])\n",
    "plt.xlim([-5,5])"
   ]
  },
  {
   "cell_type": "code",
   "execution_count": 11,
   "id": "566ecf88",
   "metadata": {},
   "outputs": [],
   "source": [
    "def avg_dx_norm_old(s,g, Jx):\n",
    "    n = len(s)\n",
    "    return np.mean([dx_norm(df,g,s, Jx) for df in generate_evenly_distributed_vectors(n,100)])"
   ]
  },
  {
   "cell_type": "code",
   "execution_count": 194,
   "id": "cd98522c",
   "metadata": {},
   "outputs": [],
   "source": [
    "def avg_dx_norm(s,g, Jx,sigma):\n",
    "    n = len(s)\n",
    "    return np.mean([dx_norm(df,g,s, Jx) for df in generate_distributed_vectors(n,1000,sigma)])"
   ]
  },
  {
   "cell_type": "code",
   "execution_count": 55,
   "id": "ea1b6172",
   "metadata": {},
   "outputs": [],
   "source": [
    "def avg_dx_norm_single(s,g, Jx):\n",
    "    n = len(s)\n",
    "    df = np.zeros(n) + 1\n",
    "    df = df/np.linalg.norm(df)\n",
    "    return dx_norm(df,g,s, Jx)"
   ]
  },
  {
   "cell_type": "code",
   "execution_count": 33,
   "id": "f0f37282-f41a-45e6-82bb-0dc2ae7000c0",
   "metadata": {},
   "outputs": [
    {
     "data": {
      "text/plain": [
       "[[0, 6.283185307179586], [0, 6.283185307179586]]"
      ]
     },
     "execution_count": 33,
     "metadata": {},
     "output_type": "execute_result"
    }
   ],
   "source": [
    "bounds= []\n",
    "for i in range(n-2):\n",
    "    bounds.append([0,np.pi])\n",
    "bounds.append([0,2*np.pi])\n",
    "bounds = bounds + bounds\n",
    "bounds"
   ]
  },
  {
   "cell_type": "code",
   "execution_count": 36,
   "id": "0a9a3ebc",
   "metadata": {},
   "outputs": [],
   "source": [
    "def optimize_sg(Jx,sigma):\n",
    "    n = Jx.shape[0]\n",
    "    bounds = []\n",
    "    for i in range(n-2):\n",
    "        bounds.append([0,np.pi])\n",
    "    bounds.append([0,2*np.pi])\n",
    "    bounds = bounds + bounds\n",
    "    print(n)\n",
    "    initial_guess = np.zeros(2*(n-1))+np.pi/8\n",
    "    # Minimize the negative dot product to maximize the dot product\n",
    "    result = sp.optimize.basinhopping(\n",
    "        lambda x: avg_dx_norm(map_angles_to_n_sphere(x[:(n-1)]), map_angles_to_n_sphere(x[(n-1):]),Jx,sigma),\n",
    "        initial_guess,\n",
    "        minimizer_kwargs={\"bounds\": bounds})\n",
    "\n",
    "    optimized_s = map_angles_to_n_sphere(result.x[:(n-1)])\n",
    "    optimized_g = map_angles_to_n_sphere(result.x[(n-1):])\n",
    "    return optimized_s, optimized_g"
   ]
  },
  {
   "cell_type": "code",
   "execution_count": 247,
   "id": "2aa79757-b0b7-4a3c-b485-435ba188b55c",
   "metadata": {},
   "outputs": [],
   "source": [
    "def optimize_sg_alpha(Jx,sigma):\n",
    "    n = Jx.shape[0]\n",
    "    bounds = [[0,1],[0,1]]\n",
    "    print(n)\n",
    "    v_1 = np.zeros(n)\n",
    "    v_1[0] = 1\n",
    "    df = np.zeros(n) + 1\n",
    "    df = df/np.linalg.norm(df)\n",
    "    initial_guess = [0,0]\n",
    "    # Minimize the negative dot product to maximize the dot product\n",
    "    result = sp.optimize.minimize(\n",
    "        lambda x: integrate_function_over_vmf(df,x[0]*v_1 + (1-x[0])*df, x[1]*v_1 + (1-x[1])*df,Jx,sigma),\n",
    "        initial_guess,\n",
    "        bounds = bounds)\n",
    "\n",
    "    optimized_g = result.x[0]*v_1 + (1-result.x[0])*df\n",
    "    optimized_s = result.x[1]*v_1 + (1-result.x[1])*df\n",
    "    return optimized_s, optimized_g"
   ]
  },
  {
   "cell_type": "code",
   "execution_count": 217,
   "id": "93483daf-c461-4add-818a-9eb5b886855c",
   "metadata": {},
   "outputs": [
    {
     "name": "stderr",
     "output_type": "stream",
     "text": [
      "100%|████████████████████████████████████████| 100/100 [12:07<00:00,  7.27s/it]\n"
     ]
    }
   ],
   "source": [
    "v_1 = np.zeros(n)\n",
    "v_1[0] = 1\n",
    "df = np.zeros(n) + 1\n",
    "df = df/np.linalg.norm(df)\n",
    "i_s = []\n",
    "j_s = []\n",
    "norms = []\n",
    "for i in tqdm(np.linspace(0,1,100)):\n",
    "    for j in np.linspace(0,1,100):\n",
    "        norms.append(avg_dx_norm(i*v_1 + (1-i)*df, j*v_1 + (1-j)*df,Jx,sigma))\n",
    "        i_s.append(i)\n",
    "        j_s.append(j)"
   ]
  },
  {
   "cell_type": "code",
   "execution_count": 271,
   "id": "0fa45984-add6-4a80-a80f-9dc4aae55813",
   "metadata": {},
   "outputs": [
    {
     "name": "stdout",
     "output_type": "stream",
     "text": [
      "5\n"
     ]
    }
   ],
   "source": [
    "n = 5\n",
    "Jx = np.zeros((n,n))\n",
    "for i in range(n):\n",
    "    Jx[i,i] = -2\n",
    "Jx[0,0]= -0.02\n",
    "s,g = optimize_sg_alpha(Jx,2)"
   ]
  },
  {
   "cell_type": "code",
   "execution_count": 270,
   "id": "710eff85-4d7c-4082-b26a-51067c8f2c2c",
   "metadata": {},
   "outputs": [
    {
     "data": {
      "text/plain": [
       "(array([1., 0., 0., 0.]), array([1., 0., 0., 0.]))"
      ]
     },
     "execution_count": 270,
     "metadata": {},
     "output_type": "execute_result"
    }
   ],
   "source": [
    "s,g"
   ]
  },
  {
   "cell_type": "code",
   "execution_count": 256,
   "id": "90264648-99a2-4539-9a33-a99e56b5bc17",
   "metadata": {},
   "outputs": [],
   "source": [
    "def generate_pairs(array1, array2):\n",
    "    n = len(array1)\n",
    "    pairs = np.empty((2, n * n))\n",
    "    \n",
    "    for i in range(n):\n",
    "        for j in range(n):\n",
    "            pairs[0, i * n + j] = array1[i]\n",
    "            pairs[1, i * n + j] = array2[j]\n",
    "    \n",
    "    return pairs"
   ]
  },
  {
   "cell_type": "code",
   "execution_count": 258,
   "id": "0ad3c618-118c-47d9-aa9f-fabaf1fbdc8d",
   "metadata": {},
   "outputs": [],
   "source": [
    "xs = generate_pairs(np.linspace(0,1,100), np.linspace(0,1,100))"
   ]
  },
  {
   "cell_type": "code",
   "execution_count": 261,
   "id": "f9839d78-1bad-4dff-b5ad-6c1bebd270db",
   "metadata": {},
   "outputs": [
    {
     "data": {
      "text/plain": [
       "10000"
      ]
     },
     "execution_count": 261,
     "metadata": {},
     "output_type": "execute_result"
    }
   ],
   "source": [
    "xs.shape[1]"
   ]
  },
  {
   "cell_type": "code",
   "execution_count": 263,
   "id": "db200e2f-d45a-42b6-8c13-811e16002a7e",
   "metadata": {},
   "outputs": [
    {
     "name": "stderr",
     "output_type": "stream",
     "text": [
      "  8%|██▊                                | 807/10000 [54:25<10:20:04,  4.05s/it]\n"
     ]
    },
    {
     "ename": "KeyboardInterrupt",
     "evalue": "",
     "output_type": "error",
     "traceback": [
      "\u001b[0;31m---------------------------------------------------------------------------\u001b[0m",
      "\u001b[0;31mKeyboardInterrupt\u001b[0m                         Traceback (most recent call last)",
      "Cell \u001b[0;32mIn[263], line 12\u001b[0m\n\u001b[1;32m     10\u001b[0m \u001b[38;5;28;01mfor\u001b[39;00m i \u001b[38;5;129;01min\u001b[39;00m tqdm(\u001b[38;5;28mrange\u001b[39m(xs\u001b[38;5;241m.\u001b[39mshape[\u001b[38;5;241m1\u001b[39m])):\n\u001b[1;32m     11\u001b[0m     x \u001b[38;5;241m=\u001b[39m xs[:,i]\n\u001b[0;32m---> 12\u001b[0m     results\u001b[38;5;241m.\u001b[39mappend(\u001b[43mintegrate_function_over_vmf\u001b[49m\u001b[43m(\u001b[49m\u001b[43mdf\u001b[49m\u001b[43m,\u001b[49m\u001b[43mx\u001b[49m\u001b[43m[\u001b[49m\u001b[38;5;241;43m0\u001b[39;49m\u001b[43m]\u001b[49m\u001b[38;5;241;43m*\u001b[39;49m\u001b[43mv_1\u001b[49m\u001b[43m \u001b[49m\u001b[38;5;241;43m+\u001b[39;49m\u001b[43m \u001b[49m\u001b[43m(\u001b[49m\u001b[38;5;241;43m1\u001b[39;49m\u001b[38;5;241;43m-\u001b[39;49m\u001b[43mx\u001b[49m\u001b[43m[\u001b[49m\u001b[38;5;241;43m0\u001b[39;49m\u001b[43m]\u001b[49m\u001b[43m)\u001b[49m\u001b[38;5;241;43m*\u001b[39;49m\u001b[43mdf\u001b[49m\u001b[43m,\u001b[49m\u001b[43m \u001b[49m\u001b[43mx\u001b[49m\u001b[43m[\u001b[49m\u001b[38;5;241;43m1\u001b[39;49m\u001b[43m]\u001b[49m\u001b[38;5;241;43m*\u001b[39;49m\u001b[43mv_1\u001b[49m\u001b[43m \u001b[49m\u001b[38;5;241;43m+\u001b[39;49m\u001b[43m \u001b[49m\u001b[43m(\u001b[49m\u001b[38;5;241;43m1\u001b[39;49m\u001b[38;5;241;43m-\u001b[39;49m\u001b[43mx\u001b[49m\u001b[43m[\u001b[49m\u001b[38;5;241;43m1\u001b[39;49m\u001b[43m]\u001b[49m\u001b[43m)\u001b[49m\u001b[38;5;241;43m*\u001b[39;49m\u001b[43mdf\u001b[49m\u001b[43m,\u001b[49m\u001b[43mJx\u001b[49m\u001b[43m,\u001b[49m\u001b[43msigma\u001b[49m\u001b[43m)\u001b[49m)\n",
      "Cell \u001b[0;32mIn[233], line 11\u001b[0m, in \u001b[0;36mintegrate_function_over_vmf\u001b[0;34m(df, g, s, Jx, kappa)\u001b[0m\n\u001b[1;32m      7\u001b[0m     \u001b[38;5;28;01mreturn\u001b[39;00m dx_norm(x,g,s, Jx) \u001b[38;5;241m*\u001b[39m von_mises_fisher_pdf(x, kappa, df)\n\u001b[1;32m      9\u001b[0m limits \u001b[38;5;241m=\u001b[39m [(\u001b[38;5;241m0\u001b[39m, \u001b[38;5;241m2\u001b[39m\u001b[38;5;241m*\u001b[39mnp\u001b[38;5;241m.\u001b[39mpi)] \u001b[38;5;241m+\u001b[39m [(\u001b[38;5;241m0\u001b[39m, np\u001b[38;5;241m.\u001b[39mpi) \u001b[38;5;28;01mfor\u001b[39;00m _ \u001b[38;5;129;01min\u001b[39;00m \u001b[38;5;28mrange\u001b[39m(\u001b[38;5;28mlen\u001b[39m(df) \u001b[38;5;241m-\u001b[39m \u001b[38;5;241m1\u001b[39m)]  \u001b[38;5;66;03m# Azimuthal angle and polar angles\u001b[39;00m\n\u001b[0;32m---> 11\u001b[0m result, _ \u001b[38;5;241m=\u001b[39m \u001b[43mintegrate\u001b[49m\u001b[38;5;241;43m.\u001b[39;49m\u001b[43mnquad\u001b[49m\u001b[43m(\u001b[49m\u001b[43mintegrand\u001b[49m\u001b[43m,\u001b[49m\u001b[43m \u001b[49m\u001b[43mranges\u001b[49m\u001b[38;5;241;43m=\u001b[39;49m\u001b[43mlimits\u001b[49m\u001b[43m)\u001b[49m\n\u001b[1;32m     13\u001b[0m \u001b[38;5;28;01mreturn\u001b[39;00m result\n",
      "File \u001b[0;32m~/opt/anaconda3/lib/python3.9/site-packages/scipy/integrate/_quadpack_py.py:1179\u001b[0m, in \u001b[0;36mnquad\u001b[0;34m(func, ranges, args, opts, full_output)\u001b[0m\n\u001b[1;32m   1177\u001b[0m \u001b[38;5;28;01melse\u001b[39;00m:\n\u001b[1;32m   1178\u001b[0m     opts \u001b[38;5;241m=\u001b[39m [opt \u001b[38;5;28;01mif\u001b[39;00m \u001b[38;5;28mcallable\u001b[39m(opt) \u001b[38;5;28;01melse\u001b[39;00m _OptFunc(opt) \u001b[38;5;28;01mfor\u001b[39;00m opt \u001b[38;5;129;01min\u001b[39;00m opts]\n\u001b[0;32m-> 1179\u001b[0m \u001b[38;5;28;01mreturn\u001b[39;00m \u001b[43m_NQuad\u001b[49m\u001b[43m(\u001b[49m\u001b[43mfunc\u001b[49m\u001b[43m,\u001b[49m\u001b[43m \u001b[49m\u001b[43mranges\u001b[49m\u001b[43m,\u001b[49m\u001b[43m \u001b[49m\u001b[43mopts\u001b[49m\u001b[43m,\u001b[49m\u001b[43m \u001b[49m\u001b[43mfull_output\u001b[49m\u001b[43m)\u001b[49m\u001b[38;5;241;43m.\u001b[39;49m\u001b[43mintegrate\u001b[49m\u001b[43m(\u001b[49m\u001b[38;5;241;43m*\u001b[39;49m\u001b[43margs\u001b[49m\u001b[43m)\u001b[49m\n",
      "File \u001b[0;32m~/opt/anaconda3/lib/python3.9/site-packages/scipy/integrate/_quadpack_py.py:1233\u001b[0m, in \u001b[0;36m_NQuad.integrate\u001b[0;34m(self, *args, **kwargs)\u001b[0m\n\u001b[1;32m   1231\u001b[0m \u001b[38;5;28;01melse\u001b[39;00m:\n\u001b[1;32m   1232\u001b[0m     f \u001b[38;5;241m=\u001b[39m partial(\u001b[38;5;28mself\u001b[39m\u001b[38;5;241m.\u001b[39mintegrate, depth\u001b[38;5;241m=\u001b[39mdepth\u001b[38;5;241m+\u001b[39m\u001b[38;5;241m1\u001b[39m)\n\u001b[0;32m-> 1233\u001b[0m quad_r \u001b[38;5;241m=\u001b[39m \u001b[43mquad\u001b[49m\u001b[43m(\u001b[49m\u001b[43mf\u001b[49m\u001b[43m,\u001b[49m\u001b[43m \u001b[49m\u001b[43mlow\u001b[49m\u001b[43m,\u001b[49m\u001b[43m \u001b[49m\u001b[43mhigh\u001b[49m\u001b[43m,\u001b[49m\u001b[43m \u001b[49m\u001b[43margs\u001b[49m\u001b[38;5;241;43m=\u001b[39;49m\u001b[43margs\u001b[49m\u001b[43m,\u001b[49m\u001b[43m \u001b[49m\u001b[43mfull_output\u001b[49m\u001b[38;5;241;43m=\u001b[39;49m\u001b[38;5;28;43mself\u001b[39;49m\u001b[38;5;241;43m.\u001b[39;49m\u001b[43mfull_output\u001b[49m\u001b[43m,\u001b[49m\n\u001b[1;32m   1234\u001b[0m \u001b[43m              \u001b[49m\u001b[38;5;241;43m*\u001b[39;49m\u001b[38;5;241;43m*\u001b[39;49m\u001b[43mopt\u001b[49m\u001b[43m)\u001b[49m\n\u001b[1;32m   1235\u001b[0m value \u001b[38;5;241m=\u001b[39m quad_r[\u001b[38;5;241m0\u001b[39m]\n\u001b[1;32m   1236\u001b[0m abserr \u001b[38;5;241m=\u001b[39m quad_r[\u001b[38;5;241m1\u001b[39m]\n",
      "File \u001b[0;32m~/opt/anaconda3/lib/python3.9/site-packages/scipy/integrate/_quadpack_py.py:465\u001b[0m, in \u001b[0;36mquad\u001b[0;34m(func, a, b, args, full_output, epsabs, epsrel, limit, points, weight, wvar, wopts, maxp1, limlst, complex_func)\u001b[0m\n\u001b[1;32m    462\u001b[0m     \u001b[38;5;28;01mreturn\u001b[39;00m retval\n\u001b[1;32m    464\u001b[0m \u001b[38;5;28;01mif\u001b[39;00m weight \u001b[38;5;129;01mis\u001b[39;00m \u001b[38;5;28;01mNone\u001b[39;00m:\n\u001b[0;32m--> 465\u001b[0m     retval \u001b[38;5;241m=\u001b[39m \u001b[43m_quad\u001b[49m\u001b[43m(\u001b[49m\u001b[43mfunc\u001b[49m\u001b[43m,\u001b[49m\u001b[43m \u001b[49m\u001b[43ma\u001b[49m\u001b[43m,\u001b[49m\u001b[43m \u001b[49m\u001b[43mb\u001b[49m\u001b[43m,\u001b[49m\u001b[43m \u001b[49m\u001b[43margs\u001b[49m\u001b[43m,\u001b[49m\u001b[43m \u001b[49m\u001b[43mfull_output\u001b[49m\u001b[43m,\u001b[49m\u001b[43m \u001b[49m\u001b[43mepsabs\u001b[49m\u001b[43m,\u001b[49m\u001b[43m \u001b[49m\u001b[43mepsrel\u001b[49m\u001b[43m,\u001b[49m\u001b[43m \u001b[49m\u001b[43mlimit\u001b[49m\u001b[43m,\u001b[49m\n\u001b[1;32m    466\u001b[0m \u001b[43m                   \u001b[49m\u001b[43mpoints\u001b[49m\u001b[43m)\u001b[49m\n\u001b[1;32m    467\u001b[0m \u001b[38;5;28;01melse\u001b[39;00m:\n\u001b[1;32m    468\u001b[0m     \u001b[38;5;28;01mif\u001b[39;00m points \u001b[38;5;129;01mis\u001b[39;00m \u001b[38;5;129;01mnot\u001b[39;00m \u001b[38;5;28;01mNone\u001b[39;00m:\n",
      "File \u001b[0;32m~/opt/anaconda3/lib/python3.9/site-packages/scipy/integrate/_quadpack_py.py:577\u001b[0m, in \u001b[0;36m_quad\u001b[0;34m(func, a, b, args, full_output, epsabs, epsrel, limit, points)\u001b[0m\n\u001b[1;32m    575\u001b[0m \u001b[38;5;28;01mif\u001b[39;00m points \u001b[38;5;129;01mis\u001b[39;00m \u001b[38;5;28;01mNone\u001b[39;00m:\n\u001b[1;32m    576\u001b[0m     \u001b[38;5;28;01mif\u001b[39;00m infbounds \u001b[38;5;241m==\u001b[39m \u001b[38;5;241m0\u001b[39m:\n\u001b[0;32m--> 577\u001b[0m         \u001b[38;5;28;01mreturn\u001b[39;00m \u001b[43m_quadpack\u001b[49m\u001b[38;5;241;43m.\u001b[39;49m\u001b[43m_qagse\u001b[49m\u001b[43m(\u001b[49m\u001b[43mfunc\u001b[49m\u001b[43m,\u001b[49m\u001b[43ma\u001b[49m\u001b[43m,\u001b[49m\u001b[43mb\u001b[49m\u001b[43m,\u001b[49m\u001b[43margs\u001b[49m\u001b[43m,\u001b[49m\u001b[43mfull_output\u001b[49m\u001b[43m,\u001b[49m\u001b[43mepsabs\u001b[49m\u001b[43m,\u001b[49m\u001b[43mepsrel\u001b[49m\u001b[43m,\u001b[49m\u001b[43mlimit\u001b[49m\u001b[43m)\u001b[49m\n\u001b[1;32m    578\u001b[0m     \u001b[38;5;28;01melse\u001b[39;00m:\n\u001b[1;32m    579\u001b[0m         \u001b[38;5;28;01mreturn\u001b[39;00m _quadpack\u001b[38;5;241m.\u001b[39m_qagie(func,bound,infbounds,args,full_output,epsabs,epsrel,limit)\n",
      "File \u001b[0;32m~/opt/anaconda3/lib/python3.9/site-packages/scipy/integrate/_quadpack_py.py:1233\u001b[0m, in \u001b[0;36m_NQuad.integrate\u001b[0;34m(self, *args, **kwargs)\u001b[0m\n\u001b[1;32m   1231\u001b[0m \u001b[38;5;28;01melse\u001b[39;00m:\n\u001b[1;32m   1232\u001b[0m     f \u001b[38;5;241m=\u001b[39m partial(\u001b[38;5;28mself\u001b[39m\u001b[38;5;241m.\u001b[39mintegrate, depth\u001b[38;5;241m=\u001b[39mdepth\u001b[38;5;241m+\u001b[39m\u001b[38;5;241m1\u001b[39m)\n\u001b[0;32m-> 1233\u001b[0m quad_r \u001b[38;5;241m=\u001b[39m \u001b[43mquad\u001b[49m\u001b[43m(\u001b[49m\u001b[43mf\u001b[49m\u001b[43m,\u001b[49m\u001b[43m \u001b[49m\u001b[43mlow\u001b[49m\u001b[43m,\u001b[49m\u001b[43m \u001b[49m\u001b[43mhigh\u001b[49m\u001b[43m,\u001b[49m\u001b[43m \u001b[49m\u001b[43margs\u001b[49m\u001b[38;5;241;43m=\u001b[39;49m\u001b[43margs\u001b[49m\u001b[43m,\u001b[49m\u001b[43m \u001b[49m\u001b[43mfull_output\u001b[49m\u001b[38;5;241;43m=\u001b[39;49m\u001b[38;5;28;43mself\u001b[39;49m\u001b[38;5;241;43m.\u001b[39;49m\u001b[43mfull_output\u001b[49m\u001b[43m,\u001b[49m\n\u001b[1;32m   1234\u001b[0m \u001b[43m              \u001b[49m\u001b[38;5;241;43m*\u001b[39;49m\u001b[38;5;241;43m*\u001b[39;49m\u001b[43mopt\u001b[49m\u001b[43m)\u001b[49m\n\u001b[1;32m   1235\u001b[0m value \u001b[38;5;241m=\u001b[39m quad_r[\u001b[38;5;241m0\u001b[39m]\n\u001b[1;32m   1236\u001b[0m abserr \u001b[38;5;241m=\u001b[39m quad_r[\u001b[38;5;241m1\u001b[39m]\n",
      "File \u001b[0;32m~/opt/anaconda3/lib/python3.9/site-packages/scipy/integrate/_quadpack_py.py:465\u001b[0m, in \u001b[0;36mquad\u001b[0;34m(func, a, b, args, full_output, epsabs, epsrel, limit, points, weight, wvar, wopts, maxp1, limlst, complex_func)\u001b[0m\n\u001b[1;32m    462\u001b[0m     \u001b[38;5;28;01mreturn\u001b[39;00m retval\n\u001b[1;32m    464\u001b[0m \u001b[38;5;28;01mif\u001b[39;00m weight \u001b[38;5;129;01mis\u001b[39;00m \u001b[38;5;28;01mNone\u001b[39;00m:\n\u001b[0;32m--> 465\u001b[0m     retval \u001b[38;5;241m=\u001b[39m \u001b[43m_quad\u001b[49m\u001b[43m(\u001b[49m\u001b[43mfunc\u001b[49m\u001b[43m,\u001b[49m\u001b[43m \u001b[49m\u001b[43ma\u001b[49m\u001b[43m,\u001b[49m\u001b[43m \u001b[49m\u001b[43mb\u001b[49m\u001b[43m,\u001b[49m\u001b[43m \u001b[49m\u001b[43margs\u001b[49m\u001b[43m,\u001b[49m\u001b[43m \u001b[49m\u001b[43mfull_output\u001b[49m\u001b[43m,\u001b[49m\u001b[43m \u001b[49m\u001b[43mepsabs\u001b[49m\u001b[43m,\u001b[49m\u001b[43m \u001b[49m\u001b[43mepsrel\u001b[49m\u001b[43m,\u001b[49m\u001b[43m \u001b[49m\u001b[43mlimit\u001b[49m\u001b[43m,\u001b[49m\n\u001b[1;32m    466\u001b[0m \u001b[43m                   \u001b[49m\u001b[43mpoints\u001b[49m\u001b[43m)\u001b[49m\n\u001b[1;32m    467\u001b[0m \u001b[38;5;28;01melse\u001b[39;00m:\n\u001b[1;32m    468\u001b[0m     \u001b[38;5;28;01mif\u001b[39;00m points \u001b[38;5;129;01mis\u001b[39;00m \u001b[38;5;129;01mnot\u001b[39;00m \u001b[38;5;28;01mNone\u001b[39;00m:\n",
      "File \u001b[0;32m~/opt/anaconda3/lib/python3.9/site-packages/scipy/integrate/_quadpack_py.py:577\u001b[0m, in \u001b[0;36m_quad\u001b[0;34m(func, a, b, args, full_output, epsabs, epsrel, limit, points)\u001b[0m\n\u001b[1;32m    575\u001b[0m \u001b[38;5;28;01mif\u001b[39;00m points \u001b[38;5;129;01mis\u001b[39;00m \u001b[38;5;28;01mNone\u001b[39;00m:\n\u001b[1;32m    576\u001b[0m     \u001b[38;5;28;01mif\u001b[39;00m infbounds \u001b[38;5;241m==\u001b[39m \u001b[38;5;241m0\u001b[39m:\n\u001b[0;32m--> 577\u001b[0m         \u001b[38;5;28;01mreturn\u001b[39;00m \u001b[43m_quadpack\u001b[49m\u001b[38;5;241;43m.\u001b[39;49m\u001b[43m_qagse\u001b[49m\u001b[43m(\u001b[49m\u001b[43mfunc\u001b[49m\u001b[43m,\u001b[49m\u001b[43ma\u001b[49m\u001b[43m,\u001b[49m\u001b[43mb\u001b[49m\u001b[43m,\u001b[49m\u001b[43margs\u001b[49m\u001b[43m,\u001b[49m\u001b[43mfull_output\u001b[49m\u001b[43m,\u001b[49m\u001b[43mepsabs\u001b[49m\u001b[43m,\u001b[49m\u001b[43mepsrel\u001b[49m\u001b[43m,\u001b[49m\u001b[43mlimit\u001b[49m\u001b[43m)\u001b[49m\n\u001b[1;32m    578\u001b[0m     \u001b[38;5;28;01melse\u001b[39;00m:\n\u001b[1;32m    579\u001b[0m         \u001b[38;5;28;01mreturn\u001b[39;00m _quadpack\u001b[38;5;241m.\u001b[39m_qagie(func,bound,infbounds,args,full_output,epsabs,epsrel,limit)\n",
      "File \u001b[0;32m~/opt/anaconda3/lib/python3.9/site-packages/scipy/integrate/_quadpack_py.py:1233\u001b[0m, in \u001b[0;36m_NQuad.integrate\u001b[0;34m(self, *args, **kwargs)\u001b[0m\n\u001b[1;32m   1231\u001b[0m \u001b[38;5;28;01melse\u001b[39;00m:\n\u001b[1;32m   1232\u001b[0m     f \u001b[38;5;241m=\u001b[39m partial(\u001b[38;5;28mself\u001b[39m\u001b[38;5;241m.\u001b[39mintegrate, depth\u001b[38;5;241m=\u001b[39mdepth\u001b[38;5;241m+\u001b[39m\u001b[38;5;241m1\u001b[39m)\n\u001b[0;32m-> 1233\u001b[0m quad_r \u001b[38;5;241m=\u001b[39m \u001b[43mquad\u001b[49m\u001b[43m(\u001b[49m\u001b[43mf\u001b[49m\u001b[43m,\u001b[49m\u001b[43m \u001b[49m\u001b[43mlow\u001b[49m\u001b[43m,\u001b[49m\u001b[43m \u001b[49m\u001b[43mhigh\u001b[49m\u001b[43m,\u001b[49m\u001b[43m \u001b[49m\u001b[43margs\u001b[49m\u001b[38;5;241;43m=\u001b[39;49m\u001b[43margs\u001b[49m\u001b[43m,\u001b[49m\u001b[43m \u001b[49m\u001b[43mfull_output\u001b[49m\u001b[38;5;241;43m=\u001b[39;49m\u001b[38;5;28;43mself\u001b[39;49m\u001b[38;5;241;43m.\u001b[39;49m\u001b[43mfull_output\u001b[49m\u001b[43m,\u001b[49m\n\u001b[1;32m   1234\u001b[0m \u001b[43m              \u001b[49m\u001b[38;5;241;43m*\u001b[39;49m\u001b[38;5;241;43m*\u001b[39;49m\u001b[43mopt\u001b[49m\u001b[43m)\u001b[49m\n\u001b[1;32m   1235\u001b[0m value \u001b[38;5;241m=\u001b[39m quad_r[\u001b[38;5;241m0\u001b[39m]\n\u001b[1;32m   1236\u001b[0m abserr \u001b[38;5;241m=\u001b[39m quad_r[\u001b[38;5;241m1\u001b[39m]\n",
      "File \u001b[0;32m~/opt/anaconda3/lib/python3.9/site-packages/scipy/integrate/_quadpack_py.py:465\u001b[0m, in \u001b[0;36mquad\u001b[0;34m(func, a, b, args, full_output, epsabs, epsrel, limit, points, weight, wvar, wopts, maxp1, limlst, complex_func)\u001b[0m\n\u001b[1;32m    462\u001b[0m     \u001b[38;5;28;01mreturn\u001b[39;00m retval\n\u001b[1;32m    464\u001b[0m \u001b[38;5;28;01mif\u001b[39;00m weight \u001b[38;5;129;01mis\u001b[39;00m \u001b[38;5;28;01mNone\u001b[39;00m:\n\u001b[0;32m--> 465\u001b[0m     retval \u001b[38;5;241m=\u001b[39m \u001b[43m_quad\u001b[49m\u001b[43m(\u001b[49m\u001b[43mfunc\u001b[49m\u001b[43m,\u001b[49m\u001b[43m \u001b[49m\u001b[43ma\u001b[49m\u001b[43m,\u001b[49m\u001b[43m \u001b[49m\u001b[43mb\u001b[49m\u001b[43m,\u001b[49m\u001b[43m \u001b[49m\u001b[43margs\u001b[49m\u001b[43m,\u001b[49m\u001b[43m \u001b[49m\u001b[43mfull_output\u001b[49m\u001b[43m,\u001b[49m\u001b[43m \u001b[49m\u001b[43mepsabs\u001b[49m\u001b[43m,\u001b[49m\u001b[43m \u001b[49m\u001b[43mepsrel\u001b[49m\u001b[43m,\u001b[49m\u001b[43m \u001b[49m\u001b[43mlimit\u001b[49m\u001b[43m,\u001b[49m\n\u001b[1;32m    466\u001b[0m \u001b[43m                   \u001b[49m\u001b[43mpoints\u001b[49m\u001b[43m)\u001b[49m\n\u001b[1;32m    467\u001b[0m \u001b[38;5;28;01melse\u001b[39;00m:\n\u001b[1;32m    468\u001b[0m     \u001b[38;5;28;01mif\u001b[39;00m points \u001b[38;5;129;01mis\u001b[39;00m \u001b[38;5;129;01mnot\u001b[39;00m \u001b[38;5;28;01mNone\u001b[39;00m:\n",
      "File \u001b[0;32m~/opt/anaconda3/lib/python3.9/site-packages/scipy/integrate/_quadpack_py.py:577\u001b[0m, in \u001b[0;36m_quad\u001b[0;34m(func, a, b, args, full_output, epsabs, epsrel, limit, points)\u001b[0m\n\u001b[1;32m    575\u001b[0m \u001b[38;5;28;01mif\u001b[39;00m points \u001b[38;5;129;01mis\u001b[39;00m \u001b[38;5;28;01mNone\u001b[39;00m:\n\u001b[1;32m    576\u001b[0m     \u001b[38;5;28;01mif\u001b[39;00m infbounds \u001b[38;5;241m==\u001b[39m \u001b[38;5;241m0\u001b[39m:\n\u001b[0;32m--> 577\u001b[0m         \u001b[38;5;28;01mreturn\u001b[39;00m \u001b[43m_quadpack\u001b[49m\u001b[38;5;241;43m.\u001b[39;49m\u001b[43m_qagse\u001b[49m\u001b[43m(\u001b[49m\u001b[43mfunc\u001b[49m\u001b[43m,\u001b[49m\u001b[43ma\u001b[49m\u001b[43m,\u001b[49m\u001b[43mb\u001b[49m\u001b[43m,\u001b[49m\u001b[43margs\u001b[49m\u001b[43m,\u001b[49m\u001b[43mfull_output\u001b[49m\u001b[43m,\u001b[49m\u001b[43mepsabs\u001b[49m\u001b[43m,\u001b[49m\u001b[43mepsrel\u001b[49m\u001b[43m,\u001b[49m\u001b[43mlimit\u001b[49m\u001b[43m)\u001b[49m\n\u001b[1;32m    578\u001b[0m     \u001b[38;5;28;01melse\u001b[39;00m:\n\u001b[1;32m    579\u001b[0m         \u001b[38;5;28;01mreturn\u001b[39;00m _quadpack\u001b[38;5;241m.\u001b[39m_qagie(func,bound,infbounds,args,full_output,epsabs,epsrel,limit)\n",
      "Cell \u001b[0;32mIn[233], line 7\u001b[0m, in \u001b[0;36mintegrate_function_over_vmf.<locals>.integrand\u001b[0;34m(*args)\u001b[0m\n\u001b[1;32m      5\u001b[0m \u001b[38;5;28;01mdef\u001b[39;00m \u001b[38;5;21mintegrand\u001b[39m(\u001b[38;5;241m*\u001b[39margs):\n\u001b[1;32m      6\u001b[0m     x \u001b[38;5;241m=\u001b[39m np\u001b[38;5;241m.\u001b[39marray(args)\n\u001b[0;32m----> 7\u001b[0m     \u001b[38;5;28;01mreturn\u001b[39;00m dx_norm(x,g,s, Jx) \u001b[38;5;241m*\u001b[39m \u001b[43mvon_mises_fisher_pdf\u001b[49m\u001b[43m(\u001b[49m\u001b[43mx\u001b[49m\u001b[43m,\u001b[49m\u001b[43m \u001b[49m\u001b[43mkappa\u001b[49m\u001b[43m,\u001b[49m\u001b[43m \u001b[49m\u001b[43mdf\u001b[49m\u001b[43m)\u001b[49m\n",
      "Cell \u001b[0;32mIn[233], line 2\u001b[0m, in \u001b[0;36mvon_mises_fisher_pdf\u001b[0;34m(x, kappa, mu)\u001b[0m\n\u001b[1;32m      1\u001b[0m \u001b[38;5;28;01mdef\u001b[39;00m \u001b[38;5;21mvon_mises_fisher_pdf\u001b[39m(x, kappa, mu):\n\u001b[0;32m----> 2\u001b[0m     \u001b[38;5;28;01mreturn\u001b[39;00m np\u001b[38;5;241m.\u001b[39mexp(kappa \u001b[38;5;241m*\u001b[39m np\u001b[38;5;241m.\u001b[39mdot(mu, x)) \u001b[38;5;241m/\u001b[39m ((\u001b[38;5;241m2\u001b[39m \u001b[38;5;241m*\u001b[39m np\u001b[38;5;241m.\u001b[39mpi) \u001b[38;5;241m*\u001b[39m\u001b[38;5;241m*\u001b[39m (\u001b[38;5;28;43mlen\u001b[39;49m\u001b[43m(\u001b[49m\u001b[43mx\u001b[49m\u001b[43m)\u001b[49m\u001b[38;5;241m/\u001b[39m\u001b[38;5;241m2\u001b[39m) \u001b[38;5;241m*\u001b[39m iv(\u001b[38;5;28mlen\u001b[39m(x)\u001b[38;5;241m/\u001b[39m\u001b[38;5;241m2\u001b[39m \u001b[38;5;241m-\u001b[39m \u001b[38;5;241m1\u001b[39m, kappa))\n",
      "\u001b[0;31mKeyboardInterrupt\u001b[0m: "
     ]
    }
   ],
   "source": [
    "n = 3\n",
    "Jx = np.zeros((n,n))\n",
    "for i in range(n):\n",
    "    Jx[i,i] = -2\n",
    "df = np.zeros(n) + 1\n",
    "df = df/np.linalg.norm(df)\n",
    "v_1 = np.zeros(n)\n",
    "v_1[0] = 1\n",
    "results = []\n",
    "for i in tqdm(range(xs.shape[1])):\n",
    "    x = xs[:,i]\n",
    "    results.append(integrate_function_over_vmf(df,x[0]*v_1 + (1-x[0])*df, x[1]*v_1 + (1-x[1])*df,Jx,sigma))"
   ]
  },
  {
   "cell_type": "code",
   "execution_count": null,
   "id": "58c2ee16-3d8e-4738-92d2-653f148ede95",
   "metadata": {},
   "outputs": [],
   "source": []
  },
  {
   "cell_type": "code",
   "execution_count": 210,
   "id": "3f19dee6-707c-40f5-af4a-dd8e6b2656ed",
   "metadata": {},
   "outputs": [
    {
     "data": {
      "text/plain": [
       "0.42961434282180994"
      ]
     },
     "execution_count": 210,
     "metadata": {},
     "output_type": "execute_result"
    }
   ],
   "source": [
    "avg_dx_norm(s,g,Jx,sigma)"
   ]
  },
  {
   "cell_type": "code",
   "execution_count": 201,
   "id": "b451a1e1-6844-411f-b17d-c9a724bfa4e2",
   "metadata": {},
   "outputs": [
    {
     "data": {
      "text/plain": [
       "array([0.70710678, 0.70710678])"
      ]
     },
     "execution_count": 201,
     "metadata": {},
     "output_type": "execute_result"
    }
   ],
   "source": [
    "df = np.zeros(n) + 1\n",
    "df = df/np.linalg.norm(df)\n",
    "df"
   ]
  },
  {
   "cell_type": "code",
   "execution_count": 252,
   "id": "f9dfbc2e-b055-445f-9cbb-6b462f1f682e",
   "metadata": {},
   "outputs": [
    {
     "data": {
      "text/plain": [
       "(array([0.5, 0.5, 0.5, 0.5]),\n",
       " array([0.69180915, 0.30819085, 0.30819085, 0.30819085]))"
      ]
     },
     "execution_count": 252,
     "metadata": {},
     "output_type": "execute_result"
    }
   ],
   "source": [
    "s,g"
   ]
  },
  {
   "cell_type": "code",
   "execution_count": 56,
   "id": "bdd8a972",
   "metadata": {},
   "outputs": [],
   "source": [
    "def optimize_sg_old(Jx):\n",
    "    n = Jx.shape[0]\n",
    "    bounds = [[0,np.pi] for i in range(n-2)]\n",
    "    bounds.append([0,2*np.pi])\n",
    "    for i in range(n-2):\n",
    "        bounds.append([0,np.pi])\n",
    "    bounds.append([0,2*np.pi])\n",
    "    print(n)\n",
    "    initial_guess = np.zeros(2*(n-1))+np.pi/8\n",
    "    # Minimize the negative dot product to maximize the dot product\n",
    "    result = sp.optimize.basinhopping(\n",
    "        lambda x: avg_dx_norm_single(map_angles_to_n_sphere(x[:(n-1)]), map_angles_to_n_sphere(x[(n-1):]),Jx),\n",
    "        initial_guess,\n",
    "        minimizer_kwargs={\"bounds\": bounds})\n",
    "\n",
    "    optimized_s = map_angles_to_n_sphere(result.x[:(n-1)])\n",
    "    optimized_g = map_angles_to_n_sphere(result.x[(n-1):])\n",
    "    return optimized_s, optimized_g"
   ]
  },
  {
   "cell_type": "code",
   "execution_count": 100,
   "id": "748a510d",
   "metadata": {},
   "outputs": [],
   "source": [
    "def optimize_sg_constrained_4(Jx):\n",
    "    n = 4\n",
    "    bounds = [[0,2*np.pi] for i in range(2)]\n",
    "\n",
    "    print(n)\n",
    "    initial_guess = np.zeros(2)+np.pi/8\n",
    "    # Minimize the negative dot product to maximize the dot product\n",
    "    result = sp.optimize.basinhopping(\n",
    "        lambda x: avg_dx_norm(map_angles_to_n_sphere([x[0],0,0]), map_angles_to_n_sphere([x[1],0,0]),Jx),\n",
    "        initial_guess,\n",
    "        minimizer_kwargs={\"bounds\": bounds})\n",
    "\n",
    "    optimized_s = map_angles_to_n_sphere([result.x[0],0,0])\n",
    "    optimized_g = map_angles_to_n_sphere([result.x[1],0,0])\n",
    "    return avg_dx_norm(optimized_s, optimized_g,Jx)"
   ]
  },
  {
   "cell_type": "code",
   "execution_count": 167,
   "id": "20116bfb-eefc-4e59-91f0-a0d4c876eaab",
   "metadata": {},
   "outputs": [
    {
     "name": "stderr",
     "output_type": "stream",
     "text": [
      "100%|████████████████████████████████████████| 200/200 [04:15<00:00,  1.28s/it]\n"
     ]
    }
   ],
   "source": [
    "n = 2\n",
    "Jx = np.zeros((n,n))\n",
    "for i in range(n):\n",
    "    Jx[i,i] = -2\n",
    "k = 200\n",
    "s_attempts = generate_evenly_distributed_vectors(n,k)\n",
    "g_attempts = generate_evenly_distributed_vectors(n,k)\n",
    "sigma = 0.001\n",
    "dx_norms = np.zeros((k,k))\n",
    "for i in tqdm(range(k)):\n",
    "    for j in range(k):\n",
    "       dx_norms[i,j] = avg_dx_norm(s_attempts[i],g_attempts[j], Jx,sigma)"
   ]
  },
  {
   "cell_type": "code",
   "execution_count": 168,
   "id": "6e6e69ab-468a-4910-8fcc-c7c83aebc314",
   "metadata": {},
   "outputs": [
    {
     "name": "stdout",
     "output_type": "stream",
     "text": [
      "[-0.99104116 -0.13355683]\n",
      "[-0.99836779 -0.05711187]\n"
     ]
    }
   ],
   "source": [
    "i,j = np.where(dx_norms == np.min(dx_norms))\n",
    "print(s_attempts[i[0]])\n",
    "print(g_attempts[j[0]])"
   ]
  },
  {
   "cell_type": "code",
   "execution_count": 143,
   "id": "d09ee548",
   "metadata": {},
   "outputs": [
    {
     "name": "stderr",
     "output_type": "stream",
     "text": [
      "  0%|                                                    | 0/1 [00:00<?, ?it/s]"
     ]
    },
    {
     "name": "stdout",
     "output_type": "stream",
     "text": [
      "4\n"
     ]
    },
    {
     "name": "stderr",
     "output_type": "stream",
     "text": [
      "  0%|                                                    | 0/1 [01:57<?, ?it/s]\n"
     ]
    },
    {
     "ename": "KeyboardInterrupt",
     "evalue": "",
     "output_type": "error",
     "traceback": [
      "\u001b[0;31m---------------------------------------------------------------------------\u001b[0m",
      "\u001b[0;31mKeyboardInterrupt\u001b[0m                         Traceback (most recent call last)",
      "Cell \u001b[0;32mIn[143], line 11\u001b[0m\n\u001b[1;32m      9\u001b[0m \u001b[38;5;28;01mfor\u001b[39;00m i \u001b[38;5;129;01min\u001b[39;00m tqdm(\u001b[38;5;28mrange\u001b[39m(\u001b[38;5;241m1\u001b[39m)):\n\u001b[1;32m     10\u001b[0m     Jx[\u001b[38;5;241m1\u001b[39m,\u001b[38;5;241m1\u001b[39m] \u001b[38;5;241m=\u001b[39m mode_gaps[\u001b[38;5;241m-\u001b[39mi]\u001b[38;5;241m*\u001b[39mJx[\u001b[38;5;241m1\u001b[39m,\u001b[38;5;241m1\u001b[39m]\n\u001b[0;32m---> 11\u001b[0m     s,g \u001b[38;5;241m=\u001b[39m \u001b[43moptimize_sg\u001b[49m\u001b[43m(\u001b[49m\u001b[43mJx\u001b[49m\u001b[43m,\u001b[49m\u001b[38;5;241;43m4\u001b[39;49m\u001b[43m)\u001b[49m\n\u001b[1;32m     12\u001b[0m     gs\u001b[38;5;241m.\u001b[39mappend(g)\n\u001b[1;32m     13\u001b[0m     ss\u001b[38;5;241m.\u001b[39mappend(s)\n",
      "Cell \u001b[0;32mIn[36], line 11\u001b[0m, in \u001b[0;36moptimize_sg\u001b[0;34m(Jx, sigma)\u001b[0m\n\u001b[1;32m      9\u001b[0m initial_guess \u001b[38;5;241m=\u001b[39m np\u001b[38;5;241m.\u001b[39mzeros(\u001b[38;5;241m2\u001b[39m\u001b[38;5;241m*\u001b[39m(n\u001b[38;5;241m-\u001b[39m\u001b[38;5;241m1\u001b[39m))\u001b[38;5;241m+\u001b[39mnp\u001b[38;5;241m.\u001b[39mpi\u001b[38;5;241m/\u001b[39m\u001b[38;5;241m8\u001b[39m\n\u001b[1;32m     10\u001b[0m \u001b[38;5;66;03m# Minimize the negative dot product to maximize the dot product\u001b[39;00m\n\u001b[0;32m---> 11\u001b[0m result \u001b[38;5;241m=\u001b[39m \u001b[43msp\u001b[49m\u001b[38;5;241;43m.\u001b[39;49m\u001b[43moptimize\u001b[49m\u001b[38;5;241;43m.\u001b[39;49m\u001b[43mbasinhopping\u001b[49m\u001b[43m(\u001b[49m\n\u001b[1;32m     12\u001b[0m \u001b[43m    \u001b[49m\u001b[38;5;28;43;01mlambda\u001b[39;49;00m\u001b[43m \u001b[49m\u001b[43mx\u001b[49m\u001b[43m:\u001b[49m\u001b[43m \u001b[49m\u001b[43mavg_dx_norm\u001b[49m\u001b[43m(\u001b[49m\u001b[43mmap_angles_to_n_sphere\u001b[49m\u001b[43m(\u001b[49m\u001b[43mx\u001b[49m\u001b[43m[\u001b[49m\u001b[43m:\u001b[49m\u001b[43m(\u001b[49m\u001b[43mn\u001b[49m\u001b[38;5;241;43m-\u001b[39;49m\u001b[38;5;241;43m1\u001b[39;49m\u001b[43m)\u001b[49m\u001b[43m]\u001b[49m\u001b[43m)\u001b[49m\u001b[43m,\u001b[49m\u001b[43m \u001b[49m\u001b[43mmap_angles_to_n_sphere\u001b[49m\u001b[43m(\u001b[49m\u001b[43mx\u001b[49m\u001b[43m[\u001b[49m\u001b[43m(\u001b[49m\u001b[43mn\u001b[49m\u001b[38;5;241;43m-\u001b[39;49m\u001b[38;5;241;43m1\u001b[39;49m\u001b[43m)\u001b[49m\u001b[43m:\u001b[49m\u001b[43m]\u001b[49m\u001b[43m)\u001b[49m\u001b[43m,\u001b[49m\u001b[43mJx\u001b[49m\u001b[43m,\u001b[49m\u001b[43msigma\u001b[49m\u001b[43m)\u001b[49m\u001b[43m,\u001b[49m\n\u001b[1;32m     13\u001b[0m \u001b[43m    \u001b[49m\u001b[43minitial_guess\u001b[49m\u001b[43m,\u001b[49m\n\u001b[1;32m     14\u001b[0m \u001b[43m    \u001b[49m\u001b[43mminimizer_kwargs\u001b[49m\u001b[38;5;241;43m=\u001b[39;49m\u001b[43m{\u001b[49m\u001b[38;5;124;43m\"\u001b[39;49m\u001b[38;5;124;43mbounds\u001b[39;49m\u001b[38;5;124;43m\"\u001b[39;49m\u001b[43m:\u001b[49m\u001b[43m \u001b[49m\u001b[43mbounds\u001b[49m\u001b[43m}\u001b[49m\u001b[43m)\u001b[49m\n\u001b[1;32m     16\u001b[0m optimized_s \u001b[38;5;241m=\u001b[39m map_angles_to_n_sphere(result\u001b[38;5;241m.\u001b[39mx[:(n\u001b[38;5;241m-\u001b[39m\u001b[38;5;241m1\u001b[39m)])\n\u001b[1;32m     17\u001b[0m optimized_g \u001b[38;5;241m=\u001b[39m map_angles_to_n_sphere(result\u001b[38;5;241m.\u001b[39mx[(n\u001b[38;5;241m-\u001b[39m\u001b[38;5;241m1\u001b[39m):])\n",
      "File \u001b[0;32m~/opt/anaconda3/lib/python3.9/site-packages/scipy/optimize/_basinhopping.py:727\u001b[0m, in \u001b[0;36mbasinhopping\u001b[0;34m(func, x0, niter, T, stepsize, minimizer_kwargs, take_step, accept_test, callback, interval, disp, niter_success, seed, target_accept_rate, stepwise_factor)\u001b[0m\n\u001b[1;32m    724\u001b[0m message \u001b[38;5;241m=\u001b[39m [\u001b[38;5;124m\"\u001b[39m\u001b[38;5;124mrequested number of basinhopping iterations completed\u001b[39m\u001b[38;5;124m\"\u001b[39m\n\u001b[1;32m    725\u001b[0m            \u001b[38;5;124m\"\u001b[39m\u001b[38;5;124m successfully\u001b[39m\u001b[38;5;124m\"\u001b[39m]\n\u001b[1;32m    726\u001b[0m \u001b[38;5;28;01mfor\u001b[39;00m i \u001b[38;5;129;01min\u001b[39;00m \u001b[38;5;28mrange\u001b[39m(niter):\n\u001b[0;32m--> 727\u001b[0m     new_global_min \u001b[38;5;241m=\u001b[39m \u001b[43mbh\u001b[49m\u001b[38;5;241;43m.\u001b[39;49m\u001b[43mone_cycle\u001b[49m\u001b[43m(\u001b[49m\u001b[43m)\u001b[49m\n\u001b[1;32m    729\u001b[0m     \u001b[38;5;28;01mif\u001b[39;00m \u001b[38;5;28mcallable\u001b[39m(callback):\n\u001b[1;32m    730\u001b[0m         \u001b[38;5;66;03m# should we pass a copy of x?\u001b[39;00m\n\u001b[1;32m    731\u001b[0m         val \u001b[38;5;241m=\u001b[39m callback(bh\u001b[38;5;241m.\u001b[39mxtrial, bh\u001b[38;5;241m.\u001b[39menergy_trial, bh\u001b[38;5;241m.\u001b[39maccept)\n",
      "File \u001b[0;32m~/opt/anaconda3/lib/python3.9/site-packages/scipy/optimize/_basinhopping.py:162\u001b[0m, in \u001b[0;36mBasinHoppingRunner.one_cycle\u001b[0;34m(self)\u001b[0m\n\u001b[1;32m    159\u001b[0m \u001b[38;5;28mself\u001b[39m\u001b[38;5;241m.\u001b[39mnstep \u001b[38;5;241m+\u001b[39m\u001b[38;5;241m=\u001b[39m \u001b[38;5;241m1\u001b[39m\n\u001b[1;32m    160\u001b[0m new_global_min \u001b[38;5;241m=\u001b[39m \u001b[38;5;28;01mFalse\u001b[39;00m\n\u001b[0;32m--> 162\u001b[0m accept, minres \u001b[38;5;241m=\u001b[39m \u001b[38;5;28;43mself\u001b[39;49m\u001b[38;5;241;43m.\u001b[39;49m\u001b[43m_monte_carlo_step\u001b[49m\u001b[43m(\u001b[49m\u001b[43m)\u001b[49m\n\u001b[1;32m    164\u001b[0m \u001b[38;5;28;01mif\u001b[39;00m accept:\n\u001b[1;32m    165\u001b[0m     \u001b[38;5;28mself\u001b[39m\u001b[38;5;241m.\u001b[39menergy \u001b[38;5;241m=\u001b[39m minres\u001b[38;5;241m.\u001b[39mfun\n",
      "File \u001b[0;32m~/opt/anaconda3/lib/python3.9/site-packages/scipy/optimize/_basinhopping.py:111\u001b[0m, in \u001b[0;36mBasinHoppingRunner._monte_carlo_step\u001b[0;34m(self)\u001b[0m\n\u001b[1;32m    108\u001b[0m x_after_step \u001b[38;5;241m=\u001b[39m \u001b[38;5;28mself\u001b[39m\u001b[38;5;241m.\u001b[39mstep_taking(x_after_step)\n\u001b[1;32m    110\u001b[0m \u001b[38;5;66;03m# do a local minimization\u001b[39;00m\n\u001b[0;32m--> 111\u001b[0m minres \u001b[38;5;241m=\u001b[39m \u001b[38;5;28;43mself\u001b[39;49m\u001b[38;5;241;43m.\u001b[39;49m\u001b[43mminimizer\u001b[49m\u001b[43m(\u001b[49m\u001b[43mx_after_step\u001b[49m\u001b[43m)\u001b[49m\n\u001b[1;32m    112\u001b[0m x_after_quench \u001b[38;5;241m=\u001b[39m minres\u001b[38;5;241m.\u001b[39mx\n\u001b[1;32m    113\u001b[0m energy_after_quench \u001b[38;5;241m=\u001b[39m minres\u001b[38;5;241m.\u001b[39mfun\n",
      "File \u001b[0;32m~/opt/anaconda3/lib/python3.9/site-packages/scipy/optimize/_basinhopping.py:303\u001b[0m, in \u001b[0;36mMinimizerWrapper.__call__\u001b[0;34m(self, x0)\u001b[0m\n\u001b[1;32m    301\u001b[0m     \u001b[38;5;28;01mreturn\u001b[39;00m \u001b[38;5;28mself\u001b[39m\u001b[38;5;241m.\u001b[39mminimizer(x0, \u001b[38;5;241m*\u001b[39m\u001b[38;5;241m*\u001b[39m\u001b[38;5;28mself\u001b[39m\u001b[38;5;241m.\u001b[39mkwargs)\n\u001b[1;32m    302\u001b[0m \u001b[38;5;28;01melse\u001b[39;00m:\n\u001b[0;32m--> 303\u001b[0m     \u001b[38;5;28;01mreturn\u001b[39;00m \u001b[38;5;28;43mself\u001b[39;49m\u001b[38;5;241;43m.\u001b[39;49m\u001b[43mminimizer\u001b[49m\u001b[43m(\u001b[49m\u001b[38;5;28;43mself\u001b[39;49m\u001b[38;5;241;43m.\u001b[39;49m\u001b[43mfunc\u001b[49m\u001b[43m,\u001b[49m\u001b[43m \u001b[49m\u001b[43mx0\u001b[49m\u001b[43m,\u001b[49m\u001b[43m \u001b[49m\u001b[38;5;241;43m*\u001b[39;49m\u001b[38;5;241;43m*\u001b[39;49m\u001b[38;5;28;43mself\u001b[39;49m\u001b[38;5;241;43m.\u001b[39;49m\u001b[43mkwargs\u001b[49m\u001b[43m)\u001b[49m\n",
      "File \u001b[0;32m~/opt/anaconda3/lib/python3.9/site-packages/scipy/optimize/_minimize.py:710\u001b[0m, in \u001b[0;36mminimize\u001b[0;34m(fun, x0, args, method, jac, hess, hessp, bounds, constraints, tol, callback, options)\u001b[0m\n\u001b[1;32m    707\u001b[0m     res \u001b[38;5;241m=\u001b[39m _minimize_newtoncg(fun, x0, args, jac, hess, hessp, callback,\n\u001b[1;32m    708\u001b[0m                              \u001b[38;5;241m*\u001b[39m\u001b[38;5;241m*\u001b[39moptions)\n\u001b[1;32m    709\u001b[0m \u001b[38;5;28;01melif\u001b[39;00m meth \u001b[38;5;241m==\u001b[39m \u001b[38;5;124m'\u001b[39m\u001b[38;5;124ml-bfgs-b\u001b[39m\u001b[38;5;124m'\u001b[39m:\n\u001b[0;32m--> 710\u001b[0m     res \u001b[38;5;241m=\u001b[39m \u001b[43m_minimize_lbfgsb\u001b[49m\u001b[43m(\u001b[49m\u001b[43mfun\u001b[49m\u001b[43m,\u001b[49m\u001b[43m \u001b[49m\u001b[43mx0\u001b[49m\u001b[43m,\u001b[49m\u001b[43m \u001b[49m\u001b[43margs\u001b[49m\u001b[43m,\u001b[49m\u001b[43m \u001b[49m\u001b[43mjac\u001b[49m\u001b[43m,\u001b[49m\u001b[43m \u001b[49m\u001b[43mbounds\u001b[49m\u001b[43m,\u001b[49m\n\u001b[1;32m    711\u001b[0m \u001b[43m                           \u001b[49m\u001b[43mcallback\u001b[49m\u001b[38;5;241;43m=\u001b[39;49m\u001b[43mcallback\u001b[49m\u001b[43m,\u001b[49m\u001b[43m \u001b[49m\u001b[38;5;241;43m*\u001b[39;49m\u001b[38;5;241;43m*\u001b[39;49m\u001b[43moptions\u001b[49m\u001b[43m)\u001b[49m\n\u001b[1;32m    712\u001b[0m \u001b[38;5;28;01melif\u001b[39;00m meth \u001b[38;5;241m==\u001b[39m \u001b[38;5;124m'\u001b[39m\u001b[38;5;124mtnc\u001b[39m\u001b[38;5;124m'\u001b[39m:\n\u001b[1;32m    713\u001b[0m     res \u001b[38;5;241m=\u001b[39m _minimize_tnc(fun, x0, args, jac, bounds, callback\u001b[38;5;241m=\u001b[39mcallback,\n\u001b[1;32m    714\u001b[0m                         \u001b[38;5;241m*\u001b[39m\u001b[38;5;241m*\u001b[39moptions)\n",
      "File \u001b[0;32m~/opt/anaconda3/lib/python3.9/site-packages/scipy/optimize/_lbfgsb_py.py:361\u001b[0m, in \u001b[0;36m_minimize_lbfgsb\u001b[0;34m(fun, x0, args, jac, bounds, disp, maxcor, ftol, gtol, eps, maxfun, maxiter, iprint, callback, maxls, finite_diff_rel_step, **unknown_options)\u001b[0m\n\u001b[1;32m    355\u001b[0m task_str \u001b[38;5;241m=\u001b[39m task\u001b[38;5;241m.\u001b[39mtobytes()\n\u001b[1;32m    356\u001b[0m \u001b[38;5;28;01mif\u001b[39;00m task_str\u001b[38;5;241m.\u001b[39mstartswith(\u001b[38;5;124mb\u001b[39m\u001b[38;5;124m'\u001b[39m\u001b[38;5;124mFG\u001b[39m\u001b[38;5;124m'\u001b[39m):\n\u001b[1;32m    357\u001b[0m     \u001b[38;5;66;03m# The minimization routine wants f and g at the current x.\u001b[39;00m\n\u001b[1;32m    358\u001b[0m     \u001b[38;5;66;03m# Note that interruptions due to maxfun are postponed\u001b[39;00m\n\u001b[1;32m    359\u001b[0m     \u001b[38;5;66;03m# until the completion of the current minimization iteration.\u001b[39;00m\n\u001b[1;32m    360\u001b[0m     \u001b[38;5;66;03m# Overwrite f and g:\u001b[39;00m\n\u001b[0;32m--> 361\u001b[0m     f, g \u001b[38;5;241m=\u001b[39m \u001b[43mfunc_and_grad\u001b[49m\u001b[43m(\u001b[49m\u001b[43mx\u001b[49m\u001b[43m)\u001b[49m\n\u001b[1;32m    362\u001b[0m \u001b[38;5;28;01melif\u001b[39;00m task_str\u001b[38;5;241m.\u001b[39mstartswith(\u001b[38;5;124mb\u001b[39m\u001b[38;5;124m'\u001b[39m\u001b[38;5;124mNEW_X\u001b[39m\u001b[38;5;124m'\u001b[39m):\n\u001b[1;32m    363\u001b[0m     \u001b[38;5;66;03m# new iteration\u001b[39;00m\n\u001b[1;32m    364\u001b[0m     n_iterations \u001b[38;5;241m+\u001b[39m\u001b[38;5;241m=\u001b[39m \u001b[38;5;241m1\u001b[39m\n",
      "File \u001b[0;32m~/opt/anaconda3/lib/python3.9/site-packages/scipy/optimize/_differentiable_functions.py:286\u001b[0m, in \u001b[0;36mScalarFunction.fun_and_grad\u001b[0;34m(self, x)\u001b[0m\n\u001b[1;32m    284\u001b[0m     \u001b[38;5;28mself\u001b[39m\u001b[38;5;241m.\u001b[39m_update_x_impl(x)\n\u001b[1;32m    285\u001b[0m \u001b[38;5;28mself\u001b[39m\u001b[38;5;241m.\u001b[39m_update_fun()\n\u001b[0;32m--> 286\u001b[0m \u001b[38;5;28;43mself\u001b[39;49m\u001b[38;5;241;43m.\u001b[39;49m\u001b[43m_update_grad\u001b[49m\u001b[43m(\u001b[49m\u001b[43m)\u001b[49m\n\u001b[1;32m    287\u001b[0m \u001b[38;5;28;01mreturn\u001b[39;00m \u001b[38;5;28mself\u001b[39m\u001b[38;5;241m.\u001b[39mf, \u001b[38;5;28mself\u001b[39m\u001b[38;5;241m.\u001b[39mg\n",
      "File \u001b[0;32m~/opt/anaconda3/lib/python3.9/site-packages/scipy/optimize/_differentiable_functions.py:256\u001b[0m, in \u001b[0;36mScalarFunction._update_grad\u001b[0;34m(self)\u001b[0m\n\u001b[1;32m    254\u001b[0m \u001b[38;5;28;01mdef\u001b[39;00m \u001b[38;5;21m_update_grad\u001b[39m(\u001b[38;5;28mself\u001b[39m):\n\u001b[1;32m    255\u001b[0m     \u001b[38;5;28;01mif\u001b[39;00m \u001b[38;5;129;01mnot\u001b[39;00m \u001b[38;5;28mself\u001b[39m\u001b[38;5;241m.\u001b[39mg_updated:\n\u001b[0;32m--> 256\u001b[0m         \u001b[38;5;28;43mself\u001b[39;49m\u001b[38;5;241;43m.\u001b[39;49m\u001b[43m_update_grad_impl\u001b[49m\u001b[43m(\u001b[49m\u001b[43m)\u001b[49m\n\u001b[1;32m    257\u001b[0m         \u001b[38;5;28mself\u001b[39m\u001b[38;5;241m.\u001b[39mg_updated \u001b[38;5;241m=\u001b[39m \u001b[38;5;28;01mTrue\u001b[39;00m\n",
      "File \u001b[0;32m~/opt/anaconda3/lib/python3.9/site-packages/scipy/optimize/_differentiable_functions.py:173\u001b[0m, in \u001b[0;36mScalarFunction.__init__.<locals>.update_grad\u001b[0;34m()\u001b[0m\n\u001b[1;32m    171\u001b[0m \u001b[38;5;28mself\u001b[39m\u001b[38;5;241m.\u001b[39m_update_fun()\n\u001b[1;32m    172\u001b[0m \u001b[38;5;28mself\u001b[39m\u001b[38;5;241m.\u001b[39mngev \u001b[38;5;241m+\u001b[39m\u001b[38;5;241m=\u001b[39m \u001b[38;5;241m1\u001b[39m\n\u001b[0;32m--> 173\u001b[0m \u001b[38;5;28mself\u001b[39m\u001b[38;5;241m.\u001b[39mg \u001b[38;5;241m=\u001b[39m \u001b[43mapprox_derivative\u001b[49m\u001b[43m(\u001b[49m\u001b[43mfun_wrapped\u001b[49m\u001b[43m,\u001b[49m\u001b[43m \u001b[49m\u001b[38;5;28;43mself\u001b[39;49m\u001b[38;5;241;43m.\u001b[39;49m\u001b[43mx\u001b[49m\u001b[43m,\u001b[49m\u001b[43m \u001b[49m\u001b[43mf0\u001b[49m\u001b[38;5;241;43m=\u001b[39;49m\u001b[38;5;28;43mself\u001b[39;49m\u001b[38;5;241;43m.\u001b[39;49m\u001b[43mf\u001b[49m\u001b[43m,\u001b[49m\n\u001b[1;32m    174\u001b[0m \u001b[43m                           \u001b[49m\u001b[38;5;241;43m*\u001b[39;49m\u001b[38;5;241;43m*\u001b[39;49m\u001b[43mfinite_diff_options\u001b[49m\u001b[43m)\u001b[49m\n",
      "File \u001b[0;32m~/opt/anaconda3/lib/python3.9/site-packages/scipy/optimize/_numdiff.py:505\u001b[0m, in \u001b[0;36mapprox_derivative\u001b[0;34m(fun, x0, method, rel_step, abs_step, f0, bounds, sparsity, as_linear_operator, args, kwargs)\u001b[0m\n\u001b[1;32m    502\u001b[0m     use_one_sided \u001b[38;5;241m=\u001b[39m \u001b[38;5;28;01mFalse\u001b[39;00m\n\u001b[1;32m    504\u001b[0m \u001b[38;5;28;01mif\u001b[39;00m sparsity \u001b[38;5;129;01mis\u001b[39;00m \u001b[38;5;28;01mNone\u001b[39;00m:\n\u001b[0;32m--> 505\u001b[0m     \u001b[38;5;28;01mreturn\u001b[39;00m \u001b[43m_dense_difference\u001b[49m\u001b[43m(\u001b[49m\u001b[43mfun_wrapped\u001b[49m\u001b[43m,\u001b[49m\u001b[43m \u001b[49m\u001b[43mx0\u001b[49m\u001b[43m,\u001b[49m\u001b[43m \u001b[49m\u001b[43mf0\u001b[49m\u001b[43m,\u001b[49m\u001b[43m \u001b[49m\u001b[43mh\u001b[49m\u001b[43m,\u001b[49m\n\u001b[1;32m    506\u001b[0m \u001b[43m                             \u001b[49m\u001b[43muse_one_sided\u001b[49m\u001b[43m,\u001b[49m\u001b[43m \u001b[49m\u001b[43mmethod\u001b[49m\u001b[43m)\u001b[49m\n\u001b[1;32m    507\u001b[0m \u001b[38;5;28;01melse\u001b[39;00m:\n\u001b[1;32m    508\u001b[0m     \u001b[38;5;28;01mif\u001b[39;00m \u001b[38;5;129;01mnot\u001b[39;00m issparse(sparsity) \u001b[38;5;129;01mand\u001b[39;00m \u001b[38;5;28mlen\u001b[39m(sparsity) \u001b[38;5;241m==\u001b[39m \u001b[38;5;241m2\u001b[39m:\n",
      "File \u001b[0;32m~/opt/anaconda3/lib/python3.9/site-packages/scipy/optimize/_numdiff.py:576\u001b[0m, in \u001b[0;36m_dense_difference\u001b[0;34m(fun, x0, f0, h, use_one_sided, method)\u001b[0m\n\u001b[1;32m    574\u001b[0m     x \u001b[38;5;241m=\u001b[39m x0 \u001b[38;5;241m+\u001b[39m h_vecs[i]\n\u001b[1;32m    575\u001b[0m     dx \u001b[38;5;241m=\u001b[39m x[i] \u001b[38;5;241m-\u001b[39m x0[i]  \u001b[38;5;66;03m# Recompute dx as exactly representable number.\u001b[39;00m\n\u001b[0;32m--> 576\u001b[0m     df \u001b[38;5;241m=\u001b[39m \u001b[43mfun\u001b[49m\u001b[43m(\u001b[49m\u001b[43mx\u001b[49m\u001b[43m)\u001b[49m \u001b[38;5;241m-\u001b[39m f0\n\u001b[1;32m    577\u001b[0m \u001b[38;5;28;01melif\u001b[39;00m method \u001b[38;5;241m==\u001b[39m \u001b[38;5;124m'\u001b[39m\u001b[38;5;124m3-point\u001b[39m\u001b[38;5;124m'\u001b[39m \u001b[38;5;129;01mand\u001b[39;00m use_one_sided[i]:\n\u001b[1;32m    578\u001b[0m     x1 \u001b[38;5;241m=\u001b[39m x0 \u001b[38;5;241m+\u001b[39m h_vecs[i]\n",
      "File \u001b[0;32m~/opt/anaconda3/lib/python3.9/site-packages/scipy/optimize/_numdiff.py:456\u001b[0m, in \u001b[0;36mapprox_derivative.<locals>.fun_wrapped\u001b[0;34m(x)\u001b[0m\n\u001b[1;32m    455\u001b[0m \u001b[38;5;28;01mdef\u001b[39;00m \u001b[38;5;21mfun_wrapped\u001b[39m(x):\n\u001b[0;32m--> 456\u001b[0m     f \u001b[38;5;241m=\u001b[39m np\u001b[38;5;241m.\u001b[39matleast_1d(\u001b[43mfun\u001b[49m\u001b[43m(\u001b[49m\u001b[43mx\u001b[49m\u001b[43m,\u001b[49m\u001b[43m \u001b[49m\u001b[38;5;241;43m*\u001b[39;49m\u001b[43margs\u001b[49m\u001b[43m,\u001b[49m\u001b[43m \u001b[49m\u001b[38;5;241;43m*\u001b[39;49m\u001b[38;5;241;43m*\u001b[39;49m\u001b[43mkwargs\u001b[49m\u001b[43m)\u001b[49m)\n\u001b[1;32m    457\u001b[0m     \u001b[38;5;28;01mif\u001b[39;00m f\u001b[38;5;241m.\u001b[39mndim \u001b[38;5;241m>\u001b[39m \u001b[38;5;241m1\u001b[39m:\n\u001b[1;32m    458\u001b[0m         \u001b[38;5;28;01mraise\u001b[39;00m \u001b[38;5;167;01mRuntimeError\u001b[39;00m(\u001b[38;5;124m\"\u001b[39m\u001b[38;5;124m`fun` return value has \u001b[39m\u001b[38;5;124m\"\u001b[39m\n\u001b[1;32m    459\u001b[0m                            \u001b[38;5;124m\"\u001b[39m\u001b[38;5;124mmore than 1 dimension.\u001b[39m\u001b[38;5;124m\"\u001b[39m)\n",
      "File \u001b[0;32m~/opt/anaconda3/lib/python3.9/site-packages/scipy/optimize/_differentiable_functions.py:137\u001b[0m, in \u001b[0;36mScalarFunction.__init__.<locals>.fun_wrapped\u001b[0;34m(x)\u001b[0m\n\u001b[1;32m    133\u001b[0m \u001b[38;5;28mself\u001b[39m\u001b[38;5;241m.\u001b[39mnfev \u001b[38;5;241m+\u001b[39m\u001b[38;5;241m=\u001b[39m \u001b[38;5;241m1\u001b[39m\n\u001b[1;32m    134\u001b[0m \u001b[38;5;66;03m# Send a copy because the user may overwrite it.\u001b[39;00m\n\u001b[1;32m    135\u001b[0m \u001b[38;5;66;03m# Overwriting results in undefined behaviour because\u001b[39;00m\n\u001b[1;32m    136\u001b[0m \u001b[38;5;66;03m# fun(self.x) will change self.x, with the two no longer linked.\u001b[39;00m\n\u001b[0;32m--> 137\u001b[0m fx \u001b[38;5;241m=\u001b[39m \u001b[43mfun\u001b[49m\u001b[43m(\u001b[49m\u001b[43mnp\u001b[49m\u001b[38;5;241;43m.\u001b[39;49m\u001b[43mcopy\u001b[49m\u001b[43m(\u001b[49m\u001b[43mx\u001b[49m\u001b[43m)\u001b[49m\u001b[43m,\u001b[49m\u001b[43m \u001b[49m\u001b[38;5;241;43m*\u001b[39;49m\u001b[43margs\u001b[49m\u001b[43m)\u001b[49m\n\u001b[1;32m    138\u001b[0m \u001b[38;5;66;03m# Make sure the function returns a true scalar\u001b[39;00m\n\u001b[1;32m    139\u001b[0m \u001b[38;5;28;01mif\u001b[39;00m \u001b[38;5;129;01mnot\u001b[39;00m np\u001b[38;5;241m.\u001b[39misscalar(fx):\n",
      "Cell \u001b[0;32mIn[36], line 12\u001b[0m, in \u001b[0;36moptimize_sg.<locals>.<lambda>\u001b[0;34m(x)\u001b[0m\n\u001b[1;32m      9\u001b[0m initial_guess \u001b[38;5;241m=\u001b[39m np\u001b[38;5;241m.\u001b[39mzeros(\u001b[38;5;241m2\u001b[39m\u001b[38;5;241m*\u001b[39m(n\u001b[38;5;241m-\u001b[39m\u001b[38;5;241m1\u001b[39m))\u001b[38;5;241m+\u001b[39mnp\u001b[38;5;241m.\u001b[39mpi\u001b[38;5;241m/\u001b[39m\u001b[38;5;241m8\u001b[39m\n\u001b[1;32m     10\u001b[0m \u001b[38;5;66;03m# Minimize the negative dot product to maximize the dot product\u001b[39;00m\n\u001b[1;32m     11\u001b[0m result \u001b[38;5;241m=\u001b[39m sp\u001b[38;5;241m.\u001b[39moptimize\u001b[38;5;241m.\u001b[39mbasinhopping(\n\u001b[0;32m---> 12\u001b[0m     \u001b[38;5;28;01mlambda\u001b[39;00m x: \u001b[43mavg_dx_norm\u001b[49m\u001b[43m(\u001b[49m\u001b[43mmap_angles_to_n_sphere\u001b[49m\u001b[43m(\u001b[49m\u001b[43mx\u001b[49m\u001b[43m[\u001b[49m\u001b[43m:\u001b[49m\u001b[43m(\u001b[49m\u001b[43mn\u001b[49m\u001b[38;5;241;43m-\u001b[39;49m\u001b[38;5;241;43m1\u001b[39;49m\u001b[43m)\u001b[49m\u001b[43m]\u001b[49m\u001b[43m)\u001b[49m\u001b[43m,\u001b[49m\u001b[43m \u001b[49m\u001b[43mmap_angles_to_n_sphere\u001b[49m\u001b[43m(\u001b[49m\u001b[43mx\u001b[49m\u001b[43m[\u001b[49m\u001b[43m(\u001b[49m\u001b[43mn\u001b[49m\u001b[38;5;241;43m-\u001b[39;49m\u001b[38;5;241;43m1\u001b[39;49m\u001b[43m)\u001b[49m\u001b[43m:\u001b[49m\u001b[43m]\u001b[49m\u001b[43m)\u001b[49m\u001b[43m,\u001b[49m\u001b[43mJx\u001b[49m\u001b[43m,\u001b[49m\u001b[43msigma\u001b[49m\u001b[43m)\u001b[49m,\n\u001b[1;32m     13\u001b[0m     initial_guess,\n\u001b[1;32m     14\u001b[0m     minimizer_kwargs\u001b[38;5;241m=\u001b[39m{\u001b[38;5;124m\"\u001b[39m\u001b[38;5;124mbounds\u001b[39m\u001b[38;5;124m\"\u001b[39m: bounds})\n\u001b[1;32m     16\u001b[0m optimized_s \u001b[38;5;241m=\u001b[39m map_angles_to_n_sphere(result\u001b[38;5;241m.\u001b[39mx[:(n\u001b[38;5;241m-\u001b[39m\u001b[38;5;241m1\u001b[39m)])\n\u001b[1;32m     17\u001b[0m optimized_g \u001b[38;5;241m=\u001b[39m map_angles_to_n_sphere(result\u001b[38;5;241m.\u001b[39mx[(n\u001b[38;5;241m-\u001b[39m\u001b[38;5;241m1\u001b[39m):])\n",
      "Cell \u001b[0;32mIn[16], line 3\u001b[0m, in \u001b[0;36mavg_dx_norm\u001b[0;34m(s, g, Jx, sigma)\u001b[0m\n\u001b[1;32m      1\u001b[0m \u001b[38;5;28;01mdef\u001b[39;00m \u001b[38;5;21mavg_dx_norm\u001b[39m(s,g, Jx,sigma):\n\u001b[1;32m      2\u001b[0m     n \u001b[38;5;241m=\u001b[39m \u001b[38;5;28mlen\u001b[39m(s)\n\u001b[0;32m----> 3\u001b[0m     \u001b[38;5;28;01mreturn\u001b[39;00m np\u001b[38;5;241m.\u001b[39mmean([dx_norm(df,g,s, Jx) \u001b[38;5;28;01mfor\u001b[39;00m df \u001b[38;5;129;01min\u001b[39;00m generate_distributed_vectors(n,\u001b[38;5;241m100\u001b[39m,sigma)])\n",
      "Cell \u001b[0;32mIn[16], line 3\u001b[0m, in \u001b[0;36m<listcomp>\u001b[0;34m(.0)\u001b[0m\n\u001b[1;32m      1\u001b[0m \u001b[38;5;28;01mdef\u001b[39;00m \u001b[38;5;21mavg_dx_norm\u001b[39m(s,g, Jx,sigma):\n\u001b[1;32m      2\u001b[0m     n \u001b[38;5;241m=\u001b[39m \u001b[38;5;28mlen\u001b[39m(s)\n\u001b[0;32m----> 3\u001b[0m     \u001b[38;5;28;01mreturn\u001b[39;00m np\u001b[38;5;241m.\u001b[39mmean([\u001b[43mdx_norm\u001b[49m\u001b[43m(\u001b[49m\u001b[43mdf\u001b[49m\u001b[43m,\u001b[49m\u001b[43mg\u001b[49m\u001b[43m,\u001b[49m\u001b[43ms\u001b[49m\u001b[43m,\u001b[49m\u001b[43m \u001b[49m\u001b[43mJx\u001b[49m\u001b[43m)\u001b[49m \u001b[38;5;28;01mfor\u001b[39;00m df \u001b[38;5;129;01min\u001b[39;00m generate_distributed_vectors(n,\u001b[38;5;241m100\u001b[39m,sigma)])\n",
      "Cell \u001b[0;32mIn[6], line 2\u001b[0m, in \u001b[0;36mdx_norm\u001b[0;34m(df, g, s, Jx)\u001b[0m\n\u001b[1;32m      1\u001b[0m \u001b[38;5;28;01mdef\u001b[39;00m \u001b[38;5;21mdx_norm\u001b[39m(df,g,s, Jx):\n\u001b[0;32m----> 2\u001b[0m     \u001b[38;5;28;01mif\u001b[39;00m np\u001b[38;5;241m.\u001b[39mmatmul(g,np\u001b[38;5;241m.\u001b[39mmatmul(\u001b[43mnp\u001b[49m\u001b[38;5;241;43m.\u001b[39;49m\u001b[43mlinalg\u001b[49m\u001b[38;5;241;43m.\u001b[39;49m\u001b[43minv\u001b[49m\u001b[43m(\u001b[49m\u001b[43mJx\u001b[49m\u001b[43m)\u001b[49m,s)) \u001b[38;5;241m==\u001b[39m \u001b[38;5;241m1\u001b[39m:\n\u001b[1;32m      3\u001b[0m         \u001b[38;5;28;01mreturn\u001b[39;00m \u001b[38;5;241m100000\u001b[39m\n\u001b[1;32m      4\u001b[0m     \u001b[38;5;28;01melse\u001b[39;00m:\n",
      "File \u001b[0;32m<__array_function__ internals>:200\u001b[0m, in \u001b[0;36minv\u001b[0;34m(*args, **kwargs)\u001b[0m\n",
      "File \u001b[0;32m~/opt/anaconda3/lib/python3.9/site-packages/numpy/linalg/linalg.py:538\u001b[0m, in \u001b[0;36minv\u001b[0;34m(a)\u001b[0m\n\u001b[1;32m    536\u001b[0m signature \u001b[38;5;241m=\u001b[39m \u001b[38;5;124m'\u001b[39m\u001b[38;5;124mD->D\u001b[39m\u001b[38;5;124m'\u001b[39m \u001b[38;5;28;01mif\u001b[39;00m isComplexType(t) \u001b[38;5;28;01melse\u001b[39;00m \u001b[38;5;124m'\u001b[39m\u001b[38;5;124md->d\u001b[39m\u001b[38;5;124m'\u001b[39m\n\u001b[1;32m    537\u001b[0m extobj \u001b[38;5;241m=\u001b[39m get_linalg_error_extobj(_raise_linalgerror_singular)\n\u001b[0;32m--> 538\u001b[0m ainv \u001b[38;5;241m=\u001b[39m \u001b[43m_umath_linalg\u001b[49m\u001b[38;5;241;43m.\u001b[39;49m\u001b[43minv\u001b[49m\u001b[43m(\u001b[49m\u001b[43ma\u001b[49m\u001b[43m,\u001b[49m\u001b[43m \u001b[49m\u001b[43msignature\u001b[49m\u001b[38;5;241;43m=\u001b[39;49m\u001b[43msignature\u001b[49m\u001b[43m,\u001b[49m\u001b[43m \u001b[49m\u001b[43mextobj\u001b[49m\u001b[38;5;241;43m=\u001b[39;49m\u001b[43mextobj\u001b[49m\u001b[43m)\u001b[49m\n\u001b[1;32m    539\u001b[0m \u001b[38;5;28;01mreturn\u001b[39;00m wrap(ainv\u001b[38;5;241m.\u001b[39mastype(result_t, copy\u001b[38;5;241m=\u001b[39m\u001b[38;5;28;01mFalse\u001b[39;00m))\n",
      "\u001b[0;31mKeyboardInterrupt\u001b[0m: "
     ]
    }
   ],
   "source": [
    "\n",
    "n = 4\n",
    "Jx = np.zeros((n,n))\n",
    "for i in range(n):\n",
    "    Jx[i,i] = -2\n",
    "mode_gaps = np.logspace(0, -8, num=50,  base=2)\n",
    "gs = []\n",
    "ss = []\n",
    "\n",
    "for i in tqdm(range(1)):\n",
    "    Jx[1,1] = mode_gaps[-i]*Jx[1,1]\n",
    "    s,g = optimize_sg(Jx,4)\n",
    "    gs.append(g)\n",
    "    ss.append(s)"
   ]
  },
  {
   "cell_type": "code",
   "execution_count": 142,
   "id": "1bb00b1c-41b3-49aa-9fb4-23c99725b051",
   "metadata": {},
   "outputs": [
    {
     "data": {
      "text/plain": [
       "0.37638339601438653"
      ]
     },
     "execution_count": 142,
     "metadata": {},
     "output_type": "execute_result"
    }
   ],
   "source": [
    "mu = np.zeros(n) + 1\n",
    "mu = mu/np.linalg.norm(mu)\n",
    "avg_dx_norm(mu,mu,Jx,4)\n"
   ]
  },
  {
   "cell_type": "code",
   "execution_count": 160,
   "id": "1d455a89-72c8-460b-a0ad-990c384f71d7",
   "metadata": {},
   "outputs": [
    {
     "data": {
      "text/plain": [
       "0.4613442208939524"
      ]
     },
     "execution_count": 160,
     "metadata": {},
     "output_type": "execute_result"
    }
   ],
   "source": [
    "mu = np.zeros(n) + 1\n",
    "mu = mu/np.linalg.norm(mu)\n",
    "avg_dx_norm([0,1,0,0],[0,1,0,0],Jx,4)"
   ]
  },
  {
   "cell_type": "code",
   "execution_count": 53,
   "id": "02ef9699-a78e-45f8-8a4e-8508d5c2bfef",
   "metadata": {},
   "outputs": [],
   "source": [
    "g_von = np.array(gs)\n",
    "s_von = np.array(ss)"
   ]
  },
  {
   "cell_type": "code",
   "execution_count": 49,
   "id": "4780ad90-8c73-432e-9723-eafc2d3d2422",
   "metadata": {},
   "outputs": [
    {
     "name": "stdout",
     "output_type": "stream",
     "text": [
      "4\n"
     ]
    }
   ],
   "source": [
    "mode_gaps = [-2,-1,-.5,-.25,-.125,-.0625,-.03125,-.03125/2]\n",
    "Jx[2,2] = mode_gaps[-1]\n",
    "s,g = optimize_sg(Jx,10000)\n",
    "gs.append(g)\n",
    "ss.append(s)"
   ]
  },
  {
   "cell_type": "code",
   "execution_count": 88,
   "id": "5c26ee95-1e39-4bf1-ab95-ff320aaa650e",
   "metadata": {},
   "outputs": [
    {
     "data": {
      "text/plain": [
       "<matplotlib.legend.Legend at 0x15b01fa30>"
      ]
     },
     "execution_count": 88,
     "metadata": {},
     "output_type": "execute_result"
    },
    {
     "data": {
      "image/png": "[encoded data removed]",
      "text/plain": [
       "<Figure size 640x480 with 1 Axes>"
      ]
     },
     "metadata": {},
     "output_type": "display_data"
    }
   ],
   "source": [
    "#mode_gaps = [-2,-1,-.5,-.25,-.125,-.0625,-.03125,-.03125/2]\n",
    "mode_gaps = -np.logspace(0, -8, num=50,  base=2)\n",
    "plt.plot(-1/(np.array(mode_gaps)), np.arccos(np.abs([np.dot(g,[0,1]) for g in gs])),label='g')\n",
    "plt.plot(-1/(np.array(mode_gaps)), np.arccos(np.abs([np.dot(s,[0,1]) for s in ss])),label = 's')\n",
    "plt.xscale('log')\n",
    "plt.ylabel('Angle between sensing/acting vector and slowest eigenvector')\n",
    "plt.xlabel('Mode gap')\n",
    "plt.legend()"
   ]
  },
  {
   "cell_type": "code",
   "execution_count": 85,
   "id": "0753c6bc-a886-4cfe-9338-e60679715fae",
   "metadata": {},
   "outputs": [
    {
     "data": {
      "image/png": "[encoded data removed]",
      "text/plain": [
       "<Figure size 640x480 with 1 Axes>"
      ]
     },
     "metadata": {},
     "output_type": "display_data"
    }
   ],
   "source": [
    "n = 4\n",
    "mu = np.zeros(n) + 1\n",
    "mu = mu/np.linalg.norm(mu)\n",
    "plt.plot(1/(np.array(mode_gaps)/-2), np.arccos(np.abs([np.dot(g,mu) for g in g_von])))\n",
    "plt.plot(1/(np.array(mode_gaps)/-2), np.arccos(np.abs([np.dot(s,mu) for s in s_von])))\n",
    "plt.xscale('log')"
   ]
  },
  {
   "cell_type": "code",
   "execution_count": 67,
   "id": "97e74e61-f8d4-48b0-a455-23e58246c373",
   "metadata": {},
   "outputs": [
    {
     "data": {
      "text/plain": [
       "array([0.35526836, 0.35526666, 0.78826085, 0.35526726])"
      ]
     },
     "execution_count": 67,
     "metadata": {},
     "output_type": "execute_result"
    }
   ],
   "source": [
    "gs[0]"
   ]
  },
  {
   "cell_type": "code",
   "execution_count": 40,
   "id": "9167c233-3e3a-4cba-9b65-a36a0a1a70d7",
   "metadata": {},
   "outputs": [
    {
     "data": {
      "text/plain": [
       "array([[0.50027712, 0.50035241, 0.49790621, 0.50145755],\n",
       "       [0.50197428, 0.50053101, 0.49938261, 0.49810394],\n",
       "       [0.50203466, 0.49982103, 0.49865503, 0.49948303],\n",
       "       [0.50037785, 0.49961032, 0.49634707, 0.50363788],\n",
       "       [0.50079495, 0.49965677, 0.5016969 , 0.4978431 ]])"
      ]
     },
     "execution_count": 40,
     "metadata": {},
     "output_type": "execute_result"
    }
   ],
   "source": [
    "n = 4\n",
    "mu = np.zeros(n) + 1\n",
    "mu = mu/np.linalg.norm(mu)\n",
    "sigma = 100000\n",
    "sp.stats.vonmises_fisher.rvs(mu=mu, kappa = sigma,size = 5)"
   ]
  },
  {
   "cell_type": "code",
   "execution_count": 182,
   "id": "4b87f8ae",
   "metadata": {},
   "outputs": [
    {
     "name": "stderr",
     "output_type": "stream",
     "text": [
      "\r",
      "  0%|                                                 | 0/30 [00:00<?, ?it/s]"
     ]
    },
    {
     "name": "stdout",
     "output_type": "stream",
     "text": [
      "4\n"
     ]
    },
    {
     "name": "stderr",
     "output_type": "stream",
     "text": [
      "\r",
      "  3%|█▎                                       | 1/30 [00:31<15:27, 32.00s/it]"
     ]
    },
    {
     "name": "stdout",
     "output_type": "stream",
     "text": [
      "4\n"
     ]
    },
    {
     "name": "stderr",
     "output_type": "stream",
     "text": [
      "\r",
      "  7%|██▋                                      | 2/30 [01:04<14:56, 32.02s/it]"
     ]
    },
    {
     "name": "stdout",
     "output_type": "stream",
     "text": [
      "4\n"
     ]
    },
    {
     "name": "stderr",
     "output_type": "stream",
     "text": [
      "\r",
      " 10%|████                                     | 3/30 [01:33<13:52, 30.84s/it]"
     ]
    },
    {
     "name": "stdout",
     "output_type": "stream",
     "text": [
      "4\n"
     ]
    },
    {
     "name": "stderr",
     "output_type": "stream",
     "text": [
      "\r",
      " 13%|█████▍                                   | 4/30 [02:06<13:46, 31.80s/it]"
     ]
    },
    {
     "name": "stdout",
     "output_type": "stream",
     "text": [
      "4\n"
     ]
    },
    {
     "name": "stderr",
     "output_type": "stream",
     "text": [
      "\r",
      " 17%|██████▊                                  | 5/30 [02:40<13:30, 32.42s/it]"
     ]
    },
    {
     "name": "stdout",
     "output_type": "stream",
     "text": [
      "4\n"
     ]
    },
    {
     "name": "stderr",
     "output_type": "stream",
     "text": [
      "\r",
      " 20%|████████▏                                | 6/30 [03:12<12:57, 32.40s/it]"
     ]
    },
    {
     "name": "stdout",
     "output_type": "stream",
     "text": [
      "4\n"
     ]
    },
    {
     "name": "stderr",
     "output_type": "stream",
     "text": [
      "\r",
      " 23%|█████████▌                               | 7/30 [03:44<12:18, 32.11s/it]"
     ]
    },
    {
     "name": "stdout",
     "output_type": "stream",
     "text": [
      "4\n"
     ]
    },
    {
     "name": "stderr",
     "output_type": "stream",
     "text": [
      "\r",
      " 27%|██████████▉                              | 8/30 [04:17<11:57, 32.62s/it]"
     ]
    },
    {
     "name": "stdout",
     "output_type": "stream",
     "text": [
      "4\n"
     ]
    },
    {
     "name": "stderr",
     "output_type": "stream",
     "text": [
      "\r",
      " 30%|████████████▎                            | 9/30 [04:53<11:44, 33.56s/it]"
     ]
    },
    {
     "name": "stdout",
     "output_type": "stream",
     "text": [
      "4\n"
     ]
    },
    {
     "name": "stderr",
     "output_type": "stream",
     "text": [
      "\r",
      " 33%|█████████████▎                          | 10/30 [05:25<10:59, 32.96s/it]"
     ]
    },
    {
     "name": "stdout",
     "output_type": "stream",
     "text": [
      "4\n"
     ]
    },
    {
     "name": "stderr",
     "output_type": "stream",
     "text": [
      "\r",
      " 37%|██████████████▋                         | 11/30 [05:59<10:37, 33.55s/it]"
     ]
    },
    {
     "name": "stdout",
     "output_type": "stream",
     "text": [
      "4\n"
     ]
    },
    {
     "name": "stderr",
     "output_type": "stream",
     "text": [
      "\r",
      " 40%|████████████████                        | 12/30 [06:33<10:01, 33.41s/it]"
     ]
    },
    {
     "name": "stdout",
     "output_type": "stream",
     "text": [
      "4\n"
     ]
    },
    {
     "name": "stderr",
     "output_type": "stream",
     "text": [
      "\r",
      " 43%|█████████████████▎                      | 13/30 [07:10<09:50, 34.74s/it]"
     ]
    },
    {
     "name": "stdout",
     "output_type": "stream",
     "text": [
      "4\n"
     ]
    },
    {
     "name": "stderr",
     "output_type": "stream",
     "text": [
      "\r",
      " 47%|██████████████████▋                     | 14/30 [07:43<09:03, 33.98s/it]"
     ]
    },
    {
     "name": "stdout",
     "output_type": "stream",
     "text": [
      "4\n"
     ]
    },
    {
     "name": "stderr",
     "output_type": "stream",
     "text": [
      "\r",
      " 50%|████████████████████                    | 15/30 [08:19<08:39, 34.63s/it]"
     ]
    },
    {
     "name": "stdout",
     "output_type": "stream",
     "text": [
      "4\n"
     ]
    },
    {
     "name": "stderr",
     "output_type": "stream",
     "text": [
      "\r",
      " 53%|█████████████████████▎                  | 16/30 [08:54<08:09, 34.96s/it]"
     ]
    },
    {
     "name": "stdout",
     "output_type": "stream",
     "text": [
      "4\n"
     ]
    },
    {
     "name": "stderr",
     "output_type": "stream",
     "text": [
      "\r",
      " 57%|██████████████████████▋                 | 17/30 [09:32<07:42, 35.59s/it]"
     ]
    },
    {
     "name": "stdout",
     "output_type": "stream",
     "text": [
      "4\n"
     ]
    },
    {
     "name": "stderr",
     "output_type": "stream",
     "text": [
      "\r",
      " 60%|████████████████████████                | 18/30 [10:01<06:46, 33.86s/it]"
     ]
    },
    {
     "name": "stdout",
     "output_type": "stream",
     "text": [
      "4\n"
     ]
    },
    {
     "name": "stderr",
     "output_type": "stream",
     "text": [
      "\r",
      " 63%|█████████████████████████▎              | 19/30 [10:37<06:17, 34.29s/it]"
     ]
    },
    {
     "name": "stdout",
     "output_type": "stream",
     "text": [
      "4\n"
     ]
    },
    {
     "name": "stderr",
     "output_type": "stream",
     "text": [
      "\r",
      " 67%|██████████████████████████▋             | 20/30 [11:11<05:42, 34.29s/it]"
     ]
    },
    {
     "name": "stdout",
     "output_type": "stream",
     "text": [
      "4\n"
     ]
    },
    {
     "name": "stderr",
     "output_type": "stream",
     "text": [
      "\r",
      " 70%|████████████████████████████            | 21/30 [11:46<05:09, 34.44s/it]"
     ]
    },
    {
     "name": "stdout",
     "output_type": "stream",
     "text": [
      "4\n"
     ]
    },
    {
     "name": "stderr",
     "output_type": "stream",
     "text": [
      "\r",
      " 73%|█████████████████████████████▎          | 22/30 [12:20<04:34, 34.27s/it]"
     ]
    },
    {
     "name": "stdout",
     "output_type": "stream",
     "text": [
      "4\n"
     ]
    },
    {
     "name": "stderr",
     "output_type": "stream",
     "text": [
      "\r",
      " 77%|██████████████████████████████▋         | 23/30 [12:58<04:07, 35.36s/it]"
     ]
    },
    {
     "name": "stdout",
     "output_type": "stream",
     "text": [
      "4\n"
     ]
    },
    {
     "name": "stderr",
     "output_type": "stream",
     "text": [
      "\r",
      " 80%|████████████████████████████████        | 24/30 [13:39<03:43, 37.27s/it]"
     ]
    },
    {
     "name": "stdout",
     "output_type": "stream",
     "text": [
      "4\n"
     ]
    },
    {
     "name": "stderr",
     "output_type": "stream",
     "text": [
      "\r",
      " 83%|█████████████████████████████████▎      | 25/30 [14:18<03:08, 37.66s/it]"
     ]
    },
    {
     "name": "stdout",
     "output_type": "stream",
     "text": [
      "4\n"
     ]
    },
    {
     "name": "stderr",
     "output_type": "stream",
     "text": [
      "\r",
      " 87%|██████████████████████████████████▋     | 26/30 [15:00<02:36, 39.10s/it]"
     ]
    },
    {
     "name": "stdout",
     "output_type": "stream",
     "text": [
      "4\n"
     ]
    },
    {
     "name": "stderr",
     "output_type": "stream",
     "text": [
      "\r",
      " 90%|████████████████████████████████████    | 27/30 [15:39<01:56, 38.96s/it]"
     ]
    },
    {
     "name": "stdout",
     "output_type": "stream",
     "text": [
      "4\n"
     ]
    },
    {
     "name": "stderr",
     "output_type": "stream",
     "text": [
      "\r",
      " 93%|█████████████████████████████████████▎  | 28/30 [16:16<01:16, 38.30s/it]"
     ]
    },
    {
     "name": "stdout",
     "output_type": "stream",
     "text": [
      "4\n"
     ]
    },
    {
     "name": "stderr",
     "output_type": "stream",
     "text": [
      "\r",
      " 97%|██████████████████████████████████████▋ | 29/30 [16:50<00:36, 36.97s/it]"
     ]
    },
    {
     "name": "stdout",
     "output_type": "stream",
     "text": [
      "4\n"
     ]
    },
    {
     "name": "stderr",
     "output_type": "stream",
     "text": [
      "100%|████████████████████████████████████████| 30/30 [17:29<00:00, 34.97s/it]\n"
     ]
    }
   ],
   "source": [
    "results = []\n",
    "Jxs = []\n",
    "for j in tqdm(range(30)):    \n",
    "    n = 4\n",
    "    D = np.zeros((n,n))\n",
    "    for i in range(n):\n",
    "        D[i,i] = -1\n",
    "\n",
    "    D[1,1] = -0.001\n",
    "\n",
    "    P = gram_schmidt(np.random.rand(4,4))\n",
    "    Jx = np.matmul(np.matmul(P,D),np.linalg.inv(P))\n",
    "    results.append(optimize_sg_constrained_4(Jx))\n",
    "    Jxs.append(Jx)\n"
   ]
  },
  {
   "cell_type": "code",
   "execution_count": 194,
   "id": "04d2bf22",
   "metadata": {},
   "outputs": [],
   "source": [
    "axis_frac = [np.sum([np.abs(Jxs[j][i,i]) for i in range(4)])/np.sum(np.abs(Jxs[j])) for j in range(len(Jxs))]"
   ]
  },
  {
   "cell_type": "code",
   "execution_count": 192,
   "id": "c8b60a9e",
   "metadata": {},
   "outputs": [],
   "source": [
    "axis_frac = [np.abs(Jxs[j][1,1])/np.sum(np.abs(Jxs[j])) for j in range(len(Jxs))]"
   ]
  },
  {
   "cell_type": "code",
   "execution_count": 195,
   "id": "ccbeff1f",
   "metadata": {},
   "outputs": [
    {
     "data": {
      "text/plain": [
       "(0.0, 10.0)"
      ]
     },
     "execution_count": 195,
     "metadata": {},
     "output_type": "execute_result"
    },
    {
     "data": {
      "image/png": "[encoded data removed]",
      "text/plain": [
       "<Figure size 640x480 with 1 Axes>"
      ]
     },
     "metadata": {},
     "output_type": "display_data"
    }
   ],
   "source": [
    "plt.scatter(axis_frac,results)\n",
    "plt.ylim([0,10])"
   ]
  },
  {
   "cell_type": "code",
   "execution_count": 187,
   "id": "bf3eaaba",
   "metadata": {},
   "outputs": [
    {
     "data": {
      "text/plain": [
       "0.5434977395308782"
      ]
     },
     "execution_count": 187,
     "metadata": {},
     "output_type": "execute_result"
    }
   ],
   "source": [
    "np.sum([np.abs(Jxs[j][i,i]) for i in range(4)])/np.sum(np.abs(Jxs[j]))"
   ]
  },
  {
   "cell_type": "code",
   "execution_count": 176,
   "id": "86b01938",
   "metadata": {},
   "outputs": [
    {
     "data": {
      "text/plain": [
       "array([[ 0.38,  0.28,  0.76,  0.45],\n",
       "       [ 0.9 , -0.32, -0.21, -0.21],\n",
       "       [ 0.2 ,  0.91, -0.29, -0.24],\n",
       "       [ 0.08,  0.03, -0.54,  0.84]])"
      ]
     },
     "execution_count": 176,
     "metadata": {},
     "output_type": "execute_result"
    }
   ],
   "source": [
    "np.round(P,2)"
   ]
  },
  {
   "cell_type": "code",
   "execution_count": 76,
   "id": "fc2b833b",
   "metadata": {},
   "outputs": [],
   "source": [
    "def evs(a,b,c):\n",
    "    return [map_angles_to_n_sphere([0+a,0+b,0+c]),\n",
    "            map_angles_to_n_sphere([np.pi/2+a,np.pi/2+b,0+c]),\n",
    "            map_angles_to_n_sphere([np.pi/2+a,0+b,0+c]),\n",
    "            map_angles_to_n_sphere([np.pi/2+a,np.pi/2+b,np.pi/2+c])]"
   ]
  },
  {
   "cell_type": "code",
   "execution_count": 79,
   "id": "1408d224",
   "metadata": {},
   "outputs": [],
   "source": [
    "def hopf_coord(theta):\n",
    "    return [np.cos(theta[0])*np.sin(theta[1]),\n",
    "            np.sin(theta[0])*np.sin(theta[1]),\n",
    "            np.cos(theta[2])*np.cos(theta[1]),\n",
    "            np.sin(theta[2])*np.cos(theta[1])]\n"
   ]
  },
  {
   "cell_type": "code",
   "execution_count": 121,
   "id": "71cffd19",
   "metadata": {},
   "outputs": [],
   "source": [
    "def evs(a,b,c):\n",
    "    return [hopf_coord([0+a,np.pi/2,0+b]),\n",
    "            hopf_coord([np.pi/2+a,np.pi/2,0+b]),\n",
    "            hopf_coord([0+a,0,0+b]),\n",
    "            hopf_coord([0+a,0,np.pi/2+b])]"
   ]
  },
  {
   "cell_type": "code",
   "execution_count": 132,
   "id": "b26983c0",
   "metadata": {},
   "outputs": [
    {
     "data": {
      "text/plain": [
       "8.326672684688674e-17"
      ]
     },
     "execution_count": 132,
     "metadata": {},
     "output_type": "execute_result"
    }
   ],
   "source": [
    "a = .2\n",
    "b = .2\n",
    "c = .1\n",
    "np.dot(evs(a,b,c)[0],evs(a,b,c)[1])\n"
   ]
  },
  {
   "cell_type": "code",
   "execution_count": 98,
   "id": "3a5a27e4",
   "metadata": {},
   "outputs": [
    {
     "data": {
      "text/plain": [
       "array([9.80066578e-01, 1.98669331e-01, 5.63987199e-17, 2.38449963e-17])"
      ]
     },
     "execution_count": 98,
     "metadata": {},
     "output_type": "execute_result"
    }
   ],
   "source": [
    "P = np.stack(evs(.2,.4),axis = 1)\n",
    "P[:,0]"
   ]
  },
  {
   "cell_type": "code",
   "execution_count": 99,
   "id": "2a09225f",
   "metadata": {},
   "outputs": [
    {
     "data": {
      "text/plain": [
       "[0.9800665778412416,\n",
       " 0.19866933079506122,\n",
       " 5.639871990625564e-17,\n",
       " 2.384499632187786e-17]"
      ]
     },
     "execution_count": 99,
     "metadata": {},
     "output_type": "execute_result"
    }
   ],
   "source": [
    "evs(.2,.4)[0]"
   ]
  },
  {
   "cell_type": "code",
   "execution_count": 82,
   "id": "cc6bf66d",
   "metadata": {},
   "outputs": [
    {
     "name": "stdout",
     "output_type": "stream",
     "text": [
      "[1.0, 0.0, 6.123233995736766e-17, 0.0]\n",
      "[6.123233995736766e-17, 1.0, 6.123233995736766e-17, 0.0]\n",
      "[0.0, 0.0, 1.0, 0.0]\n",
      "[0.0, 0.0, 6.123233995736766e-17, 1.0]\n"
     ]
    }
   ],
   "source": [
    "hopf_coord([0,np.pi/2,0])\n",
    "hopf_coord([np.pi/2,np.pi/2,0])\n",
    "hopf_coord([0,0,0])\n",
    "hopf_coord([0,0,np.pi/2])"
   ]
  },
  {
   "cell_type": "code",
   "execution_count": 77,
   "id": "9902aff9",
   "metadata": {},
   "outputs": [],
   "source": [
    "ev = evs(1,0,0)"
   ]
  },
  {
   "cell_type": "code",
   "execution_count": 75,
   "id": "71c5fc5e",
   "metadata": {},
   "outputs": [
    {
     "data": {
      "text/plain": [
       "0.7080734182735712"
      ]
     },
     "execution_count": 75,
     "metadata": {},
     "output_type": "execute_result"
    }
   ],
   "source": [
    "np.dot(ev[2],ev[1])"
   ]
  },
  {
   "cell_type": "code",
   "execution_count": 18,
   "id": "c0284179",
   "metadata": {},
   "outputs": [
    {
     "data": {
      "text/plain": [
       "(array([  0.,   7.,   0., 266.,   0.,   0., 726.,   0.,   0.,   1.]),\n",
       " array([1., 1., 1., 1., 1., 1., 1., 1., 1., 1., 1.]),\n",
       " <BarContainer object of 10 artists>)"
      ]
     },
     "execution_count": 18,
     "metadata": {},
     "output_type": "execute_result"
    },
    {
     "data": {
      "image/png": "[encoded data removed]",
      "text/plain": [
       "<Figure size 640x480 with 1 Axes>"
      ]
     },
     "metadata": {},
     "output_type": "display_data"
    }
   ],
   "source": [
    "plt.hist([np.linalg.norm(map_angles_to_n_sphere(np.random.rand(4)*10)) for i in range(1000)])"
   ]
  },
  {
   "cell_type": "code",
   "execution_count": 40,
   "id": "b7e51048",
   "metadata": {},
   "outputs": [
    {
     "data": {
      "text/plain": [
       "5.6339043248944245"
      ]
     },
     "execution_count": 40,
     "metadata": {},
     "output_type": "execute_result"
    }
   ],
   "source": [
    "avg_dx_norm(map_angles_to_n_sphere(np.random.rand(n-1)),map_angles_to_n_sphere(np.random.rand(n-1)),Jx)"
   ]
  },
  {
   "cell_type": "code",
   "execution_count": 15,
   "id": "37da3298",
   "metadata": {},
   "outputs": [
    {
     "data": {
      "text/plain": [
       "[[0, 3.141592653589793],\n",
       " [0, 3.141592653589793],\n",
       " [0, 3.141592653589793],\n",
       " [0, 3.141592653589793],\n",
       " [0, 3.141592653589793],\n",
       " [0, 3.141592653589793],\n",
       " [0, 3.141592653589793],\n",
       " [0, 3.141592653589793],\n",
       " [0, 6.283185307179586],\n",
       " [0, 3.141592653589793],\n",
       " [0, 3.141592653589793],\n",
       " [0, 3.141592653589793],\n",
       " [0, 3.141592653589793],\n",
       " [0, 3.141592653589793],\n",
       " [0, 3.141592653589793],\n",
       " [0, 3.141592653589793],\n",
       " [0, 3.141592653589793],\n",
       " [0, 6.283185307179586]]"
      ]
     },
     "execution_count": 15,
     "metadata": {},
     "output_type": "execute_result"
    }
   ],
   "source": [
    "bounds = [[0,np.pi] for i in range(n-2)]\n",
    "bounds.append([0,2*np.pi])\n",
    "for i in range(n-2):\n",
    "    bounds.append([0,np.pi])\n",
    "bounds.append([0,2*np.pi])\n",
    "\n",
    "bounds"
   ]
  },
  {
   "cell_type": "code",
   "execution_count": 146,
   "id": "0f184530",
   "metadata": {},
   "outputs": [],
   "source": [
    "def gram_schmidt(vectors):\n",
    "    num_vectors, vector_dim = vectors.shape\n",
    "    orthogonalized_vectors = np.zeros((num_vectors, vector_dim))\n",
    "\n",
    "    for i in range(num_vectors):\n",
    "        v = vectors[i]\n",
    "        for j in range(i):\n",
    "            u = orthogonalized_vectors[j]\n",
    "            v = v - np.dot(v, u) / np.dot(u, u) * u\n",
    "        orthogonalized_vectors[i] = v / np.linalg.norm(v)\n",
    "\n",
    "    return orthogonalized_vectors\n"
   ]
  },
  {
   "cell_type": "code",
   "execution_count": 156,
   "id": "07c49c0c",
   "metadata": {},
   "outputs": [
    {
     "data": {
      "text/plain": [
       "1.0000000000000002"
      ]
     },
     "execution_count": 156,
     "metadata": {},
     "output_type": "execute_result"
    }
   ],
   "source": [
    "P = gram_schmidt(np.random.rand(4,4))\n",
    "np.dot(P[0,:],P[0,:])"
   ]
  },
  {
   "cell_type": "code",
   "execution_count": 158,
   "id": "16529507",
   "metadata": {},
   "outputs": [
    {
     "data": {
      "text/plain": [
       "1.0"
      ]
     },
     "execution_count": 158,
     "metadata": {},
     "output_type": "execute_result"
    }
   ],
   "source": [
    "np.linalg.norm(P[0,:])"
   ]
  },
  {
   "cell_type": "code",
   "execution_count": null,
   "id": "5440cd3e",
   "metadata": {},
   "outputs": [],
   "source": []
  }
 ],
 "metadata": {
  "kernelspec": {
   "display_name": "Python 3 (ipykernel)",
   "language": "python",
   "name": "python3"
  },
  "language_info": {
   "codemirror_mode": {
    "name": "ipython",
    "version": 3
   },
   "file_extension": ".py",
   "mimetype": "text/x-python",
   "name": "python",
   "nbconvert_exporter": "python",
   "pygments_lexer": "ipython3",
   "version": "3.9.16"
  }
 },
 "nbformat": 4,
 "nbformat_minor": 5
}
