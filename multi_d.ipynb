{
 "cells": [
  {
   "cell_type": "code",
   "execution_count": 1,
   "id": "0f3e03d3",
   "metadata": {},
   "outputs": [],
   "source": [
    "import scipy as sp\n",
    "import numpy as np\n",
    "from IPython.display import clear_output\n",
    "import matplotlib.pyplot as plt\n",
    "from tqdm import tqdm"
   ]
  },
  {
   "cell_type": "code",
   "execution_count": 2,
   "id": "dbef05a6",
   "metadata": {},
   "outputs": [
    {
     "data": {
      "text/plain": [
       "'1.11.1'"
      ]
     },
     "execution_count": 2,
     "metadata": {},
     "output_type": "execute_result"
    }
   ],
   "source": [
    "sp.__version__"
   ]
  },
  {
   "cell_type": "code",
   "execution_count": 3,
   "id": "f11eb328",
   "metadata": {},
   "outputs": [],
   "source": [
    "def map_angles_to_n_sphere(angles, radius=1.0):\n",
    "    # Convert angles to Cartesian coordinates on an n-sphere\n",
    "    n = len(angles) +1  # Dimension of the n-sphere\n",
    "    cartesian_coords = np.zeros(n) + radius\n",
    "    cartesian_coords[0] = cartesian_coords[0]*np.cos(angles[0])\n",
    "    for i in range(1,n-1):\n",
    "        cartesian_coords[i] = cartesian_coords[i]*np.cos(angles[i])\n",
    "        for j in range(i):\n",
    "            cartesian_coords[i] = cartesian_coords[i]*np.sin(angles[j])\n",
    "    for j in range(n-1):\n",
    "        cartesian_coords[n-1] = cartesian_coords[n-1]*np.sin(angles[j])\n",
    "\n",
    "    return cartesian_coords"
   ]
  },
  {
   "cell_type": "code",
   "execution_count": 4,
   "id": "a46828e7",
   "metadata": {},
   "outputs": [
    {
     "ename": "NameError",
     "evalue": "name 'Jx' is not defined",
     "output_type": "error",
     "traceback": [
      "\u001b[0;31m---------------------------------------------------------------------------\u001b[0m",
      "\u001b[0;31mNameError\u001b[0m                                 Traceback (most recent call last)",
      "Cell \u001b[0;32mIn[4], line 4\u001b[0m\n\u001b[1;32m      1\u001b[0m g \u001b[38;5;241m=\u001b[39m [\u001b[38;5;241m1\u001b[39m,\u001b[38;5;241m0\u001b[39m,\u001b[38;5;241m0\u001b[39m,\u001b[38;5;241m0\u001b[39m]\n\u001b[1;32m      2\u001b[0m s \u001b[38;5;241m=\u001b[39m [\u001b[38;5;241m-\u001b[39m\u001b[38;5;241m1\u001b[39m,\u001b[38;5;241m0\u001b[39m,\u001b[38;5;241m0\u001b[39m,\u001b[38;5;241m0\u001b[39m]\n\u001b[0;32m----> 4\u001b[0m np\u001b[38;5;241m.\u001b[39mmatmul(g,np\u001b[38;5;241m.\u001b[39mmatmul(np\u001b[38;5;241m.\u001b[39mlinalg\u001b[38;5;241m.\u001b[39minv(\u001b[43mJx\u001b[49m),s))\n\u001b[1;32m      5\u001b[0m np\u001b[38;5;241m.\u001b[39mlinalg\u001b[38;5;241m.\u001b[39minv(Jx \u001b[38;5;241m-\u001b[39m np\u001b[38;5;241m.\u001b[39mouter(g, s))\n",
      "\u001b[0;31mNameError\u001b[0m: name 'Jx' is not defined"
     ]
    }
   ],
   "source": [
    "g = [1,0,0,0]\n",
    "s = [-1,0,0,0]\n",
    "\n",
    "np.matmul(g,np.matmul(np.linalg.inv(Jx),s))\n",
    "np.linalg.inv(Jx - np.outer(g, s))"
   ]
  },
  {
   "cell_type": "code",
   "execution_count": 5,
   "id": "8735af9a",
   "metadata": {},
   "outputs": [],
   "source": [
    "def dx_norm(df,g,s, Jx):\n",
    "    if np.matmul(g,np.matmul(np.linalg.inv(Jx),s)) == 1:\n",
    "        return 100000\n",
    "    else:\n",
    "        return np.linalg.norm(np.matmul(np.linalg.inv(Jx - np.outer(g, s)), df))"
   ]
  },
  {
   "cell_type": "code",
   "execution_count": 44,
   "id": "6701e101",
   "metadata": {},
   "outputs": [],
   "source": [
    "def generate_evenly_distributed_vectors(n,k):\n",
    "    vectors = []\n",
    "    for i in range(k):\n",
    "        angles = [np.random.rand()*2*np.pi for j in range(n-1)]\n",
    "        vector = map_angles_to_n_sphere(angles)\n",
    "        vectors.append(vector)\n",
    "    return vectors"
   ]
  },
  {
   "cell_type": "code",
   "execution_count": 35,
   "id": "4b6de12e",
   "metadata": {},
   "outputs": [],
   "source": [
    "def generate_distributed_vectors(n,k,sigma):\n",
    "    vectors = []\n",
    "    mu = np.zeros(n) + 1\n",
    "    mu = mu/np.linalg.norm(mu)\n",
    "    vectors = sp.stats.vonmises_fisher.rvs(mu=mu, kappa = sigma,size = k)\n",
    "    return vectors"
   ]
  },
  {
   "cell_type": "code",
   "execution_count": 21,
   "id": "115e6435-80e0-484d-ae9c-3ee83f3d0dd9",
   "metadata": {},
   "outputs": [
    {
     "name": "stdout",
     "output_type": "stream",
     "text": [
      "Help on vonmises_fisher_gen in module scipy.stats._multivariate object:\n",
      "\n",
      "class vonmises_fisher_gen(multi_rv_generic)\n",
      " |  vonmises_fisher_gen(seed=None)\n",
      " |  \n",
      " |  A von Mises-Fisher variable.\n",
      " |  \n",
      " |  The `mu` keyword specifies the mean direction vector. The `kappa` keyword\n",
      " |  specifies the concentration parameter.\n",
      " |  \n",
      " |  Methods\n",
      " |  -------\n",
      " |  pdf(x, mu=None, kappa=1)\n",
      " |      Probability density function.\n",
      " |  logpdf(x, mu=None, kappa=1)\n",
      " |      Log of the probability density function.\n",
      " |  rvs(mu=None, kappa=1, size=1, random_state=None)\n",
      " |      Draw random samples from a von Mises-Fisher distribution.\n",
      " |  entropy(mu=None, kappa=1)\n",
      " |      Compute the differential entropy of the von Mises-Fisher distribution.\n",
      " |  fit(data)\n",
      " |      Fit a von Mises-Fisher distribution to data.\n",
      " |  \n",
      " |  Parameters\n",
      " |  ----------\n",
      " |  mu : array_like\n",
      " |      Mean direction of the distribution. Must be a one-dimensional unit\n",
      " |      vector of norm 1.\n",
      " |  kappa : float\n",
      " |      Concentration parameter. Must be positive.\n",
      " |  seed : {None, int, np.random.RandomState, np.random.Generator}, optional\n",
      " |      Used for drawing random variates.\n",
      " |      If `seed` is `None`, the `~np.random.RandomState` singleton is used.\n",
      " |      If `seed` is an int, a new ``RandomState`` instance is used, seeded\n",
      " |      with seed.\n",
      " |      If `seed` is already a ``RandomState`` or ``Generator`` instance,\n",
      " |      then that object is used.\n",
      " |      Default is `None`.\n",
      " |  \n",
      " |  See Also\n",
      " |  --------\n",
      " |  scipy.stats.vonmises : Von-Mises Fisher distribution in 2D on a circle\n",
      " |  uniform_direction : uniform distribution on the surface of a hypersphere\n",
      " |  \n",
      " |  Notes\n",
      " |  -----\n",
      " |  The von Mises-Fisher distribution is a directional distribution on the\n",
      " |  surface of the unit hypersphere. The probability density\n",
      " |  function of a unit vector :math:`\\mathbf{x}` is\n",
      " |  \n",
      " |  .. math::\n",
      " |  \n",
      " |      f(\\mathbf{x}) = \\frac{\\kappa^{d/2-1}}{(2\\pi)^{d/2}I_{d/2-1}(\\kappa)}\n",
      " |             \\exp\\left(\\kappa \\mathbf{\\mu}^T\\mathbf{x}\\right),\n",
      " |  \n",
      " |  where :math:`\\mathbf{\\mu}` is the mean direction, :math:`\\kappa` the\n",
      " |  concentration parameter, :math:`d` the dimension and :math:`I` the\n",
      " |  modified Bessel function of the first kind. As :math:`\\mu` represents\n",
      " |  a direction, it must be a unit vector or in other words, a point\n",
      " |  on the hypersphere: :math:`\\mathbf{\\mu}\\in S^{d-1}`. :math:`\\kappa` is a\n",
      " |  concentration parameter, which means that it must be positive\n",
      " |  (:math:`\\kappa>0`) and that the distribution becomes more narrow with\n",
      " |  increasing :math:`\\kappa`. In that sense, the reciprocal value\n",
      " |  :math:`1/\\kappa` resembles the variance parameter of the normal\n",
      " |  distribution.\n",
      " |  \n",
      " |  The von Mises-Fisher distribution often serves as an analogue of the\n",
      " |  normal distribution on the sphere. Intuitively, for unit vectors, a\n",
      " |  useful distance measure is given by the angle :math:`\\alpha` between\n",
      " |  them. This is exactly what the scalar product\n",
      " |  :math:`\\mathbf{\\mu}^T\\mathbf{x}=\\cos(\\alpha)` in the\n",
      " |  von Mises-Fisher probability density function describes: the angle\n",
      " |  between the mean direction :math:`\\mathbf{\\mu}` and the vector\n",
      " |  :math:`\\mathbf{x}`. The larger the angle between them, the smaller the\n",
      " |  probability to observe :math:`\\mathbf{x}` for this particular mean\n",
      " |  direction :math:`\\mathbf{\\mu}`.\n",
      " |  \n",
      " |  In dimensions 2 and 3, specialized algorithms are used for fast sampling\n",
      " |  [2]_, [3]_. For dimenions of 4 or higher the rejection sampling algorithm\n",
      " |  described in [4]_ is utilized. This implementation is partially based on\n",
      " |  the geomstats package [5]_, [6]_.\n",
      " |  \n",
      " |  .. versionadded:: 1.11\n",
      " |  \n",
      " |  References\n",
      " |  ----------\n",
      " |  .. [1] Von Mises-Fisher distribution, Wikipedia,\n",
      " |         https://en.wikipedia.org/wiki/Von_Mises%E2%80%93Fisher_distribution\n",
      " |  .. [2] Mardia, K., and Jupp, P. Directional statistics. Wiley, 2000.\n",
      " |  .. [3] J. Wenzel. Numerically stable sampling of the von Mises Fisher\n",
      " |         distribution on S2.\n",
      " |         https://www.mitsuba-renderer.org/~wenzel/files/vmf.pdf\n",
      " |  .. [4] Wood, A. Simulation of the von mises fisher distribution.\n",
      " |         Communications in statistics-simulation and computation 23,\n",
      " |         1 (1994), 157-164. https://doi.org/10.1080/03610919408813161\n",
      " |  .. [5] geomstats, Github. MIT License. Accessed: 06.01.2023.\n",
      " |         https://github.com/geomstats/geomstats\n",
      " |  .. [6] Miolane, N. et al. Geomstats:  A Python Package for Riemannian\n",
      " |         Geometry in Machine Learning. Journal of Machine Learning Research\n",
      " |         21 (2020). http://jmlr.org/papers/v21/19-027.html\n",
      " |  \n",
      " |  Examples\n",
      " |  --------\n",
      " |  **Visualization of the probability density**\n",
      " |  \n",
      " |  Plot the probability density in three dimensions for increasing\n",
      " |  concentration parameter. The density is calculated by the ``pdf``\n",
      " |  method.\n",
      " |  \n",
      " |  >>> import numpy as np\n",
      " |  >>> import matplotlib.pyplot as plt\n",
      " |  >>> from scipy.stats import vonmises_fisher\n",
      " |  >>> from matplotlib.colors import Normalize\n",
      " |  >>> n_grid = 100\n",
      " |  >>> u = np.linspace(0, np.pi, n_grid)\n",
      " |  >>> v = np.linspace(0, 2 * np.pi, n_grid)\n",
      " |  >>> u_grid, v_grid = np.meshgrid(u, v)\n",
      " |  >>> vertices = np.stack([np.cos(v_grid) * np.sin(u_grid),\n",
      " |  ...                      np.sin(v_grid) * np.sin(u_grid),\n",
      " |  ...                      np.cos(u_grid)],\n",
      " |  ...                     axis=2)\n",
      " |  >>> x = np.outer(np.cos(v), np.sin(u))\n",
      " |  >>> y = np.outer(np.sin(v), np.sin(u))\n",
      " |  >>> z = np.outer(np.ones_like(u), np.cos(u))\n",
      " |  >>> def plot_vmf_density(ax, x, y, z, vertices, mu, kappa):\n",
      " |  ...     vmf = vonmises_fisher(mu, kappa)\n",
      " |  ...     pdf_values = vmf.pdf(vertices)\n",
      " |  ...     pdfnorm = Normalize(vmin=pdf_values.min(), vmax=pdf_values.max())\n",
      " |  ...     ax.plot_surface(x, y, z, rstride=1, cstride=1,\n",
      " |  ...                     facecolors=plt.cm.viridis(pdfnorm(pdf_values)),\n",
      " |  ...                     linewidth=0)\n",
      " |  ...     ax.set_aspect('equal')\n",
      " |  ...     ax.view_init(azim=-130, elev=0)\n",
      " |  ...     ax.axis('off')\n",
      " |  ...     ax.set_title(rf\"$\\kappa={kappa}$\")\n",
      " |  >>> fig, axes = plt.subplots(nrows=1, ncols=3, figsize=(9, 4),\n",
      " |  ...                          subplot_kw={\"projection\": \"3d\"})\n",
      " |  >>> left, middle, right = axes\n",
      " |  >>> mu = np.array([-np.sqrt(0.5), -np.sqrt(0.5), 0])\n",
      " |  >>> plot_vmf_density(left, x, y, z, vertices, mu, 5)\n",
      " |  >>> plot_vmf_density(middle, x, y, z, vertices, mu, 20)\n",
      " |  >>> plot_vmf_density(right, x, y, z, vertices, mu, 100)\n",
      " |  >>> plt.subplots_adjust(top=1, bottom=0.0, left=0.0, right=1.0, wspace=0.)\n",
      " |  >>> plt.show()\n",
      " |  \n",
      " |  As we increase the concentration parameter, the points are getting more\n",
      " |  clustered together around the mean direction.\n",
      " |  \n",
      " |  **Sampling**\n",
      " |  \n",
      " |  Draw 5 samples from the distribution using the ``rvs`` method resulting\n",
      " |  in a 5x3 array.\n",
      " |  \n",
      " |  >>> rng = np.random.default_rng()\n",
      " |  >>> mu = np.array([0, 0, 1])\n",
      " |  >>> samples = vonmises_fisher(mu, 20).rvs(5, random_state=rng)\n",
      " |  >>> samples\n",
      " |  array([[ 0.3884594 , -0.32482588,  0.86231516],\n",
      " |         [ 0.00611366, -0.09878289,  0.99509023],\n",
      " |         [-0.04154772, -0.01637135,  0.99900239],\n",
      " |         [-0.14613735,  0.12553507,  0.98126695],\n",
      " |         [-0.04429884, -0.23474054,  0.97104814]])\n",
      " |  \n",
      " |  These samples are unit vectors on the sphere :math:`S^2`. To verify,\n",
      " |  let us calculate their euclidean norms:\n",
      " |  \n",
      " |  >>> np.linalg.norm(samples, axis=1)\n",
      " |  array([1., 1., 1., 1., 1.])\n",
      " |  \n",
      " |  Plot 20 observations drawn from the von Mises-Fisher distribution for\n",
      " |  increasing concentration parameter :math:`\\kappa`. The red dot highlights\n",
      " |  the mean direction :math:`\\mu`.\n",
      " |  \n",
      " |  >>> def plot_vmf_samples(ax, x, y, z, mu, kappa):\n",
      " |  ...     vmf = vonmises_fisher(mu, kappa)\n",
      " |  ...     samples = vmf.rvs(20)\n",
      " |  ...     ax.plot_surface(x, y, z, rstride=1, cstride=1, linewidth=0,\n",
      " |  ...                     alpha=0.2)\n",
      " |  ...     ax.scatter(samples[:, 0], samples[:, 1], samples[:, 2], c='k', s=5)\n",
      " |  ...     ax.scatter(mu[0], mu[1], mu[2], c='r', s=30)\n",
      " |  ...     ax.set_aspect('equal')\n",
      " |  ...     ax.view_init(azim=-130, elev=0)\n",
      " |  ...     ax.axis('off')\n",
      " |  ...     ax.set_title(rf\"$\\kappa={kappa}$\")\n",
      " |  >>> mu = np.array([-np.sqrt(0.5), -np.sqrt(0.5), 0])\n",
      " |  >>> fig, axes = plt.subplots(nrows=1, ncols=3,\n",
      " |  ...                          subplot_kw={\"projection\": \"3d\"},\n",
      " |  ...                          figsize=(9, 4))\n",
      " |  >>> left, middle, right = axes\n",
      " |  >>> plot_vmf_samples(left, x, y, z, mu, 5)\n",
      " |  >>> plot_vmf_samples(middle, x, y, z, mu, 20)\n",
      " |  >>> plot_vmf_samples(right, x, y, z, mu, 100)\n",
      " |  >>> plt.subplots_adjust(top=1, bottom=0.0, left=0.0,\n",
      " |  ...                     right=1.0, wspace=0.)\n",
      " |  >>> plt.show()\n",
      " |  \n",
      " |  The plots show that with increasing concentration :math:`\\kappa` the\n",
      " |  resulting samples are centered more closely around the mean direction.\n",
      " |  \n",
      " |  **Fitting the distribution parameters**\n",
      " |  \n",
      " |  The distribution can be fitted to data using the ``fit`` method returning\n",
      " |  the estimated parameters. As a toy example let's fit the distribution to\n",
      " |  samples drawn from a known von Mises-Fisher distribution.\n",
      " |  \n",
      " |  >>> mu, kappa = np.array([0, 0, 1]), 20\n",
      " |  >>> samples = vonmises_fisher(mu, kappa).rvs(1000, random_state=rng)\n",
      " |  >>> mu_fit, kappa_fit = vonmises_fisher.fit(samples)\n",
      " |  >>> mu_fit, kappa_fit\n",
      " |  (array([0.01126519, 0.01044501, 0.99988199]), 19.306398751730995)\n",
      " |  \n",
      " |  We see that the estimated parameters `mu_fit` and `kappa_fit` are\n",
      " |  very close to the ground truth parameters.\n",
      " |  \n",
      " |  Method resolution order:\n",
      " |      vonmises_fisher_gen\n",
      " |      multi_rv_generic\n",
      " |      builtins.object\n",
      " |  \n",
      " |  Methods defined here:\n",
      " |  \n",
      " |  __call__(self, mu=None, kappa=1, seed=None)\n",
      " |      Create a frozen von Mises-Fisher distribution.\n",
      " |      \n",
      " |      See `vonmises_fisher_frozen` for more information.\n",
      " |  \n",
      " |  __init__(self, seed=None)\n",
      " |      Initialize self.  See help(type(self)) for accurate signature.\n",
      " |  \n",
      " |  entropy(self, mu=None, kappa=1)\n",
      " |      Compute the differential entropy of the von Mises-Fisher\n",
      " |      distribution.\n",
      " |      \n",
      " |      Parameters\n",
      " |      ----------\n",
      " |      mu : array_like, default: None\n",
      " |          Mean direction of the distribution. Must be a one-dimensional unit\n",
      " |          vector of norm 1.\n",
      " |      kappa : float, default: 1\n",
      " |          Concentration parameter. Must be positive.\n",
      " |      \n",
      " |      Returns\n",
      " |      -------\n",
      " |      h : scalar\n",
      " |          Entropy of the von Mises-Fisher distribution.\n",
      " |  \n",
      " |  fit(self, x)\n",
      " |      Fit the von Mises-Fisher distribution to data.\n",
      " |      \n",
      " |      Parameters\n",
      " |      ----------\n",
      " |      x : array-like\n",
      " |          Data the distribution is fitted to. Must be two dimensional.\n",
      " |          The second axis of `x` must be unit vectors of norm 1 and\n",
      " |          determine the dimensionality of the fitted\n",
      " |          von Mises-Fisher distribution.\n",
      " |      \n",
      " |      Returns\n",
      " |      -------\n",
      " |      mu : ndarray\n",
      " |          Estimated mean direction.\n",
      " |      kappa : float\n",
      " |          Estimated concentration parameter.\n",
      " |  \n",
      " |  logpdf(self, x, mu=None, kappa=1)\n",
      " |      Log of the von Mises-Fisher probability density function.\n",
      " |      \n",
      " |      Parameters\n",
      " |      ----------\n",
      " |      x : array_like\n",
      " |          Points at which to evaluate the log of the probability\n",
      " |          density function. The last axis of `x` must correspond\n",
      " |          to unit vectors of the same dimensionality as the distribution.\n",
      " |      mu : array_like, default: None\n",
      " |          Mean direction of the distribution. Must be a one-dimensional unit\n",
      " |          vector of norm 1.\n",
      " |      kappa : float, default: 1\n",
      " |          Concentration parameter. Must be positive.\n",
      " |      \n",
      " |      Returns\n",
      " |      -------\n",
      " |      logpdf : ndarray or scalar\n",
      " |          Log of the probability density function evaluated at `x`.\n",
      " |  \n",
      " |  pdf(self, x, mu=None, kappa=1)\n",
      " |      Von Mises-Fisher probability density function.\n",
      " |      \n",
      " |      Parameters\n",
      " |      ----------\n",
      " |      x : array_like\n",
      " |          Points at which to evaluate the probability\n",
      " |          density function. The last axis of `x` must correspond\n",
      " |          to unit vectors of the same dimensionality as the distribution.\n",
      " |      mu : array_like\n",
      " |          Mean direction of the distribution. Must be a one-dimensional unit\n",
      " |          vector of norm 1.\n",
      " |      kappa : float\n",
      " |          Concentration parameter. Must be positive.\n",
      " |      \n",
      " |      Returns\n",
      " |      -------\n",
      " |      pdf : ndarray or scalar\n",
      " |          Probability density function evaluated at `x`.\n",
      " |  \n",
      " |  rvs(self, mu=None, kappa=1, size=1, random_state=None)\n",
      " |      Draw random samples from a von Mises-Fisher distribution.\n",
      " |      \n",
      " |      Parameters\n",
      " |      ----------\n",
      " |      mu : array_like\n",
      " |          Mean direction of the distribution. Must be a one-dimensional unit\n",
      " |          vector of norm 1.\n",
      " |      kappa : float\n",
      " |          Concentration parameter. Must be positive.\n",
      " |      size : int or tuple of ints, optional\n",
      " |          Given a shape of, for example, (m,n,k), m*n*k samples are\n",
      " |          generated, and packed in an m-by-n-by-k arrangement.\n",
      " |          Because each sample is N-dimensional, the output shape\n",
      " |          is (m,n,k,N). If no shape is specified, a single (N-D)\n",
      " |          sample is returned.\n",
      " |      random_state : {None, int, np.random.RandomState, np.random.Generator},\n",
      " |                      optional\n",
      " |          Used for drawing random variates.\n",
      " |          If `seed` is `None`, the `~np.random.RandomState` singleton is used.\n",
      " |          If `seed` is an int, a new ``RandomState`` instance is used, seeded\n",
      " |          with seed.\n",
      " |          If `seed` is already a ``RandomState`` or ``Generator`` instance,\n",
      " |          then that object is used.\n",
      " |          Default is `None`.\n",
      " |      \n",
      " |      Returns\n",
      " |      -------\n",
      " |      rvs : ndarray\n",
      " |          Random variates of shape (`size`, `N`), where `N` is the\n",
      " |          dimension of the distribution.\n",
      " |  \n",
      " |  ----------------------------------------------------------------------\n",
      " |  Data descriptors inherited from multi_rv_generic:\n",
      " |  \n",
      " |  __dict__\n",
      " |      dictionary for instance variables (if defined)\n",
      " |  \n",
      " |  __weakref__\n",
      " |      list of weak references to the object (if defined)\n",
      " |  \n",
      " |  random_state\n",
      " |      Get or set the Generator object for generating random variates.\n",
      " |      \n",
      " |      If `seed` is None (or `np.random`), the `numpy.random.RandomState`\n",
      " |      singleton is used.\n",
      " |      If `seed` is an int, a new ``RandomState`` instance is used,\n",
      " |      seeded with `seed`.\n",
      " |      If `seed` is already a ``Generator`` or ``RandomState`` instance then\n",
      " |      that instance is used.\n",
      "\n"
     ]
    }
   ],
   "source": [
    "help(sp.stats.vonmises_fisher)"
   ]
  },
  {
   "cell_type": "code",
   "execution_count": 9,
   "id": "2e858846",
   "metadata": {},
   "outputs": [
    {
     "data": {
      "text/plain": [
       "array([[-0.33003317,  0.31585004,  0.88949169, -0.01101814],\n",
       "       [ 0.23738135, -0.5153658 , -0.04308876,  0.82230867],\n",
       "       [-0.32874243, -0.09049278,  0.62943101, -0.69825216],\n",
       "       ...,\n",
       "       [ 0.14968301,  0.25134072, -0.17828947, -0.93948694],\n",
       "       [-0.28953982, -0.18273834,  0.50647385, -0.79136441],\n",
       "       [-0.28326851, -0.55573066, -0.67212686, -0.39895848]])"
      ]
     },
     "execution_count": 9,
     "metadata": {},
     "output_type": "execute_result"
    }
   ],
   "source": [
    "generate_distributed_vectors(4,1000,0.01)"
   ]
  },
  {
   "cell_type": "code",
   "execution_count": 11,
   "id": "566ecf88",
   "metadata": {},
   "outputs": [],
   "source": [
    "def avg_dx_norm_old(s,g, Jx):\n",
    "    n = len(s)\n",
    "    return np.mean([dx_norm(df,g,s, Jx) for df in generate_evenly_distributed_vectors(n,100)])"
   ]
  },
  {
   "cell_type": "code",
   "execution_count": 37,
   "id": "cd98522c",
   "metadata": {},
   "outputs": [],
   "source": [
    "def avg_dx_norm(s,g, Jx,sigma):\n",
    "    n = len(s)\n",
    "    return np.mean([dx_norm(df,g,s, Jx) for df in generate_distributed_vectors(n,100,sigma)])"
   ]
  },
  {
   "cell_type": "code",
   "execution_count": 55,
   "id": "ea1b6172",
   "metadata": {},
   "outputs": [],
   "source": [
    "def avg_dx_norm_single(s,g, Jx):\n",
    "    n = len(s)\n",
    "    df = np.zeros(n) + 1\n",
    "    df = df/np.linalg.norm(df)\n",
    "    return dx_norm(df,g,s, Jx)"
   ]
  },
  {
   "cell_type": "code",
   "execution_count": 36,
   "id": "0a9a3ebc",
   "metadata": {},
   "outputs": [],
   "source": [
    "def optimize_sg(Jx,sigma):\n",
    "    n = Jx.shape[0]\n",
    "    bounds = [[0,np.pi] for i in range(n-2)]\n",
    "    bounds.append([0,2*np.pi])\n",
    "    for i in range(n-2):\n",
    "        bounds.append([0,np.pi])\n",
    "    bounds.append([0,2*np.pi])\n",
    "    print(n)\n",
    "    initial_guess = np.zeros(2*(n-1))+np.pi/8\n",
    "    # Minimize the negative dot product to maximize the dot product\n",
    "    result = sp.optimize.basinhopping(\n",
    "        lambda x: avg_dx_norm(map_angles_to_n_sphere(x[:(n-1)]), map_angles_to_n_sphere(x[(n-1):]),Jx,sigma),\n",
    "        initial_guess,\n",
    "        minimizer_kwargs={\"bounds\": bounds})\n",
    "\n",
    "    optimized_s = map_angles_to_n_sphere(result.x[:(n-1)])\n",
    "    optimized_g = map_angles_to_n_sphere(result.x[(n-1):])\n",
    "    return optimized_s, optimized_g"
   ]
  },
  {
   "cell_type": "code",
   "execution_count": 56,
   "id": "bdd8a972",
   "metadata": {},
   "outputs": [],
   "source": [
    "def optimize_sg_old(Jx):\n",
    "    n = Jx.shape[0]\n",
    "    bounds = [[0,np.pi] for i in range(n-2)]\n",
    "    bounds.append([0,2*np.pi])\n",
    "    for i in range(n-2):\n",
    "        bounds.append([0,np.pi])\n",
    "    bounds.append([0,2*np.pi])\n",
    "    print(n)\n",
    "    initial_guess = np.zeros(2*(n-1))+np.pi/8\n",
    "    # Minimize the negative dot product to maximize the dot product\n",
    "    result = sp.optimize.basinhopping(\n",
    "        lambda x: avg_dx_norm_single(map_angles_to_n_sphere(x[:(n-1)]), map_angles_to_n_sphere(x[(n-1):]),Jx),\n",
    "        initial_guess,\n",
    "        minimizer_kwargs={\"bounds\": bounds})\n",
    "\n",
    "    optimized_s = map_angles_to_n_sphere(result.x[:(n-1)])\n",
    "    optimized_g = map_angles_to_n_sphere(result.x[(n-1):])\n",
    "    return optimized_s, optimized_g"
   ]
  },
  {
   "cell_type": "code",
   "execution_count": 100,
   "id": "748a510d",
   "metadata": {},
   "outputs": [],
   "source": [
    "def optimize_sg_constrained_4(Jx):\n",
    "    n = 4\n",
    "    bounds = [[0,2*np.pi] for i in range(2)]\n",
    "\n",
    "    print(n)\n",
    "    initial_guess = np.zeros(2)+np.pi/8\n",
    "    # Minimize the negative dot product to maximize the dot product\n",
    "    result = sp.optimize.basinhopping(\n",
    "        lambda x: avg_dx_norm(map_angles_to_n_sphere([x[0],0,0]), map_angles_to_n_sphere([x[1],0,0]),Jx),\n",
    "        initial_guess,\n",
    "        minimizer_kwargs={\"bounds\": bounds})\n",
    "\n",
    "    optimized_s = map_angles_to_n_sphere([result.x[0],0,0])\n",
    "    optimized_g = map_angles_to_n_sphere([result.x[1],0,0])\n",
    "    return avg_dx_norm(optimized_s, optimized_g,Jx)"
   ]
  },
  {
   "cell_type": "code",
   "execution_count": 86,
   "id": "d09ee548",
   "metadata": {},
   "outputs": [
    {
     "name": "stderr",
     "output_type": "stream",
     "text": [
      "  0%|                                                 | 0/50 [00:00<?, ?it/s]"
     ]
    },
    {
     "name": "stdout",
     "output_type": "stream",
     "text": [
      "2\n"
     ]
    },
    {
     "name": "stderr",
     "output_type": "stream",
     "text": [
      "  2%|▊                                        | 1/50 [00:00<00:41,  1.17it/s]"
     ]
    },
    {
     "name": "stdout",
     "output_type": "stream",
     "text": [
      "2\n"
     ]
    },
    {
     "name": "stderr",
     "output_type": "stream",
     "text": [
      "  4%|█▋                                       | 2/50 [00:01<00:34,  1.41it/s]"
     ]
    },
    {
     "name": "stdout",
     "output_type": "stream",
     "text": [
      "2\n"
     ]
    },
    {
     "name": "stderr",
     "output_type": "stream",
     "text": [
      "  6%|██▍                                      | 3/50 [00:01<00:28,  1.67it/s]"
     ]
    },
    {
     "name": "stdout",
     "output_type": "stream",
     "text": [
      "2\n"
     ]
    },
    {
     "name": "stderr",
     "output_type": "stream",
     "text": [
      "  8%|███▎                                     | 4/50 [00:02<00:24,  1.87it/s]"
     ]
    },
    {
     "name": "stdout",
     "output_type": "stream",
     "text": [
      "2\n"
     ]
    },
    {
     "name": "stderr",
     "output_type": "stream",
     "text": [
      " 10%|████                                     | 5/50 [00:02<00:22,  2.00it/s]"
     ]
    },
    {
     "name": "stdout",
     "output_type": "stream",
     "text": [
      "2\n"
     ]
    },
    {
     "name": "stderr",
     "output_type": "stream",
     "text": [
      " 12%|████▉                                    | 6/50 [00:03<00:21,  2.06it/s]"
     ]
    },
    {
     "name": "stdout",
     "output_type": "stream",
     "text": [
      "2\n"
     ]
    },
    {
     "name": "stderr",
     "output_type": "stream",
     "text": [
      " 14%|█████▋                                   | 7/50 [00:03<00:20,  2.11it/s]"
     ]
    },
    {
     "name": "stdout",
     "output_type": "stream",
     "text": [
      "2\n"
     ]
    },
    {
     "name": "stderr",
     "output_type": "stream",
     "text": [
      " 16%|██████▌                                  | 8/50 [00:04<00:18,  2.23it/s]"
     ]
    },
    {
     "name": "stdout",
     "output_type": "stream",
     "text": [
      "2\n"
     ]
    },
    {
     "name": "stderr",
     "output_type": "stream",
     "text": [
      " 18%|███████▍                                 | 9/50 [00:04<00:17,  2.28it/s]"
     ]
    },
    {
     "name": "stdout",
     "output_type": "stream",
     "text": [
      "2\n"
     ]
    },
    {
     "name": "stderr",
     "output_type": "stream",
     "text": [
      " 20%|████████                                | 10/50 [00:04<00:17,  2.29it/s]"
     ]
    },
    {
     "name": "stdout",
     "output_type": "stream",
     "text": [
      "2\n"
     ]
    },
    {
     "name": "stderr",
     "output_type": "stream",
     "text": [
      " 22%|████████▊                               | 11/50 [00:05<00:16,  2.36it/s]"
     ]
    },
    {
     "name": "stdout",
     "output_type": "stream",
     "text": [
      "2\n"
     ]
    },
    {
     "name": "stderr",
     "output_type": "stream",
     "text": [
      " 24%|█████████▌                              | 12/50 [00:05<00:16,  2.37it/s]"
     ]
    },
    {
     "name": "stdout",
     "output_type": "stream",
     "text": [
      "2\n"
     ]
    },
    {
     "name": "stderr",
     "output_type": "stream",
     "text": [
      " 26%|██████████▍                             | 13/50 [00:06<00:15,  2.42it/s]"
     ]
    },
    {
     "name": "stdout",
     "output_type": "stream",
     "text": [
      "2\n"
     ]
    },
    {
     "name": "stderr",
     "output_type": "stream",
     "text": [
      " 28%|███████████▏                            | 14/50 [00:06<00:14,  2.40it/s]"
     ]
    },
    {
     "name": "stdout",
     "output_type": "stream",
     "text": [
      "2\n"
     ]
    },
    {
     "name": "stderr",
     "output_type": "stream",
     "text": [
      " 30%|████████████                            | 15/50 [00:07<00:15,  2.33it/s]"
     ]
    },
    {
     "name": "stdout",
     "output_type": "stream",
     "text": [
      "2\n"
     ]
    },
    {
     "name": "stderr",
     "output_type": "stream",
     "text": [
      " 32%|████████████▊                           | 16/50 [00:07<00:14,  2.35it/s]"
     ]
    },
    {
     "name": "stdout",
     "output_type": "stream",
     "text": [
      "2\n"
     ]
    },
    {
     "name": "stderr",
     "output_type": "stream",
     "text": [
      " 34%|█████████████▌                          | 17/50 [00:07<00:14,  2.30it/s]"
     ]
    },
    {
     "name": "stdout",
     "output_type": "stream",
     "text": [
      "2\n"
     ]
    },
    {
     "name": "stderr",
     "output_type": "stream",
     "text": [
      " 36%|██████████████▍                         | 18/50 [00:08<00:13,  2.32it/s]"
     ]
    },
    {
     "name": "stdout",
     "output_type": "stream",
     "text": [
      "2\n"
     ]
    },
    {
     "name": "stderr",
     "output_type": "stream",
     "text": [
      " 38%|███████████████▏                        | 19/50 [00:08<00:13,  2.32it/s]"
     ]
    },
    {
     "name": "stdout",
     "output_type": "stream",
     "text": [
      "2\n"
     ]
    },
    {
     "name": "stderr",
     "output_type": "stream",
     "text": [
      " 40%|████████████████                        | 20/50 [00:09<00:12,  2.37it/s]"
     ]
    },
    {
     "name": "stdout",
     "output_type": "stream",
     "text": [
      "2\n"
     ]
    },
    {
     "name": "stderr",
     "output_type": "stream",
     "text": [
      " 42%|████████████████▊                       | 21/50 [00:09<00:12,  2.38it/s]"
     ]
    },
    {
     "name": "stdout",
     "output_type": "stream",
     "text": [
      "2\n"
     ]
    },
    {
     "name": "stderr",
     "output_type": "stream",
     "text": [
      " 44%|█████████████████▌                      | 22/50 [00:09<00:11,  2.41it/s]"
     ]
    },
    {
     "name": "stdout",
     "output_type": "stream",
     "text": [
      "2\n"
     ]
    },
    {
     "name": "stderr",
     "output_type": "stream",
     "text": [
      " 46%|██████████████████▍                     | 23/50 [00:10<00:11,  2.37it/s]"
     ]
    },
    {
     "name": "stdout",
     "output_type": "stream",
     "text": [
      "2\n"
     ]
    },
    {
     "name": "stderr",
     "output_type": "stream",
     "text": [
      " 48%|███████████████████▏                    | 24/50 [00:10<00:11,  2.34it/s]"
     ]
    },
    {
     "name": "stdout",
     "output_type": "stream",
     "text": [
      "2\n"
     ]
    },
    {
     "name": "stderr",
     "output_type": "stream",
     "text": [
      " 50%|████████████████████                    | 25/50 [00:11<00:10,  2.32it/s]"
     ]
    },
    {
     "name": "stdout",
     "output_type": "stream",
     "text": [
      "2\n"
     ]
    },
    {
     "name": "stderr",
     "output_type": "stream",
     "text": [
      " 52%|████████████████████▊                   | 26/50 [00:11<00:10,  2.33it/s]"
     ]
    },
    {
     "name": "stdout",
     "output_type": "stream",
     "text": [
      "2\n"
     ]
    },
    {
     "name": "stderr",
     "output_type": "stream",
     "text": [
      " 54%|█████████████████████▌                  | 27/50 [00:12<00:09,  2.38it/s]"
     ]
    },
    {
     "name": "stdout",
     "output_type": "stream",
     "text": [
      "2\n"
     ]
    },
    {
     "name": "stderr",
     "output_type": "stream",
     "text": [
      " 56%|██████████████████████▍                 | 28/50 [00:12<00:09,  2.34it/s]"
     ]
    },
    {
     "name": "stdout",
     "output_type": "stream",
     "text": [
      "2\n"
     ]
    },
    {
     "name": "stderr",
     "output_type": "stream",
     "text": [
      " 58%|███████████████████████▏                | 29/50 [00:12<00:08,  2.37it/s]"
     ]
    },
    {
     "name": "stdout",
     "output_type": "stream",
     "text": [
      "2\n"
     ]
    },
    {
     "name": "stderr",
     "output_type": "stream",
     "text": [
      " 60%|████████████████████████                | 30/50 [00:13<00:08,  2.35it/s]"
     ]
    },
    {
     "name": "stdout",
     "output_type": "stream",
     "text": [
      "2\n"
     ]
    },
    {
     "name": "stderr",
     "output_type": "stream",
     "text": [
      " 62%|████████████████████████▊               | 31/50 [00:13<00:08,  2.30it/s]"
     ]
    },
    {
     "name": "stdout",
     "output_type": "stream",
     "text": [
      "2\n"
     ]
    },
    {
     "name": "stderr",
     "output_type": "stream",
     "text": [
      " 64%|█████████████████████████▌              | 32/50 [00:14<00:07,  2.27it/s]"
     ]
    },
    {
     "name": "stdout",
     "output_type": "stream",
     "text": [
      "2\n"
     ]
    },
    {
     "name": "stderr",
     "output_type": "stream",
     "text": [
      " 66%|██████████████████████████▍             | 33/50 [00:14<00:07,  2.22it/s]"
     ]
    },
    {
     "name": "stdout",
     "output_type": "stream",
     "text": [
      "2\n"
     ]
    },
    {
     "name": "stderr",
     "output_type": "stream",
     "text": [
      " 68%|███████████████████████████▏            | 34/50 [00:15<00:07,  2.21it/s]"
     ]
    },
    {
     "name": "stdout",
     "output_type": "stream",
     "text": [
      "2\n"
     ]
    },
    {
     "name": "stderr",
     "output_type": "stream",
     "text": [
      " 70%|████████████████████████████            | 35/50 [00:15<00:06,  2.24it/s]"
     ]
    },
    {
     "name": "stdout",
     "output_type": "stream",
     "text": [
      "2\n"
     ]
    },
    {
     "name": "stderr",
     "output_type": "stream",
     "text": [
      " 72%|████████████████████████████▊           | 36/50 [00:16<00:06,  2.29it/s]"
     ]
    },
    {
     "name": "stdout",
     "output_type": "stream",
     "text": [
      "2\n"
     ]
    },
    {
     "name": "stderr",
     "output_type": "stream",
     "text": [
      " 74%|█████████████████████████████▌          | 37/50 [00:16<00:05,  2.29it/s]"
     ]
    },
    {
     "name": "stdout",
     "output_type": "stream",
     "text": [
      "2\n"
     ]
    },
    {
     "name": "stderr",
     "output_type": "stream",
     "text": [
      " 76%|██████████████████████████████▍         | 38/50 [00:17<00:05,  2.23it/s]"
     ]
    },
    {
     "name": "stdout",
     "output_type": "stream",
     "text": [
      "2\n"
     ]
    },
    {
     "name": "stderr",
     "output_type": "stream",
     "text": [
      " 78%|███████████████████████████████▏        | 39/50 [00:17<00:04,  2.26it/s]"
     ]
    },
    {
     "name": "stdout",
     "output_type": "stream",
     "text": [
      "2\n"
     ]
    },
    {
     "name": "stderr",
     "output_type": "stream",
     "text": [
      " 80%|████████████████████████████████        | 40/50 [00:17<00:04,  2.26it/s]"
     ]
    },
    {
     "name": "stdout",
     "output_type": "stream",
     "text": [
      "2\n"
     ]
    },
    {
     "name": "stderr",
     "output_type": "stream",
     "text": [
      " 82%|████████████████████████████████▊       | 41/50 [00:18<00:04,  2.19it/s]"
     ]
    },
    {
     "name": "stdout",
     "output_type": "stream",
     "text": [
      "2\n"
     ]
    },
    {
     "name": "stderr",
     "output_type": "stream",
     "text": [
      " 84%|█████████████████████████████████▌      | 42/50 [00:18<00:03,  2.17it/s]"
     ]
    },
    {
     "name": "stdout",
     "output_type": "stream",
     "text": [
      "2\n"
     ]
    },
    {
     "name": "stderr",
     "output_type": "stream",
     "text": [
      " 86%|██████████████████████████████████▍     | 43/50 [00:19<00:03,  2.18it/s]"
     ]
    },
    {
     "name": "stdout",
     "output_type": "stream",
     "text": [
      "2\n"
     ]
    },
    {
     "name": "stderr",
     "output_type": "stream",
     "text": [
      " 88%|███████████████████████████████████▏    | 44/50 [00:19<00:02,  2.14it/s]"
     ]
    },
    {
     "name": "stdout",
     "output_type": "stream",
     "text": [
      "2\n"
     ]
    },
    {
     "name": "stderr",
     "output_type": "stream",
     "text": [
      " 90%|████████████████████████████████████    | 45/50 [00:20<00:02,  2.17it/s]"
     ]
    },
    {
     "name": "stdout",
     "output_type": "stream",
     "text": [
      "2\n"
     ]
    },
    {
     "name": "stderr",
     "output_type": "stream",
     "text": [
      " 92%|████████████████████████████████████▊   | 46/50 [00:20<00:01,  2.07it/s]"
     ]
    },
    {
     "name": "stdout",
     "output_type": "stream",
     "text": [
      "2\n"
     ]
    },
    {
     "name": "stderr",
     "output_type": "stream",
     "text": [
      " 94%|█████████████████████████████████████▌  | 47/50 [00:21<00:01,  2.11it/s]"
     ]
    },
    {
     "name": "stdout",
     "output_type": "stream",
     "text": [
      "2\n"
     ]
    },
    {
     "name": "stderr",
     "output_type": "stream",
     "text": [
      " 96%|██████████████████████████████████████▍ | 48/50 [00:21<00:00,  2.10it/s]"
     ]
    },
    {
     "name": "stdout",
     "output_type": "stream",
     "text": [
      "2\n"
     ]
    },
    {
     "name": "stderr",
     "output_type": "stream",
     "text": [
      " 98%|███████████████████████████████████████▏| 49/50 [00:22<00:00,  1.71it/s]"
     ]
    },
    {
     "name": "stdout",
     "output_type": "stream",
     "text": [
      "2\n"
     ]
    },
    {
     "name": "stderr",
     "output_type": "stream",
     "text": [
      "100%|████████████████████████████████████████| 50/50 [00:23<00:00,  2.17it/s]\n"
     ]
    }
   ],
   "source": [
    "\n",
    "n = 2\n",
    "Jx = np.zeros((n,n))\n",
    "for i in range(n):\n",
    "    Jx[i,i] = -2\n",
    "mode_gaps = -np.logspace(0, -8, num=50,  base=2)\n",
    "gs = []\n",
    "ss = []\n",
    "for i in tqdm(range(len(mode_gaps))):\n",
    "    Jx[1,1] = mode_gaps[i]\n",
    "    s,g = optimize_sg_old(Jx)\n",
    "    gs.append(g)\n",
    "    ss.append(s)"
   ]
  },
  {
   "cell_type": "code",
   "execution_count": 53,
   "id": "02ef9699-a78e-45f8-8a4e-8508d5c2bfef",
   "metadata": {},
   "outputs": [],
   "source": [
    "g_von = np.array(gs)\n",
    "s_von = np.array(ss)"
   ]
  },
  {
   "cell_type": "code",
   "execution_count": 49,
   "id": "4780ad90-8c73-432e-9723-eafc2d3d2422",
   "metadata": {},
   "outputs": [
    {
     "name": "stdout",
     "output_type": "stream",
     "text": [
      "4\n"
     ]
    }
   ],
   "source": [
    "mode_gaps = [-2,-1,-.5,-.25,-.125,-.0625,-.03125,-.03125/2]\n",
    "Jx[2,2] = mode_gaps[-1]\n",
    "s,g = optimize_sg(Jx,10000)\n",
    "gs.append(g)\n",
    "ss.append(s)"
   ]
  },
  {
   "cell_type": "code",
   "execution_count": 88,
   "id": "5c26ee95-1e39-4bf1-ab95-ff320aaa650e",
   "metadata": {},
   "outputs": [
    {
     "data": {
      "text/plain": [
       "<matplotlib.legend.Legend at 0x15b01fa30>"
      ]
     },
     "execution_count": 88,
     "metadata": {},
     "output_type": "execute_result"
    },
    {
     "data": {
      "image/png": "[encoded data removed]",
      "text/plain": [
       "<Figure size 640x480 with 1 Axes>"
      ]
     },
     "metadata": {},
     "output_type": "display_data"
    }
   ],
   "source": [
    "#mode_gaps = [-2,-1,-.5,-.25,-.125,-.0625,-.03125,-.03125/2]\n",
    "mode_gaps = -np.logspace(0, -8, num=50,  base=2)\n",
    "plt.plot(-1/(np.array(mode_gaps)), np.arccos(np.abs([np.dot(g,[0,1]) for g in gs])),label='g')\n",
    "plt.plot(-1/(np.array(mode_gaps)), np.arccos(np.abs([np.dot(s,[0,1]) for s in ss])),label = 's')\n",
    "plt.xscale('log')\n",
    "plt.ylabel('Angle between sensing/acting vector and slowest eigenvector')\n",
    "plt.xlabel('Mode gap')\n",
    "plt.legend()"
   ]
  },
  {
   "cell_type": "code",
   "execution_count": 85,
   "id": "0753c6bc-a886-4cfe-9338-e60679715fae",
   "metadata": {},
   "outputs": [
    {
     "data": {
      "image/png": "[encoded data removed]",
      "text/plain": [
       "<Figure size 640x480 with 1 Axes>"
      ]
     },
     "metadata": {},
     "output_type": "display_data"
    }
   ],
   "source": [
    "n = 4\n",
    "mu = np.zeros(n) + 1\n",
    "mu = mu/np.linalg.norm(mu)\n",
    "plt.plot(1/(np.array(mode_gaps)/-2), np.arccos(np.abs([np.dot(g,mu) for g in g_von])))\n",
    "plt.plot(1/(np.array(mode_gaps)/-2), np.arccos(np.abs([np.dot(s,mu) for s in s_von])))\n",
    "plt.xscale('log')"
   ]
  },
  {
   "cell_type": "code",
   "execution_count": 67,
   "id": "97e74e61-f8d4-48b0-a455-23e58246c373",
   "metadata": {},
   "outputs": [
    {
     "data": {
      "text/plain": [
       "array([0.35526836, 0.35526666, 0.78826085, 0.35526726])"
      ]
     },
     "execution_count": 67,
     "metadata": {},
     "output_type": "execute_result"
    }
   ],
   "source": [
    "gs[0]"
   ]
  },
  {
   "cell_type": "code",
   "execution_count": 40,
   "id": "9167c233-3e3a-4cba-9b65-a36a0a1a70d7",
   "metadata": {},
   "outputs": [
    {
     "data": {
      "text/plain": [
       "array([[0.50027712, 0.50035241, 0.49790621, 0.50145755],\n",
       "       [0.50197428, 0.50053101, 0.49938261, 0.49810394],\n",
       "       [0.50203466, 0.49982103, 0.49865503, 0.49948303],\n",
       "       [0.50037785, 0.49961032, 0.49634707, 0.50363788],\n",
       "       [0.50079495, 0.49965677, 0.5016969 , 0.4978431 ]])"
      ]
     },
     "execution_count": 40,
     "metadata": {},
     "output_type": "execute_result"
    }
   ],
   "source": [
    "n = 4\n",
    "mu = np.zeros(n) + 1\n",
    "mu = mu/np.linalg.norm(mu)\n",
    "sigma = 100000\n",
    "sp.stats.vonmises_fisher.rvs(mu=mu, kappa = sigma,size = 5)"
   ]
  },
  {
   "cell_type": "code",
   "execution_count": 182,
   "id": "4b87f8ae",
   "metadata": {},
   "outputs": [
    {
     "name": "stderr",
     "output_type": "stream",
     "text": [
      "\r",
      "  0%|                                                 | 0/30 [00:00<?, ?it/s]"
     ]
    },
    {
     "name": "stdout",
     "output_type": "stream",
     "text": [
      "4\n"
     ]
    },
    {
     "name": "stderr",
     "output_type": "stream",
     "text": [
      "\r",
      "  3%|█▎                                       | 1/30 [00:31<15:27, 32.00s/it]"
     ]
    },
    {
     "name": "stdout",
     "output_type": "stream",
     "text": [
      "4\n"
     ]
    },
    {
     "name": "stderr",
     "output_type": "stream",
     "text": [
      "\r",
      "  7%|██▋                                      | 2/30 [01:04<14:56, 32.02s/it]"
     ]
    },
    {
     "name": "stdout",
     "output_type": "stream",
     "text": [
      "4\n"
     ]
    },
    {
     "name": "stderr",
     "output_type": "stream",
     "text": [
      "\r",
      " 10%|████                                     | 3/30 [01:33<13:52, 30.84s/it]"
     ]
    },
    {
     "name": "stdout",
     "output_type": "stream",
     "text": [
      "4\n"
     ]
    },
    {
     "name": "stderr",
     "output_type": "stream",
     "text": [
      "\r",
      " 13%|█████▍                                   | 4/30 [02:06<13:46, 31.80s/it]"
     ]
    },
    {
     "name": "stdout",
     "output_type": "stream",
     "text": [
      "4\n"
     ]
    },
    {
     "name": "stderr",
     "output_type": "stream",
     "text": [
      "\r",
      " 17%|██████▊                                  | 5/30 [02:40<13:30, 32.42s/it]"
     ]
    },
    {
     "name": "stdout",
     "output_type": "stream",
     "text": [
      "4\n"
     ]
    },
    {
     "name": "stderr",
     "output_type": "stream",
     "text": [
      "\r",
      " 20%|████████▏                                | 6/30 [03:12<12:57, 32.40s/it]"
     ]
    },
    {
     "name": "stdout",
     "output_type": "stream",
     "text": [
      "4\n"
     ]
    },
    {
     "name": "stderr",
     "output_type": "stream",
     "text": [
      "\r",
      " 23%|█████████▌                               | 7/30 [03:44<12:18, 32.11s/it]"
     ]
    },
    {
     "name": "stdout",
     "output_type": "stream",
     "text": [
      "4\n"
     ]
    },
    {
     "name": "stderr",
     "output_type": "stream",
     "text": [
      "\r",
      " 27%|██████████▉                              | 8/30 [04:17<11:57, 32.62s/it]"
     ]
    },
    {
     "name": "stdout",
     "output_type": "stream",
     "text": [
      "4\n"
     ]
    },
    {
     "name": "stderr",
     "output_type": "stream",
     "text": [
      "\r",
      " 30%|████████████▎                            | 9/30 [04:53<11:44, 33.56s/it]"
     ]
    },
    {
     "name": "stdout",
     "output_type": "stream",
     "text": [
      "4\n"
     ]
    },
    {
     "name": "stderr",
     "output_type": "stream",
     "text": [
      "\r",
      " 33%|█████████████▎                          | 10/30 [05:25<10:59, 32.96s/it]"
     ]
    },
    {
     "name": "stdout",
     "output_type": "stream",
     "text": [
      "4\n"
     ]
    },
    {
     "name": "stderr",
     "output_type": "stream",
     "text": [
      "\r",
      " 37%|██████████████▋                         | 11/30 [05:59<10:37, 33.55s/it]"
     ]
    },
    {
     "name": "stdout",
     "output_type": "stream",
     "text": [
      "4\n"
     ]
    },
    {
     "name": "stderr",
     "output_type": "stream",
     "text": [
      "\r",
      " 40%|████████████████                        | 12/30 [06:33<10:01, 33.41s/it]"
     ]
    },
    {
     "name": "stdout",
     "output_type": "stream",
     "text": [
      "4\n"
     ]
    },
    {
     "name": "stderr",
     "output_type": "stream",
     "text": [
      "\r",
      " 43%|█████████████████▎                      | 13/30 [07:10<09:50, 34.74s/it]"
     ]
    },
    {
     "name": "stdout",
     "output_type": "stream",
     "text": [
      "4\n"
     ]
    },
    {
     "name": "stderr",
     "output_type": "stream",
     "text": [
      "\r",
      " 47%|██████████████████▋                     | 14/30 [07:43<09:03, 33.98s/it]"
     ]
    },
    {
     "name": "stdout",
     "output_type": "stream",
     "text": [
      "4\n"
     ]
    },
    {
     "name": "stderr",
     "output_type": "stream",
     "text": [
      "\r",
      " 50%|████████████████████                    | 15/30 [08:19<08:39, 34.63s/it]"
     ]
    },
    {
     "name": "stdout",
     "output_type": "stream",
     "text": [
      "4\n"
     ]
    },
    {
     "name": "stderr",
     "output_type": "stream",
     "text": [
      "\r",
      " 53%|█████████████████████▎                  | 16/30 [08:54<08:09, 34.96s/it]"
     ]
    },
    {
     "name": "stdout",
     "output_type": "stream",
     "text": [
      "4\n"
     ]
    },
    {
     "name": "stderr",
     "output_type": "stream",
     "text": [
      "\r",
      " 57%|██████████████████████▋                 | 17/30 [09:32<07:42, 35.59s/it]"
     ]
    },
    {
     "name": "stdout",
     "output_type": "stream",
     "text": [
      "4\n"
     ]
    },
    {
     "name": "stderr",
     "output_type": "stream",
     "text": [
      "\r",
      " 60%|████████████████████████                | 18/30 [10:01<06:46, 33.86s/it]"
     ]
    },
    {
     "name": "stdout",
     "output_type": "stream",
     "text": [
      "4\n"
     ]
    },
    {
     "name": "stderr",
     "output_type": "stream",
     "text": [
      "\r",
      " 63%|█████████████████████████▎              | 19/30 [10:37<06:17, 34.29s/it]"
     ]
    },
    {
     "name": "stdout",
     "output_type": "stream",
     "text": [
      "4\n"
     ]
    },
    {
     "name": "stderr",
     "output_type": "stream",
     "text": [
      "\r",
      " 67%|██████████████████████████▋             | 20/30 [11:11<05:42, 34.29s/it]"
     ]
    },
    {
     "name": "stdout",
     "output_type": "stream",
     "text": [
      "4\n"
     ]
    },
    {
     "name": "stderr",
     "output_type": "stream",
     "text": [
      "\r",
      " 70%|████████████████████████████            | 21/30 [11:46<05:09, 34.44s/it]"
     ]
    },
    {
     "name": "stdout",
     "output_type": "stream",
     "text": [
      "4\n"
     ]
    },
    {
     "name": "stderr",
     "output_type": "stream",
     "text": [
      "\r",
      " 73%|█████████████████████████████▎          | 22/30 [12:20<04:34, 34.27s/it]"
     ]
    },
    {
     "name": "stdout",
     "output_type": "stream",
     "text": [
      "4\n"
     ]
    },
    {
     "name": "stderr",
     "output_type": "stream",
     "text": [
      "\r",
      " 77%|██████████████████████████████▋         | 23/30 [12:58<04:07, 35.36s/it]"
     ]
    },
    {
     "name": "stdout",
     "output_type": "stream",
     "text": [
      "4\n"
     ]
    },
    {
     "name": "stderr",
     "output_type": "stream",
     "text": [
      "\r",
      " 80%|████████████████████████████████        | 24/30 [13:39<03:43, 37.27s/it]"
     ]
    },
    {
     "name": "stdout",
     "output_type": "stream",
     "text": [
      "4\n"
     ]
    },
    {
     "name": "stderr",
     "output_type": "stream",
     "text": [
      "\r",
      " 83%|█████████████████████████████████▎      | 25/30 [14:18<03:08, 37.66s/it]"
     ]
    },
    {
     "name": "stdout",
     "output_type": "stream",
     "text": [
      "4\n"
     ]
    },
    {
     "name": "stderr",
     "output_type": "stream",
     "text": [
      "\r",
      " 87%|██████████████████████████████████▋     | 26/30 [15:00<02:36, 39.10s/it]"
     ]
    },
    {
     "name": "stdout",
     "output_type": "stream",
     "text": [
      "4\n"
     ]
    },
    {
     "name": "stderr",
     "output_type": "stream",
     "text": [
      "\r",
      " 90%|████████████████████████████████████    | 27/30 [15:39<01:56, 38.96s/it]"
     ]
    },
    {
     "name": "stdout",
     "output_type": "stream",
     "text": [
      "4\n"
     ]
    },
    {
     "name": "stderr",
     "output_type": "stream",
     "text": [
      "\r",
      " 93%|█████████████████████████████████████▎  | 28/30 [16:16<01:16, 38.30s/it]"
     ]
    },
    {
     "name": "stdout",
     "output_type": "stream",
     "text": [
      "4\n"
     ]
    },
    {
     "name": "stderr",
     "output_type": "stream",
     "text": [
      "\r",
      " 97%|██████████████████████████████████████▋ | 29/30 [16:50<00:36, 36.97s/it]"
     ]
    },
    {
     "name": "stdout",
     "output_type": "stream",
     "text": [
      "4\n"
     ]
    },
    {
     "name": "stderr",
     "output_type": "stream",
     "text": [
      "100%|████████████████████████████████████████| 30/30 [17:29<00:00, 34.97s/it]\n"
     ]
    }
   ],
   "source": [
    "results = []\n",
    "Jxs = []\n",
    "for j in tqdm(range(30)):    \n",
    "    n = 4\n",
    "    D = np.zeros((n,n))\n",
    "    for i in range(n):\n",
    "        D[i,i] = -1\n",
    "\n",
    "    D[1,1] = -0.001\n",
    "\n",
    "    P = gram_schmidt(np.random.rand(4,4))\n",
    "    Jx = np.matmul(np.matmul(P,D),np.linalg.inv(P))\n",
    "    results.append(optimize_sg_constrained_4(Jx))\n",
    "    Jxs.append(Jx)\n"
   ]
  },
  {
   "cell_type": "code",
   "execution_count": 194,
   "id": "04d2bf22",
   "metadata": {},
   "outputs": [],
   "source": [
    "axis_frac = [np.sum([np.abs(Jxs[j][i,i]) for i in range(4)])/np.sum(np.abs(Jxs[j])) for j in range(len(Jxs))]"
   ]
  },
  {
   "cell_type": "code",
   "execution_count": 192,
   "id": "c8b60a9e",
   "metadata": {},
   "outputs": [],
   "source": [
    "axis_frac = [np.abs(Jxs[j][1,1])/np.sum(np.abs(Jxs[j])) for j in range(len(Jxs))]"
   ]
  },
  {
   "cell_type": "code",
   "execution_count": 195,
   "id": "ccbeff1f",
   "metadata": {},
   "outputs": [
    {
     "data": {
      "text/plain": [
       "(0.0, 10.0)"
      ]
     },
     "execution_count": 195,
     "metadata": {},
     "output_type": "execute_result"
    },
    {
     "data": {
      "image/png": "[encoded data removed]",
      "text/plain": [
       "<Figure size 640x480 with 1 Axes>"
      ]
     },
     "metadata": {},
     "output_type": "display_data"
    }
   ],
   "source": [
    "plt.scatter(axis_frac,results)\n",
    "plt.ylim([0,10])"
   ]
  },
  {
   "cell_type": "code",
   "execution_count": 187,
   "id": "bf3eaaba",
   "metadata": {},
   "outputs": [
    {
     "data": {
      "text/plain": [
       "0.5434977395308782"
      ]
     },
     "execution_count": 187,
     "metadata": {},
     "output_type": "execute_result"
    }
   ],
   "source": [
    "np.sum([np.abs(Jxs[j][i,i]) for i in range(4)])/np.sum(np.abs(Jxs[j]))"
   ]
  },
  {
   "cell_type": "code",
   "execution_count": 176,
   "id": "86b01938",
   "metadata": {},
   "outputs": [
    {
     "data": {
      "text/plain": [
       "array([[ 0.38,  0.28,  0.76,  0.45],\n",
       "       [ 0.9 , -0.32, -0.21, -0.21],\n",
       "       [ 0.2 ,  0.91, -0.29, -0.24],\n",
       "       [ 0.08,  0.03, -0.54,  0.84]])"
      ]
     },
     "execution_count": 176,
     "metadata": {},
     "output_type": "execute_result"
    }
   ],
   "source": [
    "np.round(P,2)"
   ]
  },
  {
   "cell_type": "code",
   "execution_count": 76,
   "id": "fc2b833b",
   "metadata": {},
   "outputs": [],
   "source": [
    "def evs(a,b,c):\n",
    "    return [map_angles_to_n_sphere([0+a,0+b,0+c]),\n",
    "            map_angles_to_n_sphere([np.pi/2+a,np.pi/2+b,0+c]),\n",
    "            map_angles_to_n_sphere([np.pi/2+a,0+b,0+c]),\n",
    "            map_angles_to_n_sphere([np.pi/2+a,np.pi/2+b,np.pi/2+c])]"
   ]
  },
  {
   "cell_type": "code",
   "execution_count": 79,
   "id": "1408d224",
   "metadata": {},
   "outputs": [],
   "source": [
    "def hopf_coord(theta):\n",
    "    return [np.cos(theta[0])*np.sin(theta[1]),\n",
    "            np.sin(theta[0])*np.sin(theta[1]),\n",
    "            np.cos(theta[2])*np.cos(theta[1]),\n",
    "            np.sin(theta[2])*np.cos(theta[1])]\n"
   ]
  },
  {
   "cell_type": "code",
   "execution_count": 121,
   "id": "71cffd19",
   "metadata": {},
   "outputs": [],
   "source": [
    "def evs(a,b,c):\n",
    "    return [hopf_coord([0+a,np.pi/2,0+b]),\n",
    "            hopf_coord([np.pi/2+a,np.pi/2,0+b]),\n",
    "            hopf_coord([0+a,0,0+b]),\n",
    "            hopf_coord([0+a,0,np.pi/2+b])]"
   ]
  },
  {
   "cell_type": "code",
   "execution_count": 132,
   "id": "b26983c0",
   "metadata": {},
   "outputs": [
    {
     "data": {
      "text/plain": [
       "8.326672684688674e-17"
      ]
     },
     "execution_count": 132,
     "metadata": {},
     "output_type": "execute_result"
    }
   ],
   "source": [
    "a = .2\n",
    "b = .2\n",
    "c = .1\n",
    "np.dot(evs(a,b,c)[0],evs(a,b,c)[1])\n"
   ]
  },
  {
   "cell_type": "code",
   "execution_count": 98,
   "id": "3a5a27e4",
   "metadata": {},
   "outputs": [
    {
     "data": {
      "text/plain": [
       "array([9.80066578e-01, 1.98669331e-01, 5.63987199e-17, 2.38449963e-17])"
      ]
     },
     "execution_count": 98,
     "metadata": {},
     "output_type": "execute_result"
    }
   ],
   "source": [
    "P = np.stack(evs(.2,.4),axis = 1)\n",
    "P[:,0]"
   ]
  },
  {
   "cell_type": "code",
   "execution_count": 99,
   "id": "2a09225f",
   "metadata": {},
   "outputs": [
    {
     "data": {
      "text/plain": [
       "[0.9800665778412416,\n",
       " 0.19866933079506122,\n",
       " 5.639871990625564e-17,\n",
       " 2.384499632187786e-17]"
      ]
     },
     "execution_count": 99,
     "metadata": {},
     "output_type": "execute_result"
    }
   ],
   "source": [
    "evs(.2,.4)[0]"
   ]
  },
  {
   "cell_type": "code",
   "execution_count": 82,
   "id": "cc6bf66d",
   "metadata": {},
   "outputs": [
    {
     "name": "stdout",
     "output_type": "stream",
     "text": [
      "[1.0, 0.0, 6.123233995736766e-17, 0.0]\n",
      "[6.123233995736766e-17, 1.0, 6.123233995736766e-17, 0.0]\n",
      "[0.0, 0.0, 1.0, 0.0]\n",
      "[0.0, 0.0, 6.123233995736766e-17, 1.0]\n"
     ]
    }
   ],
   "source": [
    "hopf_coord([0,np.pi/2,0])\n",
    "hopf_coord([np.pi/2,np.pi/2,0])\n",
    "hopf_coord([0,0,0])\n",
    "hopf_coord([0,0,np.pi/2])"
   ]
  },
  {
   "cell_type": "code",
   "execution_count": 77,
   "id": "9902aff9",
   "metadata": {},
   "outputs": [],
   "source": [
    "ev = evs(1,0,0)"
   ]
  },
  {
   "cell_type": "code",
   "execution_count": 75,
   "id": "71c5fc5e",
   "metadata": {},
   "outputs": [
    {
     "data": {
      "text/plain": [
       "0.7080734182735712"
      ]
     },
     "execution_count": 75,
     "metadata": {},
     "output_type": "execute_result"
    }
   ],
   "source": [
    "np.dot(ev[2],ev[1])"
   ]
  },
  {
   "cell_type": "code",
   "execution_count": 18,
   "id": "c0284179",
   "metadata": {},
   "outputs": [
    {
     "data": {
      "text/plain": [
       "(array([  0.,   7.,   0., 266.,   0.,   0., 726.,   0.,   0.,   1.]),\n",
       " array([1., 1., 1., 1., 1., 1., 1., 1., 1., 1., 1.]),\n",
       " <BarContainer object of 10 artists>)"
      ]
     },
     "execution_count": 18,
     "metadata": {},
     "output_type": "execute_result"
    },
    {
     "data": {
      "image/png": "[encoded data removed]",
      "text/plain": [
       "<Figure size 640x480 with 1 Axes>"
      ]
     },
     "metadata": {},
     "output_type": "display_data"
    }
   ],
   "source": [
    "plt.hist([np.linalg.norm(map_angles_to_n_sphere(np.random.rand(4)*10)) for i in range(1000)])"
   ]
  },
  {
   "cell_type": "code",
   "execution_count": 40,
   "id": "b7e51048",
   "metadata": {},
   "outputs": [
    {
     "data": {
      "text/plain": [
       "5.6339043248944245"
      ]
     },
     "execution_count": 40,
     "metadata": {},
     "output_type": "execute_result"
    }
   ],
   "source": [
    "avg_dx_norm(map_angles_to_n_sphere(np.random.rand(n-1)),map_angles_to_n_sphere(np.random.rand(n-1)),Jx)"
   ]
  },
  {
   "cell_type": "code",
   "execution_count": 15,
   "id": "37da3298",
   "metadata": {},
   "outputs": [
    {
     "data": {
      "text/plain": [
       "[[0, 3.141592653589793],\n",
       " [0, 3.141592653589793],\n",
       " [0, 3.141592653589793],\n",
       " [0, 3.141592653589793],\n",
       " [0, 3.141592653589793],\n",
       " [0, 3.141592653589793],\n",
       " [0, 3.141592653589793],\n",
       " [0, 3.141592653589793],\n",
       " [0, 6.283185307179586],\n",
       " [0, 3.141592653589793],\n",
       " [0, 3.141592653589793],\n",
       " [0, 3.141592653589793],\n",
       " [0, 3.141592653589793],\n",
       " [0, 3.141592653589793],\n",
       " [0, 3.141592653589793],\n",
       " [0, 3.141592653589793],\n",
       " [0, 3.141592653589793],\n",
       " [0, 6.283185307179586]]"
      ]
     },
     "execution_count": 15,
     "metadata": {},
     "output_type": "execute_result"
    }
   ],
   "source": [
    "bounds = [[0,np.pi] for i in range(n-2)]\n",
    "bounds.append([0,2*np.pi])\n",
    "for i in range(n-2):\n",
    "    bounds.append([0,np.pi])\n",
    "bounds.append([0,2*np.pi])\n",
    "\n",
    "bounds"
   ]
  },
  {
   "cell_type": "code",
   "execution_count": 146,
   "id": "0f184530",
   "metadata": {},
   "outputs": [],
   "source": [
    "def gram_schmidt(vectors):\n",
    "    num_vectors, vector_dim = vectors.shape\n",
    "    orthogonalized_vectors = np.zeros((num_vectors, vector_dim))\n",
    "\n",
    "    for i in range(num_vectors):\n",
    "        v = vectors[i]\n",
    "        for j in range(i):\n",
    "            u = orthogonalized_vectors[j]\n",
    "            v = v - np.dot(v, u) / np.dot(u, u) * u\n",
    "        orthogonalized_vectors[i] = v / np.linalg.norm(v)\n",
    "\n",
    "    return orthogonalized_vectors\n"
   ]
  },
  {
   "cell_type": "code",
   "execution_count": 156,
   "id": "07c49c0c",
   "metadata": {},
   "outputs": [
    {
     "data": {
      "text/plain": [
       "1.0000000000000002"
      ]
     },
     "execution_count": 156,
     "metadata": {},
     "output_type": "execute_result"
    }
   ],
   "source": [
    "P = gram_schmidt(np.random.rand(4,4))\n",
    "np.dot(P[0,:],P[0,:])"
   ]
  },
  {
   "cell_type": "code",
   "execution_count": 158,
   "id": "16529507",
   "metadata": {},
   "outputs": [
    {
     "data": {
      "text/plain": [
       "1.0"
      ]
     },
     "execution_count": 158,
     "metadata": {},
     "output_type": "execute_result"
    }
   ],
   "source": [
    "np.linalg.norm(P[0,:])"
   ]
  },
  {
   "cell_type": "code",
   "execution_count": null,
   "id": "5440cd3e",
   "metadata": {},
   "outputs": [],
   "source": []
  }
 ],
 "metadata": {
  "kernelspec": {
   "display_name": "Python 3 (ipykernel)",
   "language": "python",
   "name": "python3"
  },
  "language_info": {
   "codemirror_mode": {
    "name": "ipython",
    "version": 3
   },
   "file_extension": ".py",
   "mimetype": "text/x-python",
   "name": "python",
   "nbconvert_exporter": "python",
   "pygments_lexer": "ipython3",
   "version": "3.9.16"
  }
 },
 "nbformat": 4,
 "nbformat_minor": 5
}
