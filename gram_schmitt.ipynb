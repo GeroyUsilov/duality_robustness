{
 "cells": [
  {
   "cell_type": "code",
   "execution_count": 3,
   "id": "a4e2391d-7168-4af7-a2d4-19bea9c5d59a",
   "metadata": {},
   "outputs": [],
   "source": [
    "import scipy as sp\n",
    "import numpy as np\n",
    "from IPython.display import clear_output\n",
    "import matplotlib.pyplot as plt\n",
    "from tqdm import tqdm"
   ]
  },
  {
   "cell_type": "code",
   "execution_count": 4,
   "id": "bcf3767b-e09f-41b1-881f-38e17e94d2b2",
   "metadata": {},
   "outputs": [],
   "source": [
    "def gram_schmidt(vectors):\n",
    "    num_vectors, vector_dim = vectors.shape\n",
    "    orthogonalized_vectors = np.zeros((num_vectors, vector_dim))\n",
    "\n",
    "    for i in range(num_vectors):\n",
    "        v = vectors[i]\n",
    "        for j in range(i):\n",
    "            u = orthogonalized_vectors[j]\n",
    "            v = v - np.dot(v, u) / np.dot(u, u) * u\n",
    "        orthogonalized_vectors[i] = v / np.linalg.norm(v)\n",
    "\n",
    "    return orthogonalized_vectors"
   ]
  },
  {
   "cell_type": "code",
   "execution_count": 53,
   "id": "c6211732-36a6-48a8-b423-908e64496fa9",
   "metadata": {},
   "outputs": [
    {
     "name": "stderr",
     "output_type": "stream",
     "text": [
      "100%|█████████████████████████████| 100000/100000 [00:03<00:00, 27122.00it/s]\n"
     ]
    }
   ],
   "source": [
    "x = []\n",
    "y = []\n",
    "z=[]\n",
    "for i in tqdm(range(100000)):\n",
    "    P = gram_schmidt(np.random.rand(3,3)-0.5)\n",
    "    x.append(P[0,0])\n",
    "    y.append(P[0,1])\n",
    "    z.append(P[0,2])\n",
    "x = np.array(x)\n",
    "y = np.array(y)\n",
    "z = np.array(z)"
   ]
  },
  {
   "cell_type": "code",
   "execution_count": 55,
   "id": "faf92bdc-733c-4c05-8024-d5697d37be97",
   "metadata": {},
   "outputs": [],
   "source": [
    "theta = np.arccos(z/np.sqrt(x**2 + y**2 + z**2))\n",
    "phi = np.arccos(x/np.sqrt(x**2 + y**2 ))*y/np.abs(y)"
   ]
  },
  {
   "cell_type": "code",
   "execution_count": 57,
   "id": "7e3f95c3-2e46-4216-8995-24f573ba5fd9",
   "metadata": {},
   "outputs": [
    {
     "data": {
      "image/png": "[encoded data removed]",
      "text/plain": [
       "<Figure size 640x480 with 1 Axes>"
      ]
     },
     "metadata": {},
     "output_type": "display_data"
    }
   ],
   "source": [
    "plt.hist(theta,bins =20)\n",
    "plt.show()"
   ]
  },
  {
   "cell_type": "code",
   "execution_count": null,
   "id": "6fda39e8-8a4a-4755-8108-be0ec2af375c",
   "metadata": {},
   "outputs": [],
   "source": []
  }
 ],
 "metadata": {
  "kernelspec": {
   "display_name": "Python 3 (ipykernel)",
   "language": "python",
   "name": "python3"
  },
  "language_info": {
   "codemirror_mode": {
    "name": "ipython",
    "version": 3
   },
   "file_extension": ".py",
   "mimetype": "text/x-python",
   "name": "python",
   "nbconvert_exporter": "python",
   "pygments_lexer": "ipython3",
   "version": "3.9.16"
  }
 },
 "nbformat": 4,
 "nbformat_minor": 5
}
