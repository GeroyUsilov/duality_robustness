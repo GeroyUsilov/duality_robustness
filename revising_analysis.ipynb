{
 "cells": [
  {
   "cell_type": "code",
   "execution_count": 66,
   "id": "3caf06c8",
   "metadata": {},
   "outputs": [],
   "source": [
    "import numpy as np\n",
    "import pandas as pd\n",
    "import matplotlib.pyplot as plt\n",
    "from tqdm import tqdm\n",
    "import scipy.stats\n",
    "import seaborn as sbs"
   ]
  },
  {
   "cell_type": "markdown",
   "id": "ad793995",
   "metadata": {},
   "source": [
    "Import data from Costanzo et al (Science 2021)."
   ]
  },
  {
   "cell_type": "code",
   "execution_count": 139,
   "id": "0bafe02a",
   "metadata": {},
   "outputs": [],
   "source": [
    "datadir = \"/Volumes/Storage/duality_project_data/data/\"\n",
    "filename =\"Costanzo_et_al_Data File S1_Conditions_Strains_Fitness.xlsx\""
   ]
  },
  {
   "cell_type": "code",
   "execution_count": 140,
   "id": "865d8b13",
   "metadata": {
    "scrolled": true
   },
   "outputs": [
    {
     "data": {
      "text/html": [
       "<div>\n",
       "<style scoped>\n",
       "    .dataframe tbody tr th:only-of-type {\n",
       "        vertical-align: middle;\n",
       "    }\n",
       "\n",
       "    .dataframe tbody tr th {\n",
       "        vertical-align: top;\n",
       "    }\n",
       "\n",
       "    .dataframe thead th {\n",
       "        text-align: right;\n",
       "    }\n",
       "</style>\n",
       "<table border=\"1\" class=\"dataframe\">\n",
       "  <thead>\n",
       "    <tr style=\"text-align: right;\">\n",
       "      <th></th>\n",
       "      <th>Gene Name</th>\n",
       "      <th>Actinomycin D</th>\n",
       "      <th>Benomyl</th>\n",
       "      <th>Boretzeomib</th>\n",
       "      <th>Caspofungin</th>\n",
       "      <th>Concanmycin A</th>\n",
       "      <th>Cycloheximide</th>\n",
       "      <th>Fluconozole</th>\n",
       "      <th>Galactose</th>\n",
       "      <th>Geldenamycin</th>\n",
       "      <th>MMS</th>\n",
       "      <th>Monensin</th>\n",
       "      <th>Rapamycin</th>\n",
       "      <th>Sorbitol</th>\n",
       "      <th>Tunicamycin</th>\n",
       "    </tr>\n",
       "  </thead>\n",
       "  <tbody>\n",
       "    <tr>\n",
       "      <th>0</th>\n",
       "      <td>TFC3</td>\n",
       "      <td>0.0050</td>\n",
       "      <td>0.1380</td>\n",
       "      <td>-0.0220</td>\n",
       "      <td>-0.0180</td>\n",
       "      <td>0.0280</td>\n",
       "      <td>-0.0080</td>\n",
       "      <td>0.0510</td>\n",
       "      <td>0.0400</td>\n",
       "      <td>-0.0250</td>\n",
       "      <td>0.0290</td>\n",
       "      <td>-0.0370</td>\n",
       "      <td>-0.0020</td>\n",
       "      <td>-0.0370</td>\n",
       "      <td>-0.0240</td>\n",
       "    </tr>\n",
       "    <tr>\n",
       "      <th>1</th>\n",
       "      <td>VPS8</td>\n",
       "      <td>-0.4890</td>\n",
       "      <td>-0.1980</td>\n",
       "      <td>-0.1150</td>\n",
       "      <td>-0.0360</td>\n",
       "      <td>-0.1320</td>\n",
       "      <td>-0.0450</td>\n",
       "      <td>-0.0270</td>\n",
       "      <td>-0.0940</td>\n",
       "      <td>-0.0670</td>\n",
       "      <td>-0.0520</td>\n",
       "      <td>-0.0330</td>\n",
       "      <td>-0.2965</td>\n",
       "      <td>-0.1115</td>\n",
       "      <td>-0.0850</td>\n",
       "    </tr>\n",
       "    <tr>\n",
       "      <th>3</th>\n",
       "      <td>SSA1</td>\n",
       "      <td>-0.0310</td>\n",
       "      <td>0.0100</td>\n",
       "      <td>-0.0150</td>\n",
       "      <td>0.0260</td>\n",
       "      <td>-0.0460</td>\n",
       "      <td>-0.0020</td>\n",
       "      <td>0.0750</td>\n",
       "      <td>-0.0250</td>\n",
       "      <td>-0.0040</td>\n",
       "      <td>-0.0130</td>\n",
       "      <td>-0.0230</td>\n",
       "      <td>0.2015</td>\n",
       "      <td>0.1265</td>\n",
       "      <td>0.0430</td>\n",
       "    </tr>\n",
       "    <tr>\n",
       "      <th>4</th>\n",
       "      <td>ERP2</td>\n",
       "      <td>-0.0315</td>\n",
       "      <td>0.0295</td>\n",
       "      <td>0.0215</td>\n",
       "      <td>-0.0505</td>\n",
       "      <td>0.0585</td>\n",
       "      <td>0.0205</td>\n",
       "      <td>0.0215</td>\n",
       "      <td>0.0145</td>\n",
       "      <td>0.0335</td>\n",
       "      <td>-0.0435</td>\n",
       "      <td>-0.0085</td>\n",
       "      <td>0.0835</td>\n",
       "      <td>-0.0265</td>\n",
       "      <td>-0.0105</td>\n",
       "    </tr>\n",
       "    <tr>\n",
       "      <th>5</th>\n",
       "      <td>FUN14</td>\n",
       "      <td>0.0195</td>\n",
       "      <td>-0.0135</td>\n",
       "      <td>-0.0275</td>\n",
       "      <td>0.0315</td>\n",
       "      <td>0.0315</td>\n",
       "      <td>0.0335</td>\n",
       "      <td>-0.0515</td>\n",
       "      <td>0.0255</td>\n",
       "      <td>0.0555</td>\n",
       "      <td>0.0005</td>\n",
       "      <td>0.0225</td>\n",
       "      <td>0.0410</td>\n",
       "      <td>-0.0280</td>\n",
       "      <td>-0.0225</td>\n",
       "    </tr>\n",
       "  </tbody>\n",
       "</table>\n",
       "</div>"
      ],
      "text/plain": [
       "  Gene Name  Actinomycin D  Benomyl  Boretzeomib  Caspofungin   Concanmycin A  \\\n",
       "0      TFC3         0.0050   0.1380      -0.0220       -0.0180         0.0280   \n",
       "1      VPS8        -0.4890  -0.1980      -0.1150       -0.0360        -0.1320   \n",
       "3      SSA1        -0.0310   0.0100      -0.0150        0.0260        -0.0460   \n",
       "4      ERP2        -0.0315   0.0295       0.0215       -0.0505         0.0585   \n",
       "5     FUN14         0.0195  -0.0135      -0.0275        0.0315         0.0315   \n",
       "\n",
       "   Cycloheximide  Fluconozole  Galactose  Geldenamycin    MMS   Monensin  \\\n",
       "0        -0.0080       0.0510     0.0400       -0.0250  0.0290   -0.0370   \n",
       "1        -0.0450      -0.0270    -0.0940       -0.0670 -0.0520   -0.0330   \n",
       "3        -0.0020       0.0750    -0.0250       -0.0040 -0.0130   -0.0230   \n",
       "4         0.0205       0.0215     0.0145        0.0335 -0.0435   -0.0085   \n",
       "5         0.0335      -0.0515     0.0255        0.0555  0.0005    0.0225   \n",
       "\n",
       "   Rapamycin  Sorbitol  Tunicamycin  \n",
       "0    -0.0020   -0.0370      -0.0240  \n",
       "1    -0.2965   -0.1115      -0.0850  \n",
       "3     0.2015    0.1265       0.0430  \n",
       "4     0.0835   -0.0265      -0.0105  \n",
       "5     0.0410   -0.0280      -0.0225  "
      ]
     },
     "execution_count": 140,
     "metadata": {},
     "output_type": "execute_result"
    }
   ],
   "source": [
    "df_env = pd.read_excel(datadir+filename,sheet_name=5).drop(['Systematic Name',\n",
    "                                                            'Allele (Essential genes only)',\n",
    "                                                            'Strain ID', \n",
    "                                                            'on Diagnostic Array'],\n",
    "                                                            axis = 1)\n",
    "df_env['Gene Name'] = df_env['Gene Name'].astype(str)\n",
    "df_env = df_env[df_env['Gene Name']!='nan']\n",
    "\n",
    "df_env.head()"
   ]
  },
  {
   "cell_type": "code",
   "execution_count": 157,
   "id": "ab716ee1",
   "metadata": {},
   "outputs": [
    {
     "data": {
      "text/html": [
       "<div>\n",
       "<style scoped>\n",
       "    .dataframe tbody tr th:only-of-type {\n",
       "        vertical-align: middle;\n",
       "    }\n",
       "\n",
       "    .dataframe tbody tr th {\n",
       "        vertical-align: top;\n",
       "    }\n",
       "\n",
       "    .dataframe thead th {\n",
       "        text-align: right;\n",
       "    }\n",
       "</style>\n",
       "<table border=\"1\" class=\"dataframe\">\n",
       "  <thead>\n",
       "    <tr style=\"text-align: right;\">\n",
       "      <th></th>\n",
       "      <th>Gene Name</th>\n",
       "      <th>Actinomycin D</th>\n",
       "      <th>Benomyl</th>\n",
       "      <th>Boretzeomib</th>\n",
       "      <th>Caspofungin</th>\n",
       "      <th>Concanmycin A</th>\n",
       "      <th>Cycloheximide</th>\n",
       "      <th>Fluconozole</th>\n",
       "      <th>Galactose</th>\n",
       "      <th>Geldenamycin</th>\n",
       "      <th>MMS</th>\n",
       "      <th>Monensin</th>\n",
       "      <th>Rapamycin</th>\n",
       "      <th>Sorbitol</th>\n",
       "      <th>Tunicamycin</th>\n",
       "    </tr>\n",
       "  </thead>\n",
       "  <tbody>\n",
       "    <tr>\n",
       "      <th>4235</th>\n",
       "      <td>HSP82</td>\n",
       "      <td>-0.1575</td>\n",
       "      <td>-0.0815</td>\n",
       "      <td>-0.0055</td>\n",
       "      <td>-0.0725</td>\n",
       "      <td>-0.0015</td>\n",
       "      <td>0.0225</td>\n",
       "      <td>0.0245</td>\n",
       "      <td>0.0885</td>\n",
       "      <td>-0.1105</td>\n",
       "      <td>0.0375</td>\n",
       "      <td>0.0185</td>\n",
       "      <td>0.0025</td>\n",
       "      <td>0.0375</td>\n",
       "      <td>-0.0145</td>\n",
       "    </tr>\n",
       "  </tbody>\n",
       "</table>\n",
       "</div>"
      ],
      "text/plain": [
       "     Gene Name  Actinomycin D  Benomyl  Boretzeomib  Caspofungin   \\\n",
       "4235     HSP82        -0.1575  -0.0815      -0.0055       -0.0725   \n",
       "\n",
       "      Concanmycin A  Cycloheximide  Fluconozole  Galactose  Geldenamycin  \\\n",
       "4235        -0.0015         0.0225       0.0245     0.0885       -0.1105   \n",
       "\n",
       "        MMS   Monensin  Rapamycin  Sorbitol  Tunicamycin  \n",
       "4235  0.0375    0.0185     0.0025    0.0375      -0.0145  "
      ]
     },
     "execution_count": 157,
     "metadata": {},
     "output_type": "execute_result"
    }
   ],
   "source": [
    "df_env[df_env['Gene Name'] == 'HSP82']"
   ]
  },
  {
   "cell_type": "code",
   "execution_count": 21,
   "id": "3a38f8a8",
   "metadata": {},
   "outputs": [
    {
     "data": {
      "text/plain": [
       "'Actinomycin D'"
      ]
     },
     "execution_count": 21,
     "metadata": {},
     "output_type": "execute_result"
    }
   ],
   "source": []
  },
  {
   "cell_type": "code",
   "execution_count": 49,
   "id": "68db0e4a",
   "metadata": {},
   "outputs": [
    {
     "data": {
      "image/png": "[encoded data removed]",
      "text/plain": [
       "<Figure size 640x480 with 1 Axes>"
      ]
     },
     "metadata": {},
     "output_type": "display_data"
    }
   ],
   "source": [
    "condition = df_env.columns[3:][7]\n",
    "plt.hist(df_env[condition],bins=100)\n",
    "plt.axvline(np.array(df_env[condition][df_env['Gene Name'] == 'HSC82'])[0],color = 'red')\n",
    "plt.title(condition)\n",
    "plt.xlabel('effect')\n",
    "plt.show()"
   ]
  },
  {
   "cell_type": "code",
   "execution_count": 51,
   "id": "f7c5d9b8",
   "metadata": {},
   "outputs": [
    {
     "data": {
      "text/html": [
       "<div>\n",
       "<style scoped>\n",
       "    .dataframe tbody tr th:only-of-type {\n",
       "        vertical-align: middle;\n",
       "    }\n",
       "\n",
       "    .dataframe tbody tr th {\n",
       "        vertical-align: top;\n",
       "    }\n",
       "\n",
       "    .dataframe thead th {\n",
       "        text-align: right;\n",
       "    }\n",
       "</style>\n",
       "<table border=\"1\" class=\"dataframe\">\n",
       "  <thead>\n",
       "    <tr style=\"text-align: right;\">\n",
       "      <th></th>\n",
       "      <th>Gene Name</th>\n",
       "      <th>Mean Env Effect</th>\n",
       "    </tr>\n",
       "  </thead>\n",
       "  <tbody>\n",
       "    <tr>\n",
       "      <th>0</th>\n",
       "      <td>TFC3</td>\n",
       "      <td>0.023532</td>\n",
       "    </tr>\n",
       "    <tr>\n",
       "      <th>1</th>\n",
       "      <td>VPS8</td>\n",
       "      <td>-0.112111</td>\n",
       "    </tr>\n",
       "    <tr>\n",
       "      <th>3</th>\n",
       "      <td>SSA1</td>\n",
       "      <td>0.038175</td>\n",
       "    </tr>\n",
       "    <tr>\n",
       "      <th>4</th>\n",
       "      <td>ERP2</td>\n",
       "      <td>0.023104</td>\n",
       "    </tr>\n",
       "    <tr>\n",
       "      <th>5</th>\n",
       "      <td>FUN14</td>\n",
       "      <td>0.023532</td>\n",
       "    </tr>\n",
       "  </tbody>\n",
       "</table>\n",
       "</div>"
      ],
      "text/plain": [
       "  Gene Name  Mean Env Effect\n",
       "0      TFC3         0.023532\n",
       "1      VPS8        -0.112111\n",
       "3      SSA1         0.038175\n",
       "4      ERP2         0.023104\n",
       "5     FUN14         0.023532"
      ]
     },
     "execution_count": 51,
     "metadata": {},
     "output_type": "execute_result"
    }
   ],
   "source": [
    "env_mat = np.array(df_env.drop('Gene Name',axis=1))\n",
    "mask = np.sum(np.isnan(env_mat),axis=1)==0\n",
    "env_mat = env_mat[mask,:]\n",
    "env_mat = env_mat - np.mean(env_mat,axis = 0)\n",
    "env_mat.shape\n",
    "d = {'Gene Name':df_env['Gene Name'][mask],\"Mean Env Effect\": np.mean(env_mat,axis = 1)}\n",
    "df_env_rob = pd.DataFrame(data = d)\n",
    "df_env_rob.head()"
   ]
  },
  {
   "cell_type": "code",
   "execution_count": 60,
   "id": "c41fba2a",
   "metadata": {},
   "outputs": [
    {
     "data": {
      "image/png": "[encoded data removed]",
      "text/plain": [
       "<Figure size 640x480 with 1 Axes>"
      ]
     },
     "metadata": {},
     "output_type": "display_data"
    }
   ],
   "source": [
    "mean_ddF = np.mean(env_mat,axis = 1)\n",
    "var_ddF = np.var(env_mat,axis = 1)\n",
    "plt.scatter(mean_ddF,var_ddF,marker = '.', alpha = 0.1)\n",
    "plt.scatter(mean_ddF[df_env_rob['Gene Name'] == 'HSC82'],var_ddF[df_env_rob['Gene Name'] == 'HSC82'],marker = '.', alpha = 1,color = 'red')\n",
    "plt.scatter(mean_ddF[df_env_rob['Gene Name'] == 'HSC82'],var_ddF[df_env_rob['Gene Name'] == 'HSP82'],marker = '.', alpha = 1,color = 'red')\n",
    "\n",
    "plt.ylabel('Var ddF')\n",
    "plt.xlabel('Mean ddF')\n",
    "plt.show()"
   ]
  },
  {
   "cell_type": "code",
   "execution_count": 168,
   "id": "2ce53c1e",
   "metadata": {},
   "outputs": [
    {
     "data": {
      "image/png": "[encoded data removed]",
      "text/plain": [
       "<Figure size 640x480 with 1 Axes>"
      ]
     },
     "metadata": {},
     "output_type": "display_data"
    }
   ],
   "source": [
    "env_mat = np.array(df_env.drop('Gene Name',axis=1))\n",
    "binarized = env_mat <-.08\n",
    "sbs.ecdfplot(x=np.sum(binarized,axis =1 ),complementary=True,label=\"Data\" )\n",
    "idx = np.random.rand(*binarized.shape).argsort(0)\n",
    "to_shuffle = binarized[idx, np.arange(binarized.shape[1])]\n",
    "sbs.ecdfplot(x=np.sum(to_shuffle,axis = 1),complementary=True, label = 'Shuffled' )\n",
    "plt.ylim((0,1))\n",
    "plt.xlabel(\"N conditions buffered\")\n",
    "plt.legend()\n",
    "plt.show()"
   ]
  },
  {
   "cell_type": "code",
   "execution_count": 144,
   "id": "3516480a",
   "metadata": {},
   "outputs": [
    {
     "data": {
      "text/html": [
       "<div>\n",
       "<style scoped>\n",
       "    .dataframe tbody tr th:only-of-type {\n",
       "        vertical-align: middle;\n",
       "    }\n",
       "\n",
       "    .dataframe tbody tr th {\n",
       "        vertical-align: top;\n",
       "    }\n",
       "\n",
       "    .dataframe thead th {\n",
       "        text-align: right;\n",
       "    }\n",
       "</style>\n",
       "<table border=\"1\" class=\"dataframe\">\n",
       "  <thead>\n",
       "    <tr style=\"text-align: right;\">\n",
       "      <th></th>\n",
       "      <th>Gene Name</th>\n",
       "      <th>Neg Env</th>\n",
       "    </tr>\n",
       "  </thead>\n",
       "  <tbody>\n",
       "    <tr>\n",
       "      <th>0</th>\n",
       "      <td>TFC3</td>\n",
       "      <td>0</td>\n",
       "    </tr>\n",
       "    <tr>\n",
       "      <th>1</th>\n",
       "      <td>VPS8</td>\n",
       "      <td>8</td>\n",
       "    </tr>\n",
       "    <tr>\n",
       "      <th>3</th>\n",
       "      <td>SSA1</td>\n",
       "      <td>0</td>\n",
       "    </tr>\n",
       "    <tr>\n",
       "      <th>4</th>\n",
       "      <td>ERP2</td>\n",
       "      <td>0</td>\n",
       "    </tr>\n",
       "    <tr>\n",
       "      <th>5</th>\n",
       "      <td>FUN14</td>\n",
       "      <td>0</td>\n",
       "    </tr>\n",
       "  </tbody>\n",
       "</table>\n",
       "</div>"
      ],
      "text/plain": [
       "  Gene Name  Neg Env\n",
       "0      TFC3        0\n",
       "1      VPS8        8\n",
       "3      SSA1        0\n",
       "4      ERP2        0\n",
       "5     FUN14        0"
      ]
     },
     "execution_count": 144,
     "metadata": {},
     "output_type": "execute_result"
    }
   ],
   "source": [
    "df_binarized_env = pd.DataFrame(data = {'Gene Name' : df_env['Gene Name'],'Neg Env':np.sum(binarized,axis =1 ) })\n",
    "df_binarized_env.head()"
   ]
  },
  {
   "cell_type": "code",
   "execution_count": 70,
   "id": "fcfb08c2",
   "metadata": {},
   "outputs": [
    {
     "data": {
      "text/plain": [
       "(3630, 14)"
      ]
     },
     "execution_count": 70,
     "metadata": {},
     "output_type": "execute_result"
    }
   ],
   "source": [
    "env_mat.shape"
   ]
  },
  {
   "cell_type": "code",
   "execution_count": null,
   "id": "5b8cfdcc",
   "metadata": {},
   "outputs": [],
   "source": []
  },
  {
   "cell_type": "code",
   "execution_count": 106,
   "id": "694e2811",
   "metadata": {},
   "outputs": [
    {
     "data": {
      "text/html": [
       "<div>\n",
       "<style scoped>\n",
       "    .dataframe tbody tr th:only-of-type {\n",
       "        vertical-align: middle;\n",
       "    }\n",
       "\n",
       "    .dataframe tbody tr th {\n",
       "        vertical-align: top;\n",
       "    }\n",
       "\n",
       "    .dataframe thead th {\n",
       "        text-align: right;\n",
       "    }\n",
       "</style>\n",
       "<table border=\"1\" class=\"dataframe\">\n",
       "  <thead>\n",
       "    <tr style=\"text-align: right;\">\n",
       "      <th></th>\n",
       "      <th>Query allele name</th>\n",
       "      <th>Array allele name</th>\n",
       "      <th>Genetic interaction score (ε)</th>\n",
       "      <th>P-value</th>\n",
       "    </tr>\n",
       "  </thead>\n",
       "  <tbody>\n",
       "    <tr>\n",
       "      <th>0</th>\n",
       "      <td>vps8</td>\n",
       "      <td>ecm15</td>\n",
       "      <td>0.1226</td>\n",
       "      <td>0.002185</td>\n",
       "    </tr>\n",
       "    <tr>\n",
       "      <th>1</th>\n",
       "      <td>vps8</td>\n",
       "      <td>hta2</td>\n",
       "      <td>0.0269</td>\n",
       "      <td>0.242000</td>\n",
       "    </tr>\n",
       "    <tr>\n",
       "      <th>2</th>\n",
       "      <td>vps8</td>\n",
       "      <td>pdr3</td>\n",
       "      <td>-0.0228</td>\n",
       "      <td>0.297900</td>\n",
       "    </tr>\n",
       "    <tr>\n",
       "      <th>3</th>\n",
       "      <td>vps8</td>\n",
       "      <td>sla1</td>\n",
       "      <td>-0.0535</td>\n",
       "      <td>0.166300</td>\n",
       "    </tr>\n",
       "    <tr>\n",
       "      <th>4</th>\n",
       "      <td>vps8</td>\n",
       "      <td>hir1</td>\n",
       "      <td>0.0532</td>\n",
       "      <td>0.071490</td>\n",
       "    </tr>\n",
       "  </tbody>\n",
       "</table>\n",
       "</div>"
      ],
      "text/plain": [
       "  Query allele name Array allele name  Genetic interaction score (ε)   P-value\n",
       "0              vps8             ecm15                         0.1226  0.002185\n",
       "1              vps8              hta2                         0.0269  0.242000\n",
       "2              vps8              pdr3                        -0.0228  0.297900\n",
       "3              vps8              sla1                        -0.0535  0.166300\n",
       "4              vps8              hir1                         0.0532  0.071490"
      ]
     },
     "execution_count": 106,
     "metadata": {},
     "output_type": "execute_result"
    }
   ],
   "source": [
    "filename = 'SGA_NxN.txt'\n",
    "df_mut = pd.read_csv(datadir+filename,sep='\\t').drop(['Query Strain ID',\n",
    "                                                      'Array Strain ID',\n",
    "                                                      'Arraytype/Temp', \n",
    "                                                      'Array SMF',\n",
    "                                                      'Query single mutant fitness (SMF)',\n",
    "                                                      'Double mutant fitness', \n",
    "                                                      'Double mutant fitness standard deviation'],\n",
    "                                                    axis = 1)\n",
    "for col in np.array(['Array allele name','Query allele name']):\n",
    "    df_mut[col] = df_mut[col].astype(str)\n",
    "    df_mut = df_mut[df_mut[col]!='nan']\n",
    "#df_mut = df_mut.rename(columns={\"Query single mutant fitness (SMF)\": \"Query SMF\"})\n",
    "\n",
    "df_mut.head()"
   ]
  },
  {
   "cell_type": "code",
   "execution_count": 107,
   "id": "d90f6262",
   "metadata": {},
   "outputs": [
    {
     "data": {
      "text/html": [
       "<div>\n",
       "<style scoped>\n",
       "    .dataframe tbody tr th:only-of-type {\n",
       "        vertical-align: middle;\n",
       "    }\n",
       "\n",
       "    .dataframe tbody tr th {\n",
       "        vertical-align: top;\n",
       "    }\n",
       "\n",
       "    .dataframe thead th {\n",
       "        text-align: right;\n",
       "    }\n",
       "</style>\n",
       "<table border=\"1\" class=\"dataframe\">\n",
       "  <thead>\n",
       "    <tr style=\"text-align: right;\">\n",
       "      <th>Array allele name</th>\n",
       "      <th>YAL043C-A_dma42</th>\n",
       "      <th>YAL058C-A_dma57</th>\n",
       "      <th>YDL134C-A_dma711</th>\n",
       "      <th>YFL035C-B_dma1491</th>\n",
       "      <th>YHR079C-B_dma2128</th>\n",
       "      <th>YIL015C-A_dma2248</th>\n",
       "      <th>YIR020W-B_dma2436</th>\n",
       "      <th>YJL206C-A_dma2602</th>\n",
       "      <th>YML010C-B_dma3525</th>\n",
       "      <th>YML035C-A_dma3550</th>\n",
       "      <th>...</th>\n",
       "      <th>zds2</th>\n",
       "      <th>zeo1</th>\n",
       "      <th>zip1</th>\n",
       "      <th>zip2</th>\n",
       "      <th>znf1</th>\n",
       "      <th>zrc1</th>\n",
       "      <th>zrg17</th>\n",
       "      <th>zrt2</th>\n",
       "      <th>zrt3</th>\n",
       "      <th>zta1</th>\n",
       "    </tr>\n",
       "    <tr>\n",
       "      <th>Query allele name</th>\n",
       "      <th></th>\n",
       "      <th></th>\n",
       "      <th></th>\n",
       "      <th></th>\n",
       "      <th></th>\n",
       "      <th></th>\n",
       "      <th></th>\n",
       "      <th></th>\n",
       "      <th></th>\n",
       "      <th></th>\n",
       "      <th></th>\n",
       "      <th></th>\n",
       "      <th></th>\n",
       "      <th></th>\n",
       "      <th></th>\n",
       "      <th></th>\n",
       "      <th></th>\n",
       "      <th></th>\n",
       "      <th></th>\n",
       "      <th></th>\n",
       "      <th></th>\n",
       "    </tr>\n",
       "  </thead>\n",
       "  <tbody>\n",
       "    <tr>\n",
       "      <th>HSC82_sn2174_T30</th>\n",
       "      <td>0.0172</td>\n",
       "      <td>0.0308</td>\n",
       "      <td>-0.0262</td>\n",
       "      <td>-0.0237</td>\n",
       "      <td>0.0146</td>\n",
       "      <td>-0.0123</td>\n",
       "      <td>-0.0097</td>\n",
       "      <td>0.0265</td>\n",
       "      <td>NaN</td>\n",
       "      <td>NaN</td>\n",
       "      <td>...</td>\n",
       "      <td>NaN</td>\n",
       "      <td>-0.0031</td>\n",
       "      <td>0.0079</td>\n",
       "      <td>-0.0401</td>\n",
       "      <td>0.0051</td>\n",
       "      <td>NaN</td>\n",
       "      <td>-0.0472</td>\n",
       "      <td>-0.0023</td>\n",
       "      <td>0.0302</td>\n",
       "      <td>-0.0104</td>\n",
       "    </tr>\n",
       "    <tr>\n",
       "      <th>aac1</th>\n",
       "      <td>0.0150</td>\n",
       "      <td>-0.0081</td>\n",
       "      <td>-0.0093</td>\n",
       "      <td>-0.0241</td>\n",
       "      <td>-0.0453</td>\n",
       "      <td>-0.0249</td>\n",
       "      <td>0.0126</td>\n",
       "      <td>-0.0019</td>\n",
       "      <td>NaN</td>\n",
       "      <td>NaN</td>\n",
       "      <td>...</td>\n",
       "      <td>NaN</td>\n",
       "      <td>-0.0325</td>\n",
       "      <td>0.0188</td>\n",
       "      <td>0.0070</td>\n",
       "      <td>-0.0159</td>\n",
       "      <td>NaN</td>\n",
       "      <td>-0.0014</td>\n",
       "      <td>-0.0237</td>\n",
       "      <td>0.0634</td>\n",
       "      <td>-0.0169</td>\n",
       "    </tr>\n",
       "    <tr>\n",
       "      <th>aac3</th>\n",
       "      <td>NaN</td>\n",
       "      <td>-0.0114</td>\n",
       "      <td>NaN</td>\n",
       "      <td>0.0349</td>\n",
       "      <td>-0.0287</td>\n",
       "      <td>-0.0450</td>\n",
       "      <td>0.1029</td>\n",
       "      <td>-0.0215</td>\n",
       "      <td>0.0293</td>\n",
       "      <td>-0.1455</td>\n",
       "      <td>...</td>\n",
       "      <td>0.0214</td>\n",
       "      <td>0.0377</td>\n",
       "      <td>0.0357</td>\n",
       "      <td>0.0608</td>\n",
       "      <td>0.0671</td>\n",
       "      <td>-0.1022</td>\n",
       "      <td>0.0635</td>\n",
       "      <td>0.0520</td>\n",
       "      <td>-0.0763</td>\n",
       "      <td>NaN</td>\n",
       "    </tr>\n",
       "    <tr>\n",
       "      <th>aad10</th>\n",
       "      <td>0.0373</td>\n",
       "      <td>-0.0047</td>\n",
       "      <td>0.0202</td>\n",
       "      <td>0.0551</td>\n",
       "      <td>0.0260</td>\n",
       "      <td>-0.0384</td>\n",
       "      <td>NaN</td>\n",
       "      <td>-0.0412</td>\n",
       "      <td>-0.0074</td>\n",
       "      <td>0.0415</td>\n",
       "      <td>...</td>\n",
       "      <td>-0.0017</td>\n",
       "      <td>-0.0327</td>\n",
       "      <td>0.0496</td>\n",
       "      <td>0.0407</td>\n",
       "      <td>-0.0035</td>\n",
       "      <td>-0.0440</td>\n",
       "      <td>-0.0325</td>\n",
       "      <td>-0.0139</td>\n",
       "      <td>NaN</td>\n",
       "      <td>0.0397</td>\n",
       "    </tr>\n",
       "    <tr>\n",
       "      <th>aad15</th>\n",
       "      <td>-0.0939</td>\n",
       "      <td>-0.0169</td>\n",
       "      <td>0.0283</td>\n",
       "      <td>0.0250</td>\n",
       "      <td>-0.0236</td>\n",
       "      <td>-0.0080</td>\n",
       "      <td>-0.0209</td>\n",
       "      <td>0.0376</td>\n",
       "      <td>0.0749</td>\n",
       "      <td>0.0378</td>\n",
       "      <td>...</td>\n",
       "      <td>-0.0176</td>\n",
       "      <td>-0.1147</td>\n",
       "      <td>0.0249</td>\n",
       "      <td>-0.0116</td>\n",
       "      <td>-0.0031</td>\n",
       "      <td>0.0397</td>\n",
       "      <td>-0.0863</td>\n",
       "      <td>-0.0177</td>\n",
       "      <td>-0.0448</td>\n",
       "      <td>-0.0653</td>\n",
       "    </tr>\n",
       "  </tbody>\n",
       "</table>\n",
       "<p>5 rows × 3827 columns</p>\n",
       "</div>"
      ],
      "text/plain": [
       "Array allele name  YAL043C-A_dma42  YAL058C-A_dma57  YDL134C-A_dma711  \\\n",
       "Query allele name                                                       \n",
       "HSC82_sn2174_T30            0.0172           0.0308           -0.0262   \n",
       "aac1                        0.0150          -0.0081           -0.0093   \n",
       "aac3                           NaN          -0.0114               NaN   \n",
       "aad10                       0.0373          -0.0047            0.0202   \n",
       "aad15                      -0.0939          -0.0169            0.0283   \n",
       "\n",
       "Array allele name  YFL035C-B_dma1491  YHR079C-B_dma2128  YIL015C-A_dma2248  \\\n",
       "Query allele name                                                            \n",
       "HSC82_sn2174_T30             -0.0237             0.0146            -0.0123   \n",
       "aac1                         -0.0241            -0.0453            -0.0249   \n",
       "aac3                          0.0349            -0.0287            -0.0450   \n",
       "aad10                         0.0551             0.0260            -0.0384   \n",
       "aad15                         0.0250            -0.0236            -0.0080   \n",
       "\n",
       "Array allele name  YIR020W-B_dma2436  YJL206C-A_dma2602  YML010C-B_dma3525  \\\n",
       "Query allele name                                                            \n",
       "HSC82_sn2174_T30             -0.0097             0.0265                NaN   \n",
       "aac1                          0.0126            -0.0019                NaN   \n",
       "aac3                          0.1029            -0.0215             0.0293   \n",
       "aad10                            NaN            -0.0412            -0.0074   \n",
       "aad15                        -0.0209             0.0376             0.0749   \n",
       "\n",
       "Array allele name  YML035C-A_dma3550  ...    zds2    zeo1    zip1    zip2  \\\n",
       "Query allele name                     ...                                   \n",
       "HSC82_sn2174_T30                 NaN  ...     NaN -0.0031  0.0079 -0.0401   \n",
       "aac1                             NaN  ...     NaN -0.0325  0.0188  0.0070   \n",
       "aac3                         -0.1455  ...  0.0214  0.0377  0.0357  0.0608   \n",
       "aad10                         0.0415  ... -0.0017 -0.0327  0.0496  0.0407   \n",
       "aad15                         0.0378  ... -0.0176 -0.1147  0.0249 -0.0116   \n",
       "\n",
       "Array allele name    znf1    zrc1   zrg17    zrt2    zrt3    zta1  \n",
       "Query allele name                                                  \n",
       "HSC82_sn2174_T30   0.0051     NaN -0.0472 -0.0023  0.0302 -0.0104  \n",
       "aac1              -0.0159     NaN -0.0014 -0.0237  0.0634 -0.0169  \n",
       "aac3               0.0671 -0.1022  0.0635  0.0520 -0.0763     NaN  \n",
       "aad10             -0.0035 -0.0440 -0.0325 -0.0139     NaN  0.0397  \n",
       "aad15             -0.0031  0.0397 -0.0863 -0.0177 -0.0448 -0.0653  \n",
       "\n",
       "[5 rows x 3827 columns]"
      ]
     },
     "execution_count": 107,
     "metadata": {},
     "output_type": "execute_result"
    }
   ],
   "source": [
    "df_mut_int = df_mut.pivot(index = \"Query allele name\", columns = \"Array allele name\", values = \"Genetic interaction score (ε)\")\n",
    "df_mut_p = df_mut.pivot(index = \"Query allele name\", columns = \"Array allele name\", values = \"P-value\")\n",
    "df_mut_int.head()"
   ]
  },
  {
   "cell_type": "code",
   "execution_count": 137,
   "id": "55567301",
   "metadata": {},
   "outputs": [
    {
     "data": {
      "image/png": "[encoded data removed]",
      "text/plain": [
       "<Figure size 640x480 with 1 Axes>"
      ]
     },
     "metadata": {},
     "output_type": "display_data"
    }
   ],
   "source": [
    "binarized_int = (np.array(df_mut_int) < -0.08) & (np.array(df_mut_p) < 0.05)\n",
    "sbs.ecdfplot(x=np.sum(binarized_int,axis = 1),complementary=True ,label = 'Data')\n",
    "idx = np.random.rand(*binarized_int.shape).argsort(0)\n",
    "to_shuffle = binarized_int[idx, np.arange(binarized_int.shape[1])]\n",
    "sbs.ecdfplot(x=np.sum(to_shuffle,axis = 1),complementary=True, label = 'Shuffled' )\n",
    "plt.xlabel('Number of significant negative interactions')\n",
    "plt.legend()\n",
    "plt.show()"
   ]
  },
  {
   "cell_type": "code",
   "execution_count": 146,
   "id": "31616652",
   "metadata": {},
   "outputs": [
    {
     "data": {
      "text/html": [
       "<div>\n",
       "<style scoped>\n",
       "    .dataframe tbody tr th:only-of-type {\n",
       "        vertical-align: middle;\n",
       "    }\n",
       "\n",
       "    .dataframe tbody tr th {\n",
       "        vertical-align: top;\n",
       "    }\n",
       "\n",
       "    .dataframe thead th {\n",
       "        text-align: right;\n",
       "    }\n",
       "</style>\n",
       "<table border=\"1\" class=\"dataframe\">\n",
       "  <thead>\n",
       "    <tr style=\"text-align: right;\">\n",
       "      <th></th>\n",
       "      <th>Gene Name</th>\n",
       "      <th>Neg Mut</th>\n",
       "    </tr>\n",
       "  </thead>\n",
       "  <tbody>\n",
       "    <tr>\n",
       "      <th>0</th>\n",
       "      <td>HSC82_sn2174_T30</td>\n",
       "      <td>94</td>\n",
       "    </tr>\n",
       "    <tr>\n",
       "      <th>1</th>\n",
       "      <td>aac1</td>\n",
       "      <td>14</td>\n",
       "    </tr>\n",
       "    <tr>\n",
       "      <th>2</th>\n",
       "      <td>aac3</td>\n",
       "      <td>229</td>\n",
       "    </tr>\n",
       "    <tr>\n",
       "      <th>3</th>\n",
       "      <td>aad10</td>\n",
       "      <td>35</td>\n",
       "    </tr>\n",
       "    <tr>\n",
       "      <th>4</th>\n",
       "      <td>aad15</td>\n",
       "      <td>44</td>\n",
       "    </tr>\n",
       "  </tbody>\n",
       "</table>\n",
       "</div>"
      ],
      "text/plain": [
       "          Gene Name  Neg Mut\n",
       "0  HSC82_sn2174_T30       94\n",
       "1              aac1       14\n",
       "2              aac3      229\n",
       "3             aad10       35\n",
       "4             aad15       44"
      ]
     },
     "execution_count": 146,
     "metadata": {},
     "output_type": "execute_result"
    }
   ],
   "source": [
    "df_binarized_mut = pd.DataFrame(data = {'Gene Name' : df_mut_int.index,'Neg Mut':np.sum(binarized_int,axis = 1) })\n",
    "df_binarized_mut.head()"
   ]
  },
  {
   "cell_type": "code",
   "execution_count": 148,
   "id": "85a058ff",
   "metadata": {},
   "outputs": [
    {
     "data": {
      "text/html": [
       "<div>\n",
       "<style scoped>\n",
       "    .dataframe tbody tr th:only-of-type {\n",
       "        vertical-align: middle;\n",
       "    }\n",
       "\n",
       "    .dataframe tbody tr th {\n",
       "        vertical-align: top;\n",
       "    }\n",
       "\n",
       "    .dataframe thead th {\n",
       "        text-align: right;\n",
       "    }\n",
       "</style>\n",
       "<table border=\"1\" class=\"dataframe\">\n",
       "  <thead>\n",
       "    <tr style=\"text-align: right;\">\n",
       "      <th></th>\n",
       "      <th>Gene Name</th>\n",
       "      <th>Neg Mut</th>\n",
       "      <th>Neg Env</th>\n",
       "    </tr>\n",
       "  </thead>\n",
       "  <tbody>\n",
       "    <tr>\n",
       "      <th>0</th>\n",
       "      <td>AAC1</td>\n",
       "      <td>14</td>\n",
       "      <td>0</td>\n",
       "    </tr>\n",
       "    <tr>\n",
       "      <th>1</th>\n",
       "      <td>AAC3</td>\n",
       "      <td>229</td>\n",
       "      <td>1</td>\n",
       "    </tr>\n",
       "    <tr>\n",
       "      <th>2</th>\n",
       "      <td>AAD4</td>\n",
       "      <td>91</td>\n",
       "      <td>0</td>\n",
       "    </tr>\n",
       "    <tr>\n",
       "      <th>3</th>\n",
       "      <td>AAP1</td>\n",
       "      <td>12</td>\n",
       "      <td>1</td>\n",
       "    </tr>\n",
       "    <tr>\n",
       "      <th>4</th>\n",
       "      <td>AAT1</td>\n",
       "      <td>105</td>\n",
       "      <td>0</td>\n",
       "    </tr>\n",
       "  </tbody>\n",
       "</table>\n",
       "</div>"
      ],
      "text/plain": [
       "  Gene Name  Neg Mut  Neg Env\n",
       "0      AAC1       14        0\n",
       "1      AAC3      229        1\n",
       "2      AAD4       91        0\n",
       "3      AAP1       12        1\n",
       "4      AAT1      105        0"
      ]
     },
     "execution_count": 148,
     "metadata": {},
     "output_type": "execute_result"
    }
   ],
   "source": [
    "df_binarized_mut['Gene Name'] = df_binarized_mut['Gene Name'].apply(str.upper)\n",
    "df_binarized_env['Gene Name'] = df_binarized_env['Gene Name'].apply(str.upper)\n",
    "df_binarized = pd.merge(df_binarized_mut,df_binarized_env,how = \"inner\",on=\"Gene Name\")\n",
    "df_binarized.head()"
   ]
  },
  {
   "cell_type": "code",
   "execution_count": 156,
   "id": "fcf2a476",
   "metadata": {},
   "outputs": [
    {
     "data": {
      "text/html": [
       "<div>\n",
       "<style scoped>\n",
       "    .dataframe tbody tr th:only-of-type {\n",
       "        vertical-align: middle;\n",
       "    }\n",
       "\n",
       "    .dataframe tbody tr th {\n",
       "        vertical-align: top;\n",
       "    }\n",
       "\n",
       "    .dataframe thead th {\n",
       "        text-align: right;\n",
       "    }\n",
       "</style>\n",
       "<table border=\"1\" class=\"dataframe\">\n",
       "  <thead>\n",
       "    <tr style=\"text-align: right;\">\n",
       "      <th></th>\n",
       "      <th>Gene Name</th>\n",
       "      <th>Neg Mut</th>\n",
       "      <th>Neg Env</th>\n",
       "    </tr>\n",
       "  </thead>\n",
       "  <tbody>\n",
       "    <tr>\n",
       "      <th>816</th>\n",
       "      <td>HSP82</td>\n",
       "      <td>2</td>\n",
       "      <td>3</td>\n",
       "    </tr>\n",
       "  </tbody>\n",
       "</table>\n",
       "</div>"
      ],
      "text/plain": [
       "    Gene Name  Neg Mut  Neg Env\n",
       "816     HSP82        2        3"
      ]
     },
     "execution_count": 156,
     "metadata": {},
     "output_type": "execute_result"
    }
   ],
   "source": [
    "df_binarized[df_binarized['Gene Name'] == \"HSP82\"]"
   ]
  },
  {
   "cell_type": "code",
   "execution_count": 151,
   "id": "b1fc63d8",
   "metadata": {},
   "outputs": [
    {
     "data": {
      "text/plain": [
       "<matplotlib.collections.PathCollection at 0x7f7ee4d0f340>"
      ]
     },
     "execution_count": 151,
     "metadata": {},
     "output_type": "execute_result"
    },
    {
     "data": {
      "image/png": "[encoded data removed]",
      "text/plain": [
       "<Figure size 640x480 with 1 Axes>"
      ]
     },
     "metadata": {},
     "output_type": "display_data"
    }
   ],
   "source": [
    "plt.scatter(df_binarized['Neg Mut'],df_binarized['Neg Env'],marker = \".\",alpha = 0.1)\n"
   ]
  },
  {
   "cell_type": "code",
   "execution_count": 159,
   "id": "62d9ea57",
   "metadata": {},
   "outputs": [
    {
     "data": {
      "text/plain": [
       "array([ 0,  1,  2,  3,  4,  5,  6,  7,  8,  9, 10, 11, 12])"
      ]
     },
     "execution_count": 159,
     "metadata": {},
     "output_type": "execute_result"
    }
   ],
   "source": [
    "np.unique(df_binarized['Neg Env'])"
   ]
  },
  {
   "cell_type": "code",
   "execution_count": 173,
   "id": "2671aea5",
   "metadata": {},
   "outputs": [
    {
     "data": {
      "text/plain": [
       "<matplotlib.legend.Legend at 0x7f8266e4f8b0>"
      ]
     },
     "execution_count": 173,
     "metadata": {},
     "output_type": "execute_result"
    },
    {
     "data": {
      "image/png": "[encoded data removed]",
      "text/plain": [
       "<Figure size 640x480 with 1 Axes>"
      ]
     },
     "metadata": {},
     "output_type": "display_data"
    }
   ],
   "source": [
    "for i in range(0,8):\n",
    "    sbs.ecdfplot(x=df_binarized['Neg Mut'][df_binarized['Neg Env'] == i],complementary=True ,label = i)\n",
    "plt.legend()"
   ]
  },
  {
   "cell_type": "code",
   "execution_count": 167,
   "id": "e34703f1",
   "metadata": {},
   "outputs": [
    {
     "data": {
      "text/plain": [
       "<matplotlib.legend.Legend at 0x7f809af8da30>"
      ]
     },
     "execution_count": 167,
     "metadata": {},
     "output_type": "execute_result"
    },
    {
     "data": {
      "image/png": "[encoded data removed]",
      "text/plain": [
       "<Figure size 640x480 with 1 Axes>"
      ]
     },
     "metadata": {},
     "output_type": "display_data"
    }
   ],
   "source": [
    "for i in range(5,9):\n",
    "    sbs.ecdfplot(x=df_binarized['Neg Mut'][df_binarized['Neg Env'] == i],complementary=True ,label = i)\n",
    "plt.legend()"
   ]
  },
  {
   "cell_type": "code",
   "execution_count": 158,
   "id": "2391f069",
   "metadata": {},
   "outputs": [
    {
     "data": {
      "text/plain": [
       "SpearmanrResult(correlation=0.3008220416909296, pvalue=2.775092010826683e-48)"
      ]
     },
     "execution_count": 158,
     "metadata": {},
     "output_type": "execute_result"
    }
   ],
   "source": [
    "scipy.stats.spearmanr(df_binarized['Neg Mut'],df_binarized['Neg Env'])"
   ]
  },
  {
   "cell_type": "code",
   "execution_count": 76,
   "id": "2eb590bc",
   "metadata": {},
   "outputs": [
    {
     "data": {
      "text/html": [
       "<div>\n",
       "<style scoped>\n",
       "    .dataframe tbody tr th:only-of-type {\n",
       "        vertical-align: middle;\n",
       "    }\n",
       "\n",
       "    .dataframe tbody tr th {\n",
       "        vertical-align: top;\n",
       "    }\n",
       "\n",
       "    .dataframe thead th {\n",
       "        text-align: right;\n",
       "    }\n",
       "</style>\n",
       "<table border=\"1\" class=\"dataframe\">\n",
       "  <thead>\n",
       "    <tr style=\"text-align: right;\">\n",
       "      <th></th>\n",
       "      <th>Query allele name</th>\n",
       "      <th>Array allele name</th>\n",
       "      <th>Query SMF</th>\n",
       "      <th>Array SMF</th>\n",
       "      <th>Double mutant fitness</th>\n",
       "      <th>ddF</th>\n",
       "    </tr>\n",
       "  </thead>\n",
       "  <tbody>\n",
       "    <tr>\n",
       "      <th>0</th>\n",
       "      <td>vps8</td>\n",
       "      <td>ecm15</td>\n",
       "      <td>0.7552</td>\n",
       "      <td>1.0112</td>\n",
       "      <td>0.8862</td>\n",
       "      <td>0.1198</td>\n",
       "    </tr>\n",
       "    <tr>\n",
       "      <th>1</th>\n",
       "      <td>vps8</td>\n",
       "      <td>hta2</td>\n",
       "      <td>0.7552</td>\n",
       "      <td>1.0005</td>\n",
       "      <td>0.7825</td>\n",
       "      <td>0.0268</td>\n",
       "    </tr>\n",
       "    <tr>\n",
       "      <th>2</th>\n",
       "      <td>vps8</td>\n",
       "      <td>pdr3</td>\n",
       "      <td>0.7552</td>\n",
       "      <td>1.0248</td>\n",
       "      <td>0.7512</td>\n",
       "      <td>-0.0288</td>\n",
       "    </tr>\n",
       "    <tr>\n",
       "      <th>3</th>\n",
       "      <td>vps8</td>\n",
       "      <td>sla1</td>\n",
       "      <td>0.7552</td>\n",
       "      <td>0.8230</td>\n",
       "      <td>0.5681</td>\n",
       "      <td>-0.0101</td>\n",
       "    </tr>\n",
       "    <tr>\n",
       "      <th>4</th>\n",
       "      <td>vps8</td>\n",
       "      <td>hir1</td>\n",
       "      <td>0.7552</td>\n",
       "      <td>0.9370</td>\n",
       "      <td>0.7608</td>\n",
       "      <td>0.0686</td>\n",
       "    </tr>\n",
       "  </tbody>\n",
       "</table>\n",
       "</div>"
      ],
      "text/plain": [
       "  Query allele name Array allele name  Query SMF  Array SMF  \\\n",
       "0              vps8             ecm15     0.7552     1.0112   \n",
       "1              vps8              hta2     0.7552     1.0005   \n",
       "2              vps8              pdr3     0.7552     1.0248   \n",
       "3              vps8              sla1     0.7552     0.8230   \n",
       "4              vps8              hir1     0.7552     0.9370   \n",
       "\n",
       "   Double mutant fitness     ddF  \n",
       "0                 0.8862  0.1198  \n",
       "1                 0.7825  0.0268  \n",
       "2                 0.7512 -0.0288  \n",
       "3                 0.5681 -0.0101  \n",
       "4                 0.7608  0.0686  "
      ]
     },
     "execution_count": 76,
     "metadata": {},
     "output_type": "execute_result"
    }
   ],
   "source": [
    "df_mut['ddF'] = (df_mut['Double mutant fitness']-1)\\\n",
    "              - (df_mut['Array SMF']-1)\\\n",
    "              - (df_mut['Query SMF']-1)\n",
    "df_mut.head()"
   ]
  },
  {
   "cell_type": "code",
   "execution_count": 95,
   "id": "bab0635d",
   "metadata": {},
   "outputs": [
    {
     "data": {
      "text/html": [
       "<div>\n",
       "<style scoped>\n",
       "    .dataframe tbody tr th:only-of-type {\n",
       "        vertical-align: middle;\n",
       "    }\n",
       "\n",
       "    .dataframe tbody tr th {\n",
       "        vertical-align: top;\n",
       "    }\n",
       "\n",
       "    .dataframe thead th {\n",
       "        text-align: right;\n",
       "    }\n",
       "</style>\n",
       "<table border=\"1\" class=\"dataframe\">\n",
       "  <thead>\n",
       "    <tr style=\"text-align: right;\">\n",
       "      <th></th>\n",
       "      <th>Query allele name</th>\n",
       "      <th>Array allele name</th>\n",
       "      <th>ddF</th>\n",
       "    </tr>\n",
       "  </thead>\n",
       "  <tbody>\n",
       "    <tr>\n",
       "      <th>0</th>\n",
       "      <td>vps8</td>\n",
       "      <td>ecm15</td>\n",
       "      <td>0.1198</td>\n",
       "    </tr>\n",
       "    <tr>\n",
       "      <th>1</th>\n",
       "      <td>vps8</td>\n",
       "      <td>hta2</td>\n",
       "      <td>0.0268</td>\n",
       "    </tr>\n",
       "    <tr>\n",
       "      <th>2</th>\n",
       "      <td>vps8</td>\n",
       "      <td>pdr3</td>\n",
       "      <td>-0.0288</td>\n",
       "    </tr>\n",
       "    <tr>\n",
       "      <th>3</th>\n",
       "      <td>vps8</td>\n",
       "      <td>sla1</td>\n",
       "      <td>-0.0101</td>\n",
       "    </tr>\n",
       "    <tr>\n",
       "      <th>4</th>\n",
       "      <td>vps8</td>\n",
       "      <td>hir1</td>\n",
       "      <td>0.0686</td>\n",
       "    </tr>\n",
       "  </tbody>\n",
       "</table>\n",
       "</div>"
      ],
      "text/plain": [
       "  Query allele name Array allele name     ddF\n",
       "0              vps8             ecm15  0.1198\n",
       "1              vps8              hta2  0.0268\n",
       "2              vps8              pdr3 -0.0288\n",
       "3              vps8              sla1 -0.0101\n",
       "4              vps8              hir1  0.0686"
      ]
     },
     "execution_count": 95,
     "metadata": {},
     "output_type": "execute_result"
    }
   ],
   "source": [
    "df_mut_pair = df_mut[['Query allele name','Array allele name','ddF']]\n",
    "#df_mat = df_mut_pair.pivot(columns = \"Query allele name\",values = 'ddF')\n",
    "df_mut_pair.head()"
   ]
  },
  {
   "cell_type": "code",
   "execution_count": 81,
   "id": "826da9ec",
   "metadata": {},
   "outputs": [
    {
     "data": {
      "image/png": "[encoded data removed]",
      "text/plain": [
       "<Figure size 640x480 with 1 Axes>"
      ]
     },
     "metadata": {},
     "output_type": "display_data"
    }
   ],
   "source": [
    "\n",
    "sbs.ecdfplot(data = df_mut_pair, x='ddF')\n",
    "plt.xlim((-.3,.25))\n",
    "plt.show()"
   ]
  },
  {
   "cell_type": "code",
   "execution_count": 96,
   "id": "65095e9e",
   "metadata": {},
   "outputs": [
    {
     "name": "stderr",
     "output_type": "stream",
     "text": [
      "/var/folders/yg/rz5s_kp914g5hjl723fncj_80000gn/T/ipykernel_21142/1785492307.py:2: SettingWithCopyWarning: \n",
      "A value is trying to be set on a copy of a slice from a DataFrame.\n",
      "Try using .loc[row_indexer,col_indexer] = value instead\n",
      "\n",
      "See the caveats in the documentation: https://pandas.pydata.org/pandas-docs/stable/user_guide/indexing.html#returning-a-view-versus-a-copy\n",
      "  df_mut_pair['binarized'] =  np.array(df_mut_pair['ddF']<-.11)\n"
     ]
    }
   ],
   "source": [
    "np.sum(df_mut_pair['ddF']<-.11)/len(df_mut_pair['ddF'])\n",
    "df_mut_pair['binarized'] =  np.array(df_mut_pair['ddF']<-.11)"
   ]
  },
  {
   "cell_type": "code",
   "execution_count": 99,
   "id": "4a061d58",
   "metadata": {},
   "outputs": [
    {
     "data": {
      "text/plain": [
       "0.014574939860921409"
      ]
     },
     "execution_count": 99,
     "metadata": {},
     "output_type": "execute_result"
    }
   ],
   "source": []
  },
  {
   "cell_type": "code",
   "execution_count": 92,
   "id": "0f45cdb7",
   "metadata": {},
   "outputs": [
    {
     "data": {
      "text/plain": [
       "11295484"
      ]
     },
     "execution_count": 92,
     "metadata": {},
     "output_type": "execute_result"
    }
   ],
   "source": [
    "len(df_mut_pair['ddF'])"
   ]
  },
  {
   "cell_type": "code",
   "execution_count": 17,
   "id": "4fd12e42",
   "metadata": {},
   "outputs": [
    {
     "name": "stderr",
     "output_type": "stream",
     "text": [
      "100%|███████████████████████████████████████| 3283/3283 [28:12<00:00,  1.94it/s]\n"
     ]
    }
   ],
   "source": [
    "gene_list = np.unique(np.array(df_mut_pair['Query allele name']))\n",
    "mean_ddF = np.zeros(len(gene_list))\n",
    "for i in tqdm(range(len(gene_list))):\n",
    "    mean_ddF[i] =np.mean(df_mut_pair['ddF'][df_mut_pair['Query allele name'] == gene_list[i]])"
   ]
  },
  {
   "cell_type": "code",
   "execution_count": 100,
   "id": "bc634c78",
   "metadata": {},
   "outputs": [
    {
     "name": "stderr",
     "output_type": "stream",
     "text": [
      " 94%|████████████████████████████████████▌  | 3073/3283 [26:54<01:50,  1.90it/s]\n"
     ]
    },
    {
     "ename": "KeyboardInterrupt",
     "evalue": "",
     "output_type": "error",
     "traceback": [
      "\u001b[0;31m---------------------------------------------------------------------------\u001b[0m",
      "\u001b[0;31mKeyboardInterrupt\u001b[0m                         Traceback (most recent call last)",
      "\u001b[0;32m/var/folders/yg/rz5s_kp914g5hjl723fncj_80000gn/T/ipykernel_21142/3854054609.py\u001b[0m in \u001b[0;36m<module>\u001b[0;34m\u001b[0m\n\u001b[1;32m      2\u001b[0m \u001b[0mbinarized_ddF\u001b[0m \u001b[0;34m=\u001b[0m \u001b[0mnp\u001b[0m\u001b[0;34m.\u001b[0m\u001b[0mzeros\u001b[0m\u001b[0;34m(\u001b[0m\u001b[0mlen\u001b[0m\u001b[0;34m(\u001b[0m\u001b[0mgene_list\u001b[0m\u001b[0;34m)\u001b[0m\u001b[0;34m)\u001b[0m\u001b[0;34m\u001b[0m\u001b[0;34m\u001b[0m\u001b[0m\n\u001b[1;32m      3\u001b[0m \u001b[0;32mfor\u001b[0m \u001b[0mi\u001b[0m \u001b[0;32min\u001b[0m \u001b[0mtqdm\u001b[0m\u001b[0;34m(\u001b[0m\u001b[0mrange\u001b[0m\u001b[0;34m(\u001b[0m\u001b[0mlen\u001b[0m\u001b[0;34m(\u001b[0m\u001b[0mgene_list\u001b[0m\u001b[0;34m)\u001b[0m\u001b[0;34m)\u001b[0m\u001b[0;34m)\u001b[0m\u001b[0;34m:\u001b[0m\u001b[0;34m\u001b[0m\u001b[0;34m\u001b[0m\u001b[0m\n\u001b[0;32m----> 4\u001b[0;31m     \u001b[0mbinarized_ddF\u001b[0m\u001b[0;34m[\u001b[0m\u001b[0mi\u001b[0m\u001b[0;34m]\u001b[0m \u001b[0;34m=\u001b[0m\u001b[0mnp\u001b[0m\u001b[0;34m.\u001b[0m\u001b[0msum\u001b[0m\u001b[0;34m(\u001b[0m\u001b[0mdf_mut_pair\u001b[0m\u001b[0;34m[\u001b[0m\u001b[0;34m'binarized'\u001b[0m\u001b[0;34m]\u001b[0m\u001b[0;34m[\u001b[0m\u001b[0mdf_mut_pair\u001b[0m\u001b[0;34m[\u001b[0m\u001b[0;34m'Query allele name'\u001b[0m\u001b[0;34m]\u001b[0m \u001b[0;34m==\u001b[0m \u001b[0mgene_list\u001b[0m\u001b[0;34m[\u001b[0m\u001b[0mi\u001b[0m\u001b[0;34m]\u001b[0m\u001b[0;34m]\u001b[0m\u001b[0;34m)\u001b[0m\u001b[0;34m\u001b[0m\u001b[0;34m\u001b[0m\u001b[0m\n\u001b[0m",
      "\u001b[0;32m~/opt/anaconda3/lib/python3.9/site-packages/pandas/core/ops/common.py\u001b[0m in \u001b[0;36mnew_method\u001b[0;34m(self, other)\u001b[0m\n\u001b[1;32m     68\u001b[0m         \u001b[0mother\u001b[0m \u001b[0;34m=\u001b[0m \u001b[0mitem_from_zerodim\u001b[0m\u001b[0;34m(\u001b[0m\u001b[0mother\u001b[0m\u001b[0;34m)\u001b[0m\u001b[0;34m\u001b[0m\u001b[0;34m\u001b[0m\u001b[0m\n\u001b[1;32m     69\u001b[0m \u001b[0;34m\u001b[0m\u001b[0m\n\u001b[0;32m---> 70\u001b[0;31m         \u001b[0;32mreturn\u001b[0m \u001b[0mmethod\u001b[0m\u001b[0;34m(\u001b[0m\u001b[0mself\u001b[0m\u001b[0;34m,\u001b[0m \u001b[0mother\u001b[0m\u001b[0;34m)\u001b[0m\u001b[0;34m\u001b[0m\u001b[0;34m\u001b[0m\u001b[0m\n\u001b[0m\u001b[1;32m     71\u001b[0m \u001b[0;34m\u001b[0m\u001b[0m\n\u001b[1;32m     72\u001b[0m     \u001b[0;32mreturn\u001b[0m \u001b[0mnew_method\u001b[0m\u001b[0;34m\u001b[0m\u001b[0;34m\u001b[0m\u001b[0m\n",
      "\u001b[0;32m~/opt/anaconda3/lib/python3.9/site-packages/pandas/core/arraylike.py\u001b[0m in \u001b[0;36m__eq__\u001b[0;34m(self, other)\u001b[0m\n\u001b[1;32m     38\u001b[0m     \u001b[0;34m@\u001b[0m\u001b[0munpack_zerodim_and_defer\u001b[0m\u001b[0;34m(\u001b[0m\u001b[0;34m\"__eq__\"\u001b[0m\u001b[0;34m)\u001b[0m\u001b[0;34m\u001b[0m\u001b[0;34m\u001b[0m\u001b[0m\n\u001b[1;32m     39\u001b[0m     \u001b[0;32mdef\u001b[0m \u001b[0m__eq__\u001b[0m\u001b[0;34m(\u001b[0m\u001b[0mself\u001b[0m\u001b[0;34m,\u001b[0m \u001b[0mother\u001b[0m\u001b[0;34m)\u001b[0m\u001b[0;34m:\u001b[0m\u001b[0;34m\u001b[0m\u001b[0;34m\u001b[0m\u001b[0m\n\u001b[0;32m---> 40\u001b[0;31m         \u001b[0;32mreturn\u001b[0m \u001b[0mself\u001b[0m\u001b[0;34m.\u001b[0m\u001b[0m_cmp_method\u001b[0m\u001b[0;34m(\u001b[0m\u001b[0mother\u001b[0m\u001b[0;34m,\u001b[0m \u001b[0moperator\u001b[0m\u001b[0;34m.\u001b[0m\u001b[0meq\u001b[0m\u001b[0;34m)\u001b[0m\u001b[0;34m\u001b[0m\u001b[0;34m\u001b[0m\u001b[0m\n\u001b[0m\u001b[1;32m     41\u001b[0m \u001b[0;34m\u001b[0m\u001b[0m\n\u001b[1;32m     42\u001b[0m     \u001b[0;34m@\u001b[0m\u001b[0munpack_zerodim_and_defer\u001b[0m\u001b[0;34m(\u001b[0m\u001b[0;34m\"__ne__\"\u001b[0m\u001b[0;34m)\u001b[0m\u001b[0;34m\u001b[0m\u001b[0;34m\u001b[0m\u001b[0m\n",
      "\u001b[0;32m~/opt/anaconda3/lib/python3.9/site-packages/pandas/core/series.py\u001b[0m in \u001b[0;36m_cmp_method\u001b[0;34m(self, other, op)\u001b[0m\n\u001b[1;32m   5621\u001b[0m \u001b[0;34m\u001b[0m\u001b[0m\n\u001b[1;32m   5622\u001b[0m         \u001b[0;32mwith\u001b[0m \u001b[0mnp\u001b[0m\u001b[0;34m.\u001b[0m\u001b[0merrstate\u001b[0m\u001b[0;34m(\u001b[0m\u001b[0mall\u001b[0m\u001b[0;34m=\u001b[0m\u001b[0;34m\"ignore\"\u001b[0m\u001b[0;34m)\u001b[0m\u001b[0;34m:\u001b[0m\u001b[0;34m\u001b[0m\u001b[0;34m\u001b[0m\u001b[0m\n\u001b[0;32m-> 5623\u001b[0;31m             \u001b[0mres_values\u001b[0m \u001b[0;34m=\u001b[0m \u001b[0mops\u001b[0m\u001b[0;34m.\u001b[0m\u001b[0mcomparison_op\u001b[0m\u001b[0;34m(\u001b[0m\u001b[0mlvalues\u001b[0m\u001b[0;34m,\u001b[0m \u001b[0mrvalues\u001b[0m\u001b[0;34m,\u001b[0m \u001b[0mop\u001b[0m\u001b[0;34m)\u001b[0m\u001b[0;34m\u001b[0m\u001b[0;34m\u001b[0m\u001b[0m\n\u001b[0m\u001b[1;32m   5624\u001b[0m \u001b[0;34m\u001b[0m\u001b[0m\n\u001b[1;32m   5625\u001b[0m         \u001b[0;32mreturn\u001b[0m \u001b[0mself\u001b[0m\u001b[0;34m.\u001b[0m\u001b[0m_construct_result\u001b[0m\u001b[0;34m(\u001b[0m\u001b[0mres_values\u001b[0m\u001b[0;34m,\u001b[0m \u001b[0mname\u001b[0m\u001b[0;34m=\u001b[0m\u001b[0mres_name\u001b[0m\u001b[0;34m)\u001b[0m\u001b[0;34m\u001b[0m\u001b[0;34m\u001b[0m\u001b[0m\n",
      "\u001b[0;32m~/opt/anaconda3/lib/python3.9/site-packages/pandas/core/ops/array_ops.py\u001b[0m in \u001b[0;36mcomparison_op\u001b[0;34m(left, right, op)\u001b[0m\n\u001b[1;32m    281\u001b[0m \u001b[0;34m\u001b[0m\u001b[0m\n\u001b[1;32m    282\u001b[0m     \u001b[0;32melif\u001b[0m \u001b[0mis_object_dtype\u001b[0m\u001b[0;34m(\u001b[0m\u001b[0mlvalues\u001b[0m\u001b[0;34m.\u001b[0m\u001b[0mdtype\u001b[0m\u001b[0;34m)\u001b[0m \u001b[0;32mor\u001b[0m \u001b[0misinstance\u001b[0m\u001b[0;34m(\u001b[0m\u001b[0mrvalues\u001b[0m\u001b[0;34m,\u001b[0m \u001b[0mstr\u001b[0m\u001b[0;34m)\u001b[0m\u001b[0;34m:\u001b[0m\u001b[0;34m\u001b[0m\u001b[0;34m\u001b[0m\u001b[0m\n\u001b[0;32m--> 283\u001b[0;31m         \u001b[0mres_values\u001b[0m \u001b[0;34m=\u001b[0m \u001b[0mcomp_method_OBJECT_ARRAY\u001b[0m\u001b[0;34m(\u001b[0m\u001b[0mop\u001b[0m\u001b[0;34m,\u001b[0m \u001b[0mlvalues\u001b[0m\u001b[0;34m,\u001b[0m \u001b[0mrvalues\u001b[0m\u001b[0;34m)\u001b[0m\u001b[0;34m\u001b[0m\u001b[0;34m\u001b[0m\u001b[0m\n\u001b[0m\u001b[1;32m    284\u001b[0m \u001b[0;34m\u001b[0m\u001b[0m\n\u001b[1;32m    285\u001b[0m     \u001b[0;32melse\u001b[0m\u001b[0;34m:\u001b[0m\u001b[0;34m\u001b[0m\u001b[0;34m\u001b[0m\u001b[0m\n",
      "\u001b[0;32m~/opt/anaconda3/lib/python3.9/site-packages/pandas/core/ops/array_ops.py\u001b[0m in \u001b[0;36mcomp_method_OBJECT_ARRAY\u001b[0;34m(op, x, y)\u001b[0m\n\u001b[1;32m     71\u001b[0m         \u001b[0mresult\u001b[0m \u001b[0;34m=\u001b[0m \u001b[0mlibops\u001b[0m\u001b[0;34m.\u001b[0m\u001b[0mvec_compare\u001b[0m\u001b[0;34m(\u001b[0m\u001b[0mx\u001b[0m\u001b[0;34m.\u001b[0m\u001b[0mravel\u001b[0m\u001b[0;34m(\u001b[0m\u001b[0;34m)\u001b[0m\u001b[0;34m,\u001b[0m \u001b[0my\u001b[0m\u001b[0;34m.\u001b[0m\u001b[0mravel\u001b[0m\u001b[0;34m(\u001b[0m\u001b[0;34m)\u001b[0m\u001b[0;34m,\u001b[0m \u001b[0mop\u001b[0m\u001b[0;34m)\u001b[0m\u001b[0;34m\u001b[0m\u001b[0;34m\u001b[0m\u001b[0m\n\u001b[1;32m     72\u001b[0m     \u001b[0;32melse\u001b[0m\u001b[0;34m:\u001b[0m\u001b[0;34m\u001b[0m\u001b[0;34m\u001b[0m\u001b[0m\n\u001b[0;32m---> 73\u001b[0;31m         \u001b[0mresult\u001b[0m \u001b[0;34m=\u001b[0m \u001b[0mlibops\u001b[0m\u001b[0;34m.\u001b[0m\u001b[0mscalar_compare\u001b[0m\u001b[0;34m(\u001b[0m\u001b[0mx\u001b[0m\u001b[0;34m.\u001b[0m\u001b[0mravel\u001b[0m\u001b[0;34m(\u001b[0m\u001b[0;34m)\u001b[0m\u001b[0;34m,\u001b[0m \u001b[0my\u001b[0m\u001b[0;34m,\u001b[0m \u001b[0mop\u001b[0m\u001b[0;34m)\u001b[0m\u001b[0;34m\u001b[0m\u001b[0;34m\u001b[0m\u001b[0m\n\u001b[0m\u001b[1;32m     74\u001b[0m     \u001b[0;32mreturn\u001b[0m \u001b[0mresult\u001b[0m\u001b[0;34m.\u001b[0m\u001b[0mreshape\u001b[0m\u001b[0;34m(\u001b[0m\u001b[0mx\u001b[0m\u001b[0;34m.\u001b[0m\u001b[0mshape\u001b[0m\u001b[0;34m)\u001b[0m\u001b[0;34m\u001b[0m\u001b[0;34m\u001b[0m\u001b[0m\n\u001b[1;32m     75\u001b[0m \u001b[0;34m\u001b[0m\u001b[0m\n",
      "\u001b[0;31mKeyboardInterrupt\u001b[0m: "
     ]
    }
   ],
   "source": [
    "gene_list = np.unique(np.array(df_mut_pair['Query allele name']))\n",
    "binarized_ddF = np.zeros(len(gene_list))\n",
    "for i in tqdm(range(len(gene_list))):\n",
    "    binarized_ddF[i] =np.sum(df_mut_pair['binarized'][df_mut_pair['Query allele name'] == gene_list[i]])"
   ]
  },
  {
   "cell_type": "code",
   "execution_count": 24,
   "id": "6d89ff2b",
   "metadata": {},
   "outputs": [
    {
     "data": {
      "text/html": [
       "<div>\n",
       "<style scoped>\n",
       "    .dataframe tbody tr th:only-of-type {\n",
       "        vertical-align: middle;\n",
       "    }\n",
       "\n",
       "    .dataframe tbody tr th {\n",
       "        vertical-align: top;\n",
       "    }\n",
       "\n",
       "    .dataframe thead th {\n",
       "        text-align: right;\n",
       "    }\n",
       "</style>\n",
       "<table border=\"1\" class=\"dataframe\">\n",
       "  <thead>\n",
       "    <tr style=\"text-align: right;\">\n",
       "      <th></th>\n",
       "      <th>Gene Name</th>\n",
       "      <th>mean mut ddF</th>\n",
       "    </tr>\n",
       "  </thead>\n",
       "  <tbody>\n",
       "    <tr>\n",
       "      <th>1</th>\n",
       "      <td>aac1</td>\n",
       "      <td>-0.003681</td>\n",
       "    </tr>\n",
       "    <tr>\n",
       "      <th>2</th>\n",
       "      <td>aac3</td>\n",
       "      <td>-0.011043</td>\n",
       "    </tr>\n",
       "    <tr>\n",
       "      <th>3</th>\n",
       "      <td>aad10</td>\n",
       "      <td>-0.003076</td>\n",
       "    </tr>\n",
       "    <tr>\n",
       "      <th>4</th>\n",
       "      <td>aad15</td>\n",
       "      <td>-0.002397</td>\n",
       "    </tr>\n",
       "    <tr>\n",
       "      <th>5</th>\n",
       "      <td>aad16</td>\n",
       "      <td>-0.001142</td>\n",
       "    </tr>\n",
       "  </tbody>\n",
       "</table>\n",
       "</div>"
      ],
      "text/plain": [
       "  Gene Name  mean mut ddF\n",
       "1      aac1     -0.003681\n",
       "2      aac3     -0.011043\n",
       "3     aad10     -0.003076\n",
       "4     aad15     -0.002397\n",
       "5     aad16     -0.001142"
      ]
     },
     "execution_count": 24,
     "metadata": {},
     "output_type": "execute_result"
    }
   ],
   "source": [
    "df_mut_rob = pd.DataFrame(data = {'Gene Name': gene_list,'mean mut ddF':mean_ddF})\n",
    "df_mut_rob = df_mut_rob[~np.isnan(df_mut_rob['mean mut ddF'])]\n",
    "df_mut_rob.head()"
   ]
  },
  {
   "cell_type": "code",
   "execution_count": 30,
   "id": "4f8a98a1",
   "metadata": {},
   "outputs": [
    {
     "data": {
      "text/html": [
       "<div>\n",
       "<style scoped>\n",
       "    .dataframe tbody tr th:only-of-type {\n",
       "        vertical-align: middle;\n",
       "    }\n",
       "\n",
       "    .dataframe tbody tr th {\n",
       "        vertical-align: top;\n",
       "    }\n",
       "\n",
       "    .dataframe thead th {\n",
       "        text-align: right;\n",
       "    }\n",
       "</style>\n",
       "<table border=\"1\" class=\"dataframe\">\n",
       "  <thead>\n",
       "    <tr style=\"text-align: right;\">\n",
       "      <th></th>\n",
       "      <th>Gene Name</th>\n",
       "      <th>mean mut ddF</th>\n",
       "      <th>Mean Env Effect</th>\n",
       "    </tr>\n",
       "  </thead>\n",
       "  <tbody>\n",
       "    <tr>\n",
       "      <th>0</th>\n",
       "      <td>AAC1</td>\n",
       "      <td>-0.003681</td>\n",
       "      <td>0.022818</td>\n",
       "    </tr>\n",
       "    <tr>\n",
       "      <th>1</th>\n",
       "      <td>AAC3</td>\n",
       "      <td>-0.011043</td>\n",
       "      <td>-0.003468</td>\n",
       "    </tr>\n",
       "    <tr>\n",
       "      <th>2</th>\n",
       "      <td>AAD4</td>\n",
       "      <td>-0.003052</td>\n",
       "      <td>-0.003682</td>\n",
       "    </tr>\n",
       "    <tr>\n",
       "      <th>3</th>\n",
       "      <td>AAP1</td>\n",
       "      <td>-0.005523</td>\n",
       "      <td>0.020175</td>\n",
       "    </tr>\n",
       "    <tr>\n",
       "      <th>4</th>\n",
       "      <td>AAT1</td>\n",
       "      <td>-0.002229</td>\n",
       "      <td>0.007604</td>\n",
       "    </tr>\n",
       "  </tbody>\n",
       "</table>\n",
       "</div>"
      ],
      "text/plain": [
       "  Gene Name  mean mut ddF  Mean Env Effect\n",
       "0      AAC1     -0.003681         0.022818\n",
       "1      AAC3     -0.011043        -0.003468\n",
       "2      AAD4     -0.003052        -0.003682\n",
       "3      AAP1     -0.005523         0.020175\n",
       "4      AAT1     -0.002229         0.007604"
      ]
     },
     "execution_count": 30,
     "metadata": {},
     "output_type": "execute_result"
    }
   ],
   "source": [
    "df_mut_rob['Gene Name'] = df_mut_rob['Gene Name'].apply(str.upper)\n",
    "df_env_rob['Gene Name'] = df_env_rob['Gene Name'].apply(str.upper)\n",
    "df_joint = pd.merge(df_mut_rob,df_env_rob,how='inner',on='Gene Name')\n",
    "\n",
    "df_joint.head()"
   ]
  },
  {
   "cell_type": "code",
   "execution_count": 33,
   "id": "69e9855b",
   "metadata": {},
   "outputs": [
    {
     "data": {
      "text/plain": [
       "<matplotlib.collections.PathCollection at 0x7fe7c437ce50>"
      ]
     },
     "execution_count": 33,
     "metadata": {},
     "output_type": "execute_result"
    },
    {
     "data": {
      "image/png": "[encoded data removed]",
      "text/plain": [
       "<Figure size 640x480 with 1 Axes>"
      ]
     },
     "metadata": {},
     "output_type": "display_data"
    }
   ],
   "source": [
    "plt.scatter(df_joint['mean mut ddF'],df_joint['Mean Env Effect'],marker='.',alpha = 0.2)"
   ]
  },
  {
   "cell_type": "code",
   "execution_count": 35,
   "id": "039fb503",
   "metadata": {},
   "outputs": [
    {
     "data": {
      "text/plain": [
       "SpearmanrResult(correlation=-0.3588812259424312, pvalue=1.9758592528260034e-68)"
      ]
     },
     "execution_count": 35,
     "metadata": {},
     "output_type": "execute_result"
    }
   ],
   "source": [
    "mut = np.array(df_joint['mean mut ddF'])\n",
    "env = np.array(df_joint['Mean Env Effect'])\n",
    "scipy.stats.spearmanr(mut,env)"
   ]
  },
  {
   "cell_type": "code",
   "execution_count": 172,
   "id": "00150f54",
   "metadata": {},
   "outputs": [
    {
     "data": {
      "text/html": [
       "<div>\n",
       "<style scoped>\n",
       "    .dataframe tbody tr th:only-of-type {\n",
       "        vertical-align: middle;\n",
       "    }\n",
       "\n",
       "    .dataframe tbody tr th {\n",
       "        vertical-align: top;\n",
       "    }\n",
       "\n",
       "    .dataframe thead th {\n",
       "        text-align: right;\n",
       "    }\n",
       "</style>\n",
       "<table border=\"1\" class=\"dataframe\">\n",
       "  <thead>\n",
       "    <tr style=\"text-align: right;\">\n",
       "      <th></th>\n",
       "      <th>query_orf</th>\n",
       "      <th>array_orf</th>\n",
       "      <th>Condition</th>\n",
       "      <th>query_common</th>\n",
       "      <th>array_common</th>\n",
       "      <th>rep1_condition_epsilon</th>\n",
       "      <th>rep2_condition_epsilon</th>\n",
       "      <th>mean_condition_epsilon</th>\n",
       "      <th>sd_condition_epsilon</th>\n",
       "      <th>condition_p_value</th>\n",
       "      <th>...</th>\n",
       "      <th>rep1_differential_epsilon</th>\n",
       "      <th>rep2_differential_epsilon</th>\n",
       "      <th>mean_differential_epsilon</th>\n",
       "      <th>sd_differential_epsilon</th>\n",
       "      <th>differential_p_value</th>\n",
       "      <th>Differential Interaction Sign</th>\n",
       "      <th>Differential interaction class</th>\n",
       "      <th>Query-Array</th>\n",
       "      <th>epsilon_Costanzo et al 2016</th>\n",
       "      <th>pvalue_Costanzo et al 2016</th>\n",
       "    </tr>\n",
       "  </thead>\n",
       "  <tbody>\n",
       "    <tr>\n",
       "      <th>0</th>\n",
       "      <td>YBR254C_tsq1398</td>\n",
       "      <td>YNL141W_dma4038</td>\n",
       "      <td>Benomyl</td>\n",
       "      <td>TRS20</td>\n",
       "      <td>AAH1</td>\n",
       "      <td>0.008105</td>\n",
       "      <td>-0.111949</td>\n",
       "      <td>-0.051922</td>\n",
       "      <td>0.042741</td>\n",
       "      <td>0.224437</td>\n",
       "      <td>...</td>\n",
       "      <td>0.161988</td>\n",
       "      <td>0.055347</td>\n",
       "      <td>0.108667</td>\n",
       "      <td>0.054712</td>\n",
       "      <td>0.047014</td>\n",
       "      <td>Positive</td>\n",
       "      <td>Masked Negative GI</td>\n",
       "      <td>TRS20_AAH1</td>\n",
       "      <td>-0.087821</td>\n",
       "      <td>0.046210</td>\n",
       "    </tr>\n",
       "    <tr>\n",
       "      <th>1</th>\n",
       "      <td>YIR010W_tsq435</td>\n",
       "      <td>YFL039C_tsa911</td>\n",
       "      <td>Benomyl</td>\n",
       "      <td>DSN1</td>\n",
       "      <td>ACT1</td>\n",
       "      <td>0.017097</td>\n",
       "      <td>0.002072</td>\n",
       "      <td>0.009585</td>\n",
       "      <td>0.022799</td>\n",
       "      <td>0.674191</td>\n",
       "      <td>...</td>\n",
       "      <td>0.089108</td>\n",
       "      <td>0.122706</td>\n",
       "      <td>0.105907</td>\n",
       "      <td>0.027360</td>\n",
       "      <td>0.000108</td>\n",
       "      <td>Positive</td>\n",
       "      <td>Masked Negative GI</td>\n",
       "      <td>DSN1_ACT1</td>\n",
       "      <td>0.003932</td>\n",
       "      <td>0.493500</td>\n",
       "    </tr>\n",
       "    <tr>\n",
       "      <th>2</th>\n",
       "      <td>YMR299C_sn1495</td>\n",
       "      <td>YFL039C_tsa911</td>\n",
       "      <td>Benomyl</td>\n",
       "      <td>DYN3</td>\n",
       "      <td>ACT1</td>\n",
       "      <td>-0.013749</td>\n",
       "      <td>-0.025051</td>\n",
       "      <td>-0.019400</td>\n",
       "      <td>0.017198</td>\n",
       "      <td>0.259291</td>\n",
       "      <td>...</td>\n",
       "      <td>0.073061</td>\n",
       "      <td>0.106386</td>\n",
       "      <td>0.089723</td>\n",
       "      <td>0.036495</td>\n",
       "      <td>0.013950</td>\n",
       "      <td>Positive</td>\n",
       "      <td>Masked Negative GI</td>\n",
       "      <td>DYN3_ACT1</td>\n",
       "      <td>-0.188916</td>\n",
       "      <td>0.002846</td>\n",
       "    </tr>\n",
       "    <tr>\n",
       "      <th>3</th>\n",
       "      <td>YNL153C_sn1660</td>\n",
       "      <td>YFL039C_tsa910</td>\n",
       "      <td>Benomyl</td>\n",
       "      <td>GIM3</td>\n",
       "      <td>ACT1</td>\n",
       "      <td>-0.001443</td>\n",
       "      <td>-0.015586</td>\n",
       "      <td>-0.008514</td>\n",
       "      <td>0.012912</td>\n",
       "      <td>0.509623</td>\n",
       "      <td>...</td>\n",
       "      <td>0.056184</td>\n",
       "      <td>0.132421</td>\n",
       "      <td>0.094303</td>\n",
       "      <td>0.039323</td>\n",
       "      <td>0.016478</td>\n",
       "      <td>Positive</td>\n",
       "      <td>Masked Negative GI</td>\n",
       "      <td>GIM3_ACT1</td>\n",
       "      <td>-0.141141</td>\n",
       "      <td>0.027300</td>\n",
       "    </tr>\n",
       "    <tr>\n",
       "      <th>4</th>\n",
       "      <td>YNL153C_sn1660</td>\n",
       "      <td>YFL039C_tsa220</td>\n",
       "      <td>Benomyl</td>\n",
       "      <td>GIM3</td>\n",
       "      <td>ACT1</td>\n",
       "      <td>0.036237</td>\n",
       "      <td>0.003141</td>\n",
       "      <td>0.019689</td>\n",
       "      <td>0.021494</td>\n",
       "      <td>0.359647</td>\n",
       "      <td>...</td>\n",
       "      <td>0.075292</td>\n",
       "      <td>0.196090</td>\n",
       "      <td>0.135691</td>\n",
       "      <td>0.060511</td>\n",
       "      <td>0.024933</td>\n",
       "      <td>Positive</td>\n",
       "      <td>Masked Negative GI</td>\n",
       "      <td>GIM3_ACT1</td>\n",
       "      <td>-0.241100</td>\n",
       "      <td>0.000627</td>\n",
       "    </tr>\n",
       "  </tbody>\n",
       "</table>\n",
       "<p>5 rows × 25 columns</p>\n",
       "</div>"
      ],
      "text/plain": [
       "         query_orf        array_orf Condition query_common array_common  \\\n",
       "0  YBR254C_tsq1398  YNL141W_dma4038   Benomyl        TRS20         AAH1   \n",
       "1   YIR010W_tsq435   YFL039C_tsa911   Benomyl         DSN1         ACT1   \n",
       "2   YMR299C_sn1495   YFL039C_tsa911   Benomyl         DYN3         ACT1   \n",
       "3   YNL153C_sn1660   YFL039C_tsa910   Benomyl         GIM3         ACT1   \n",
       "4   YNL153C_sn1660   YFL039C_tsa220   Benomyl         GIM3         ACT1   \n",
       "\n",
       "   rep1_condition_epsilon  rep2_condition_epsilon  mean_condition_epsilon  \\\n",
       "0                0.008105               -0.111949               -0.051922   \n",
       "1                0.017097                0.002072                0.009585   \n",
       "2               -0.013749               -0.025051               -0.019400   \n",
       "3               -0.001443               -0.015586               -0.008514   \n",
       "4                0.036237                0.003141                0.019689   \n",
       "\n",
       "   sd_condition_epsilon  condition_p_value  ...  rep1_differential_epsilon  \\\n",
       "0              0.042741           0.224437  ...                   0.161988   \n",
       "1              0.022799           0.674191  ...                   0.089108   \n",
       "2              0.017198           0.259291  ...                   0.073061   \n",
       "3              0.012912           0.509623  ...                   0.056184   \n",
       "4              0.021494           0.359647  ...                   0.075292   \n",
       "\n",
       "   rep2_differential_epsilon  mean_differential_epsilon  \\\n",
       "0                   0.055347                   0.108667   \n",
       "1                   0.122706                   0.105907   \n",
       "2                   0.106386                   0.089723   \n",
       "3                   0.132421                   0.094303   \n",
       "4                   0.196090                   0.135691   \n",
       "\n",
       "   sd_differential_epsilon  differential_p_value  \\\n",
       "0                 0.054712              0.047014   \n",
       "1                 0.027360              0.000108   \n",
       "2                 0.036495              0.013950   \n",
       "3                 0.039323              0.016478   \n",
       "4                 0.060511              0.024933   \n",
       "\n",
       "   Differential Interaction Sign  Differential interaction class  Query-Array  \\\n",
       "0                       Positive              Masked Negative GI   TRS20_AAH1   \n",
       "1                       Positive              Masked Negative GI    DSN1_ACT1   \n",
       "2                       Positive              Masked Negative GI    DYN3_ACT1   \n",
       "3                       Positive              Masked Negative GI    GIM3_ACT1   \n",
       "4                       Positive              Masked Negative GI    GIM3_ACT1   \n",
       "\n",
       "   epsilon_Costanzo et al 2016  pvalue_Costanzo et al 2016  \n",
       "0                    -0.087821                    0.046210  \n",
       "1                     0.003932                    0.493500  \n",
       "2                    -0.188916                    0.002846  \n",
       "3                    -0.141141                    0.027300  \n",
       "4                    -0.241100                    0.000627  \n",
       "\n",
       "[5 rows x 25 columns]"
      ]
     },
     "execution_count": 172,
     "metadata": {},
     "output_type": "execute_result"
    }
   ],
   "source": [
    "datadir = \"/Volumes/Storage/duality_project_data/data/\"\n",
    "filename = 'Costanzo et al_Data File S3_Raw interaction dataset.xlsx'\n",
    "df_double = pd.read_excel(datadir+filename,sheet_name=1)\n",
    "df_double.head()"
   ]
  },
  {
   "cell_type": "code",
   "execution_count": null,
   "id": "a3786d7f",
   "metadata": {},
   "outputs": [],
   "source": []
  }
 ],
 "metadata": {
  "kernelspec": {
   "display_name": "Python 3 (ipykernel)",
   "language": "python",
   "name": "python3"
  },
  "language_info": {
   "codemirror_mode": {
    "name": "ipython",
    "version": 3
   },
   "file_extension": ".py",
   "mimetype": "text/x-python",
   "name": "python",
   "nbconvert_exporter": "python",
   "pygments_lexer": "ipython3",
   "version": "3.9.13"
  }
 },
 "nbformat": 4,
 "nbformat_minor": 5
}
