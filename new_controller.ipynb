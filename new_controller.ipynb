{
 "cells": [
  {
   "cell_type": "code",
   "execution_count": 168,
   "id": "9f5bd73d",
   "metadata": {},
   "outputs": [],
   "source": [
    "import numpy as np\n",
    "import matplotlib.pyplot as plt\n",
    "from simulation_functions import *\n",
    "from tqdm import tqdm\n",
    "from scipy.integrate import solve_ivp"
   ]
  },
  {
   "cell_type": "code",
   "execution_count": 169,
   "id": "9ada4c07-7213-4d49-b704-4bc6ea3b3c33",
   "metadata": {},
   "outputs": [],
   "source": [
    "def load_3d_matrix_from_csv(csv_file_path):\n",
    "    matrix_slices = []\n",
    "    current_slice = []\n",
    "    \n",
    "    with open(csv_file_path, 'r') as csv_file:\n",
    "        for line in csv_file:\n",
    "            if line.strip():  # Non-empty line\n",
    "                if line.startswith(\"Depth\"):\n",
    "                    if current_slice:\n",
    "                        matrix_slices.append(current_slice)\n",
    "                        current_slice = []\n",
    "                else:\n",
    "                    values = line.strip().split(',')\n",
    "                    current_slice.append(list(map(float, values)))  # Change int to float\n",
    "    \n",
    "    if current_slice:\n",
    "        matrix_slices.append(current_slice)\n",
    "    \n",
    "    matrix_3d = np.array(matrix_slices)\n",
    "    return matrix_3d"
   ]
  },
  {
   "cell_type": "code",
   "execution_count": 2,
   "id": "1e4e0776",
   "metadata": {},
   "outputs": [],
   "source": [
    "def n_f_dist(n_f,n_p):\n",
    "    return np.linalg.norm(n_f-n_p)/np.linalg.norm(n_f)"
   ]
  },
  {
   "cell_type": "code",
   "execution_count": 3,
   "id": "b130db00",
   "metadata": {},
   "outputs": [],
   "source": [
    "def evaluate_fitness_controlled(k,K,n_f,lam,lam_c,s_hat,m,t_f):\n",
    "    dists = []\n",
    "    for i in range(m):\n",
    "        lam_p = np.zeros(g) \n",
    "        #idx = np.random.randint(5)\n",
    "        lam_p[i] = lam_p[i]+2\n",
    "        nt, t = sim_dyn_controlled(n_f,t_f,k,K,n_f,lam,lam_p,lam_c,s_hat)\n",
    "        dists.append(n_f_dist(n_f,nt[:,-1]))\n",
    "    return np.mean(dists)"
   ]
  },
  {
   "cell_type": "code",
   "execution_count": 4,
   "id": "36922efc",
   "metadata": {},
   "outputs": [],
   "source": [
    "def calc_dndt_controlled(k,K,n,n_f,lam,lam_p,lam_c,s_hat):\n",
    "    s = np.dot(s_hat,n - n_f)\n",
    "    return np.matmul(k*(np.outer(np.ones(len(n)),n)+ K)**(-1),n) - lam*n - lam_p*n - s*lam_c#*n"
   ]
  },
  {
   "cell_type": "code",
   "execution_count": 5,
   "id": "45746394",
   "metadata": {},
   "outputs": [],
   "source": [
    "def sim_dyn(n0,t_f,k,K,lam):\n",
    "    def dndt(t,n):\n",
    "        output = calc_dndt(k,K,n,lam)\n",
    "        return output\n",
    "    t_span = [0, t_f]  # Time span to solve the differential equation\n",
    "    rtol = 1e-6  # Relative tolerance for the solution\n",
    "    atol = 1e-9  # Absolute tolerance for the solution\n",
    "    sol = solve_ivp(dndt, t_span, n0, rtol=rtol, atol=atol, dense_output=True, method='Radau')\n",
    "\n",
    "    # Create an interpolating function for the solution\n",
    "    sol_fun = sol.sol\n",
    "\n",
    "    # Evaluate the solution at a large number of time points for plotting\n",
    "    t_eval = np.linspace(t_span[0], t_span[1], 1000)\n",
    "    n_eval = sol_fun(t_eval)\n",
    "    return n_eval, t_eval\n"
   ]
  },
  {
   "cell_type": "code",
   "execution_count": 6,
   "id": "7f23c8d3",
   "metadata": {},
   "outputs": [],
   "source": [
    "def sim_dyn_controlled(n0,t_f,k,K,n_f,lam,lam_p,lam_c,s_hat):\n",
    "    def dndt(t,n):\n",
    "        output = calc_dndt_controlled(k,K,n,n_f,lam,lam_p,lam_c,s_hat)\n",
    "        return output\n",
    "    t_span = [0, t_f]  # Time span to solve the differential equation\n",
    "    rtol = 1e-6  # Relative tolerance for the solution\n",
    "    atol = 1e-9  # Absolute tolerance for the solution\n",
    "    sol = solve_ivp(dndt, t_span, n0, rtol=rtol, atol=atol, dense_output=True, method='Radau')\n",
    "\n",
    "    # Create an interpolating function for the solution\n",
    "    sol_fun = sol.sol\n",
    "\n",
    "    # Evaluate the solution at a large number of time points for plotting\n",
    "    t_eval = np.linspace(t_span[0], t_span[1], 1000)\n",
    "    n_eval = sol_fun(t_eval)\n",
    "    return n_eval, t_eval\n"
   ]
  },
  {
   "cell_type": "code",
   "execution_count": 26,
   "id": "8311bfbd",
   "metadata": {},
   "outputs": [],
   "source": [
    "def plot_eigenvectors(v,nt,n_f,v_0_idx = 0, v_f_idx = 5):\n",
    "    for i in range(v_0_idx,v_f_idx):#v.shape[0]):\n",
    "        v_plot = np.dot(v[:,i],nt)\n",
    "        n_f_v = np.dot(v[:,i],n_f)\n",
    "        #v_plot = v_plot - v_plot[-1]\n",
    "        v_plot = v_plot - n_f_v\n",
    "        if i == 0:\n",
    "            plt.plot(t,v_plot,'--',label = 'Slow Mode')\n",
    "            plt.legend()\n",
    "        else:\n",
    "            plt.plot(t,v_plot)"
   ]
  },
  {
   "cell_type": "code",
   "execution_count": 30,
   "id": "9cd27d1e",
   "metadata": {},
   "outputs": [],
   "source": [
    "#no slow mode\n",
    "g = 30\n",
    "lam = 5\n",
    "lam = np.zeros(g)+lam\n",
    "is_connected = np.random.rand(g,g) < .25\n",
    "is_connected = np.tril(is_connected, k=-1)\n",
    "is_connected = is_connected + np.transpose(is_connected)\n",
    "k = np.multiply(is_connected,np.random.rand(g,g))\n",
    "K = np.multiply(is_connected,np.random.rand(g,g))\n",
    "t_f = 200\n",
    "n0 = np.zeros(g) + 0.5\n",
    "nt, t = sim_dyn(n0,t_f,k,K,lam)\n",
    "n_f = nt[:,-1]"
   ]
  },
  {
   "cell_type": "code",
   "execution_count": 21,
   "id": "f27dbc16-3e56-4f66-ba45-a325eb94d2fd",
   "metadata": {},
   "outputs": [],
   "source": [
    "g = 30\n",
    "lam = 5\n",
    "lam = np.zeros(g)+lam\n",
    "k = np.genfromtxt('k.csv', delimiter=',')\n",
    "K = data = np.genfromtxt('kk.csv', delimiter=',')\n",
    "t_f = 200\n",
    "n0 = np.zeros(g) + 0.5\n",
    "nt, t = sim_dyn(n0,t_f,k,K,lam)\n",
    "n_f = nt[:,-1]\n",
    "J = calc_J(k,K,n_f,lam)\n",
    "w, v = np.linalg.eig(J)"
   ]
  },
  {
   "cell_type": "code",
   "execution_count": 117,
   "id": "6d29e49e",
   "metadata": {},
   "outputs": [],
   "source": [
    "t_f = 2\n",
    "\n",
    "k_p = np.array(k)\n",
    "mut_idx = np.random.randint(len(np.nonzero(k_p)[0]))\n",
    "k_p[np.nonzero(k_p)[0][mut_idx],np.nonzero(k_p)[1][mut_idx]] = k_p[np.nonzero(k_p)[0][mut_idx],np.nonzero(k_p)[1][mut_idx]]*10**(2*np.random.rand()-1)\n",
    "nt, t = sim_dyn(n_f,t_f,k_p,K,lam)"
   ]
  },
  {
   "cell_type": "code",
   "execution_count": 118,
   "id": "6c338f38",
   "metadata": {},
   "outputs": [
    {
     "data": {
      "text/plain": [
       "Text(0.5, 0, 'Time')"
      ]
     },
     "execution_count": 118,
     "metadata": {},
     "output_type": "execute_result"
    },
    {
     "data": {
      "image/png": "[encoded data removed]",
      "text/plain": [
       "<Figure size 640x480 with 1 Axes>"
      ]
     },
     "metadata": {},
     "output_type": "display_data"
    }
   ],
   "source": [
    "plot_eigenvectors(v,nt,n_f)\n",
    "plt.ylabel('Deviation from WT Fixed Point')\n",
    "plt.title('Mutational Perturbation')\n",
    "plt.xlabel('Time')"
   ]
  },
  {
   "cell_type": "code",
   "execution_count": 11,
   "id": "7665d597",
   "metadata": {},
   "outputs": [
    {
     "ename": "NameError",
     "evalue": "name 'n_0' is not defined",
     "output_type": "error",
     "traceback": [
      "\u001b[0;31m---------------------------------------------------------------------------\u001b[0m",
      "\u001b[0;31mNameError\u001b[0m                                 Traceback (most recent call last)",
      "Cell \u001b[0;32mIn[11], line 8\u001b[0m\n\u001b[1;32m      6\u001b[0m idx \u001b[38;5;241m=\u001b[39m np\u001b[38;5;241m.\u001b[39mrandom\u001b[38;5;241m.\u001b[39mrandint(g)\n\u001b[1;32m      7\u001b[0m lam_p[idx] \u001b[38;5;241m=\u001b[39m lam_p[idx]\u001b[38;5;241m+\u001b[39m\u001b[38;5;241m4\u001b[39m\n\u001b[0;32m----> 8\u001b[0m nt, t \u001b[38;5;241m=\u001b[39m sim_dyn_controlled(\u001b[43mn_0\u001b[49m,t_f,k,K,n_f,lam,lam_p,lam_c,s_hat)\n\u001b[1;32m      9\u001b[0m plot_eigenvectors(v,nt,n_f)\n\u001b[1;32m     10\u001b[0m plt\u001b[38;5;241m.\u001b[39mylabel(\u001b[38;5;124m'\u001b[39m\u001b[38;5;124mDeviation from WT Fixed Point\u001b[39m\u001b[38;5;124m'\u001b[39m)\n",
      "\u001b[0;31mNameError\u001b[0m: name 'n_0' is not defined"
     ]
    }
   ],
   "source": [
    "t_f = 400\n",
    "\n",
    "lam_c = np.zeros(g)\n",
    "s_hat = np.zeros(g)\n",
    "lam_p = np.zeros(g) \n",
    "idx = np.random.randint(g)\n",
    "lam_p[idx] = lam_p[idx]+4\n",
    "nt, t = sim_dyn_controlled(n_0,t_f,k,K,n_f,lam,lam_p,lam_c,s_hat)\n",
    "plot_eigenvectors(v,nt,n_f)\n",
    "plt.ylabel('Deviation from WT Fixed Point')\n",
    "plt.title('Environmental Perturbation (perturbed n)')\n",
    "plt.xlabel('Time')"
   ]
  },
  {
   "cell_type": "code",
   "execution_count": 89,
   "id": "c8bf2186-1997-460e-85ff-13e8d5375e93",
   "metadata": {},
   "outputs": [
    {
     "data": {
      "text/plain": [
       "array([0., 0., 0., 0., 0., 0., 4., 0., 0., 0., 0., 0., 0., 0., 0., 0., 0.,\n",
       "       0., 0., 0., 0., 0., 0., 0., 0., 0., 0., 0., 0., 0.])"
      ]
     },
     "execution_count": 89,
     "metadata": {},
     "output_type": "execute_result"
    }
   ],
   "source": [
    "lam_p"
   ]
  },
  {
   "cell_type": "code",
   "execution_count": 506,
   "id": "730f401f",
   "metadata": {},
   "outputs": [
    {
     "data": {
      "text/plain": [
       "0.0816258370911825"
      ]
     },
     "execution_count": 506,
     "metadata": {},
     "output_type": "execute_result"
    }
   ],
   "source": [
    "k[np.nonzero(k)[0][1],np.nonzero(k)[1][1]]"
   ]
  },
  {
   "cell_type": "code",
   "execution_count": 13,
   "id": "3694260d",
   "metadata": {},
   "outputs": [],
   "source": [
    "t_f = 25\n",
    "lam_p = np.zeros(g) \n",
    "lam_p[5] = lam_p[5]+2\n",
    "lam_c = np.random.rand(g)-0.5\n",
    "s_hat = np.random.rand(g)-0.5\n",
    "s_hat = s_hat/np.linalg.norm(s_hat)\n",
    "\n",
    "nt, t = sim_dyn_controlled(n_f,t_f,k,K,n_f,lam,lam_p,lam_c,s_hat)\n"
   ]
  },
  {
   "cell_type": "code",
   "execution_count": 14,
   "id": "8c58c8f2",
   "metadata": {},
   "outputs": [
    {
     "ename": "NameError",
     "evalue": "name 'v' is not defined",
     "output_type": "error",
     "traceback": [
      "\u001b[0;31m---------------------------------------------------------------------------\u001b[0m",
      "\u001b[0;31mNameError\u001b[0m                                 Traceback (most recent call last)",
      "Cell \u001b[0;32mIn[14], line 1\u001b[0m\n\u001b[0;32m----> 1\u001b[0m plot_eigenvectors(\u001b[43mv\u001b[49m,nt,n_f)\n",
      "\u001b[0;31mNameError\u001b[0m: name 'v' is not defined"
     ]
    }
   ],
   "source": [
    "plot_eigenvectors(v,nt,n_f)\n"
   ]
  },
  {
   "cell_type": "code",
   "execution_count": 46,
   "id": "469c2b1a",
   "metadata": {},
   "outputs": [
    {
     "name": "stderr",
     "output_type": "stream",
     "text": [
      "  1%|▏                          | 904/100000 [00:59<1:48:59, 15.15it/s]\n"
     ]
    },
    {
     "ename": "KeyboardInterrupt",
     "evalue": "",
     "output_type": "error",
     "traceback": [
      "\u001b[0;31m---------------------------------------------------------------------------\u001b[0m",
      "\u001b[0;31mKeyboardInterrupt\u001b[0m                         Traceback (most recent call last)",
      "Cell \u001b[0;32mIn[46], line 24\u001b[0m\n\u001b[1;32m     21\u001b[0m s_hat_new[j] \u001b[38;5;241m=\u001b[39m s_hat_new[j] \u001b[38;5;241m+\u001b[39m (np\u001b[38;5;241m.\u001b[39mrandom\u001b[38;5;241m.\u001b[39mrand() \u001b[38;5;241m-\u001b[39m \u001b[38;5;241m0.5\u001b[39m)\u001b[38;5;241m*\u001b[39m\u001b[38;5;241m4\u001b[39m\u001b[38;5;241m/\u001b[39m\u001b[38;5;241m10\u001b[39m\n\u001b[1;32m     22\u001b[0m s_hat_new \u001b[38;5;241m=\u001b[39m s_hat_new\u001b[38;5;241m/\u001b[39mnp\u001b[38;5;241m.\u001b[39mlinalg\u001b[38;5;241m.\u001b[39mnorm(s_hat_new)\n\u001b[0;32m---> 24\u001b[0m fitness_new \u001b[38;5;241m=\u001b[39m \u001b[43mevaluate_fitness_controlled\u001b[49m\u001b[43m(\u001b[49m\u001b[43mk\u001b[49m\u001b[43m,\u001b[49m\u001b[43mK\u001b[49m\u001b[43m,\u001b[49m\u001b[43mn_f\u001b[49m\u001b[43m,\u001b[49m\u001b[43mlam\u001b[49m\u001b[43m,\u001b[49m\u001b[43mlam_c_new\u001b[49m\u001b[43m,\u001b[49m\u001b[43ms_hat_new\u001b[49m\u001b[43m,\u001b[49m\u001b[43mm\u001b[49m\u001b[43m,\u001b[49m\u001b[43mt_f\u001b[49m\u001b[43m)\u001b[49m\n\u001b[1;32m     26\u001b[0m \u001b[38;5;28;01mif\u001b[39;00m fitness_new \u001b[38;5;241m<\u001b[39m fitness:\n\u001b[1;32m     27\u001b[0m     fitness \u001b[38;5;241m=\u001b[39m fitness_new\n",
      "Cell \u001b[0;32mIn[9], line 7\u001b[0m, in \u001b[0;36mevaluate_fitness_controlled\u001b[0;34m(k, K, n_f, lam, lam_c, s_hat, m, t_f)\u001b[0m\n\u001b[1;32m      5\u001b[0m     \u001b[38;5;66;03m#idx = np.random.randint(5)\u001b[39;00m\n\u001b[1;32m      6\u001b[0m     lam_p[i] \u001b[38;5;241m=\u001b[39m lam_p[i]\u001b[38;5;241m+\u001b[39m\u001b[38;5;241m2\u001b[39m\n\u001b[0;32m----> 7\u001b[0m     nt, t \u001b[38;5;241m=\u001b[39m \u001b[43msim_dyn_controlled\u001b[49m\u001b[43m(\u001b[49m\u001b[43mn_f\u001b[49m\u001b[43m,\u001b[49m\u001b[43mt_f\u001b[49m\u001b[43m,\u001b[49m\u001b[43mk\u001b[49m\u001b[43m,\u001b[49m\u001b[43mK\u001b[49m\u001b[43m,\u001b[49m\u001b[43mn_f\u001b[49m\u001b[43m,\u001b[49m\u001b[43mlam\u001b[49m\u001b[43m,\u001b[49m\u001b[43mlam_p\u001b[49m\u001b[43m,\u001b[49m\u001b[43mlam_c\u001b[49m\u001b[43m,\u001b[49m\u001b[43ms_hat\u001b[49m\u001b[43m)\u001b[49m\n\u001b[1;32m      8\u001b[0m     dists\u001b[38;5;241m.\u001b[39mappend(n_f_dist(n_f,nt[:,\u001b[38;5;241m-\u001b[39m\u001b[38;5;241m1\u001b[39m]))\n\u001b[1;32m      9\u001b[0m \u001b[38;5;28;01mreturn\u001b[39;00m np\u001b[38;5;241m.\u001b[39mmean(dists)\n",
      "Cell \u001b[0;32mIn[12], line 15\u001b[0m, in \u001b[0;36msim_dyn_controlled\u001b[0;34m(n0, t_f, k, K, n_f, lam, lam_p, lam_c, s_hat)\u001b[0m\n\u001b[1;32m     13\u001b[0m \u001b[38;5;66;03m# Evaluate the solution at a large number of time points for plotting\u001b[39;00m\n\u001b[1;32m     14\u001b[0m t_eval \u001b[38;5;241m=\u001b[39m np\u001b[38;5;241m.\u001b[39mlinspace(t_span[\u001b[38;5;241m0\u001b[39m], t_span[\u001b[38;5;241m1\u001b[39m], \u001b[38;5;241m1000\u001b[39m)\n\u001b[0;32m---> 15\u001b[0m n_eval \u001b[38;5;241m=\u001b[39m \u001b[43msol_fun\u001b[49m\u001b[43m(\u001b[49m\u001b[43mt_eval\u001b[49m\u001b[43m)\u001b[49m\n\u001b[1;32m     16\u001b[0m \u001b[38;5;28;01mreturn\u001b[39;00m n_eval, t_eval\n",
      "File \u001b[0;32m~/opt/anaconda3/lib/python3.9/site-packages/scipy/integrate/_ivp/common.py:237\u001b[0m, in \u001b[0;36mOdeSolution.__call__\u001b[0;34m(self, t)\u001b[0m\n\u001b[1;32m    234\u001b[0m     group_start \u001b[38;5;241m=\u001b[39m group_end\n\u001b[1;32m    236\u001b[0m ys \u001b[38;5;241m=\u001b[39m np\u001b[38;5;241m.\u001b[39mhstack(ys)\n\u001b[0;32m--> 237\u001b[0m ys \u001b[38;5;241m=\u001b[39m \u001b[43mys\u001b[49m\u001b[43m[\u001b[49m\u001b[43m:\u001b[49m\u001b[43m,\u001b[49m\u001b[43m \u001b[49m\u001b[43mreverse\u001b[49m\u001b[43m]\u001b[49m\n\u001b[1;32m    239\u001b[0m \u001b[38;5;28;01mreturn\u001b[39;00m ys\n",
      "\u001b[0;31mKeyboardInterrupt\u001b[0m: "
     ]
    }
   ],
   "source": [
    "t_f = 5\n",
    "m = 4\n",
    "T = .1\n",
    "g = len(lam)\n",
    "lam_c = np.random.rand(g)-0.5\n",
    "s_hat = np.random.rand(g)-0.5\n",
    "s_hat = s_hat/np.linalg.norm(s_hat)\n",
    "\n",
    "fitness = evaluate_fitness_controlled(k,K,n_f,lam,lam_c,s_hat,m,t_f)\n",
    "fitnesses = [fitness]\n",
    "went_downhill = 0 \n",
    "\n",
    "for i in tqdm(range(100000)):\n",
    "    \n",
    "    i, j = np.random.randint(g), np.random.randint(g)\n",
    "    \n",
    "    lam_c_new = np.array(lam_c)\n",
    "    lam_c_new[i] = lam_c_new[i] + (np.random.rand() - 0.5)*4/10\n",
    "\n",
    "    s_hat_new = np.array(s_hat)\n",
    "    s_hat_new[j] = s_hat_new[j] + (np.random.rand() - 0.5)*4/10\n",
    "    s_hat_new = s_hat_new/np.linalg.norm(s_hat_new)\n",
    "    \n",
    "    fitness_new = evaluate_fitness_controlled(k,K,n_f,lam,lam_c_new,s_hat_new,m,t_f)\n",
    "\n",
    "    if fitness_new < fitness:\n",
    "        fitness = fitness_new\n",
    "        s_hat = s_hat_new\n",
    "        lam_c = lam_c_new\n",
    "    elif np.exp((fitness_new-fitness)/T) < np.random.rand():\n",
    "        fitness = fitness_new\n",
    "        s_hat = s_hat_new\n",
    "        lam_c = lam_c_new\n",
    "        went_downhill = went_downhill + 1\n",
    "    fitnesses.append(fitness)\n",
    "    "
   ]
  },
  {
   "cell_type": "code",
   "execution_count": 47,
   "id": "6aa229f2",
   "metadata": {},
   "outputs": [
    {
     "data": {
      "text/plain": [
       "[<matplotlib.lines.Line2D at 0x1695b4970>]"
      ]
     },
     "execution_count": 47,
     "metadata": {},
     "output_type": "execute_result"
    },
    {
     "data": {
      "image/png": "[encoded data removed]",
      "text/plain": [
       "<Figure size 640x480 with 1 Axes>"
      ]
     },
     "metadata": {},
     "output_type": "display_data"
    }
   ],
   "source": [
    "evaluate_fitness_controlled(k,K,n_f,lam,lam_c,s_hat,m,t_f)"
   ]
  },
  {
   "cell_type": "code",
   "execution_count": 15,
   "id": "587817ba-d749-4cb4-8bbf-34f632c92860",
   "metadata": {},
   "outputs": [],
   "source": [
    "def simulated_annealing(k,K,n_f,lam,lam_c_0,s_hat_0,m,t_f, num_iterations, temperature, cooling_rate):\n",
    "    best_s_hat = lam_c_0\n",
    "    best_lam_c = s_hat_0\n",
    "    best_cost = evaluate_fitness_controlled(k,K,n_f,lam,best_lam_c,best_s_hat,m,t_f)\n",
    "\n",
    "    current_s_hat = lam_c_0\n",
    "    current_lam_c = s_hat_0\n",
    "    current_cost = best_cost\n",
    "\n",
    "    costs = []\n",
    "\n",
    "    for iteration in tqdm(range(num_iterations)):\n",
    "        costs.append(current_cost)\n",
    "        new_s_hat = current_s_hat + np.random.normal(0, 0.2, size=current_s_hat.shape)\n",
    "        new_lam_c = current_lam_c + np.random.normal(0, 0.2, size=current_lam_c.shape)\n",
    "\n",
    "        # Ensure the Euclidean norm of new_params2 is 1\n",
    "        new_s_hat /= np.linalg.norm(new_s_hat)\n",
    "\n",
    "        new_cost = evaluate_fitness_controlled(k,K,n_f,lam,new_lam_c,new_s_hat,m,t_f)\n",
    "\n",
    "        if new_cost < current_cost:\n",
    "            current_s_hat = new_s_hat\n",
    "            current_lam_c = new_lam_c\n",
    "            current_cost = new_cost\n",
    "\n",
    "            if new_cost < best_cost:\n",
    "                best_s_hat = new_s_hat\n",
    "                best_lam_c = new_lam_c\n",
    "                best_cost = new_cost\n",
    "        else:\n",
    "            probability = np.exp((current_cost - new_cost) / temperature)\n",
    "            if np.random.random() < probability:\n",
    "                current_s_hat = new_s_hat\n",
    "                current_lam_c = new_lam_c\n",
    "                current_cost = new_cost\n",
    "\n",
    "        temperature *= cooling_rate\n",
    "        #if iteration/100 ==0 :\n",
    "            #print(current_cost)\n",
    "    return best_s_hat, best_lam_c, costs"
   ]
  },
  {
   "cell_type": "code",
   "execution_count": 148,
   "id": "ba0c8b29-32b1-4784-b676-001676dc76a3",
   "metadata": {},
   "outputs": [],
   "source": [
    "ks = load_3d_matrix_from_csv(\"many_ks.csv\")\n",
    "Ks = load_3d_matrix_from_csv(\"many_KKs.csv\")"
   ]
  },
  {
   "cell_type": "code",
   "execution_count": 149,
   "id": "6b85e1c4-c55d-4175-b16a-2b9fc1f9e26a",
   "metadata": {},
   "outputs": [
    {
     "data": {
      "text/plain": [
       "array([[0.        , 0.54979998, 0.33244851, 0.        , 0.        ,\n",
       "        0.        , 0.        , 0.        , 0.        , 0.        ,\n",
       "        0.        , 0.        , 0.32429433, 0.        , 0.        ,\n",
       "        0.91081435, 0.        , 0.        , 0.        , 0.        ,\n",
       "        0.        , 0.        , 0.        , 0.        , 0.24708621,\n",
       "        0.        , 0.        , 0.        , 0.        , 0.        ],\n",
       "       [0.7929173 , 0.        , 0.90323487, 0.        , 0.        ,\n",
       "        0.        , 0.        , 0.        , 0.19714054, 0.        ,\n",
       "        0.        , 0.81399266, 0.        , 0.71058613, 0.        ,\n",
       "        0.        , 0.        , 0.76248395, 0.        , 0.        ,\n",
       "        0.        , 0.        , 0.57411424, 0.        , 0.        ,\n",
       "        0.49117398, 0.        , 0.        , 0.        , 0.        ],\n",
       "       [0.85071939, 0.98205033, 0.        , 0.        , 0.95411134,\n",
       "        0.34298703, 0.        , 0.        , 0.        , 0.25722913,\n",
       "        0.        , 0.        , 0.        , 0.91255828, 0.        ,\n",
       "        0.        , 0.        , 0.        , 0.        , 0.13249771,\n",
       "        0.        , 0.        , 0.        , 0.        , 0.        ,\n",
       "        0.        , 0.30965935, 0.44133378, 0.62589347, 0.10068001],\n",
       "       [0.        , 0.        , 0.        , 0.        , 0.92621139,\n",
       "        0.06483768, 0.        , 0.        , 0.        , 0.        ,\n",
       "        0.        , 0.        , 0.        , 0.        , 0.        ,\n",
       "        0.47137288, 0.        , 0.        , 0.        , 0.        ,\n",
       "        0.70851026, 0.        , 0.        , 0.        , 0.        ,\n",
       "        0.73928605, 0.        , 0.        , 0.        , 0.        ],\n",
       "       [0.        , 0.        , 0.81822334, 0.70429555, 0.        ,\n",
       "        0.69137673, 0.        , 0.        , 0.        , 0.        ,\n",
       "        0.        , 0.        , 0.        , 0.67969112, 0.9065011 ,\n",
       "        0.        , 0.        , 0.        , 0.        , 0.        ,\n",
       "        0.        , 0.39365638, 0.        , 0.        , 0.        ,\n",
       "        0.99822703, 0.88257972, 0.00175454, 0.        , 0.        ],\n",
       "       [0.        , 0.        , 0.98906784, 0.49856606, 0.70250313,\n",
       "        0.        , 0.        , 0.        , 0.        , 0.        ,\n",
       "        0.        , 0.        , 0.        , 0.4799731 , 0.        ,\n",
       "        0.        , 0.        , 0.85012365, 0.3894135 , 0.53904907,\n",
       "        0.        , 0.        , 0.        , 0.        , 0.        ,\n",
       "        0.        , 0.        , 0.        , 0.        , 0.        ],\n",
       "       [0.        , 0.        , 0.        , 0.        , 0.        ,\n",
       "        0.        , 0.        , 0.        , 0.        , 0.        ,\n",
       "        0.        , 0.        , 0.        , 0.        , 0.        ,\n",
       "        0.        , 0.95106973, 0.        , 0.        , 0.78072404,\n",
       "        0.        , 0.        , 0.        , 0.        , 0.38499579,\n",
       "        0.        , 0.        , 0.        , 0.        , 0.        ],\n",
       "       [0.        , 0.        , 0.        , 0.        , 0.        ,\n",
       "        0.        , 0.        , 0.        , 0.        , 0.        ,\n",
       "        0.61847851, 0.        , 0.        , 0.60185445, 0.36161405,\n",
       "        0.        , 0.81242788, 0.28339792, 0.76880316, 0.        ,\n",
       "        0.        , 0.65834529, 0.        , 0.        , 0.        ,\n",
       "        0.49337288, 0.        , 0.        , 0.        , 0.66096289],\n",
       "       [0.        , 0.41788977, 0.        , 0.        , 0.        ,\n",
       "        0.        , 0.        , 0.        , 0.        , 0.        ,\n",
       "        0.        , 0.        , 0.        , 0.        , 0.        ,\n",
       "        0.83928238, 0.        , 0.61069724, 0.19090647, 0.        ,\n",
       "        0.        , 0.        , 0.        , 0.        , 0.77899086,\n",
       "        0.69656327, 0.        , 0.32424446, 0.1069452 , 0.98151241],\n",
       "       [0.        , 0.        , 0.46078618, 0.        , 0.        ,\n",
       "        0.        , 0.        , 0.        , 0.        , 0.        ,\n",
       "        0.        , 0.        , 0.        , 0.45257349, 0.        ,\n",
       "        0.        , 0.60554651, 0.04982334, 0.        , 0.        ,\n",
       "        0.        , 0.00839301, 0.        , 0.        , 0.        ,\n",
       "        0.        , 0.        , 0.        , 0.        , 0.        ],\n",
       "       [0.        , 0.        , 0.        , 0.        , 0.        ,\n",
       "        0.        , 0.        , 0.39775924, 0.        , 0.        ,\n",
       "        0.        , 0.        , 0.        , 0.        , 0.        ,\n",
       "        0.        , 0.        , 0.        , 0.        , 0.        ,\n",
       "        0.        , 0.        , 0.        , 0.        , 0.4193878 ,\n",
       "        0.        , 0.        , 0.        , 0.60825775, 0.61567454],\n",
       "       [0.        , 0.69621975, 0.        , 0.        , 0.        ,\n",
       "        0.        , 0.        , 0.        , 0.        , 0.        ,\n",
       "        0.        , 0.        , 0.        , 0.85449815, 0.        ,\n",
       "        0.74941797, 0.        , 0.        , 0.        , 0.        ,\n",
       "        0.24976209, 0.        , 0.        , 0.        , 0.        ,\n",
       "        0.        , 0.        , 0.        , 0.30280283, 0.06138133],\n",
       "       [0.9270987 , 0.        , 0.        , 0.        , 0.        ,\n",
       "        0.        , 0.        , 0.        , 0.        , 0.        ,\n",
       "        0.        , 0.        , 0.        , 0.        , 0.        ,\n",
       "        0.41044629, 0.        , 0.        , 0.        , 0.        ,\n",
       "        0.86591639, 0.        , 0.        , 0.81158615, 0.        ,\n",
       "        0.        , 0.10177107, 0.14772772, 0.55744671, 0.88360607],\n",
       "       [0.        , 0.54761301, 0.83425616, 0.        , 0.80459488,\n",
       "        0.86234785, 0.        , 0.55988718, 0.        , 0.06845867,\n",
       "        0.        , 0.85489294, 0.        , 0.        , 0.        ,\n",
       "        0.        , 0.        , 0.        , 0.        , 0.        ,\n",
       "        0.        , 0.        , 0.        , 0.        , 0.        ,\n",
       "        0.        , 0.        , 0.        , 0.        , 0.        ],\n",
       "       [0.        , 0.        , 0.        , 0.        , 0.48768324,\n",
       "        0.        , 0.        , 0.06668715, 0.        , 0.        ,\n",
       "        0.        , 0.        , 0.        , 0.        , 0.        ,\n",
       "        0.        , 0.        , 0.        , 0.        , 0.40319712,\n",
       "        0.20097599, 0.        , 0.15710091, 0.        , 0.        ,\n",
       "        0.        , 0.        , 0.        , 0.44535108, 0.        ],\n",
       "       [0.97193395, 0.        , 0.        , 0.93973997, 0.        ,\n",
       "        0.        , 0.        , 0.        , 0.89150995, 0.        ,\n",
       "        0.        , 0.54302905, 0.72923191, 0.        , 0.        ,\n",
       "        0.        , 0.        , 0.34518994, 0.        , 0.72948427,\n",
       "        0.        , 0.        , 0.        , 0.        , 0.        ,\n",
       "        0.        , 0.53744324, 0.        , 0.        , 0.        ],\n",
       "       [0.        , 0.        , 0.        , 0.        , 0.        ,\n",
       "        0.        , 0.98990279, 0.21156578, 0.        , 0.04861247,\n",
       "        0.        , 0.        , 0.        , 0.        , 0.        ,\n",
       "        0.        , 0.        , 0.68352986, 0.58256586, 0.        ,\n",
       "        0.        , 0.        , 0.        , 0.        , 0.        ,\n",
       "        0.        , 0.60862926, 0.        , 0.        , 0.        ],\n",
       "       [0.        , 0.50103758, 0.        , 0.        , 0.        ,\n",
       "        0.34146679, 0.        , 0.93095746, 0.1692844 , 0.45192777,\n",
       "        0.        , 0.        , 0.        , 0.        , 0.        ,\n",
       "        0.5384015 , 0.41802252, 0.        , 0.        , 0.        ,\n",
       "        0.        , 0.        , 0.        , 0.35940837, 0.        ,\n",
       "        0.        , 0.21266963, 0.87246087, 0.36328584, 0.        ],\n",
       "       [0.        , 0.        , 0.        , 0.        , 0.        ,\n",
       "        0.5938021 , 0.        , 0.4288182 , 0.95939771, 0.        ,\n",
       "        0.        , 0.        , 0.        , 0.        , 0.        ,\n",
       "        0.        , 0.45967568, 0.        , 0.        , 0.73153619,\n",
       "        0.        , 0.        , 0.        , 0.3446932 , 0.        ,\n",
       "        0.        , 0.        , 0.        , 0.        , 0.        ],\n",
       "       [0.        , 0.        , 0.83551832, 0.        , 0.        ,\n",
       "        0.62154811, 0.4621858 , 0.        , 0.        , 0.        ,\n",
       "        0.        , 0.        , 0.        , 0.        , 0.27220095,\n",
       "        0.29439505, 0.        , 0.        , 0.74790985, 0.        ,\n",
       "        0.        , 0.        , 0.        , 0.        , 0.        ,\n",
       "        0.        , 0.        , 0.        , 0.        , 0.        ],\n",
       "       [0.        , 0.        , 0.        , 0.99367561, 0.        ,\n",
       "        0.        , 0.        , 0.        , 0.        , 0.        ,\n",
       "        0.        , 0.84130432, 0.64425783, 0.        , 0.18701404,\n",
       "        0.        , 0.        , 0.        , 0.        , 0.        ,\n",
       "        0.        , 0.        , 0.        , 0.        , 0.        ,\n",
       "        0.        , 0.19985607, 0.        , 0.        , 0.        ],\n",
       "       [0.        , 0.        , 0.        , 0.        , 0.36936072,\n",
       "        0.        , 0.        , 0.70721085, 0.        , 0.10259355,\n",
       "        0.        , 0.        , 0.        , 0.        , 0.        ,\n",
       "        0.        , 0.        , 0.        , 0.        , 0.        ,\n",
       "        0.        , 0.        , 0.        , 0.        , 0.        ,\n",
       "        0.81478783, 0.        , 0.        , 0.        , 0.26747292],\n",
       "       [0.        , 0.86224611, 0.        , 0.        , 0.        ,\n",
       "        0.        , 0.        , 0.        , 0.        , 0.        ,\n",
       "        0.        , 0.        , 0.        , 0.        , 0.31912299,\n",
       "        0.        , 0.        , 0.        , 0.        , 0.        ,\n",
       "        0.        , 0.        , 0.        , 0.        , 0.        ,\n",
       "        0.        , 0.        , 0.        , 0.        , 0.        ],\n",
       "       [0.        , 0.        , 0.        , 0.        , 0.        ,\n",
       "        0.        , 0.        , 0.        , 0.        , 0.        ,\n",
       "        0.        , 0.        , 0.74331321, 0.        , 0.        ,\n",
       "        0.        , 0.        , 0.99443509, 0.7438805 , 0.        ,\n",
       "        0.        , 0.        , 0.        , 0.        , 0.        ,\n",
       "        0.        , 0.        , 0.        , 0.        , 0.        ],\n",
       "       [0.06394792, 0.        , 0.        , 0.        , 0.        ,\n",
       "        0.        , 0.3140239 , 0.        , 0.38750966, 0.        ,\n",
       "        0.42528332, 0.        , 0.        , 0.        , 0.        ,\n",
       "        0.        , 0.        , 0.        , 0.        , 0.        ,\n",
       "        0.        , 0.        , 0.        , 0.        , 0.        ,\n",
       "        0.        , 0.        , 0.3743593 , 0.84591769, 0.        ],\n",
       "       [0.        , 0.33990929, 0.        , 0.30504899, 0.63648744,\n",
       "        0.        , 0.        , 0.40058282, 0.58633342, 0.        ,\n",
       "        0.        , 0.        , 0.        , 0.        , 0.        ,\n",
       "        0.        , 0.        , 0.        , 0.        , 0.        ,\n",
       "        0.        , 0.25275161, 0.        , 0.        , 0.        ,\n",
       "        0.        , 0.        , 0.        , 0.        , 0.        ],\n",
       "       [0.        , 0.        , 0.92785665, 0.        , 0.95695958,\n",
       "        0.        , 0.        , 0.        , 0.        , 0.        ,\n",
       "        0.        , 0.        , 0.13961873, 0.        , 0.        ,\n",
       "        0.02587936, 0.11522619, 0.96251468, 0.        , 0.        ,\n",
       "        0.99820572, 0.        , 0.        , 0.        , 0.        ,\n",
       "        0.        , 0.        , 0.        , 0.        , 0.        ],\n",
       "       [0.        , 0.        , 0.66486816, 0.        , 0.89805141,\n",
       "        0.        , 0.        , 0.        , 0.90940258, 0.        ,\n",
       "        0.        , 0.        , 0.62442787, 0.        , 0.        ,\n",
       "        0.        , 0.        , 0.91071038, 0.        , 0.        ,\n",
       "        0.        , 0.        , 0.        , 0.        , 0.75444238,\n",
       "        0.        , 0.        , 0.        , 0.41957409, 0.        ],\n",
       "       [0.        , 0.        , 0.93267758, 0.        , 0.        ,\n",
       "        0.        , 0.        , 0.        , 0.35331511, 0.        ,\n",
       "        0.50671578, 0.53804014, 0.52010314, 0.        , 0.87873627,\n",
       "        0.        , 0.        , 0.31386709, 0.        , 0.        ,\n",
       "        0.        , 0.        , 0.        , 0.        , 0.35330923,\n",
       "        0.        , 0.        , 0.12961109, 0.        , 0.        ],\n",
       "       [0.        , 0.        , 0.43885807, 0.        , 0.        ,\n",
       "        0.        , 0.        , 0.30954983, 0.54695891, 0.        ,\n",
       "        0.92067525, 0.81780608, 0.94124588, 0.        , 0.        ,\n",
       "        0.        , 0.        , 0.        , 0.        , 0.        ,\n",
       "        0.        , 0.56142553, 0.        , 0.        , 0.        ,\n",
       "        0.        , 0.        , 0.        , 0.        , 0.        ]])"
      ]
     },
     "execution_count": 149,
     "metadata": {},
     "output_type": "execute_result"
    }
   ],
   "source": []
  },
  {
   "cell_type": "code",
   "execution_count": 160,
   "id": "de25da3d-da15-4fb2-8b65-62d6da6a2e78",
   "metadata": {},
   "outputs": [
    {
     "name": "stderr",
     "output_type": "stream",
     "text": [
      "100%|██████████████████████████████████████| 1000/1000 [03:40<00:00,  4.53it/s]\n"
     ]
    }
   ],
   "source": [
    "K = Ks[-5,:,:]\n",
    "k = ks[-5,:,:]\n",
    "\n",
    "t_f = 200\n",
    "n0 = np.zeros(g) + 0.5\n",
    "nt, t = sim_dyn(n0,t_f,k,K,lam)\n",
    "n_f = nt[:,-1]\n",
    "J = calc_J(k,K,n_f,lam)\n",
    "w, v = np.linalg.eig(J)\n",
    "\n",
    "t_f = 5\n",
    "m = 20\n",
    "g = len(lam)\n",
    "lam_c_0 = np.random.rand(g)-0.5 \n",
    "s_hat_0 = np.random.rand(g)-0.5 \n",
    "s_hat_0 = s_hat/np.linalg.norm(s_hat)\n",
    "temperature = 1.0\n",
    "cooling_rate = 0.96\n",
    "num_iterations = 1000\n",
    "best_s_hat, best_lam_c, costs = simulated_annealing(k,K,n_f,lam,lam_c_0,s_hat_0,m,t_f, num_iterations, temperature, cooling_rate)"
   ]
  },
  {
   "cell_type": "code",
   "execution_count": 162,
   "id": "4b636665-6609-4169-ab0f-a1f8da4c0aa4",
   "metadata": {},
   "outputs": [
    {
     "data": {
      "text/plain": [
       "0.0008995784709363232"
      ]
     },
     "execution_count": 162,
     "metadata": {},
     "output_type": "execute_result"
    }
   ],
   "source": [
    "evaluate_fitness_controlled(k,K,n_f,lam,best_lam_c,best_s_hat,m,t_f)/np.linalg.norm(1/w)"
   ]
  },
  {
   "cell_type": "code",
   "execution_count": 159,
   "id": "3a60a7ce-4264-4ebb-9ea8-fbf83932d712",
   "metadata": {},
   "outputs": [
    {
     "data": {
      "text/plain": [
       "0.0005920951254193551"
      ]
     },
     "execution_count": 159,
     "metadata": {},
     "output_type": "execute_result"
    }
   ],
   "source": [
    "evaluate_fitness_controlled(k,K,n_f,lam,best_lam_c,best_s_hat,m,t_f)/np.linalg.norm(1/w)"
   ]
  },
  {
   "cell_type": "code",
   "execution_count": 157,
   "id": "e94f170f-711d-4562-a5c1-81dafe0ba0ae",
   "metadata": {},
   "outputs": [
    {
     "data": {
      "text/plain": [
       "0.027144283635949944"
      ]
     },
     "execution_count": 157,
     "metadata": {},
     "output_type": "execute_result"
    }
   ],
   "source": [
    "evaluate_fitness_controlled(k,K,n_f,lam,best_lam_c,best_s_hat,m,t_f)/np.linalg.norm(1/w)"
   ]
  },
  {
   "cell_type": "code",
   "execution_count": 156,
   "id": "a8a9b1ef-5cd0-46cd-b149-bcf8419af043",
   "metadata": {},
   "outputs": [
    {
     "data": {
      "text/plain": [
       "2.148712661807865"
      ]
     },
     "execution_count": 156,
     "metadata": {},
     "output_type": "execute_result"
    }
   ],
   "source": [
    "np.linalg.norm(1/w)"
   ]
  },
  {
   "cell_type": "code",
   "execution_count": 151,
   "id": "d4547cf3-a176-4abd-a5e1-56b3d7b9e37b",
   "metadata": {},
   "outputs": [
    {
     "data": {
      "text/plain": [
       "[<matplotlib.lines.Line2D at 0x163e12220>]"
      ]
     },
     "execution_count": 151,
     "metadata": {},
     "output_type": "execute_result"
    },
    {
     "data": {
      "image/png": "[encoded data removed]",
      "text/plain": [
       "<Figure size 640x480 with 1 Axes>"
      ]
     },
     "metadata": {},
     "output_type": "display_data"
    }
   ],
   "source": [
    "plt.plot(costs)"
   ]
  },
  {
   "cell_type": "code",
   "execution_count": 154,
   "id": "ac1bcea8-8e49-4985-a1f8-eb0044a7d1db",
   "metadata": {},
   "outputs": [
    {
     "name": "stdout",
     "output_type": "stream",
     "text": [
      "5\n"
     ]
    },
    {
     "data": {
      "image/png": "[encoded data removed]",
      "text/plain": [
       "<Figure size 640x480 with 1 Axes>"
      ]
     },
     "metadata": {},
     "output_type": "display_data"
    }
   ],
   "source": [
    "idx = np.random.randint(g)\n",
    "print(idx)\n",
    "t_f = 200\n",
    "lam_p = np.zeros(g) \n",
    "lam_p[idx] = lam_p[idx]+2\n",
    "lam_c = np.zeros(g) \n",
    "s_hat = np.zeros(g) \n",
    "\n",
    "nt, t = sim_dyn_controlled(n_f,t_f,k,K,n_f,lam,lam_p,lam_c,s_hat)\n",
    "plot_eigenvectors(v,nt,n_f,v_0_idx = 0, v_f_idx = 3)\n",
    "t_f = 200\n",
    "lam_p = np.zeros(g) \n",
    "lam_p[idx] = lam_p[idx]+2\n",
    "lam_c = best_lam_c\n",
    "s_hat = best_s_hat \n",
    "\n",
    "nt, t = sim_dyn_controlled(n_f,t_f,k,K,n_f,lam,lam_p,lam_c,s_hat)\n",
    "plot_eigenvectors(v,nt,n_f,v_0_idx = 0, v_f_idx = 3)"
   ]
  },
  {
   "cell_type": "code",
   "execution_count": 163,
   "id": "43fe72ed-4627-4ab1-bf1f-49b41b39f4e5",
   "metadata": {},
   "outputs": [
    {
     "data": {
      "image/png": "[encoded data removed]",
      "text/plain": [
       "<Figure size 640x480 with 1 Axes>"
      ]
     },
     "metadata": {},
     "output_type": "display_data"
    }
   ],
   "source": [
    "for i in range(0,g):\n",
    "        v_plot = np.dot(v[:,i],best_s_hat)\n",
    "        plt.scatter(w[i],v_plot,color = 'b')"
   ]
  },
  {
   "cell_type": "code",
   "execution_count": 117,
   "id": "4404424d-822f-4d95-ad92-a63aa8f016d4",
   "metadata": {},
   "outputs": [],
   "source": [
    "dists = []\n",
    "m = 25\n",
    "for i in range(m):\n",
    "    lam_p = np.zeros(g) \n",
    "    lam_p[i] = lam_p[i]+2\n",
    "    nt, t = sim_dyn_controlled(n_f,t_f,k,K,n_f,lam,lam_p,lam_c,s_hat)\n",
    "    dists.append(nt[:,-1])\n",
    "dists_no_doc = []\n",
    "m = 25\n",
    "for i in range(m):\n",
    "    lam_p = np.zeros(g) \n",
    "    lam_p[i] = lam_p[i]+2\n",
    "    nt, t = sim_dyn_controlled(n_f,t_f,k,K,n_f,lam,lam_p,np.zeros(g),np.zeros(g))\n",
    "    dists_no_doc.append(nt[:,-1])"
   ]
  },
  {
   "cell_type": "code",
   "execution_count": 118,
   "id": "28b3bcc6-b6c9-4ba2-a1cd-4090463e1b58",
   "metadata": {},
   "outputs": [
    {
     "data": {
      "text/plain": [
       "[array([0.00062429, 0.00146445, 0.00185041, 0.0007544 , 0.00244551,\n",
       "        0.00212873, 0.00204542, 0.00096608, 0.00159162, 0.00165148,\n",
       "        0.00453237, 0.00284587, 0.00109733, 0.00504978, 0.00309335,\n",
       "        0.00415711, 0.00083294, 0.0023256 , 0.00309221, 0.00329827,\n",
       "        0.00196781, 0.00159483, 0.00138885, 0.002702  , 0.00219412,\n",
       "        0.0023593 , 0.00279513, 0.00099565, 0.00207632, 0.00358059]),\n",
       " array([0.00114886, 0.00129771, 0.00233343, 0.00094139, 0.0030751 ,\n",
       "        0.00262627, 0.00267472, 0.00111099, 0.00200592, 0.00209873,\n",
       "        0.0057465 , 0.0035529 , 0.00132476, 0.00639344, 0.0039801 ,\n",
       "        0.00526052, 0.00105822, 0.00293802, 0.00388052, 0.00416188,\n",
       "        0.00250872, 0.00199044, 0.00175062, 0.0034358 , 0.00277334,\n",
       "        0.00301301, 0.00352446, 0.00122269, 0.00278024, 0.00454986]),\n",
       " array([0.00017063, 0.00028412, 0.00024625, 0.0001434 , 0.0004698 ,\n",
       "        0.00041723, 0.00038409, 0.0001881 , 0.00030023, 0.00031017,\n",
       "        0.00086856, 0.00055393, 0.00021531, 0.00092874, 0.0005932 ,\n",
       "        0.00075971, 0.0001613 , 0.00044625, 0.00059844, 0.0006197 ,\n",
       "        0.00038258, 0.00029796, 0.00025897, 0.00048466, 0.00041995,\n",
       "        0.00044443, 0.00053478, 0.00019435, 0.00043112, 0.00069931]),\n",
       " array([0.00112356, 0.00181136, 0.00223404, 0.00063987, 0.00300879,\n",
       "        0.00253746, 0.00258986, 0.00108172, 0.00194687, 0.00203782,\n",
       "        0.00562464, 0.00347948, 0.00137631, 0.0062087 , 0.00383561,\n",
       "        0.00513569, 0.00103002, 0.00287002, 0.00386941, 0.00406452,\n",
       "        0.00247106, 0.00179724, 0.00166188, 0.00334075, 0.00272363,\n",
       "        0.00293289, 0.00348944, 0.00119864, 0.00277679, 0.00452472]),\n",
       " array([0.00026667, 0.00043428, 0.00054329, 0.00022139, 0.00048509,\n",
       "        0.00061658, 0.00060714, 0.00028453, 0.00041903, 0.00048763,\n",
       "        0.00127436, 0.00081514, 0.00031812, 0.00149279, 0.00093365,\n",
       "        0.00120965, 0.00024968, 0.00067124, 0.00091191, 0.00097341,\n",
       "        0.00058754, 0.00046605, 0.00040233, 0.00076458, 0.00064747,\n",
       "        0.00063245, 0.00082968, 0.0002985 , 0.00066136, 0.00108512]),\n",
       " array([0.00079428, 0.00125972, 0.00159948, 0.00059874, 0.00209472,\n",
       "        0.00110686, 0.00183186, 0.00068657, 0.00138227, 0.00145308,\n",
       "        0.00383336, 0.00206329, 0.00094347, 0.00442433, 0.0027412 ,\n",
       "        0.00362885, 0.00072241, 0.00203045, 0.00270474, 0.00288766,\n",
       "        0.00170793, 0.00132433, 0.00120336, 0.00236392, 0.00191179,\n",
       "        0.00205642, 0.00245886, 0.00081741, 0.00194826, 0.0031882 ]),\n",
       " array([2.62889143e-10, 5.14480364e-10, 6.56794472e-10, 2.56341369e-10,\n",
       "        8.74783928e-10, 7.80107128e-10, 5.12495257e-10, 3.49564623e-10,\n",
       "        5.90263963e-10, 5.95041190e-10, 1.54348398e-09, 1.01912521e-09,\n",
       "        3.87903232e-10, 1.85906229e-09, 1.10059993e-09, 1.47376974e-09,\n",
       "        2.99112870e-10, 8.58376138e-10, 1.04591262e-09, 1.19985267e-09,\n",
       "        6.87992978e-10, 5.73672816e-10, 5.07124748e-10, 9.08643376e-10,\n",
       "        7.84755328e-10, 7.58248819e-10, 9.63166529e-10, 3.55521363e-10,\n",
       "        7.40176463e-10, 1.17672043e-09]),\n",
       " array([0.00112974, 0.0017697 , 0.00225205, 0.00086873, 0.00302131,\n",
       "        0.00247001, 0.00261448, 0.00080121, 0.00196341, 0.00205017,\n",
       "        0.00563489, 0.00344755, 0.00137125, 0.00624052, 0.00386029,\n",
       "        0.00515788, 0.00101833, 0.0028818 , 0.00387686, 0.00409024,\n",
       "        0.00247125, 0.0018323 , 0.00170835, 0.00335942, 0.00272827,\n",
       "        0.00294818, 0.00349099, 0.0010924 , 0.00277284, 0.00449997]),\n",
       " array([0.00079606, 0.00129291, 0.0016068 , 0.00065377, 0.00191851,\n",
       "        0.00185659, 0.00183152, 0.00084582, 0.00092479, 0.00142479,\n",
       "        0.0039255 , 0.00247802, 0.00096786, 0.00421258, 0.00270321,\n",
       "        0.00359336, 0.00073314, 0.00183018, 0.00272787, 0.00282474,\n",
       "        0.00174623, 0.00138353, 0.00114517, 0.00230818, 0.0018924 ,\n",
       "        0.00201436, 0.00246523, 0.00088099, 0.00196984, 0.00321951]),\n",
       " array([0.0010708 , 0.00173818, 0.00216981, 0.00088984, 0.0028815 ,\n",
       "        0.00251731, 0.00247944, 0.00114235, 0.00185465, 0.00133706,\n",
       "        0.00537624, 0.0033725 , 0.00131364, 0.00586591, 0.00353682,\n",
       "        0.00488146, 0.00097592, 0.002722  , 0.00366827, 0.00365084,\n",
       "        0.00235831, 0.00185811, 0.00160374, 0.00311568, 0.00259027,\n",
       "        0.00279425, 0.00331159, 0.00118097, 0.00264927, 0.0043277 ]),\n",
       " array([3.05314019e-08, 4.79403660e-08, 6.30835153e-08, 2.50312572e-08,\n",
       "        6.85885068e-08, 6.12120812e-08, 6.89805814e-08, 3.08472739e-08,\n",
       "        5.14512391e-08, 5.69962566e-08, 1.02029145e-07, 7.80485499e-08,\n",
       "        3.45995984e-08, 1.70402701e-07, 1.06185378e-07, 1.39410293e-07,\n",
       "        2.83276061e-08, 7.56917083e-08, 9.52602015e-08, 1.10931295e-07,\n",
       "        6.42173492e-08, 5.36424485e-08, 4.70555587e-08, 9.09725101e-08,\n",
       "        6.88580700e-08, 7.65257891e-08, 9.31532072e-08, 3.37579937e-08,\n",
       "        7.44299244e-08, 1.23547897e-07]),\n",
       " array([0.0001668 , 0.00026391, 0.00033918, 0.00012784, 0.00042947,\n",
       "        0.00024851, 0.00038267, 0.00014814, 0.00029168, 0.00030969,\n",
       "        0.00075994, 0.0003063 , 0.0001901 , 0.00094258, 0.00058415,\n",
       "        0.00076302, 0.00015172, 0.00042863, 0.00056019, 0.00061178,\n",
       "        0.00034799, 0.00028234, 0.00025506, 0.0004971 , 0.00039924,\n",
       "        0.00042631, 0.00051715, 0.00017388, 0.00040749, 0.00067305]),\n",
       " array([0.00075826, 0.00117771, 0.00157603, 0.00063938, 0.00200717,\n",
       "        0.00173208, 0.00178871, 0.00079637, 0.00134284, 0.00141807,\n",
       "        0.00380687, 0.00230163, 0.00064509, 0.00432704, 0.00269696,\n",
       "        0.0035296 , 0.00071359, 0.00197682, 0.00254807, 0.00279522,\n",
       "        0.00166163, 0.00135913, 0.00117836, 0.00230425, 0.00185868,\n",
       "        0.002007  , 0.00235346, 0.00084142, 0.00177075, 0.0030572 ]),\n",
       " array([8.78877510e-06, 1.45764168e-05, 1.72095478e-05, 7.27019373e-06,\n",
       "        2.28800550e-05, 2.14553169e-05, 2.01864064e-05, 9.65148122e-06,\n",
       "        1.29696002e-05, 1.47335398e-05, 4.38520653e-05, 2.83442215e-05,\n",
       "        1.09276140e-05, 3.16317904e-05, 2.60355979e-05, 3.80375526e-05,\n",
       "        7.73796472e-06, 1.99723478e-05, 3.00374523e-05, 2.78254386e-05,\n",
       "        1.93552412e-05, 1.47442928e-05, 1.24305176e-05, 2.59879348e-05,\n",
       "        1.90185060e-05, 2.28293599e-05, 2.76634696e-05, 9.81626281e-06,\n",
       "        2.21695689e-05, 3.61867185e-05]),\n",
       " array([3.86382004e-06, 6.57754859e-06, 7.93343376e-06, 3.29987060e-06,\n",
       "        1.08121269e-05, 9.80601264e-06, 9.00120595e-06, 4.37350917e-06,\n",
       "        6.77992847e-06, 6.43804129e-06, 2.00484575e-05, 1.29605817e-05,\n",
       "        4.93471910e-06, 1.99575842e-05, 9.24976211e-06, 1.82575678e-05,\n",
       "        3.21815029e-06, 9.76219431e-06, 1.34152431e-05, 1.38472830e-05,\n",
       "        8.89773346e-06, 6.20026899e-06, 6.06182681e-06, 1.19037616e-05,\n",
       "        9.48927824e-06, 1.04672090e-05, 1.25346504e-05, 4.32671184e-06,\n",
       "        9.94908672e-06, 1.63257706e-05]),\n",
       " array([2.30930700e-05, 3.75244887e-05, 4.13356026e-05, 1.84185954e-05,\n",
       "        6.04688978e-05, 5.40868963e-05, 5.21781906e-05, 2.45968308e-05,\n",
       "        3.88100110e-05, 4.10969957e-05, 1.09683134e-04, 7.14360082e-05,\n",
       "        2.83377829e-05, 1.25676071e-04, 7.99360840e-05, 7.29393862e-05,\n",
       "        2.15020537e-05, 5.90191586e-05, 7.86037731e-05, 7.74191838e-05,\n",
       "        5.01413577e-05, 4.01574982e-05, 2.89144876e-05, 6.61355886e-05,\n",
       "        5.55976436e-05, 5.75655968e-05, 7.05235113e-05, 2.58489412e-05,\n",
       "        5.76235845e-05, 9.36934703e-05]),\n",
       " array([0.00122127, 0.00197852, 0.00247981, 0.00101449, 0.00328095,\n",
       "        0.00284536, 0.00282753, 0.00127827, 0.0021256 , 0.00220649,\n",
       "        0.00612079, 0.0038223 , 0.0014975 , 0.00674017, 0.00413662,\n",
       "        0.00557501, 0.00078509, 0.00311207, 0.00420207, 0.00442016,\n",
       "        0.00266548, 0.00212584, 0.00185836, 0.00362606, 0.00295085,\n",
       "        0.0031562 , 0.00377739, 0.00119817, 0.00300565, 0.00487668]),\n",
       " array([0.00142478, 0.00230239, 0.00288592, 0.00118187, 0.00376388,\n",
       "        0.00330144, 0.00329935, 0.00150649, 0.00237378, 0.00256846,\n",
       "        0.0071001 , 0.00443424, 0.00173786, 0.00776273, 0.00486309,\n",
       "        0.00647914, 0.00131005, 0.00253067, 0.00488225, 0.0051155 ,\n",
       "        0.00311164, 0.00249196, 0.00214403, 0.00422393, 0.00337431,\n",
       "        0.00370223, 0.0043972 , 0.00156603, 0.00350508, 0.00572175]),\n",
       " array([2.67713221e-07, 3.69605701e-07, 5.55617332e-07, 2.30787019e-07,\n",
       "        7.31935881e-07, 6.42170517e-07, 6.28929330e-07, 2.83948958e-07,\n",
       "        4.88553782e-07, 5.05783509e-07, 1.32339009e-06, 8.44016542e-07,\n",
       "        2.72823391e-07, 1.55595117e-06, 9.81258592e-07, 1.22614057e-06,\n",
       "        2.55091709e-07, 7.01282737e-07, 6.42723309e-07, 9.34255695e-07,\n",
       "        5.64994781e-07, 4.94492991e-07, 4.14322992e-07, 8.18546370e-07,\n",
       "        6.33436074e-07, 7.23464389e-07, 7.38128954e-07, 2.99125499e-07,\n",
       "        6.03355572e-07, 1.03995776e-06]),\n",
       " array([0.00097683, 0.00156704, 0.00196282, 0.00079375, 0.00260403,\n",
       "        0.00227974, 0.00225991, 0.00103085, 0.00166287, 0.00158667,\n",
       "        0.0048647 , 0.00305444, 0.00118188, 0.00534364, 0.00331868,\n",
       "        0.00434953, 0.00089852, 0.00247256, 0.00328042, 0.00242844,\n",
       "        0.00213754, 0.00169975, 0.00133974, 0.00287797, 0.00234888,\n",
       "        0.00254229, 0.00299754, 0.00107566, 0.00239885, 0.003931  ]),\n",
       " array([6.86095582e-05, 1.13184634e-04, 1.40653535e-04, 5.75235734e-05,\n",
       "        1.85286095e-04, 1.60022984e-04, 1.55092053e-04, 7.37240640e-05,\n",
       "        1.22520230e-04, 1.29077545e-04, 3.31716896e-04, 2.10809943e-04,\n",
       "        8.50494803e-05, 3.90541708e-04, 2.42922742e-04, 3.06874509e-04,\n",
       "        5.78848594e-05, 1.77426767e-04, 2.37450215e-04, 2.54062585e-04,\n",
       "        1.07805876e-04, 1.22122726e-04, 1.05261343e-04, 2.07349689e-04,\n",
       "        1.63545608e-04, 1.79125336e-04, 2.14283471e-04, 7.45175472e-05,\n",
       "        1.70657312e-04, 2.79164408e-04]),\n",
       " array([0.00071794, 0.00117701, 0.00133889, 0.00056322, 0.00192271,\n",
       "        0.00169816, 0.00164932, 0.00076014, 0.00124732, 0.00129042,\n",
       "        0.00361663, 0.00227717, 0.00088904, 0.00392333, 0.00238199,\n",
       "        0.00326883, 0.00065392, 0.0018393 , 0.00248398, 0.0025972 ,\n",
       "        0.00159064, 0.00087293, 0.00108824, 0.00211568, 0.00174738,\n",
       "        0.00187409, 0.00224352, 0.00079239, 0.00179107, 0.0029213 ]),\n",
       " array([0.00121395, 0.00196021, 0.00243717, 0.00092602, 0.00318535,\n",
       "        0.00279875, 0.00280397, 0.00125584, 0.00197352, 0.00217041,\n",
       "        0.00604094, 0.00377328, 0.00148049, 0.00663392, 0.00414716,\n",
       "        0.00546388, 0.00111697, 0.00303217, 0.00415687, 0.00423292,\n",
       "        0.00265969, 0.00207704, 0.00127594, 0.00358588, 0.00291948,\n",
       "        0.0031443 , 0.00375015, 0.00132674, 0.00299203, 0.00488485]),\n",
       " array([0.00028386, 0.00045797, 0.0005695 , 0.00023972, 0.00077751,\n",
       "        0.00068405, 0.00064474, 0.00030827, 0.00050324, 0.00047324,\n",
       "        0.00144016, 0.00090897, 0.00035294, 0.00161989, 0.0009975 ,\n",
       "        0.00128719, 0.00026628, 0.00074686, 0.00098605, 0.0010315 ,\n",
       "        0.00062236, 0.00050984, 0.00043509, 0.00058596, 0.00070318,\n",
       "        0.00070706, 0.00084044, 0.00031825, 0.00070618, 0.0011368 ]),\n",
       " array([0.00034262, 0.00055921, 0.00068946, 0.00028502, 0.00090392,\n",
       "        0.000811  , 0.0007897 , 0.00036821, 0.00055521, 0.0006112 ,\n",
       "        0.0016921 , 0.00107712, 0.00042063, 0.00166732, 0.00113188,\n",
       "        0.00153128, 0.00030703, 0.00068909, 0.00117122, 0.00118987,\n",
       "        0.00071627, 0.00059491, 0.00050806, 0.00102084, 0.00056194,\n",
       "        0.00089313, 0.00106433, 0.00037698, 0.00084726, 0.0013749 ])]"
      ]
     },
     "execution_count": 118,
     "metadata": {},
     "output_type": "execute_result"
    }
   ],
   "source": [
    "dists_no_doc"
   ]
  },
  {
   "cell_type": "code",
   "execution_count": 119,
   "id": "19133169-0521-4e34-b0ff-0bd30785a062",
   "metadata": {},
   "outputs": [
    {
     "name": "stdout",
     "output_type": "stream",
     "text": [
      "Explained Variance Ratios: [9.96196914e-01 9.98399233e-04 9.16933504e-04 4.46840644e-04\n",
      " 2.96058436e-04 2.64887733e-04 1.87656826e-04 1.46770703e-04\n",
      " 1.30300302e-04 1.01806085e-04 7.24004906e-05 6.75717645e-05\n",
      " 5.80868178e-05 3.98794719e-05 3.44794531e-05]\n",
      "Total Variance Explained: 0.9999589851995736\n",
      "Explained Variance Ratios: [0.28233352 0.13910858 0.1094004  0.08228524 0.06855996 0.0619358\n",
      " 0.05229037 0.03597075 0.03110406 0.02235797 0.01823333 0.01583305\n",
      " 0.01362468 0.0106832  0.00991991]\n",
      "Total Variance Explained: 0.9536408072550948\n"
     ]
    }
   ],
   "source": [
    "from sklearn.decomposition import PCA\n",
    "\n",
    "\n",
    "\n",
    "# Perform PCA\n",
    "pca = PCA(n_components=15)  # Reduce to 2 principal components for visualization\n",
    "data_pca = pca.fit_transform(np.array(dists_no_doc))\n",
    "\n",
    "# Print explained variance ratios\n",
    "print(\"Explained Variance Ratios:\", pca.explained_variance_ratio_)\n",
    "print(\"Total Variance Explained:\", sum(pca.explained_variance_ratio_))\n",
    "no_doc_var = pca.explained_variance_ratio_\n",
    "\n",
    "# Perform PCA\n",
    "pca = PCA(n_components=15)  # Reduce to 2 principal components for visualization\n",
    "data_pca = pca.fit_transform(np.array(dists))\n",
    "\n",
    "# Print explained variance ratios\n",
    "print(\"Explained Variance Ratios:\", pca.explained_variance_ratio_)\n",
    "print(\"Total Variance Explained:\", sum(pca.explained_variance_ratio_))\n",
    "doc_var = pca.explained_variance_ratio_\n",
    "\n"
   ]
  },
  {
   "cell_type": "code",
   "execution_count": 120,
   "id": "6c7261cd-3201-43f3-aa6d-b0fa7e829cd8",
   "metadata": {},
   "outputs": [
    {
     "data": {
      "text/plain": [
       "(25, 30)"
      ]
     },
     "execution_count": 120,
     "metadata": {},
     "output_type": "execute_result"
    }
   ],
   "source": [
    "np.array(dists_no_doc).shape"
   ]
  },
  {
   "cell_type": "code",
   "execution_count": 116,
   "id": "34b05229-365c-42ac-8298-342ed3dde784",
   "metadata": {},
   "outputs": [
    {
     "data": {
      "image/png": "[encoded data removed]",
      "text/plain": [
       "<Figure size 500x230 with 2 Axes>"
      ]
     },
     "metadata": {},
     "output_type": "display_data"
    }
   ],
   "source": [
    "plt.figure(figsize=(5, 2.3))\n",
    "plt.subplot(1, 2, 1)\n",
    "plt.bar(range(1, len(no_doc_var) + 1), no_doc_var)\n",
    "plt.xlabel('Principal Component')\n",
    "plt.ylabel('Explained Variance Ratio')\n",
    "plt.yscale('log')\n",
    "\n",
    "plt.ylim([0.00001,2])\n",
    "\n",
    "plt.title('Doctor Knockout')\n",
    "plt.subplots_adjust(wspace=.6)\n",
    "plt.subplot(1, 2, 2)\n",
    "plt.bar(range(1, len(doc_var) + 1), doc_var)\n",
    "plt.xlabel('Principal Component')\n",
    "plt.ylabel('Explained Variance Ratio')\n",
    "plt.yscale('log')\n",
    "\n",
    "plt.ylim([0.00001,2])\n",
    "plt.yscale('log')\n",
    "plt.title('With Doctor')\n",
    "plt.show()"
   ]
  },
  {
   "cell_type": "code",
   "execution_count": 144,
   "id": "148ea32d-81ab-466d-81db-1d0278f4e8c8",
   "metadata": {},
   "outputs": [],
   "source": [
    "def evaluate_fitness_controlled_J(k,K,lam,lam_c,s_hat,m,t_f):\n",
    "    n0 = np.zeros(g) + 0.5\n",
    "    nt, t = sim_dyn(n0,t_f,k,K,lam)\n",
    "    n_f = nt[:,-1]\n",
    "    Jc = calc_J(k,K,n_f,lam)\n",
    "    w, v = np.linalg.eig(Jc)\n",
    "    w = np.real(w)\n",
    "    dlambda = np.sort(w)[-2]/np.sort(w)[-1]\n",
    "    dists = []   \n",
    "    for i in range(m):\n",
    "        lam_p = np.zeros(g) \n",
    "        #idx = np.random.randint(5)\n",
    "        lam_p[i] = lam_p[i]+2\n",
    "        nt, t = sim_dyn_controlled(n_f,t_f,k,K,n_f,lam,lam_p,lam_c,s_hat)\n",
    "        dists.append(n_f_dist(n_f,nt[:,-1]))\n",
    "    \n",
    "    return np.mean(dists/np.linalg.norm(1/w)), dlambda"
   ]
  },
  {
   "cell_type": "code",
   "execution_count": 145,
   "id": "3062a20a-f999-42be-a5c2-53f2932fa26c",
   "metadata": {},
   "outputs": [
    {
     "data": {
      "text/plain": [
       "18.077128490410818"
      ]
     },
     "execution_count": 145,
     "metadata": {},
     "output_type": "execute_result"
    }
   ],
   "source": [
    "Jc = calc_J(k,K,n_f,lam)\n",
    "w, v = np.linalg.eig(Jc)\n",
    "w = np.real(w)\n",
    "np.linalg.norm(1/w)"
   ]
  },
  {
   "cell_type": "code",
   "execution_count": 136,
   "id": "729163d1-4b05-409f-942d-ada7e9344107",
   "metadata": {},
   "outputs": [],
   "source": [
    "def simulated_annealing_J(k_0,K_0,lam,lam_c_0,s_hat_0,m,t_f, num_iterations, temperature, cooling_rate):\n",
    "    best_s_hat = lam_c_0\n",
    "    best_lam_c = s_hat_0\n",
    "    best_K = K_0\n",
    "    best_k = k_0\n",
    "    best_cost, best_dlambda = evaluate_fitness_controlled_J(best_k,best_K,lam,best_lam_c,best_s_hat,m,t_f)\n",
    "\n",
    "    current_s_hat = lam_c_0\n",
    "    current_lam_c = s_hat_0\n",
    "    current_K = K_0\n",
    "    current_k = k_0\n",
    "    current_cost = best_cost\n",
    "    current_dlambda = best_dlambda\n",
    "\n",
    "    costs = []\n",
    "    dlambdas = []\n",
    "\n",
    "    for iteration in tqdm(range(num_iterations)):\n",
    "        costs.append(current_cost)\n",
    "        dlambdas.append(current_dlambda)\n",
    "        new_s_hat = current_s_hat + np.random.normal(0, 0.2, size=current_s_hat.shape)\n",
    "        new_lam_c = current_lam_c + np.random.normal(0, 0.2, size=current_lam_c.shape)\n",
    "        new_K = current_K + np.random.normal(0, 0.01, size=current_K.shape)*(current_K!=0)\n",
    "        new_k = current_k + np.random.normal(0, 0.01, size=current_k.shape)*(current_k!=0)\n",
    "        # Ensure the Euclidean norm of new_params2 is 1\n",
    "        new_s_hat /= np.linalg.norm(new_s_hat)\n",
    "\n",
    "        new_cost, new_dlambda = evaluate_fitness_controlled_J(new_k,new_K,lam,new_lam_c,new_s_hat,m,t_f)\n",
    "\n",
    "        if new_cost < current_cost:\n",
    "            current_s_hat = new_s_hat\n",
    "            current_lam_c = new_lam_c\n",
    "            current_K = new_K\n",
    "            current_k = new_k\n",
    "            current_cost = new_cost\n",
    "            current_dlambda = new_dlambda\n",
    "\n",
    "            if new_cost < best_cost:\n",
    "                best_K = new_K\n",
    "                best_k = new_k\n",
    "                best_s_hat = new_s_hat\n",
    "                best_lam_c = new_lam_c\n",
    "                best_cost = new_cost\n",
    "                best_dlambda = new_dlambda\n",
    "        else:\n",
    "            probability = np.exp((current_cost - new_cost) / temperature)\n",
    "            if np.random.random() < probability:\n",
    "                current_s_hat = new_s_hat\n",
    "                current_lam_c = new_lam_c\n",
    "                current_K = new_K\n",
    "                current_k = new_k\n",
    "                current_cost = new_cost\n",
    "                current_dlambda = new_dlambda\n",
    "\n",
    "        temperature *= cooling_rate\n",
    "        #if iteration/100 ==0 :\n",
    "            #print(current_cost)\n",
    "    return best_s_hat, best_lam_c, best_K, best_k, costs, dlambdas"
   ]
  },
  {
   "cell_type": "code",
   "execution_count": 124,
   "id": "dd7fee9c-8fd2-4fd7-9b05-935192fdfcca",
   "metadata": {},
   "outputs": [
    {
     "data": {
      "text/plain": [
       "array([-5.65482674e-03, -7.15779261e-03,  3.60185466e-02, -1.04321438e-01,\n",
       "        9.31970224e-03, -4.09732327e-02,  2.50572115e-02,  1.16855914e-01,\n",
       "       -7.85979321e-02, -5.41300628e-02, -2.10218125e-01, -5.88084121e-01,\n",
       "       -1.44225320e-02, -8.40379206e-02,  2.50385889e-01, -1.99627846e-04,\n",
       "        3.06498145e-01, -1.99964858e-01, -1.29160155e-01, -6.09186537e-02,\n",
       "       -4.84704603e-01,  6.60733118e-02,  1.03227202e-01,  1.03121705e-01,\n",
       "        1.94805719e-02, -2.02050052e-01,  1.17961126e-01, -2.44605714e-01,\n",
       "       -8.99706137e-02, -1.76619889e-01])"
      ]
     },
     "execution_count": 124,
     "metadata": {},
     "output_type": "execute_result"
    }
   ],
   "source": [
    "np.random.normal(0, 0.2, size=best_s_hat.shape)"
   ]
  },
  {
   "cell_type": "code",
   "execution_count": 146,
   "id": "1089e2ad-8cce-4d8b-8302-fc1e122b2da7",
   "metadata": {},
   "outputs": [
    {
     "name": "stderr",
     "output_type": "stream",
     "text": [
      "  2%|▌                           | 211/10000 [01:49<3:49:52,  1.41s/it]/Users/christopher/Desktop/duality_robustness/simulation_functions.py:5: RuntimeWarning: divide by zero encountered in reciprocal\n",
      "  return np.matmul(k*(np.outer(np.ones(len(n)),n)+ K)**(-1),n) - lam*n\n",
      "  6%|█▌                          | 555/10000 [11:50<4:25:58,  1.69s/it]/var/folders/yg/rz5s_kp914g5hjl723fncj_80000gn/T/ipykernel_1435/1557006956.py:3: RuntimeWarning: divide by zero encountered in reciprocal\n",
      "  return np.matmul(k*(np.outer(np.ones(len(n)),n)+ K)**(-1),n) - lam*n - lam_p*n - s*lam_c#*n\n",
      " 10%|██▍                     | 1040/10000 [3:24:39<29:23:11, 11.81s/it]\n"
     ]
    },
    {
     "ename": "KeyboardInterrupt",
     "evalue": "",
     "output_type": "error",
     "traceback": [
      "\u001b[0;31m---------------------------------------------------------------------------\u001b[0m",
      "\u001b[0;31mKeyboardInterrupt\u001b[0m                         Traceback (most recent call last)",
      "Cell \u001b[0;32mIn[146], line 15\u001b[0m\n\u001b[1;32m     13\u001b[0m cooling_rate \u001b[38;5;241m=\u001b[39m \u001b[38;5;241m0.99\u001b[39m\n\u001b[1;32m     14\u001b[0m num_iterations \u001b[38;5;241m=\u001b[39m \u001b[38;5;241m10000\u001b[39m\n\u001b[0;32m---> 15\u001b[0m best_s_hat, best_lam_c, best_K, best_k, costs, dlambdas \u001b[38;5;241m=\u001b[39m \u001b[43msimulated_annealing_J\u001b[49m\u001b[43m(\u001b[49m\u001b[43mk_0\u001b[49m\u001b[43m,\u001b[49m\u001b[43mK_0\u001b[49m\u001b[43m,\u001b[49m\u001b[43mlam\u001b[49m\u001b[43m,\u001b[49m\u001b[43mlam_c_0\u001b[49m\u001b[43m,\u001b[49m\u001b[43ms_hat_0\u001b[49m\u001b[43m,\u001b[49m\u001b[43mm\u001b[49m\u001b[43m,\u001b[49m\u001b[43mt_f\u001b[49m\u001b[43m,\u001b[49m\u001b[43m \u001b[49m\u001b[43mnum_iterations\u001b[49m\u001b[43m,\u001b[49m\u001b[43m \u001b[49m\u001b[43mtemperature\u001b[49m\u001b[43m,\u001b[49m\u001b[43m \u001b[49m\u001b[43mcooling_rate\u001b[49m\u001b[43m)\u001b[49m\n",
      "Cell \u001b[0;32mIn[136], line 28\u001b[0m, in \u001b[0;36msimulated_annealing_J\u001b[0;34m(k_0, K_0, lam, lam_c_0, s_hat_0, m, t_f, num_iterations, temperature, cooling_rate)\u001b[0m\n\u001b[1;32m     25\u001b[0m \u001b[38;5;66;03m# Ensure the Euclidean norm of new_params2 is 1\u001b[39;00m\n\u001b[1;32m     26\u001b[0m new_s_hat \u001b[38;5;241m/\u001b[39m\u001b[38;5;241m=\u001b[39m np\u001b[38;5;241m.\u001b[39mlinalg\u001b[38;5;241m.\u001b[39mnorm(new_s_hat)\n\u001b[0;32m---> 28\u001b[0m new_cost, new_dlambda \u001b[38;5;241m=\u001b[39m \u001b[43mevaluate_fitness_controlled_J\u001b[49m\u001b[43m(\u001b[49m\u001b[43mnew_k\u001b[49m\u001b[43m,\u001b[49m\u001b[43mnew_K\u001b[49m\u001b[43m,\u001b[49m\u001b[43mlam\u001b[49m\u001b[43m,\u001b[49m\u001b[43mnew_lam_c\u001b[49m\u001b[43m,\u001b[49m\u001b[43mnew_s_hat\u001b[49m\u001b[43m,\u001b[49m\u001b[43mm\u001b[49m\u001b[43m,\u001b[49m\u001b[43mt_f\u001b[49m\u001b[43m)\u001b[49m\n\u001b[1;32m     30\u001b[0m \u001b[38;5;28;01mif\u001b[39;00m new_cost \u001b[38;5;241m<\u001b[39m current_cost:\n\u001b[1;32m     31\u001b[0m     current_s_hat \u001b[38;5;241m=\u001b[39m new_s_hat\n",
      "Cell \u001b[0;32mIn[144], line 3\u001b[0m, in \u001b[0;36mevaluate_fitness_controlled_J\u001b[0;34m(k, K, lam, lam_c, s_hat, m, t_f)\u001b[0m\n\u001b[1;32m      1\u001b[0m \u001b[38;5;28;01mdef\u001b[39;00m \u001b[38;5;21mevaluate_fitness_controlled_J\u001b[39m(k,K,lam,lam_c,s_hat,m,t_f):\n\u001b[1;32m      2\u001b[0m     n0 \u001b[38;5;241m=\u001b[39m np\u001b[38;5;241m.\u001b[39mzeros(g) \u001b[38;5;241m+\u001b[39m \u001b[38;5;241m0.5\u001b[39m\n\u001b[0;32m----> 3\u001b[0m     nt, t \u001b[38;5;241m=\u001b[39m \u001b[43msim_dyn\u001b[49m\u001b[43m(\u001b[49m\u001b[43mn0\u001b[49m\u001b[43m,\u001b[49m\u001b[43mt_f\u001b[49m\u001b[43m,\u001b[49m\u001b[43mk\u001b[49m\u001b[43m,\u001b[49m\u001b[43mK\u001b[49m\u001b[43m,\u001b[49m\u001b[43mlam\u001b[49m\u001b[43m)\u001b[49m\n\u001b[1;32m      4\u001b[0m     n_f \u001b[38;5;241m=\u001b[39m nt[:,\u001b[38;5;241m-\u001b[39m\u001b[38;5;241m1\u001b[39m]\n\u001b[1;32m      5\u001b[0m     Jc \u001b[38;5;241m=\u001b[39m calc_J(k,K,n_f,lam)\n",
      "Cell \u001b[0;32mIn[5], line 8\u001b[0m, in \u001b[0;36msim_dyn\u001b[0;34m(n0, t_f, k, K, lam)\u001b[0m\n\u001b[1;32m      6\u001b[0m rtol \u001b[38;5;241m=\u001b[39m \u001b[38;5;241m1e-6\u001b[39m  \u001b[38;5;66;03m# Relative tolerance for the solution\u001b[39;00m\n\u001b[1;32m      7\u001b[0m atol \u001b[38;5;241m=\u001b[39m \u001b[38;5;241m1e-9\u001b[39m  \u001b[38;5;66;03m# Absolute tolerance for the solution\u001b[39;00m\n\u001b[0;32m----> 8\u001b[0m sol \u001b[38;5;241m=\u001b[39m \u001b[43msolve_ivp\u001b[49m\u001b[43m(\u001b[49m\u001b[43mdndt\u001b[49m\u001b[43m,\u001b[49m\u001b[43m \u001b[49m\u001b[43mt_span\u001b[49m\u001b[43m,\u001b[49m\u001b[43m \u001b[49m\u001b[43mn0\u001b[49m\u001b[43m,\u001b[49m\u001b[43m \u001b[49m\u001b[43mrtol\u001b[49m\u001b[38;5;241;43m=\u001b[39;49m\u001b[43mrtol\u001b[49m\u001b[43m,\u001b[49m\u001b[43m \u001b[49m\u001b[43matol\u001b[49m\u001b[38;5;241;43m=\u001b[39;49m\u001b[43matol\u001b[49m\u001b[43m,\u001b[49m\u001b[43m \u001b[49m\u001b[43mdense_output\u001b[49m\u001b[38;5;241;43m=\u001b[39;49m\u001b[38;5;28;43;01mTrue\u001b[39;49;00m\u001b[43m,\u001b[49m\u001b[43m \u001b[49m\u001b[43mmethod\u001b[49m\u001b[38;5;241;43m=\u001b[39;49m\u001b[38;5;124;43m'\u001b[39;49m\u001b[38;5;124;43mRadau\u001b[39;49m\u001b[38;5;124;43m'\u001b[39;49m\u001b[43m)\u001b[49m\n\u001b[1;32m     10\u001b[0m \u001b[38;5;66;03m# Create an interpolating function for the solution\u001b[39;00m\n\u001b[1;32m     11\u001b[0m sol_fun \u001b[38;5;241m=\u001b[39m sol\u001b[38;5;241m.\u001b[39msol\n",
      "File \u001b[0;32m~/opt/anaconda3/lib/python3.9/site-packages/scipy/integrate/_ivp/ivp.py:602\u001b[0m, in \u001b[0;36msolve_ivp\u001b[0;34m(fun, t_span, y0, method, t_eval, dense_output, events, vectorized, args, **options)\u001b[0m\n\u001b[1;32m    600\u001b[0m status \u001b[38;5;241m=\u001b[39m \u001b[38;5;28;01mNone\u001b[39;00m\n\u001b[1;32m    601\u001b[0m \u001b[38;5;28;01mwhile\u001b[39;00m status \u001b[38;5;129;01mis\u001b[39;00m \u001b[38;5;28;01mNone\u001b[39;00m:\n\u001b[0;32m--> 602\u001b[0m     message \u001b[38;5;241m=\u001b[39m \u001b[43msolver\u001b[49m\u001b[38;5;241;43m.\u001b[39;49m\u001b[43mstep\u001b[49m\u001b[43m(\u001b[49m\u001b[43m)\u001b[49m\n\u001b[1;32m    604\u001b[0m     \u001b[38;5;28;01mif\u001b[39;00m solver\u001b[38;5;241m.\u001b[39mstatus \u001b[38;5;241m==\u001b[39m \u001b[38;5;124m'\u001b[39m\u001b[38;5;124mfinished\u001b[39m\u001b[38;5;124m'\u001b[39m:\n\u001b[1;32m    605\u001b[0m         status \u001b[38;5;241m=\u001b[39m \u001b[38;5;241m0\u001b[39m\n",
      "File \u001b[0;32m~/opt/anaconda3/lib/python3.9/site-packages/scipy/integrate/_ivp/base.py:197\u001b[0m, in \u001b[0;36mOdeSolver.step\u001b[0;34m(self)\u001b[0m\n\u001b[1;32m    195\u001b[0m \u001b[38;5;28;01melse\u001b[39;00m:\n\u001b[1;32m    196\u001b[0m     t \u001b[38;5;241m=\u001b[39m \u001b[38;5;28mself\u001b[39m\u001b[38;5;241m.\u001b[39mt\n\u001b[0;32m--> 197\u001b[0m     success, message \u001b[38;5;241m=\u001b[39m \u001b[38;5;28;43mself\u001b[39;49m\u001b[38;5;241;43m.\u001b[39;49m\u001b[43m_step_impl\u001b[49m\u001b[43m(\u001b[49m\u001b[43m)\u001b[49m\n\u001b[1;32m    199\u001b[0m     \u001b[38;5;28;01mif\u001b[39;00m \u001b[38;5;129;01mnot\u001b[39;00m success:\n\u001b[1;32m    200\u001b[0m         \u001b[38;5;28mself\u001b[39m\u001b[38;5;241m.\u001b[39mstatus \u001b[38;5;241m=\u001b[39m \u001b[38;5;124m'\u001b[39m\u001b[38;5;124mfailed\u001b[39m\u001b[38;5;124m'\u001b[39m\n",
      "File \u001b[0;32m~/opt/anaconda3/lib/python3.9/site-packages/scipy/integrate/_ivp/radau.py:450\u001b[0m, in \u001b[0;36mRadau._step_impl\u001b[0;34m(self)\u001b[0m\n\u001b[1;32m    448\u001b[0m     Z0 \u001b[38;5;241m=\u001b[39m np\u001b[38;5;241m.\u001b[39mzeros((\u001b[38;5;241m3\u001b[39m, y\u001b[38;5;241m.\u001b[39mshape[\u001b[38;5;241m0\u001b[39m]))\n\u001b[1;32m    449\u001b[0m \u001b[38;5;28;01melse\u001b[39;00m:\n\u001b[0;32m--> 450\u001b[0m     Z0 \u001b[38;5;241m=\u001b[39m \u001b[38;5;28;43mself\u001b[39;49m\u001b[38;5;241;43m.\u001b[39;49m\u001b[43msol\u001b[49m\u001b[43m(\u001b[49m\u001b[43mt\u001b[49m\u001b[43m \u001b[49m\u001b[38;5;241;43m+\u001b[39;49m\u001b[43m \u001b[49m\u001b[43mh\u001b[49m\u001b[43m \u001b[49m\u001b[38;5;241;43m*\u001b[39;49m\u001b[43m \u001b[49m\u001b[43mC\u001b[49m\u001b[43m)\u001b[49m\u001b[38;5;241m.\u001b[39mT \u001b[38;5;241m-\u001b[39m y\n\u001b[1;32m    452\u001b[0m scale \u001b[38;5;241m=\u001b[39m atol \u001b[38;5;241m+\u001b[39m np\u001b[38;5;241m.\u001b[39mabs(y) \u001b[38;5;241m*\u001b[39m rtol\n\u001b[1;32m    454\u001b[0m converged \u001b[38;5;241m=\u001b[39m \u001b[38;5;28;01mFalse\u001b[39;00m\n",
      "File \u001b[0;32m~/opt/anaconda3/lib/python3.9/site-packages/scipy/integrate/_ivp/base.py:268\u001b[0m, in \u001b[0;36mDenseOutput.__call__\u001b[0;34m(self, t)\u001b[0m\n\u001b[1;32m    266\u001b[0m \u001b[38;5;28;01mif\u001b[39;00m t\u001b[38;5;241m.\u001b[39mndim \u001b[38;5;241m>\u001b[39m \u001b[38;5;241m1\u001b[39m:\n\u001b[1;32m    267\u001b[0m     \u001b[38;5;28;01mraise\u001b[39;00m \u001b[38;5;167;01mValueError\u001b[39;00m(\u001b[38;5;124m\"\u001b[39m\u001b[38;5;124m`t` must be a float or a 1-D array.\u001b[39m\u001b[38;5;124m\"\u001b[39m)\n\u001b[0;32m--> 268\u001b[0m \u001b[38;5;28;01mreturn\u001b[39;00m \u001b[38;5;28;43mself\u001b[39;49m\u001b[38;5;241;43m.\u001b[39;49m\u001b[43m_call_impl\u001b[49m\u001b[43m(\u001b[49m\u001b[43mt\u001b[49m\u001b[43m)\u001b[49m\n",
      "File \u001b[0;32m~/opt/anaconda3/lib/python3.9/site-packages/scipy/integrate/_ivp/radau.py:565\u001b[0m, in \u001b[0;36mRadauDenseOutput._call_impl\u001b[0;34m(self, t)\u001b[0m\n\u001b[1;32m    563\u001b[0m     p \u001b[38;5;241m=\u001b[39m np\u001b[38;5;241m.\u001b[39mcumprod(p)\n\u001b[1;32m    564\u001b[0m \u001b[38;5;28;01melse\u001b[39;00m:\n\u001b[0;32m--> 565\u001b[0m     p \u001b[38;5;241m=\u001b[39m \u001b[43mnp\u001b[49m\u001b[38;5;241;43m.\u001b[39;49m\u001b[43mtile\u001b[49m\u001b[43m(\u001b[49m\u001b[43mx\u001b[49m\u001b[43m,\u001b[49m\u001b[43m \u001b[49m\u001b[43m(\u001b[49m\u001b[38;5;28;43mself\u001b[39;49m\u001b[38;5;241;43m.\u001b[39;49m\u001b[43morder\u001b[49m\u001b[43m \u001b[49m\u001b[38;5;241;43m+\u001b[39;49m\u001b[43m \u001b[49m\u001b[38;5;241;43m1\u001b[39;49m\u001b[43m,\u001b[49m\u001b[43m \u001b[49m\u001b[38;5;241;43m1\u001b[39;49m\u001b[43m)\u001b[49m\u001b[43m)\u001b[49m\n\u001b[1;32m    566\u001b[0m     p \u001b[38;5;241m=\u001b[39m np\u001b[38;5;241m.\u001b[39mcumprod(p, axis\u001b[38;5;241m=\u001b[39m\u001b[38;5;241m0\u001b[39m)\n\u001b[1;32m    567\u001b[0m \u001b[38;5;66;03m# Here we don't multiply by h, not a mistake.\u001b[39;00m\n",
      "File \u001b[0;32m<__array_function__ internals>:200\u001b[0m, in \u001b[0;36mtile\u001b[0;34m(*args, **kwargs)\u001b[0m\n",
      "File \u001b[0;32m~/opt/anaconda3/lib/python3.9/site-packages/numpy/lib/shape_base.py:1273\u001b[0m, in \u001b[0;36mtile\u001b[0;34m(A, reps)\u001b[0m\n\u001b[1;32m   1271\u001b[0m \u001b[38;5;28;01mif\u001b[39;00m (d \u001b[38;5;241m<\u001b[39m c\u001b[38;5;241m.\u001b[39mndim):\n\u001b[1;32m   1272\u001b[0m     tup \u001b[38;5;241m=\u001b[39m (\u001b[38;5;241m1\u001b[39m,)\u001b[38;5;241m*\u001b[39m(c\u001b[38;5;241m.\u001b[39mndim\u001b[38;5;241m-\u001b[39md) \u001b[38;5;241m+\u001b[39m tup\n\u001b[0;32m-> 1273\u001b[0m shape_out \u001b[38;5;241m=\u001b[39m \u001b[38;5;28mtuple\u001b[39m(s\u001b[38;5;241m*\u001b[39mt \u001b[38;5;28;01mfor\u001b[39;00m s, t \u001b[38;5;129;01min\u001b[39;00m \u001b[38;5;28mzip\u001b[39m(c\u001b[38;5;241m.\u001b[39mshape, tup))\n\u001b[1;32m   1274\u001b[0m n \u001b[38;5;241m=\u001b[39m c\u001b[38;5;241m.\u001b[39msize\n\u001b[1;32m   1275\u001b[0m \u001b[38;5;28;01mif\u001b[39;00m n \u001b[38;5;241m>\u001b[39m \u001b[38;5;241m0\u001b[39m:\n",
      "\u001b[0;31mKeyboardInterrupt\u001b[0m: "
     ]
    }
   ],
   "source": [
    "t_f = 5\n",
    "m = 20\n",
    "g = len(lam)\n",
    "is_connected = np.random.rand(g,g) < .25\n",
    "is_connected = np.tril(is_connected, k=-1)\n",
    "is_connected = is_connected + np.transpose(is_connected)\n",
    "k_0 = np.multiply(is_connected,np.random.rand(g,g))\n",
    "K_0 = np.multiply(is_connected,np.random.rand(g,g))\n",
    "lam_c_0 = np.random.rand(g)-0.5 #np.array(0.8*v[:,0]) #\n",
    "s_hat_0 = np.random.rand(g)-0.5  #np.array(v[:,0])\n",
    "s_hat_0 = s_hat/np.linalg.norm(s_hat)\n",
    "temperature = 1.0\n",
    "cooling_rate = 0.99\n",
    "num_iterations = 10000\n",
    "best_s_hat, best_lam_c, best_K, best_k, costs, dlambdas = simulated_annealing_J(k_0,K_0,lam,lam_c_0,s_hat_0,m,t_f, num_iterations, temperature, cooling_rate)\n",
    "\n"
   ]
  },
  {
   "cell_type": "code",
   "execution_count": 139,
   "id": "b931aad4-ee29-4c67-ba1d-ba1b8d40df74",
   "metadata": {},
   "outputs": [
    {
     "data": {
      "text/plain": [
       "(array([-0.06229416, -0.02116417, -0.04291507, -0.31035331,  0.23576887,\n",
       "        -0.00935619, -0.21533419, -0.08598086, -0.11021682,  0.29569951,\n",
       "         0.22801802, -0.24357761, -0.11279649, -0.17448253, -0.28592578,\n",
       "        -0.12222706,  0.20687103,  0.15934149, -0.34819405,  0.30902556,\n",
       "         0.19494038, -0.09517979,  0.01508339,  0.19783801, -0.05944819,\n",
       "        -0.11275902, -0.03211291,  0.16036063, -0.05535989, -0.14105482]),\n",
       " array([ 0.13867486, -0.43988005,  0.38313528,  0.24549744,  0.36013958,\n",
       "        -0.08570076, -0.63372523, -0.24016725, -0.65315207,  0.22844001,\n",
       "        -0.68758887, -0.14021404, -0.92420964,  0.94128476, -0.47981426,\n",
       "        -0.66416244, -1.22252032,  0.0077123 , -0.50039504, -0.53556473,\n",
       "         1.26120402, -0.22525605, -0.32668799, -0.03978345,  0.06170133,\n",
       "        -0.38000828, -0.41822655, -0.5223937 ,  0.23171674, -0.64951174]),\n",
       " array([[ 0.        ,  0.        ,  0.        ,  0.27807861,  0.        ,\n",
       "          0.        ,  0.        ,  0.        ,  0.        ,  0.33462715,\n",
       "          0.90323873,  0.        ,  0.95086339,  0.        ,  0.        ,\n",
       "          0.        ,  0.11823085,  0.        ,  0.03590922,  0.        ,\n",
       "          0.        ,  0.        ,  0.        ,  0.        ,  0.37176503,\n",
       "          0.        ,  0.        ,  0.        ,  0.        ,  0.        ],\n",
       "        [ 0.        ,  0.        ,  0.61986879,  0.        ,  0.        ,\n",
       "          0.        ,  0.1667308 ,  0.        ,  0.        ,  0.        ,\n",
       "          0.91442323,  0.        ,  0.        ,  0.        ,  0.02793136,\n",
       "          0.        ,  0.        ,  0.        ,  0.        ,  0.57641008,\n",
       "          0.        ,  0.        ,  0.42320197,  0.        ,  0.81771621,\n",
       "          0.        ,  0.        ,  0.        ,  0.        ,  0.        ],\n",
       "        [ 0.        ,  0.51912369,  0.        ,  0.        ,  0.        ,\n",
       "          0.30675747,  0.        ,  0.37706521,  0.        ,  0.        ,\n",
       "          0.48808551,  0.        ,  0.        ,  0.        ,  0.        ,\n",
       "          0.64605362,  0.86367598,  0.        ,  0.        ,  0.        ,\n",
       "          0.53637877,  0.        ,  0.48464619,  0.        ,  0.        ,\n",
       "          0.65385085,  0.        ,  0.68736333,  0.        ,  0.44949791],\n",
       "        [ 0.63329559,  0.        ,  0.        ,  0.        ,  0.        ,\n",
       "          0.        ,  0.        ,  0.        ,  0.        ,  0.        ,\n",
       "          0.        ,  0.        ,  0.        ,  0.        ,  0.        ,\n",
       "          0.        ,  0.84348822,  0.        ,  0.        ,  0.        ,\n",
       "          0.        ,  0.        ,  0.        ,  0.        ,  0.80250662,\n",
       "          0.        ,  0.        ,  0.96251194,  0.61951488,  0.86667638],\n",
       "        [ 0.        ,  0.        ,  0.        ,  0.        ,  0.        ,\n",
       "          0.        ,  0.        ,  0.        ,  0.        ,  0.99789257,\n",
       "          0.67305841,  0.        ,  0.        ,  0.        ,  0.05521268,\n",
       "          0.22154117,  0.        ,  0.        ,  0.        ,  0.        ,\n",
       "          0.33290707,  0.        ,  0.83031118,  0.        ,  0.31002358,\n",
       "          0.33837107,  0.        ,  0.        ,  0.        ,  0.        ],\n",
       "        [ 0.        ,  0.        ,  0.6368551 ,  0.        ,  0.        ,\n",
       "          0.        ,  0.        ,  0.        ,  0.        ,  0.        ,\n",
       "          0.        ,  0.        ,  0.        ,  0.        ,  0.        ,\n",
       "          0.        ,  0.79146997,  0.        ,  0.        ,  0.        ,\n",
       "          0.        ,  0.68421746,  0.        ,  0.        ,  1.00988676,\n",
       "          0.        ,  0.        ,  0.        ,  0.51677097,  0.        ],\n",
       "        [ 0.        ,  0.9762327 ,  0.        ,  0.        ,  0.        ,\n",
       "          0.        ,  0.        ,  0.        ,  0.        ,  0.        ,\n",
       "          0.        ,  0.        ,  0.531625  ,  0.        ,  0.        ,\n",
       "          0.        ,  0.50885884,  0.        ,  0.29608624,  0.        ,\n",
       "          0.        ,  0.        ,  0.96130603,  0.        ,  0.        ,\n",
       "          0.        ,  0.89804598,  0.        ,  0.        ,  0.        ],\n",
       "        [ 0.        ,  0.        ,  0.66017389,  0.        ,  0.        ,\n",
       "          0.        ,  0.        ,  0.        ,  0.63744517,  0.44967265,\n",
       "          0.        ,  0.        ,  0.        ,  0.        ,  0.        ,\n",
       "          0.        ,  1.00594471,  0.        ,  0.        ,  0.        ,\n",
       "          0.        ,  0.39889562,  0.07526847,  0.        ,  0.        ,\n",
       "          0.08210503,  0.50559481,  0.        ,  0.50010133,  0.22223746],\n",
       "        [ 0.        ,  0.        ,  0.        ,  0.        ,  0.        ,\n",
       "          0.        ,  0.        ,  0.84635559,  0.        ,  0.09501177,\n",
       "          0.        ,  0.50737971,  0.        ,  0.31869211,  0.76966647,\n",
       "          0.32297667,  0.        ,  0.        ,  0.        ,  0.        ,\n",
       "          0.        ,  0.37591938,  0.        ,  0.        ,  0.        ,\n",
       "          0.        ,  0.        ,  0.        ,  0.78190293,  0.        ],\n",
       "        [ 0.80519597,  0.        ,  0.        ,  0.        ,  0.10871956,\n",
       "          0.        ,  0.        ,  0.12068106,  0.6004986 ,  0.        ,\n",
       "          0.64318232,  0.        ,  0.        ,  0.        ,  0.        ,\n",
       "          0.        ,  0.        ,  0.64244994,  0.        ,  0.        ,\n",
       "          0.        ,  0.79106817,  0.        ,  0.        ,  0.        ,\n",
       "          0.        ,  0.        ,  0.62410785,  0.        ,  0.        ],\n",
       "        [ 0.9318808 ,  0.14252788,  0.51066186,  0.        ,  0.71727451,\n",
       "          0.        ,  0.        ,  0.        ,  0.        ,  0.88479275,\n",
       "          0.        ,  0.        ,  0.        ,  0.        ,  0.20938848,\n",
       "          0.        ,  0.        ,  0.        ,  0.        ,  0.        ,\n",
       "          0.31356893,  0.        ,  0.28708141,  0.        ,  0.        ,\n",
       "          0.        ,  0.        ,  0.        ,  0.        ,  0.        ],\n",
       "        [ 0.        ,  0.        ,  0.        ,  0.        ,  0.        ,\n",
       "          0.        ,  0.        ,  0.        ,  0.41307957,  0.        ,\n",
       "          0.        ,  0.        ,  0.        ,  0.        ,  0.        ,\n",
       "          0.        ,  0.33679497,  0.        ,  0.        ,  0.        ,\n",
       "          0.        ,  0.        ,  0.        ,  0.        ,  0.85625407,\n",
       "          0.        ,  0.        ,  0.        ,  0.        ,  0.        ],\n",
       "        [ 0.10265576,  0.        ,  0.        ,  0.        ,  0.        ,\n",
       "          0.        ,  0.49586738,  0.        ,  0.        ,  0.        ,\n",
       "          0.        ,  0.        ,  0.        ,  0.        ,  0.39421315,\n",
       "          0.        ,  0.        ,  0.        ,  0.        ,  0.        ,\n",
       "          0.        ,  0.00743691,  0.        ,  0.        ,  0.47815378,\n",
       "          0.        ,  0.        ,  0.        ,  0.        ,  0.94063076],\n",
       "        [ 0.        ,  0.        ,  0.        ,  0.        ,  0.        ,\n",
       "          0.        ,  0.        ,  0.        ,  0.16136766,  0.        ,\n",
       "          0.        ,  0.        ,  0.        ,  0.        ,  0.59188256,\n",
       "          0.61736716,  0.        ,  0.68263654,  0.72351491,  0.        ,\n",
       "          0.        ,  0.32928833,  0.        ,  0.        ,  0.        ,\n",
       "          0.        ,  0.        ,  0.        ,  0.        ,  0.        ],\n",
       "        [ 0.        ,  0.77442162,  0.        ,  0.        ,  0.73476369,\n",
       "          0.        ,  0.        ,  0.        ,  0.51781255,  0.        ,\n",
       "          0.94022998,  0.        ,  0.21024057,  0.12155393,  0.        ,\n",
       "          0.        ,  0.        ,  0.        ,  0.        ,  0.22074063,\n",
       "          0.        ,  0.        ,  0.        ,  0.        ,  0.        ,\n",
       "          0.02908131,  0.37529368,  0.        ,  0.        ,  0.        ],\n",
       "        [ 0.        ,  0.        ,  0.95218965,  0.        ,  0.05991712,\n",
       "          0.        ,  0.        ,  0.        ,  0.25521061,  0.        ,\n",
       "          0.        ,  0.        ,  0.        ,  0.89880059,  0.        ,\n",
       "          0.        ,  0.        ,  0.        , -0.01900645,  0.10050356,\n",
       "          0.        ,  0.        ,  0.        ,  0.        ,  0.        ,\n",
       "          0.        ,  0.        ,  0.        ,  0.        ,  0.        ],\n",
       "        [ 0.17716035,  0.        ,  0.21461272,  0.84665235,  0.        ,\n",
       "          0.49620013,  0.55375779,  0.80967669,  0.        ,  0.        ,\n",
       "          0.        ,  0.04699678,  0.        ,  0.        ,  0.        ,\n",
       "          0.        ,  0.        ,  0.        ,  0.        ,  0.        ,\n",
       "          0.54699508,  0.        ,  0.        ,  0.        ,  0.        ,\n",
       "          0.        ,  0.        ,  0.        ,  0.        ,  0.        ],\n",
       "        [ 0.        ,  0.        ,  0.        ,  0.        ,  0.        ,\n",
       "          0.        ,  0.        ,  0.        ,  0.        ,  0.01838366,\n",
       "          0.        ,  0.        ,  0.        ,  0.72924192,  0.        ,\n",
       "          0.        ,  0.        ,  0.        ,  0.94137081,  0.        ,\n",
       "          0.42589466,  0.        ,  0.        ,  0.        ,  0.        ,\n",
       "          0.        ,  0.81457425,  0.        ,  0.        ,  0.        ],\n",
       "        [ 0.95673725,  0.        ,  0.        ,  0.        ,  0.        ,\n",
       "          0.        ,  0.59470269,  0.        ,  0.        ,  0.        ,\n",
       "          0.        ,  0.        ,  0.        ,  0.0377544 ,  0.        ,\n",
       "          0.3245666 ,  0.        ,  0.64939997,  0.        ,  0.        ,\n",
       "          0.        ,  0.43142904,  0.35119274,  0.        ,  0.        ,\n",
       "          0.        ,  0.        ,  0.7252746 ,  0.        ,  0.        ],\n",
       "        [ 0.        ,  0.50515507,  0.        ,  0.        ,  0.        ,\n",
       "          0.        ,  0.        ,  0.        ,  0.        ,  0.        ,\n",
       "          0.        ,  0.        ,  0.        ,  0.        ,  0.0912034 ,\n",
       "          0.05589111,  0.        ,  0.        ,  0.        ,  0.        ,\n",
       "          0.535358  ,  0.        ,  0.        ,  0.53808797,  0.        ,\n",
       "          0.        ,  0.        ,  0.        ,  0.        ,  0.        ],\n",
       "        [ 0.        ,  0.        ,  0.77196916,  0.        ,  0.34861432,\n",
       "          0.        ,  0.        ,  0.        ,  0.        ,  0.        ,\n",
       "          0.27536813,  0.        ,  0.        ,  0.        ,  0.        ,\n",
       "          0.        ,  0.29163043,  0.75883736,  0.        ,  0.03554229,\n",
       "          0.        ,  0.        ,  0.        ,  1.00689352,  0.        ,\n",
       "          0.        ,  0.        ,  0.        ,  0.        ,  0.        ],\n",
       "        [ 0.        ,  0.        ,  0.        ,  0.        ,  0.        ,\n",
       "          0.23237569,  0.        ,  0.52849892,  0.28749787,  0.09176335,\n",
       "          0.        ,  0.        ,  0.17504269,  0.58424144,  0.        ,\n",
       "          0.        ,  0.        ,  0.        ,  0.88386153,  0.        ,\n",
       "          0.        ,  0.        ,  0.        ,  0.        ,  0.        ,\n",
       "          0.        ,  0.        ,  0.        ,  0.        ,  0.        ],\n",
       "        [ 0.        ,  0.11361011,  0.4840818 ,  0.        ,  0.38169828,\n",
       "          0.        ,  0.94228256,  0.51864474,  0.        ,  0.        ,\n",
       "          0.48226626,  0.        ,  0.        ,  0.        ,  0.        ,\n",
       "          0.        ,  0.        ,  0.        ,  0.7548694 ,  0.        ,\n",
       "          0.        ,  0.        ,  0.        ,  0.        ,  0.32424479,\n",
       "          0.        ,  0.        ,  0.4988375 ,  0.06244061,  0.        ],\n",
       "        [ 0.        ,  0.        ,  0.        ,  0.        ,  0.        ,\n",
       "          0.        ,  0.        ,  0.        ,  0.        ,  0.        ,\n",
       "          0.        ,  0.        ,  0.        ,  0.        ,  0.        ,\n",
       "          0.        ,  0.        ,  0.        ,  0.        ,  0.09318914,\n",
       "          0.22363752,  0.        ,  0.        ,  0.        ,  0.        ,\n",
       "          0.        ,  0.        ,  0.        ,  0.        ,  0.        ],\n",
       "        [ 0.93793963,  0.53724064,  0.        ,  0.90476207,  0.6161892 ,\n",
       "          0.58037693,  0.        ,  0.        ,  0.        ,  0.        ,\n",
       "          0.        ,  0.39040796,  0.62248372,  0.        ,  0.        ,\n",
       "          0.        ,  0.        ,  0.        ,  0.        ,  0.        ,\n",
       "          0.        ,  0.        ,  0.84613561,  0.        ,  0.        ,\n",
       "          0.        ,  0.        ,  0.        ,  0.        ,  0.65507401],\n",
       "        [ 0.        ,  0.        ,  0.75393163,  0.        ,  0.851192  ,\n",
       "          0.        ,  0.        ,  0.72764415,  0.        ,  0.        ,\n",
       "          0.        ,  0.        ,  0.        ,  0.        ,  0.97289557,\n",
       "          0.        ,  0.        ,  0.        ,  0.        ,  0.        ,\n",
       "          0.        ,  0.        ,  0.        ,  0.        ,  0.        ,\n",
       "          0.        ,  0.45772756,  0.87349369,  0.0912465 ,  0.        ],\n",
       "        [ 0.        ,  0.        ,  0.        ,  0.        ,  0.        ,\n",
       "          0.        ,  0.68274464,  0.07414294,  0.        ,  0.        ,\n",
       "          0.        ,  0.        ,  0.        ,  0.        ,  0.70181761,\n",
       "          0.        ,  0.        ,  0.10679499,  0.        ,  0.        ,\n",
       "          0.        ,  0.        ,  0.        ,  0.        ,  0.        ,\n",
       "          0.91684842,  0.        ,  0.        ,  0.        ,  0.        ],\n",
       "        [ 0.        ,  0.        ,  0.81147119,  0.67387794,  0.        ,\n",
       "          0.        ,  0.        ,  0.        ,  0.        ,  0.90404788,\n",
       "          0.        ,  0.        ,  0.        ,  0.        ,  0.        ,\n",
       "          0.        ,  0.        ,  0.        ,  0.60769968,  0.        ,\n",
       "          0.        ,  0.        ,  0.40201605,  0.        ,  0.        ,\n",
       "          0.18059058,  0.        ,  0.        ,  0.        ,  0.        ],\n",
       "        [ 0.        ,  0.        ,  0.        ,  0.62137433,  0.        ,\n",
       "          0.03261025,  0.        ,  0.2136627 ,  0.34587655,  0.        ,\n",
       "          0.        ,  0.        ,  0.        ,  0.        ,  0.        ,\n",
       "          0.        ,  0.        ,  0.        ,  0.        ,  0.        ,\n",
       "          0.        ,  0.        ,  0.7570242 ,  0.        ,  0.        ,\n",
       "          0.34552694,  0.        ,  0.        ,  0.        ,  0.        ],\n",
       "        [ 0.        ,  0.        ,  0.80202468, -0.02284738,  0.        ,\n",
       "          0.        ,  0.        ,  0.38277204,  0.        ,  0.        ,\n",
       "          0.        ,  0.        ,  0.9392983 ,  0.        ,  0.        ,\n",
       "          0.        ,  0.        ,  0.        ,  0.        ,  0.        ,\n",
       "          0.        ,  0.        ,  0.        ,  0.        ,  0.87353621,\n",
       "          0.        ,  0.        ,  0.        ,  0.        ,  0.        ]]),\n",
       " array([[ 0.        ,  0.        ,  0.        ,  0.63106913,  0.        ,\n",
       "          0.        ,  0.        ,  0.        ,  0.        ,  0.49799497,\n",
       "          0.47413026,  0.        ,  0.55246289,  0.        ,  0.        ,\n",
       "          0.        ,  0.09987216,  0.        ,  0.5955142 ,  0.        ,\n",
       "          0.        ,  0.        ,  0.        ,  0.        ,  0.20491724,\n",
       "          0.        ,  0.        ,  0.        ,  0.        ,  0.        ],\n",
       "        [ 0.        ,  0.        ,  0.48003531,  0.        ,  0.        ,\n",
       "          0.        ,  0.03553188,  0.        ,  0.        ,  0.        ,\n",
       "          0.41838005,  0.        ,  0.        ,  0.        ,  0.53208415,\n",
       "          0.        ,  0.        ,  0.        ,  0.        ,  0.55974723,\n",
       "          0.        ,  0.        ,  0.62401287,  0.        ,  0.94690062,\n",
       "          0.        ,  0.        ,  0.        ,  0.        ,  0.        ],\n",
       "        [ 0.        ,  0.41548008,  0.        ,  0.        ,  0.        ,\n",
       "          0.61166923,  0.        ,  0.69411526,  0.        ,  0.        ,\n",
       "          0.86494015,  0.        ,  0.        ,  0.        ,  0.        ,\n",
       "          0.88056972,  0.91026289,  0.        ,  0.        ,  0.        ,\n",
       "          0.15847017,  0.        ,  0.25065489,  0.        ,  0.        ,\n",
       "          0.3003986 ,  0.        ,  0.48241022,  0.        ,  0.89574008],\n",
       "        [ 0.0546265 ,  0.        ,  0.        ,  0.        ,  0.        ,\n",
       "          0.        ,  0.        ,  0.        ,  0.        ,  0.        ,\n",
       "          0.        ,  0.        ,  0.        ,  0.        ,  0.        ,\n",
       "          0.        ,  0.44888464,  0.        ,  0.        ,  0.        ,\n",
       "          0.        ,  0.        ,  0.        ,  0.        ,  0.29358477,\n",
       "          0.        ,  0.        ,  0.80739559, -0.01026969,  0.81875892],\n",
       "        [ 0.        ,  0.        ,  0.        ,  0.        ,  0.        ,\n",
       "          0.        ,  0.        ,  0.        ,  0.        ,  0.72777822,\n",
       "          0.61004433,  0.        ,  0.        ,  0.        ,  0.51259834,\n",
       "          0.21057503,  0.        ,  0.        ,  0.        ,  0.        ,\n",
       "          0.30482622,  0.        ,  0.37834265,  0.        ,  0.60072215,\n",
       "          0.67348984,  0.        ,  0.        ,  0.        ,  0.        ],\n",
       "        [ 0.        ,  0.        ,  0.57769338,  0.        ,  0.        ,\n",
       "          0.        ,  0.        ,  0.        ,  0.        ,  0.        ,\n",
       "          0.        ,  0.        ,  0.        ,  0.        ,  0.        ,\n",
       "          0.        ,  0.29095468,  0.        ,  0.        ,  0.        ,\n",
       "          0.        ,  0.14097861,  0.        ,  0.        ,  0.27511126,\n",
       "          0.        ,  0.        ,  0.        ,  0.65308832,  0.        ],\n",
       "        [ 0.        ,  0.99435214,  0.        ,  0.        ,  0.        ,\n",
       "          0.        ,  0.        ,  0.        ,  0.        ,  0.        ,\n",
       "          0.        ,  0.        ,  0.65710897,  0.        ,  0.        ,\n",
       "          0.        ,  0.38300408,  0.        ,  0.74176984,  0.        ,\n",
       "          0.        ,  0.        ,  0.93889863,  0.        ,  0.        ,\n",
       "          0.        ,  0.87223407,  0.        ,  0.        ,  0.        ],\n",
       "        [ 0.        ,  0.        ,  0.18384003,  0.        ,  0.        ,\n",
       "          0.        ,  0.        ,  0.        ,  0.09710953,  0.57751687,\n",
       "          0.        ,  0.        ,  0.        ,  0.        ,  0.        ,\n",
       "          0.        ,  0.50790524,  0.        ,  0.        ,  0.        ,\n",
       "          0.        ,  0.51487072,  0.98617446,  0.        ,  0.        ,\n",
       "          0.86487571,  0.92313665,  0.        ,  0.14672245,  0.93994456],\n",
       "        [ 0.        ,  0.        ,  0.        ,  0.        ,  0.        ,\n",
       "          0.        ,  0.        ,  0.65371077,  0.        ,  0.98386935,\n",
       "          0.        ,  0.83063886,  0.        ,  0.31519712,  0.7210756 ,\n",
       "          0.34440725,  0.        ,  0.        ,  0.        ,  0.        ,\n",
       "          0.        ,  0.47929153,  0.        ,  0.        ,  0.        ,\n",
       "          0.        ,  0.        ,  0.        ,  0.42641823,  0.        ],\n",
       "        [ 0.79568424,  0.        ,  0.        ,  0.        ,  0.06873768,\n",
       "          0.        ,  0.        ,  0.57981331,  0.46993177,  0.        ,\n",
       "          0.59019061,  0.        ,  0.        ,  0.        ,  0.        ,\n",
       "          0.        ,  0.        ,  0.17018632,  0.        ,  0.        ,\n",
       "          0.        ,  0.62438776,  0.        ,  0.        ,  0.        ,\n",
       "          0.        ,  0.        ,  0.37347777,  0.        ,  0.        ],\n",
       "        [ 0.02403208,  0.70763874,  0.63262987,  0.        ,  0.82406458,\n",
       "          0.        ,  0.        ,  0.        ,  0.        ,  0.01325408,\n",
       "          0.        ,  0.        ,  0.        ,  0.        ,  0.63891127,\n",
       "          0.        ,  0.        ,  0.        ,  0.        ,  0.        ,\n",
       "          0.46422922,  0.        ,  0.95939741,  0.        ,  0.        ,\n",
       "          0.        ,  0.        ,  0.        ,  0.        ,  0.        ],\n",
       "        [ 0.        ,  0.        ,  0.        ,  0.        ,  0.        ,\n",
       "          0.        ,  0.        ,  0.        ,  0.11011754,  0.        ,\n",
       "          0.        ,  0.        ,  0.        ,  0.        ,  0.        ,\n",
       "          0.        ,  0.09645644,  0.        ,  0.        ,  0.        ,\n",
       "          0.        ,  0.        ,  0.        ,  0.        ,  0.19776567,\n",
       "          0.        ,  0.        ,  0.        ,  0.        ,  0.        ],\n",
       "        [ 0.00353479,  0.        ,  0.        ,  0.        ,  0.        ,\n",
       "          0.        ,  0.03352955,  0.        ,  0.        ,  0.        ,\n",
       "          0.        ,  0.        ,  0.        ,  0.        ,  0.93762713,\n",
       "          0.        ,  0.        ,  0.        ,  0.        ,  0.        ,\n",
       "          0.        ,  0.64894039,  0.        ,  0.        ,  0.06925143,\n",
       "          0.        ,  0.        ,  0.        ,  0.        ,  0.60301533],\n",
       "        [ 0.        ,  0.        ,  0.        ,  0.        ,  0.        ,\n",
       "          0.        ,  0.        ,  0.        ,  0.27685109,  0.        ,\n",
       "          0.        ,  0.        ,  0.        ,  0.        ,  0.20232315,\n",
       "          0.35734892,  0.        ,  0.55939963,  0.6408962 ,  0.        ,\n",
       "          0.        ,  0.65921758,  0.        ,  0.        ,  0.        ,\n",
       "          0.        ,  0.        ,  0.        ,  0.        ,  0.        ],\n",
       "        [ 0.        ,  0.51082195,  0.        ,  0.        ,  0.48032129,\n",
       "          0.        ,  0.        ,  0.        ,  0.39405732,  0.        ,\n",
       "          0.27572481,  0.        ,  0.64143554,  0.08660371,  0.        ,\n",
       "          0.        ,  0.        ,  0.        ,  0.        ,  0.61531713,\n",
       "          0.        ,  0.        ,  0.        ,  0.        ,  0.        ,\n",
       "          0.14219142,  0.7750742 ,  0.        ,  0.        ,  0.        ],\n",
       "        [ 0.        ,  0.        ,  0.80819581,  0.        ,  0.12521027,\n",
       "          0.        ,  0.        ,  0.        ,  0.01332226,  0.        ,\n",
       "          0.        ,  0.        ,  0.        ,  0.55405242,  0.        ,\n",
       "          0.        ,  0.        ,  0.        ,  0.40744553,  0.29447882,\n",
       "          0.        ,  0.        ,  0.        ,  0.        ,  0.        ,\n",
       "          0.        ,  0.        ,  0.        ,  0.        ,  0.        ],\n",
       "        [ 0.19443792,  0.        ,  0.55635297,  0.41516991,  0.        ,\n",
       "          0.92669761,  0.14075523,  0.85272544,  0.        ,  0.        ,\n",
       "          0.        ,  0.21776887,  0.        ,  0.        ,  0.        ,\n",
       "          0.        ,  0.        ,  0.        ,  0.        ,  0.        ,\n",
       "          0.30393785,  0.        ,  0.        ,  0.        ,  0.        ,\n",
       "          0.        ,  0.        ,  0.        ,  0.        ,  0.        ],\n",
       "        [ 0.        ,  0.        ,  0.        ,  0.        ,  0.        ,\n",
       "          0.        ,  0.        ,  0.        ,  0.        ,  0.08420722,\n",
       "          0.        ,  0.        ,  0.        ,  0.16573522,  0.        ,\n",
       "          0.        ,  0.        ,  0.        ,  0.29837794,  0.        ,\n",
       "          0.01952203,  0.        ,  0.        ,  0.        ,  0.        ,\n",
       "          0.        ,  0.27104673,  0.        ,  0.        ,  0.        ],\n",
       "        [ 0.77625154,  0.        ,  0.        ,  0.        ,  0.        ,\n",
       "          0.        ,  0.75595484,  0.        ,  0.        ,  0.        ,\n",
       "          0.        ,  0.        ,  0.        ,  0.60605686,  0.        ,\n",
       "          0.15232637,  0.        ,  0.23472785,  0.        ,  0.        ,\n",
       "          0.        ,  0.45280135,  0.48294705,  0.        ,  0.        ,\n",
       "          0.        ,  0.        ,  0.79025259,  0.        ,  0.        ],\n",
       "        [ 0.        ,  0.4529359 ,  0.        ,  0.        ,  0.        ,\n",
       "          0.        ,  0.        ,  0.        ,  0.        ,  0.        ,\n",
       "          0.        ,  0.        ,  0.        ,  0.        ,  0.13841655,\n",
       "          0.41258526,  0.        ,  0.        ,  0.        ,  0.        ,\n",
       "          0.11888596,  0.        ,  0.        ,  0.11008171,  0.        ,\n",
       "          0.        ,  0.        ,  0.        ,  0.        ,  0.        ],\n",
       "        [ 0.        ,  0.        ,  0.85208979,  0.        ,  0.21027962,\n",
       "          0.        ,  0.        ,  0.        ,  0.        ,  0.        ,\n",
       "          0.35771203,  0.        ,  0.        ,  0.        ,  0.        ,\n",
       "          0.        ,  0.44952941,  0.20791408,  0.        ,  0.4604812 ,\n",
       "          0.        ,  0.        ,  0.        ,  0.73076341,  0.        ,\n",
       "          0.        ,  0.        ,  0.        ,  0.        ,  0.        ],\n",
       "        [ 0.        ,  0.        ,  0.        ,  0.        ,  0.        ,\n",
       "          0.84810664,  0.        ,  0.48990531,  0.85112036,  0.44036431,\n",
       "          0.        ,  0.        ,  0.83720648,  0.76369703,  0.        ,\n",
       "          0.        ,  0.        ,  0.        ,  0.17716311,  0.        ,\n",
       "          0.        ,  0.        ,  0.        ,  0.        ,  0.        ,\n",
       "          0.        ,  0.        ,  0.        ,  0.        ,  0.        ],\n",
       "        [ 0.        ,  0.84232939,  0.21691579,  0.        ,  0.34809261,\n",
       "          0.        ,  0.47645318,  0.29628897,  0.        ,  0.        ,\n",
       "          0.35702749,  0.        ,  0.        ,  0.        ,  0.        ,\n",
       "          0.        ,  0.        ,  0.        ,  0.5297264 ,  0.        ,\n",
       "          0.        ,  0.        ,  0.        ,  0.        ,  0.03566661,\n",
       "          0.        ,  0.        ,  0.19265541,  0.96126286,  0.        ],\n",
       "        [ 0.        ,  0.        ,  0.        ,  0.        ,  0.        ,\n",
       "          0.        ,  0.        ,  0.        ,  0.        ,  0.        ,\n",
       "          0.        ,  0.        ,  0.        ,  0.        ,  0.        ,\n",
       "          0.        ,  0.        ,  0.        ,  0.        ,  0.92371675,\n",
       "          0.18135874,  0.        ,  0.        ,  0.        ,  0.        ,\n",
       "          0.        ,  0.        ,  0.        ,  0.        ,  0.        ],\n",
       "        [ 0.61940263,  0.09260391,  0.        ,  0.97041426,  0.90916337,\n",
       "          0.22958198,  0.        ,  0.        ,  0.        ,  0.        ,\n",
       "          0.        ,  0.53795646,  0.20920756,  0.        ,  0.        ,\n",
       "          0.        ,  0.        ,  0.        ,  0.        ,  0.        ,\n",
       "          0.        ,  0.        ,  0.98584904,  0.        ,  0.        ,\n",
       "          0.        ,  0.        ,  0.        ,  0.        ,  0.06111918],\n",
       "        [ 0.        ,  0.        ,  0.11889624,  0.        ,  0.58137367,\n",
       "          0.        ,  0.        ,  0.27805071,  0.        ,  0.        ,\n",
       "          0.        ,  0.        ,  0.        ,  0.        ,  0.82425694,\n",
       "          0.        ,  0.        ,  0.        ,  0.        ,  0.        ,\n",
       "          0.        ,  0.        ,  0.        ,  0.        ,  0.        ,\n",
       "          0.        ,  0.23413397,  0.09255362,  0.18329203,  0.        ],\n",
       "        [ 0.        ,  0.        ,  0.        ,  0.        ,  0.        ,\n",
       "          0.        ,  0.03676947,  0.03911985,  0.        ,  0.        ,\n",
       "          0.        ,  0.        ,  0.        ,  0.        ,  0.99873363,\n",
       "          0.        ,  0.        ,  0.22815284,  0.        ,  0.        ,\n",
       "          0.        ,  0.        ,  0.        ,  0.        ,  0.        ,\n",
       "          0.19295503,  0.        ,  0.        ,  0.        ,  0.        ],\n",
       "        [ 0.        ,  0.        ,  0.06149083,  0.60306384,  0.        ,\n",
       "          0.        ,  0.        ,  0.        ,  0.        ,  0.37821089,\n",
       "          0.        ,  0.        ,  0.        ,  0.        ,  0.        ,\n",
       "          0.        ,  0.        ,  0.        ,  0.95728614,  0.        ,\n",
       "          0.        ,  0.        ,  0.94568277,  0.        ,  0.        ,\n",
       "          0.59864249,  0.        ,  0.        ,  0.        ,  0.        ],\n",
       "        [ 0.        ,  0.        ,  0.        ,  0.70365707,  0.        ,\n",
       "          0.02643268,  0.        ,  0.11673708,  0.92132579,  0.        ,\n",
       "          0.        ,  0.        ,  0.        ,  0.        ,  0.        ,\n",
       "          0.        ,  0.        ,  0.        ,  0.        ,  0.        ,\n",
       "          0.        ,  0.        ,  0.60600622,  0.        ,  0.        ,\n",
       "          0.41601342,  0.        ,  0.        ,  0.        ,  0.        ],\n",
       "        [ 0.        ,  0.        ,  0.70473418,  0.85452264,  0.        ,\n",
       "          0.        ,  0.        ,  0.19948831,  0.        ,  0.        ,\n",
       "          0.        ,  0.        ,  0.66955124,  0.        ,  0.        ,\n",
       "          0.        ,  0.        ,  0.        ,  0.        ,  0.        ,\n",
       "          0.        ,  0.        ,  0.        ,  0.        ,  0.51011039,\n",
       "          0.        ,  0.        ,  0.        ,  0.        ,  0.        ]]),\n",
       " [0.05204970531367862,\n",
       "  0.05196584246104322,\n",
       "  0.052115099086968986,\n",
       "  0.051613311863502195,\n",
       "  0.05175512071443088],\n",
       " [1.501531468287057,\n",
       "  1.497139021516265,\n",
       "  1.4895638669564928,\n",
       "  1.4878929955379132,\n",
       "  1.4841809625539917])"
      ]
     },
     "execution_count": 139,
     "metadata": {},
     "output_type": "execute_result"
    }
   ],
   "source": [
    "best_s_hat, best_lam_c, best_K, best_k, costs, dlambdas"
   ]
  },
  {
   "cell_type": "code",
   "execution_count": null,
   "id": "d0b903cf-51ea-4d26-831b-9250bf46f46e",
   "metadata": {},
   "outputs": [],
   "source": [
    "def run_simulation(k,K,lam,n):\n",
    "    \n",
    "    g = k.shape[0]\n",
    "    dt = 0.01\n",
    "    thresh = 0.0007\n",
    "    steps = 500000\n",
    "    nt = np.zeros((g,steps))\n",
    "    for i in range(steps):\n",
    "        n = n + dndt(k,K,n,lam)*dt\n",
    "        nt[:,i] = n\n",
    "        if i > 0 and np.sum(np.abs(n - nt[:,i-1]))/np.sum(np.abs(n)) < thresh:\n",
    "            nt = nt[:,:i+1]\n",
    "            break\n",
    "            \n",
    "    Jc = J(k,K,nt[:,i],lam)\n",
    "    w, v = np.linalg.eig(Jc)\n",
    "    w = np.real(w)\n",
    "    dlambda = np.sort(w)[-2]/np.sort(w)[-1]\n",
    "    IPR = np.sum((v[np.argsort(w)][-1] * np.conjugate(v[np.argsort(w)][-1]))**2)\n",
    "    return dlambda, IPR, nt"
   ]
  },
  {
   "cell_type": "code",
   "execution_count": 167,
   "id": "87690bed-5f79-4f44-bcea-66f5c5bfa20d",
   "metadata": {},
   "outputs": [
    {
     "data": {
      "text/plain": [
       "Text(0.5, 0, 'Time')"
      ]
     },
     "execution_count": 167,
     "metadata": {},
     "output_type": "execute_result"
    },
    {
     "data": {
      "image/png": "[encoded data removed]",
      "text/plain": [
       "<Figure size 640x480 with 1 Axes>"
      ]
     },
     "metadata": {},
     "output_type": "display_data"
    }
   ],
   "source": [
    "t_f = 20\n",
    "\n",
    "k_p = np.array(k)\n",
    "mut_idx = np.random.randint(len(np.nonzero(k_p)[0]))\n",
    "k_p[np.nonzero(k_p)[0][mut_idx],np.nonzero(k_p)[1][mut_idx]] = k_p[np.nonzero(k_p)[0][mut_idx],np.nonzero(k_p)[1][mut_idx]]*10**(2*np.random.rand()-1)\n",
    "nt, t = sim_dyn(n_f,t_f,k_p,K,lam)\n",
    "plot_eigenvectors(v,nt,n_f)\n",
    "plt.ylabel('Deviation from WT Fixed Point')\n",
    "plt.title('Mutational Perturbation')\n",
    "plt.xlabel('Time')"
   ]
  },
  {
   "cell_type": "code",
   "execution_count": null,
   "id": "24085e5f-822f-4ef6-b547-ec77512accb0",
   "metadata": {},
   "outputs": [],
   "source": []
  }
 ],
 "metadata": {
  "kernelspec": {
   "display_name": "Python 3 (ipykernel)",
   "language": "python",
   "name": "python3"
  },
  "language_info": {
   "codemirror_mode": {
    "name": "ipython",
    "version": 3
   },
   "file_extension": ".py",
   "mimetype": "text/x-python",
   "name": "python",
   "nbconvert_exporter": "python",
   "pygments_lexer": "ipython3",
   "version": "3.9.16"
  }
 },
 "nbformat": 4,
 "nbformat_minor": 5
}
