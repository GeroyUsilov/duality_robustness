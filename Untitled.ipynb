{
 "cells": [
  {
   "cell_type": "code",
   "execution_count": null,
   "id": "01dc8bfd",
   "metadata": {},
   "outputs": [],
   "source": [
    "def add_pseudocounts_f_i(f_i, M_eff, q=21):\n",
    "    '''Adds pseudocounts to f_i term for a given effective number of sequences M_eff. '''\n",
    "    \n",
    "    return 1/(2*M_eff)*(M_eff/q + f_i)\n",
    "\n",
    "def add_pseudocounts_f_ij(f_ij,M_eff,q=21):\n",
    "    '''Adds pseudocounts to f_ij^ab term for a given effective number of sequences M_eff. '''\n",
    "    \n",
    "    return 1/(2*M_eff)*(M_eff/q**2 + f_ij) "
   ]
  }
 ],
 "metadata": {
  "kernelspec": {
   "display_name": "Python 3 (ipykernel)",
   "language": "python",
   "name": "python3"
  },
  "language_info": {
   "codemirror_mode": {
    "name": "ipython",
    "version": 3
   },
   "file_extension": ".py",
   "mimetype": "text/x-python",
   "name": "python",
   "nbconvert_exporter": "python",
   "pygments_lexer": "ipython3",
   "version": "3.9.13"
  }
 },
 "nbformat": 4,
 "nbformat_minor": 5
}
