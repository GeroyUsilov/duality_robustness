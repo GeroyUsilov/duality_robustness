{
 "cells": [
  {
   "cell_type": "code",
   "execution_count": 25,
   "id": "17d04a1e-d08a-4e3a-b4a9-97d9d44c36f0",
   "metadata": {},
   "outputs": [
    {
     "name": "stdout",
     "output_type": "stream",
     "text": [
      "The autoreload extension is already loaded. To reload it, use:\n",
      "  %reload_ext autoreload\n"
     ]
    }
   ],
   "source": [
    "%load_ext autoreload\n",
    "%autoreload 2\n",
    "import numpy as np\n",
    "import matplotlib.pyplot as plt\n",
    "from simulation_functions import *\n",
    "from tqdm import tqdm\n",
    "from scipy.integrate import solve_ivp"
   ]
  },
  {
   "cell_type": "code",
   "execution_count": 26,
   "id": "bea0e3b3-217b-451e-86ee-5ad4afca408d",
   "metadata": {},
   "outputs": [],
   "source": [
    "ks = load_3d_matrix_from_csv(\"many_ks.csv\")\n",
    "Ks = load_3d_matrix_from_csv(\"many_KKs.csv\")"
   ]
  },
  {
   "cell_type": "code",
   "execution_count": 27,
   "id": "8bddcfff-bb7a-492a-8728-af831a8678e0",
   "metadata": {},
   "outputs": [
    {
     "name": "stderr",
     "output_type": "stream",
     "text": [
      "100%|██████████████████████████████████████| 1000/1000 [04:29<00:00,  3.71it/s]\n"
     ]
    }
   ],
   "source": [
    "K = Ks[-5,:,:]\n",
    "k = ks[-5,:,:]\n",
    "g = K.shape[1]\n",
    "lam = 5\n",
    "lam = np.zeros(g)+lam\n",
    "t_f = 200\n",
    "n0 = np.zeros(g) + 0.5\n",
    "nt, t = sim_dyn(n0,t_f,k,K,lam)\n",
    "n_f = nt[:,-1]\n",
    "J = calc_J(k,K,n_f,lam)\n",
    "w, v = np.linalg.eig(J)\n",
    "\n",
    "t_f = 5\n",
    "m = 20\n",
    "g = len(lam)\n",
    "lam_c_0 = np.random.rand(g)-0.5 \n",
    "s_hat_0 = np.random.rand(g)-0.5 \n",
    "s_hat_0 = s_hat_0/np.linalg.norm(s_hat_0)\n",
    "temperature = 1.0\n",
    "cooling_rate = 0.96\n",
    "num_iterations = 1000\n",
    "best_s_hat, best_lam_c, costs = simulated_annealing(k,K,n_f,lam,lam_c_0,s_hat_0,m,t_f, num_iterations, temperature, cooling_rate,g)"
   ]
  },
  {
   "cell_type": "code",
   "execution_count": 30,
   "id": "5f61c598-10a4-4aa5-a6e1-108084988343",
   "metadata": {},
   "outputs": [
    {
     "data": {
      "text/plain": [
       "(1,)"
      ]
     },
     "execution_count": 30,
     "metadata": {},
     "output_type": "execute_result"
    }
   ],
   "source": [
    "np.array([5]).shape"
   ]
  },
  {
   "cell_type": "code",
   "execution_count": null,
   "id": "73a24d7e-20c7-4966-af79-9bccd1a0e9bb",
   "metadata": {},
   "outputs": [],
   "source": []
  }
 ],
 "metadata": {
  "kernelspec": {
   "display_name": "Python 3 (ipykernel)",
   "language": "python",
   "name": "python3"
  },
  "language_info": {
   "codemirror_mode": {
    "name": "ipython",
    "version": 3
   },
   "file_extension": ".py",
   "mimetype": "text/x-python",
   "name": "python",
   "nbconvert_exporter": "python",
   "pygments_lexer": "ipython3",
   "version": "3.9.16"
  }
 },
 "nbformat": 4,
 "nbformat_minor": 5
}
